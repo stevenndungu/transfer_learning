{
 "cells": [
  {
   "cell_type": "markdown",
   "metadata": {
    "application/vnd.databricks.v1+cell": {
     "cellMetadata": {
      "byteLimit": 2048000,
      "rowLimit": 10000
     },
     "inputWidgets": {},
     "nuid": "bf49884f-1cf9-45ac-a919-7f8089d45548",
     "showTitle": false,
     "tableResultSettingsMap": {},
     "title": ""
    }
   },
   "source": [
    "## Pre-requsites\n",
    "\n",
    "Go through the preprocessing/downloading_satellite_imagery.ipynb notebook.\n",
    "\n",
    "```\n",
    "data/\n",
    "    dhs_tfrecords_raw/\n",
    "        angola_2011_00.tfrecord.gz\n",
    "        ...\n",
    "        zimbabwe_2015_XX.tfrecord.gz\n",
    "```\n",
    "\n",
    "## Instructions\n",
    "\n",
    "This notebook processes the exported TFRecords as follows:\n",
    "    1. Verifies that the fields in the TFRecords match the original CSV files.\n",
    "    2. Splits each monolithic TFRecord file exported from Google Earth Engine into one file per record.\n",
    "\n",
    "After running this notebook, you should a new folder (`dhs_tfrecords`) under `data/`:\n",
    "\n",
    "```\n",
    "data/\n",
    "    dhs_tfrecords/\n",
    "        angola_2011/\n",
    "            00000.tfrecord.gz\n",
    "            ...\n",
    "            00229.tfrecord.gz\n",
    "         ...\n",
    "         zimbabwe_2015/\n",
    "            00000.tfrecord.gz\n",
    "            ...\n",
    "            00399.tfrecord.gz\n",
    "```\n",
    "\n",
    "This notebook also calculates the mean and standard deviation of each band\n",
    "\n",
    "## Imports relevant modules and define Constants"
   ]
  },
  {
   "cell_type": "code",
   "execution_count": 0,
   "metadata": {
    "application/vnd.databricks.v1+cell": {
     "cellMetadata": {
      "byteLimit": 2048000,
      "rowLimit": 10000
     },
     "inputWidgets": {},
     "nuid": "4d8c48ad-d844-49b5-9f7f-754a2d860928",
     "showTitle": false,
     "tableResultSettingsMap": {},
     "title": ""
    }
   },
   "outputs": [],
   "source": [
    "from typing import Iterable\n",
    "from glob import glob\n",
    "from pprint import pprint\n",
    "import os\n",
    "import time\n",
    "import matplotlib.pyplot as plt\n",
    "import numpy as np\n",
    "import pandas as pd\n",
    "import tensorflow.compat.v1 as tf\n",
    "tf.disable_v2_behavior()\n",
    "from tqdm.auto import tqdm\n",
    "#os.chdir('/dbfs/mnt/raw/DataScientistSDSData/')\n",
    "#stat_bands = ['BLUE', 'GREEN', 'RED', 'SWIR1', 'SWIR2', 'TEMP1', 'NIR', 'DMSP', 'VIIRS']\n",
    "# REQUIRED_BANDS = [\n",
    "#     'BLUE', 'GREEN', 'NIGHTLIGHTS', 'NIR', 'RED',    'SWIR1', 'SWIR2', 'TEMP1']\n",
    "REQUIRED_BANDS = ['BLUE', 'GREEN', 'NIGHTLIGHTS', 'NIR', 'RED',    'SWIR1', 'SWIR2']\n",
    "BANDS_ORDER = ['BLUE', 'GREEN', 'RED', 'SWIR1', 'SWIR2', 'TEMP1', 'NIR',    'DMSP', 'VIIRS']\n",
    "csv_path='/dbfs/mnt/raw/DataScientistSDSData/TLSED/dhs_clusters.csv'\n",
    "DHS_NEW_PROCESSED_FOLDER = 'ssl_dhs_tfrecords_raw_processed/'\n",
    "input_dir='/dbfs/mnt/raw/DataScientistSDSData/TLSED_test/raw/'\n",
    "processed_dir='/dbfs/mnt/raw/DataScientistSDSData/TLSED_test/processed/'\n",
    "\n"
   ]
  },
  {
   "cell_type": "markdown",
   "metadata": {
    "application/vnd.databricks.v1+cell": {
     "cellMetadata": {
      "byteLimit": 2048000,
      "rowLimit": 10000
     },
     "inputWidgets": {},
     "nuid": "b757384c-7b64-43a3-a377-8c91b579fd20",
     "showTitle": false,
     "tableResultSettingsMap": {},
     "title": ""
    }
   },
   "source": [
    "## Validate and Split Exported TFRecords"
   ]
  },
  {
   "cell_type": "code",
   "execution_count": 0,
   "metadata": {
    "application/vnd.databricks.v1+cell": {
     "cellMetadata": {
      "byteLimit": 2048000,
      "rowLimit": 10000
     },
     "inputWidgets": {},
     "nuid": "4e10a7d3-b72e-4baa-986c-289796f5be5a",
     "showTitle": false,
     "tableResultSettingsMap": {},
     "title": ""
    }
   },
   "outputs": [],
   "source": [
    "def process_dataset(csv_path: str, input_dir: str, processed_dir: str) -> None:\n",
    "    '''\n",
    "    Args\n",
    "    - csv_path: str, path to CSV of DHS or LSMS clusters\n",
    "    - input_dir: str, path to TFRecords exported from Google Earth Engine\n",
    "    - processed_dir: str, folder where to save processed TFRecords\n",
    "    '''\n",
    "    df = pd.read_csv(csv_path, float_precision='high', index_col=0)\n",
    "    df = df.reset_index()\n",
    "    surveys = list(df.groupby(['country', 'year']).groups.keys())  # (country, year) tuples\n",
    "\n",
    "    for country, year in surveys:\n",
    "        country_year = f'{country}_{year}'\n",
    "        #print('Processing:', country_year)\n",
    "\n",
    "        #tfrecord_paths = glob(os.path.join(input_dir, country_year + '*'))\n",
    "        tfrecord_paths = get_tfrecord_paths(input_dir, country_year)\n",
    "        out_dir = f'{os.path.join(processed_dir, country_year)}/'\n",
    "        os.makedirs(out_dir, exist_ok=True)\n",
    "        subset_df = df[(df['country'] == country) & (df['year'] == year)].reset_index(drop=True)\n",
    "        bands_missing_paths = validate_and_split_tfrecords(\n",
    "            tfrecord_paths=tfrecord_paths, out_dir=out_dir, df=subset_df)\n",
    "        \n",
    "\n",
    "def get_tfrecord_paths(input_dir: str, country_year: tuple) -> Iterable[str]:\n",
    "    tfrecord_paths = glob(os.path.join(input_dir, country_year + '*'))\n",
    "    tfrecord_paths = [p for p in tfrecord_paths if p.endswith('.gz')]\n",
    "    #tfrecord_paths.sort(key=lambda tfr: int(tfr[tfr.rfind('_') + 1 : tfr.rfind('_') + 1 + 4])) # Sort by file index\n",
    "    return tfrecord_paths\n",
    "\n",
    "\n",
    "# def validate_and_split_tfrecords(\n",
    "#         tfrecord_paths: Iterable[str],\n",
    "#         out_dir: str,\n",
    "#         df: pd.DataFrame\n",
    "#         ) -> None:\n",
    "#     '''Validates and splits a list of exported TFRecord files (for a\n",
    "#     given country-year survey) into individual TFrecords, one per cluster.\n",
    "\n",
    "#     \"Validating\" a TFRecord comprises of 2 parts\n",
    "#     1) verifying that it contains the required bands\n",
    "#     2) verifying that its other features match the values from the dataset CSV\n",
    "\n",
    "#     Args\n",
    "#     - tfrecord_paths: str, path to exported TFRecords files\n",
    "#     - out_dir: str, path to dir to save processed individual TFRecords\n",
    "#     - df: pd.DataFrame, index is sequential and starts at 0\n",
    "#     '''\n",
    "#     # Create an iterator over the TFRecords file. The iterator yields\n",
    "#     # the binary representations of Example messages as strings.\n",
    "#     options = tf.io.TFRecordOptions(tf.io.TFRecordCompressionType.GZIP)\n",
    "\n",
    "  \n",
    "#     i = 0\n",
    "\n",
    "#     #progbar = tqdm(total=len(df))\n",
    "\n",
    "#     for tfrecord_path in tfrecord_paths:\n",
    "#         iterator = tf.io.tf_record_iterator(tfrecord_path, options=options)\n",
    "#         for record_str in iterator:\n",
    "#             # parse into an actual Example message\n",
    "#             ex = tf.train.Example.FromString(record_str)\n",
    "#             feature_map = ex.features.feature\n",
    "\n",
    "#             # verify required bands exist\n",
    "#             for band in REQUIRED_BANDS:\n",
    "#                 #print(type(band))\n",
    "#                 if band not in feature_map: print(f'Band \"{band}\" not in record {i} of {tfrecord_path}')\n",
    "\n",
    "#             # compare feature map values against CSV values\n",
    "#             '''\n",
    "#             csv_feats = df.loc[i, :].to_dict()\n",
    "#             for col, val in csv_feats.items():\n",
    "#                 ft_type = feature_map[col].WhichOneof('kind')\n",
    "#                 ex_val = feature_map[col].__getattribute__(ft_type).value[0]\n",
    "#                 #assert val == ex_val, f'Expected {col}={val}, but found {ex_val} instead'\n",
    "#             '''\n",
    "#             # serialize to string and write to file\n",
    "#             #out_path = os.path.join(out_dir, f'{i:05d}.tfrecord.gz')  # all surveys have < 1e6 clusters\n",
    "#             out_path = os.path.join(out_dir, f'{i:05d}.tfrecord.gz')\n",
    "#             with tf.io.TFRecordWriter(out_path, options=options) as writer:\n",
    "#                 writer.write(ex.SerializeToString())\n",
    "\n",
    "#             i += 1\n",
    "           \n",
    "\n",
    "def validate_and_split_tfrecords(\n",
    "        tfrecord_paths: Iterable[str],\n",
    "        out_dir: str,\n",
    "        df: pd.DataFrame\n",
    "        ) -> None:\n",
    "    '''\n",
    "    Validates and splits a list of exported TFRecord files (for a\n",
    "    given country-year survey) into individual TFrecords, one per cluster.\n",
    "\n",
    "    Only files with ALL REQUIRED_BANDS present will be saved to out_dir.\n",
    "    \"Validating\" a TFRecord comprises of 2 parts\n",
    "    1) verifying that it contains the required bands\n",
    "    2) verifying that its other features match the values from the dataset CSV\n",
    "\n",
    "    Args\n",
    "    - tfrecord_paths: str, path to exported TFRecords files\n",
    "    - out_dir: str, path to dir to save processed individual TFRecords\n",
    "    - df: pd.DataFrame, index is sequential and starts at 0\n",
    "    '''\n",
    "    options = tf.io.TFRecordOptions(tf.io.TFRecordCompressionType.GZIP)\n",
    "    i = 0\n",
    "    valid_i = 0  # Counter for valid files\n",
    "\n",
    "    bands_missing_paths=[]\n",
    "\n",
    "    for tfrecord_path in tqdm(tfrecord_paths, desc=\"Checking TFRecords\"):\n",
    "        iterator = tf.io.tf_record_iterator(tfrecord_path, options=options)\n",
    "        for record_str in iterator:\n",
    "            ex = tf.train.Example.FromString(record_str)\n",
    "            feature_map = ex.features.feature\n",
    "\n",
    "            # Check all REQUIRED_BANDS exist in this record\n",
    "            bands_missing = [band for band in REQUIRED_BANDS if band not in feature_map]\n",
    "            if bands_missing:\n",
    "                print(f\"Skipping record {i} in {tfrecord_path}: missing bands {bands_missing}\")\n",
    "            else:\n",
    "                # Save only if valid\n",
    "                out_path = os.path.join(out_dir, f'{valid_i:05d}.tfrecord.gz')\n",
    "                with tf.io.TFRecordWriter(out_path, options=options) as writer:\n",
    "                    writer.write(ex.SerializeToString())\n",
    "                valid_i += 1\n",
    "            i += 1\n",
    "            bands_missing_paths.append(bands_missing_paths)\n",
    "    return bands_missing_paths"
   ]
  },
  {
   "cell_type": "code",
   "execution_count": 0,
   "metadata": {
    "application/vnd.databricks.v1+cell": {
     "cellMetadata": {
      "byteLimit": 2048000,
      "rowLimit": 10000
     },
     "inputWidgets": {},
     "nuid": "b55c2bbd-e7cf-48ee-89c5-dd98b5bf09ad",
     "showTitle": false,
     "tableResultSettingsMap": {},
     "title": ""
    }
   },
   "outputs": [
    {
     "output_type": "stream",
     "name": "stderr",
     "output_type": "stream",
     "text": [
      "WARNING:root:No handler for 437e3a33dada4825bc7adb157dd00dd9\nWARNING:root:No handler for 0283df3216234625b5c6b8df5f549731\nWARNING:root:No handler for b36842706168473f86af4a596b981021\nWARNING:root:No handler for a64e1da4dcb6411bb7709539475d7230\nWARNING:root:No handler for 02e191b535b3486cb0780f50f46b4af1\nWARNING:root:No handler for 14d0a4bfc48e460bb9423a7ad3b3cf95\nWARNING:root:No handler for ed5d9d005a614794adf7579913e23421\n"
     ]
    },
    {
     "output_type": "display_data",
     "data": {
      "application/vnd.jupyter.widget-view+json": {
       "model_id": "c0a5283dbee445ab99f1ff3cfc6e3162",
       "version_major": 2,
       "version_minor": 0
      },
      "text/plain": [
       "Checking TFRecords:   0%|          | 0/62 [00:00<?, ?it/s]"
      ]
     },
     "metadata": {},
     "output_type": "display_data"
    },
    {
     "output_type": "stream",
     "name": "stderr",
     "output_type": "stream",
     "text": [
      "WARNING:tensorflow:From /root/.ipykernel/13187/command-8765217536902738-2278914202:113: tf_record_iterator (from tensorflow.python.lib.io.tf_record) is deprecated and will be removed in a future version.\nInstructions for updating:\nUse eager execution and: \n`tf.data.TFRecordDataset(path)`\n"
     ]
    },
    {
     "output_type": "display_data",
     "data": {
      "application/vnd.jupyter.widget-view+json": {
       "model_id": "f854e8b1b7044b49ba5c6d4d57d197c7",
       "version_major": 2,
       "version_minor": 0
      },
      "text/plain": [
       "Checking TFRecords:   0%|          | 0/53 [00:00<?, ?it/s]"
      ]
     },
     "metadata": {},
     "output_type": "display_data"
    },
    {
     "output_type": "display_data",
     "data": {
      "application/vnd.jupyter.widget-view+json": {
       "model_id": "0d5b41958a5148628ee1c3fa7a62e840",
       "version_major": 2,
       "version_minor": 0
      },
      "text/plain": [
       "Checking TFRecords:   0%|          | 0/2 [00:00<?, ?it/s]"
      ]
     },
     "metadata": {},
     "output_type": "display_data"
    },
    {
     "output_type": "display_data",
     "data": {
      "application/vnd.jupyter.widget-view+json": {
       "model_id": "1b46907de45c4bd68b6155db472f0daa",
       "version_major": 2,
       "version_minor": 0
      },
      "text/plain": [
       "Checking TFRecords:   0%|          | 0/228 [00:00<?, ?it/s]"
      ]
     },
     "metadata": {},
     "output_type": "display_data"
    },
    {
     "output_type": "display_data",
     "data": {
      "application/vnd.jupyter.widget-view+json": {
       "model_id": "b47fb1ca051b4f7086474459a00a09f5",
       "version_major": 2,
       "version_minor": 0
      },
      "text/plain": [
       "Checking TFRecords:   0%|          | 0/316 [00:00<?, ?it/s]"
      ]
     },
     "metadata": {},
     "output_type": "display_data"
    },
    {
     "output_type": "display_data",
     "data": {
      "application/vnd.jupyter.widget-view+json": {
       "model_id": "d87a10876d2f409e9bec26e48178f299",
       "version_major": 2,
       "version_minor": 0
      },
      "text/plain": [
       "Checking TFRecords:   0%|          | 0/308 [00:00<?, ?it/s]"
      ]
     },
     "metadata": {},
     "output_type": "display_data"
    },
    {
     "output_type": "display_data",
     "data": {
      "application/vnd.jupyter.widget-view+json": {
       "model_id": "b03115025dd24055aaf0abf0a460a534",
       "version_major": 2,
       "version_minor": 0
      },
      "text/plain": [
       "Checking TFRecords: 0it [00:00, ?it/s]"
      ]
     },
     "metadata": {},
     "output_type": "display_data"
    },
    {
     "output_type": "display_data",
     "data": {
      "application/vnd.jupyter.widget-view+json": {
       "model_id": "f7a832721d744900a8afe054e1b65cb5",
       "version_major": 2,
       "version_minor": 0
      },
      "text/plain": [
       "Checking TFRecords: 0it [00:00, ?it/s]"
      ]
     },
     "metadata": {},
     "output_type": "display_data"
    },
    {
     "output_type": "display_data",
     "data": {
      "application/vnd.jupyter.widget-view+json": {
       "model_id": "99c48ba4d8e8451eb5dc1a1bb054c451",
       "version_major": 2,
       "version_minor": 0
      },
      "text/plain": [
       "Checking TFRecords:   0%|          | 0/80 [00:00<?, ?it/s]"
      ]
     },
     "metadata": {},
     "output_type": "display_data"
    },
    {
     "output_type": "display_data",
     "data": {
      "application/vnd.jupyter.widget-view+json": {
       "model_id": "4b0779438075431dab3da0c2eb1bb44e",
       "version_major": 2,
       "version_minor": 0
      },
      "text/plain": [
       "Checking TFRecords:   0%|          | 0/666 [00:00<?, ?it/s]"
      ]
     },
     "metadata": {},
     "output_type": "display_data"
    },
    {
     "output_type": "display_data",
     "data": {
      "application/vnd.jupyter.widget-view+json": {
       "model_id": "11273032025d45c690323ed5fbd313a3",
       "version_major": 2,
       "version_minor": 0
      },
      "text/plain": [
       "Checking TFRecords:   0%|          | 0/288 [00:00<?, ?it/s]"
      ]
     },
     "metadata": {},
     "output_type": "display_data"
    },
    {
     "output_type": "display_data",
     "data": {
      "application/vnd.jupyter.widget-view+json": {
       "model_id": "b01eef14b00a46bea495b438330945f3",
       "version_major": 2,
       "version_minor": 0
      },
      "text/plain": [
       "Checking TFRecords: 0it [00:00, ?it/s]"
      ]
     },
     "metadata": {},
     "output_type": "display_data"
    },
    {
     "output_type": "display_data",
     "data": {
      "application/vnd.jupyter.widget-view+json": {
       "model_id": "83b28c7a801543f2b0efdb3ee98bf16c",
       "version_major": 2,
       "version_minor": 0
      },
      "text/plain": [
       "Checking TFRecords: 0it [00:00, ?it/s]"
      ]
     },
     "metadata": {},
     "output_type": "display_data"
    },
    {
     "output_type": "display_data",
     "data": {
      "application/vnd.jupyter.widget-view+json": {
       "model_id": "19c7d24c2e2348a0b05f77a4a0e4895a",
       "version_major": 2,
       "version_minor": 0
      },
      "text/plain": [
       "Checking TFRecords: 0it [00:00, ?it/s]"
      ]
     },
     "metadata": {},
     "output_type": "display_data"
    },
    {
     "output_type": "display_data",
     "data": {
      "application/vnd.jupyter.widget-view+json": {
       "model_id": "6437f499c8244ce58a627185cf33dd77",
       "version_major": 2,
       "version_minor": 0
      },
      "text/plain": [
       "Checking TFRecords: 0it [00:00, ?it/s]"
      ]
     },
     "metadata": {},
     "output_type": "display_data"
    },
    {
     "output_type": "display_data",
     "data": {
      "application/vnd.jupyter.widget-view+json": {
       "model_id": "c2d8c5bdab34476e9a67e65a060b6c78",
       "version_major": 2,
       "version_minor": 0
      },
      "text/plain": [
       "Checking TFRecords: 0it [00:00, ?it/s]"
      ]
     },
     "metadata": {},
     "output_type": "display_data"
    },
    {
     "output_type": "display_data",
     "data": {
      "application/vnd.jupyter.widget-view+json": {
       "model_id": "7a1a8728c99b4c979621bd3a55b80253",
       "version_major": 2,
       "version_minor": 0
      },
      "text/plain": [
       "Checking TFRecords:   0%|          | 0/392 [00:00<?, ?it/s]"
      ]
     },
     "metadata": {},
     "output_type": "display_data"
    },
    {
     "output_type": "display_data",
     "data": {
      "application/vnd.jupyter.widget-view+json": {
       "model_id": "ecf0833b55894179939098b0e221e266",
       "version_major": 2,
       "version_minor": 0
      },
      "text/plain": [
       "Checking TFRecords:   0%|          | 0/541 [00:00<?, ?it/s]"
      ]
     },
     "metadata": {},
     "output_type": "display_data"
    },
    {
     "output_type": "display_data",
     "data": {
      "application/vnd.jupyter.widget-view+json": {
       "model_id": "9ff2389634664514b759345432c9bf1b",
       "version_major": 2,
       "version_minor": 0
      },
      "text/plain": [
       "Checking TFRecords:   0%|          | 0/248 [00:00<?, ?it/s]"
      ]
     },
     "metadata": {},
     "output_type": "display_data"
    },
    {
     "output_type": "display_data",
     "data": {
      "application/vnd.jupyter.widget-view+json": {
       "model_id": "18c92becf9844cbcad3ed0a0cd2f9a24",
       "version_major": 2,
       "version_minor": 0
      },
      "text/plain": [
       "Checking TFRecords:   0%|          | 0/31 [00:00<?, ?it/s]"
      ]
     },
     "metadata": {},
     "output_type": "display_data"
    },
    {
     "output_type": "display_data",
     "data": {
      "application/vnd.jupyter.widget-view+json": {
       "model_id": "a16c497fe01d46919ea6bcedfd8c4d9b",
       "version_major": 2,
       "version_minor": 0
      },
      "text/plain": [
       "Checking TFRecords: 0it [00:00, ?it/s]"
      ]
     },
     "metadata": {},
     "output_type": "display_data"
    },
    {
     "output_type": "display_data",
     "data": {
      "application/vnd.jupyter.widget-view+json": {
       "model_id": "821b4b693f704965a338d219c276d952",
       "version_major": 2,
       "version_minor": 0
      },
      "text/plain": [
       "Checking TFRecords:   0%|          | 0/338 [00:00<?, ?it/s]"
      ]
     },
     "metadata": {},
     "output_type": "display_data"
    },
    {
     "output_type": "display_data",
     "data": {
      "application/vnd.jupyter.widget-view+json": {
       "model_id": "a10e8aa18ffe45c49e8b728db4c7b2dc",
       "version_major": 2,
       "version_minor": 0
      },
      "text/plain": [
       "Checking TFRecords:   0%|          | 0/38 [00:00<?, ?it/s]"
      ]
     },
     "metadata": {},
     "output_type": "display_data"
    },
    {
     "output_type": "display_data",
     "data": {
      "application/vnd.jupyter.widget-view+json": {
       "model_id": "a814188bb74c47d49846dde506aa353f",
       "version_major": 2,
       "version_minor": 0
      },
      "text/plain": [
       "Checking TFRecords:   0%|          | 0/200 [00:00<?, ?it/s]"
      ]
     },
     "metadata": {},
     "output_type": "display_data"
    },
    {
     "output_type": "display_data",
     "data": {
      "application/vnd.jupyter.widget-view+json": {
       "model_id": "b15dda8c8c4647bbacb919a425ab098f",
       "version_major": 2,
       "version_minor": 0
      },
      "text/plain": [
       "Checking TFRecords:   0%|          | 0/322 [00:00<?, ?it/s]"
      ]
     },
     "metadata": {},
     "output_type": "display_data"
    },
    {
     "output_type": "display_data",
     "data": {
      "application/vnd.jupyter.widget-view+json": {
       "model_id": "e16ed121227742d48c1e79ac48cd226d",
       "version_major": 2,
       "version_minor": 0
      },
      "text/plain": [
       "Checking TFRecords:   0%|          | 0/230 [00:00<?, ?it/s]"
      ]
     },
     "metadata": {},
     "output_type": "display_data"
    },
    {
     "output_type": "display_data",
     "data": {
      "application/vnd.jupyter.widget-view+json": {
       "model_id": "08a24918c16f44ddb20f972f16694b22",
       "version_major": 2,
       "version_minor": 0
      },
      "text/plain": [
       "Checking TFRecords: 0it [00:00, ?it/s]"
      ]
     },
     "metadata": {},
     "output_type": "display_data"
    },
    {
     "output_type": "display_data",
     "data": {
      "application/vnd.jupyter.widget-view+json": {
       "model_id": "21d0a55236da497c81f51b36641c06cd",
       "version_major": 2,
       "version_minor": 0
      },
      "text/plain": [
       "Checking TFRecords:   0%|          | 0/464 [00:00<?, ?it/s]"
      ]
     },
     "metadata": {},
     "output_type": "display_data"
    },
    {
     "output_type": "stream",
     "name": "stdout",
     "output_type": "stream",
     "text": [
      "Skipping record 68 in /dbfs/mnt/raw/DataScientistSDSData/TLSED_test/raw/cameroon_2004_152.tfrecord.gz: missing bands ['BLUE', 'GREEN', 'NIR', 'RED', 'SWIR1', 'SWIR2']\nSkipping record 103 in /dbfs/mnt/raw/DataScientistSDSData/TLSED_test/raw/cameroon_2004_184.tfrecord.gz: missing bands ['BLUE', 'GREEN', 'NIR', 'RED', 'SWIR1', 'SWIR2']\n"
     ]
    },
    {
     "output_type": "display_data",
     "data": {
      "application/vnd.jupyter.widget-view+json": {
       "model_id": "6f5ef5ad49644b3b9a04d6acd58e4f7b",
       "version_major": 2,
       "version_minor": 0
      },
      "text/plain": [
       "Checking TFRecords:   0%|          | 0/577 [00:00<?, ?it/s]"
      ]
     },
     "metadata": {},
     "output_type": "display_data"
    },
    {
     "output_type": "display_data",
     "data": {
      "application/vnd.jupyter.widget-view+json": {
       "model_id": "134e9fac189d46e19bcc007661c7a5a8",
       "version_major": 2,
       "version_minor": 0
      },
      "text/plain": [
       "Checking TFRecords: 0it [00:00, ?it/s]"
      ]
     },
     "metadata": {},
     "output_type": "display_data"
    },
    {
     "output_type": "display_data",
     "data": {
      "application/vnd.jupyter.widget-view+json": {
       "model_id": "c7601f50c81e455bb6b4362b6c784a15",
       "version_major": 2,
       "version_minor": 0
      },
      "text/plain": [
       "Checking TFRecords: 0it [00:00, ?it/s]"
      ]
     },
     "metadata": {},
     "output_type": "display_data"
    },
    {
     "output_type": "display_data",
     "data": {
      "application/vnd.jupyter.widget-view+json": {
       "model_id": "0b5b73c8bee24044bbb5a3e67a603011",
       "version_major": 2,
       "version_minor": 0
      },
      "text/plain": [
       "Checking TFRecords: 0it [00:00, ?it/s]"
      ]
     },
     "metadata": {},
     "output_type": "display_data"
    },
    {
     "output_type": "display_data",
     "data": {
      "application/vnd.jupyter.widget-view+json": {
       "model_id": "bb8d53043e66421e937ad4a1439b0bbf",
       "version_major": 2,
       "version_minor": 0
      },
      "text/plain": [
       "Checking TFRecords: 0it [00:00, ?it/s]"
      ]
     },
     "metadata": {},
     "output_type": "display_data"
    },
    {
     "output_type": "display_data",
     "data": {
      "application/vnd.jupyter.widget-view+json": {
       "model_id": "e179d969c33e42a7babaa27921918a56",
       "version_major": 2,
       "version_minor": 0
      },
      "text/plain": [
       "Checking TFRecords:   0%|          | 0/235 [00:00<?, ?it/s]"
      ]
     },
     "metadata": {},
     "output_type": "display_data"
    },
    {
     "output_type": "display_data",
     "data": {
      "application/vnd.jupyter.widget-view+json": {
       "model_id": "bf26eaab01b14a91b960636ef5a7bb86",
       "version_major": 2,
       "version_minor": 0
      },
      "text/plain": [
       "Checking TFRecords:   0%|          | 0/389 [00:00<?, ?it/s]"
      ]
     },
     "metadata": {},
     "output_type": "display_data"
    },
    {
     "output_type": "display_data",
     "data": {
      "application/vnd.jupyter.widget-view+json": {
       "model_id": "bc2ee76261e74d0b83cb3110653a92c5",
       "version_major": 2,
       "version_minor": 0
      },
      "text/plain": [
       "Checking TFRecords:   0%|          | 0/242 [00:00<?, ?it/s]"
      ]
     },
     "metadata": {},
     "output_type": "display_data"
    },
    {
     "output_type": "display_data",
     "data": {
      "application/vnd.jupyter.widget-view+json": {
       "model_id": "7aa0a9f37cc14ae099e8e9aea88a8688",
       "version_major": 2,
       "version_minor": 0
      },
      "text/plain": [
       "Checking TFRecords:   0%|          | 0/291 [00:00<?, ?it/s]"
      ]
     },
     "metadata": {},
     "output_type": "display_data"
    },
    {
     "output_type": "display_data",
     "data": {
      "application/vnd.jupyter.widget-view+json": {
       "model_id": "1831919f484e40a1ae5787324da4ee62",
       "version_major": 2,
       "version_minor": 0
      },
      "text/plain": [
       "Checking TFRecords:   0%|          | 0/395 [00:00<?, ?it/s]"
      ]
     },
     "metadata": {},
     "output_type": "display_data"
    },
    {
     "output_type": "display_data",
     "data": {
      "application/vnd.jupyter.widget-view+json": {
       "model_id": "c627b1de94ee4fabae49426aa81b23d2",
       "version_major": 2,
       "version_minor": 0
      },
      "text/plain": [
       "Checking TFRecords:   0%|          | 0/97 [00:00<?, ?it/s]"
      ]
     },
     "metadata": {},
     "output_type": "display_data"
    },
    {
     "output_type": "display_data",
     "data": {
      "application/vnd.jupyter.widget-view+json": {
       "model_id": "f1d920459c5a4e2eb439e2f99f42786e",
       "version_major": 2,
       "version_minor": 0
      },
      "text/plain": [
       "Checking TFRecords: 0it [00:00, ?it/s]"
      ]
     },
     "metadata": {},
     "output_type": "display_data"
    },
    {
     "output_type": "display_data",
     "data": {
      "application/vnd.jupyter.widget-view+json": {
       "model_id": "1c118c713ca642c6912aac545b7c9605",
       "version_major": 2,
       "version_minor": 0
      },
      "text/plain": [
       "Checking TFRecords: 0it [00:00, ?it/s]"
      ]
     },
     "metadata": {},
     "output_type": "display_data"
    },
    {
     "output_type": "display_data",
     "data": {
      "application/vnd.jupyter.widget-view+json": {
       "model_id": "c03e44afd03245cdabff7409330439ef",
       "version_major": 2,
       "version_minor": 0
      },
      "text/plain": [
       "Checking TFRecords: 0it [00:00, ?it/s]"
      ]
     },
     "metadata": {},
     "output_type": "display_data"
    },
    {
     "output_type": "display_data",
     "data": {
      "application/vnd.jupyter.widget-view+json": {
       "model_id": "71d90eff73af4738bb59e9f5e8e5a3de",
       "version_major": 2,
       "version_minor": 0
      },
      "text/plain": [
       "Checking TFRecords: 0it [00:00, ?it/s]"
      ]
     },
     "metadata": {},
     "output_type": "display_data"
    },
    {
     "output_type": "display_data",
     "data": {
      "application/vnd.jupyter.widget-view+json": {
       "model_id": "5b7ea21611ad4165ab71a7053df72652",
       "version_major": 2,
       "version_minor": 0
      },
      "text/plain": [
       "Checking TFRecords: 0it [00:00, ?it/s]"
      ]
     },
     "metadata": {},
     "output_type": "display_data"
    },
    {
     "output_type": "display_data",
     "data": {
      "application/vnd.jupyter.widget-view+json": {
       "model_id": "a49747ab759649af8eb82ba982fe64ae",
       "version_major": 2,
       "version_minor": 0
      },
      "text/plain": [
       "Checking TFRecords: 0it [00:00, ?it/s]"
      ]
     },
     "metadata": {},
     "output_type": "display_data"
    },
    {
     "output_type": "display_data",
     "data": {
      "application/vnd.jupyter.widget-view+json": {
       "model_id": "f8e160c391ab420298cbf1085adc1135",
       "version_major": 2,
       "version_minor": 0
      },
      "text/plain": [
       "Checking TFRecords: 0it [00:00, ?it/s]"
      ]
     },
     "metadata": {},
     "output_type": "display_data"
    },
    {
     "output_type": "display_data",
     "data": {
      "application/vnd.jupyter.widget-view+json": {
       "model_id": "9a25b427bd614f2c96d8b29525b1eb12",
       "version_major": 2,
       "version_minor": 0
      },
      "text/plain": [
       "Checking TFRecords: 0it [00:00, ?it/s]"
      ]
     },
     "metadata": {},
     "output_type": "display_data"
    },
    {
     "output_type": "display_data",
     "data": {
      "application/vnd.jupyter.widget-view+json": {
       "model_id": "43abbc463fae44ddb0efac32680249d3",
       "version_major": 2,
       "version_minor": 0
      },
      "text/plain": [
       "Checking TFRecords: 0it [00:00, ?it/s]"
      ]
     },
     "metadata": {},
     "output_type": "display_data"
    },
    {
     "output_type": "display_data",
     "data": {
      "application/vnd.jupyter.widget-view+json": {
       "model_id": "2586cfd4b18147ed9015567c3f47a76a",
       "version_major": 2,
       "version_minor": 0
      },
      "text/plain": [
       "Checking TFRecords: 0it [00:00, ?it/s]"
      ]
     },
     "metadata": {},
     "output_type": "display_data"
    },
    {
     "output_type": "display_data",
     "data": {
      "application/vnd.jupyter.widget-view+json": {
       "model_id": "8f7156a0bc6e4ec682d6e06b44d233ed",
       "version_major": 2,
       "version_minor": 0
      },
      "text/plain": [
       "Checking TFRecords: 0it [00:00, ?it/s]"
      ]
     },
     "metadata": {},
     "output_type": "display_data"
    },
    {
     "output_type": "display_data",
     "data": {
      "application/vnd.jupyter.widget-view+json": {
       "model_id": "c9ae3254ff9148aa9464ccf284ddda1d",
       "version_major": 2,
       "version_minor": 0
      },
      "text/plain": [
       "Checking TFRecords: 0it [00:00, ?it/s]"
      ]
     },
     "metadata": {},
     "output_type": "display_data"
    },
    {
     "output_type": "display_data",
     "data": {
      "application/vnd.jupyter.widget-view+json": {
       "model_id": "c292a7ef0bb44b18a5b335c1a2698d26",
       "version_major": 2,
       "version_minor": 0
      },
      "text/plain": [
       "Checking TFRecords: 0it [00:00, ?it/s]"
      ]
     },
     "metadata": {},
     "output_type": "display_data"
    },
    {
     "output_type": "display_data",
     "data": {
      "application/vnd.jupyter.widget-view+json": {
       "model_id": "b0cae33cbaa9453789b4aaa6a24128ee",
       "version_major": 2,
       "version_minor": 0
      },
      "text/plain": [
       "Checking TFRecords: 0it [00:00, ?it/s]"
      ]
     },
     "metadata": {},
     "output_type": "display_data"
    },
    {
     "output_type": "display_data",
     "data": {
      "application/vnd.jupyter.widget-view+json": {
       "model_id": "2469b00791824e559ae3710749a54734",
       "version_major": 2,
       "version_minor": 0
      },
      "text/plain": [
       "Checking TFRecords: 0it [00:00, ?it/s]"
      ]
     },
     "metadata": {},
     "output_type": "display_data"
    },
    {
     "output_type": "display_data",
     "data": {
      "application/vnd.jupyter.widget-view+json": {
       "model_id": "3765ff2985b8462984f3a71dcd89faf6",
       "version_major": 2,
       "version_minor": 0
      },
      "text/plain": [
       "Checking TFRecords: 0it [00:00, ?it/s]"
      ]
     },
     "metadata": {},
     "output_type": "display_data"
    },
    {
     "output_type": "display_data",
     "data": {
      "application/vnd.jupyter.widget-view+json": {
       "model_id": "44ac49ebcc804957a201636865e42f76",
       "version_major": 2,
       "version_minor": 0
      },
      "text/plain": [
       "Checking TFRecords: 0it [00:00, ?it/s]"
      ]
     },
     "metadata": {},
     "output_type": "display_data"
    },
    {
     "output_type": "display_data",
     "data": {
      "application/vnd.jupyter.widget-view+json": {
       "model_id": "ab65a647248e4c15ae7e815f7198ee41",
       "version_major": 2,
       "version_minor": 0
      },
      "text/plain": [
       "Checking TFRecords: 0it [00:00, ?it/s]"
      ]
     },
     "metadata": {},
     "output_type": "display_data"
    },
    {
     "output_type": "display_data",
     "data": {
      "application/vnd.jupyter.widget-view+json": {
       "model_id": "6999719e75c44b5a9f6ce3c6b10c2c6b",
       "version_major": 2,
       "version_minor": 0
      },
      "text/plain": [
       "Checking TFRecords: 0it [00:00, ?it/s]"
      ]
     },
     "metadata": {},
     "output_type": "display_data"
    },
    {
     "output_type": "display_data",
     "data": {
      "application/vnd.jupyter.widget-view+json": {
       "model_id": "4d70f844e8cd4e20a6874054fdaaf136",
       "version_major": 2,
       "version_minor": 0
      },
      "text/plain": [
       "Checking TFRecords: 0it [00:00, ?it/s]"
      ]
     },
     "metadata": {},
     "output_type": "display_data"
    },
    {
     "output_type": "display_data",
     "data": {
      "application/vnd.jupyter.widget-view+json": {
       "model_id": "cc4c44cb57f9461ca1a4027747f98e31",
       "version_major": 2,
       "version_minor": 0
      },
      "text/plain": [
       "Checking TFRecords: 0it [00:00, ?it/s]"
      ]
     },
     "metadata": {},
     "output_type": "display_data"
    },
    {
     "output_type": "display_data",
     "data": {
      "application/vnd.jupyter.widget-view+json": {
       "model_id": "d9674a058e394b14b28caa77fac1b286",
       "version_major": 2,
       "version_minor": 0
      },
      "text/plain": [
       "Checking TFRecords: 0it [00:00, ?it/s]"
      ]
     },
     "metadata": {},
     "output_type": "display_data"
    },
    {
     "output_type": "display_data",
     "data": {
      "application/vnd.jupyter.widget-view+json": {
       "model_id": "be620713524f4caeb32a2e291151395b",
       "version_major": 2,
       "version_minor": 0
      },
      "text/plain": [
       "Checking TFRecords: 0it [00:00, ?it/s]"
      ]
     },
     "metadata": {},
     "output_type": "display_data"
    },
    {
     "output_type": "display_data",
     "data": {
      "application/vnd.jupyter.widget-view+json": {
       "model_id": "f09b39a5ccff454a8b8859cc9d5ebbd5",
       "version_major": 2,
       "version_minor": 0
      },
      "text/plain": [
       "Checking TFRecords: 0it [00:00, ?it/s]"
      ]
     },
     "metadata": {},
     "output_type": "display_data"
    },
    {
     "output_type": "display_data",
     "data": {
      "application/vnd.jupyter.widget-view+json": {
       "model_id": "8021f7d0f76c4cf0b1bd5cf7c17a4b4a",
       "version_major": 2,
       "version_minor": 0
      },
      "text/plain": [
       "Checking TFRecords: 0it [00:00, ?it/s]"
      ]
     },
     "metadata": {},
     "output_type": "display_data"
    },
    {
     "output_type": "display_data",
     "data": {
      "application/vnd.jupyter.widget-view+json": {
       "model_id": "b404c6bb0098413e86a844b7060194ff",
       "version_major": 2,
       "version_minor": 0
      },
      "text/plain": [
       "Checking TFRecords: 0it [00:00, ?it/s]"
      ]
     },
     "metadata": {},
     "output_type": "display_data"
    },
    {
     "output_type": "display_data",
     "data": {
      "application/vnd.jupyter.widget-view+json": {
       "model_id": "be08c74a17384e6cb9ccb7aae04e6bf7",
       "version_major": 2,
       "version_minor": 0
      },
      "text/plain": [
       "Checking TFRecords: 0it [00:00, ?it/s]"
      ]
     },
     "metadata": {},
     "output_type": "display_data"
    },
    {
     "output_type": "display_data",
     "data": {
      "application/vnd.jupyter.widget-view+json": {
       "model_id": "7ab00de7f69c41e5a7a2ab43d2019306",
       "version_major": 2,
       "version_minor": 0
      },
      "text/plain": [
       "Checking TFRecords: 0it [00:00, ?it/s]"
      ]
     },
     "metadata": {},
     "output_type": "display_data"
    },
    {
     "output_type": "display_data",
     "data": {
      "application/vnd.jupyter.widget-view+json": {
       "model_id": "cadf440c1bc748ddae4623b0223d474e",
       "version_major": 2,
       "version_minor": 0
      },
      "text/plain": [
       "Checking TFRecords: 0it [00:00, ?it/s]"
      ]
     },
     "metadata": {},
     "output_type": "display_data"
    },
    {
     "output_type": "display_data",
     "data": {
      "application/vnd.jupyter.widget-view+json": {
       "model_id": "9ba03f168f474c8488ce43d50b911985",
       "version_major": 2,
       "version_minor": 0
      },
      "text/plain": [
       "Checking TFRecords: 0it [00:00, ?it/s]"
      ]
     },
     "metadata": {},
     "output_type": "display_data"
    },
    {
     "output_type": "display_data",
     "data": {
      "application/vnd.jupyter.widget-view+json": {
       "model_id": "fa6198b6bf794ddf9e966bf9f5e6dfbf",
       "version_major": 2,
       "version_minor": 0
      },
      "text/plain": [
       "Checking TFRecords: 0it [00:00, ?it/s]"
      ]
     },
     "metadata": {},
     "output_type": "display_data"
    },
    {
     "output_type": "display_data",
     "data": {
      "application/vnd.jupyter.widget-view+json": {
       "model_id": "967e8caf3b964b1fb5bb0c18d0fb198b",
       "version_major": 2,
       "version_minor": 0
      },
      "text/plain": [
       "Checking TFRecords: 0it [00:00, ?it/s]"
      ]
     },
     "metadata": {},
     "output_type": "display_data"
    },
    {
     "output_type": "display_data",
     "data": {
      "application/vnd.jupyter.widget-view+json": {
       "model_id": "a0c136b7a4ea4b20887552320561c4f6",
       "version_major": 2,
       "version_minor": 0
      },
      "text/plain": [
       "Checking TFRecords: 0it [00:00, ?it/s]"
      ]
     },
     "metadata": {},
     "output_type": "display_data"
    },
    {
     "output_type": "display_data",
     "data": {
      "application/vnd.jupyter.widget-view+json": {
       "model_id": "2175820279164804876159cd0d7a389f",
       "version_major": 2,
       "version_minor": 0
      },
      "text/plain": [
       "Checking TFRecords: 0it [00:00, ?it/s]"
      ]
     },
     "metadata": {},
     "output_type": "display_data"
    },
    {
     "output_type": "display_data",
     "data": {
      "application/vnd.jupyter.widget-view+json": {
       "model_id": "8fea7350b9a5443384ee5804df906318",
       "version_major": 2,
       "version_minor": 0
      },
      "text/plain": [
       "Checking TFRecords: 0it [00:00, ?it/s]"
      ]
     },
     "metadata": {},
     "output_type": "display_data"
    },
    {
     "output_type": "display_data",
     "data": {
      "application/vnd.jupyter.widget-view+json": {
       "model_id": "e9ad1794b702432b822014835c6cd3dc",
       "version_major": 2,
       "version_minor": 0
      },
      "text/plain": [
       "Checking TFRecords: 0it [00:00, ?it/s]"
      ]
     },
     "metadata": {},
     "output_type": "display_data"
    },
    {
     "output_type": "display_data",
     "data": {
      "application/vnd.jupyter.widget-view+json": {
       "model_id": "9330de5ce19b42709531d0b273e8de8e",
       "version_major": 2,
       "version_minor": 0
      },
      "text/plain": [
       "Checking TFRecords: 0it [00:00, ?it/s]"
      ]
     },
     "metadata": {},
     "output_type": "display_data"
    },
    {
     "output_type": "display_data",
     "data": {
      "application/vnd.jupyter.widget-view+json": {
       "model_id": "f5102ef1f74d4595b0baab3cc717d996",
       "version_major": 2,
       "version_minor": 0
      },
      "text/plain": [
       "Checking TFRecords: 0it [00:00, ?it/s]"
      ]
     },
     "metadata": {},
     "output_type": "display_data"
    },
    {
     "output_type": "display_data",
     "data": {
      "application/vnd.jupyter.widget-view+json": {
       "model_id": "b8bdeb3c4b7448ec81bc4b89404d2af6",
       "version_major": 2,
       "version_minor": 0
      },
      "text/plain": [
       "Checking TFRecords: 0it [00:00, ?it/s]"
      ]
     },
     "metadata": {},
     "output_type": "display_data"
    },
    {
     "output_type": "display_data",
     "data": {
      "application/vnd.jupyter.widget-view+json": {
       "model_id": "927f07e774d740afae7e24553e9015a6",
       "version_major": 2,
       "version_minor": 0
      },
      "text/plain": [
       "Checking TFRecords: 0it [00:00, ?it/s]"
      ]
     },
     "metadata": {},
     "output_type": "display_data"
    },
    {
     "output_type": "display_data",
     "data": {
      "application/vnd.jupyter.widget-view+json": {
       "model_id": "fe6b528d799141fdae9440d80e531aa4",
       "version_major": 2,
       "version_minor": 0
      },
      "text/plain": [
       "Checking TFRecords: 0it [00:00, ?it/s]"
      ]
     },
     "metadata": {},
     "output_type": "display_data"
    },
    {
     "output_type": "display_data",
     "data": {
      "application/vnd.jupyter.widget-view+json": {
       "model_id": "801879ecfd614131acb4fd5226d2509e",
       "version_major": 2,
       "version_minor": 0
      },
      "text/plain": [
       "Checking TFRecords: 0it [00:00, ?it/s]"
      ]
     },
     "metadata": {},
     "output_type": "display_data"
    },
    {
     "output_type": "display_data",
     "data": {
      "application/vnd.jupyter.widget-view+json": {
       "model_id": "955051c23b0d495ab4f8f478c0cbf189",
       "version_major": 2,
       "version_minor": 0
      },
      "text/plain": [
       "Checking TFRecords: 0it [00:00, ?it/s]"
      ]
     },
     "metadata": {},
     "output_type": "display_data"
    },
    {
     "output_type": "display_data",
     "data": {
      "application/vnd.jupyter.widget-view+json": {
       "model_id": "52c90b0827ca4c4ab3bd2837a7570610",
       "version_major": 2,
       "version_minor": 0
      },
      "text/plain": [
       "Checking TFRecords: 0it [00:00, ?it/s]"
      ]
     },
     "metadata": {},
     "output_type": "display_data"
    },
    {
     "output_type": "display_data",
     "data": {
      "application/vnd.jupyter.widget-view+json": {
       "model_id": "6408bc31001444ca9f9da950c8f5b6e5",
       "version_major": 2,
       "version_minor": 0
      },
      "text/plain": [
       "Checking TFRecords: 0it [00:00, ?it/s]"
      ]
     },
     "metadata": {},
     "output_type": "display_data"
    },
    {
     "output_type": "display_data",
     "data": {
      "application/vnd.jupyter.widget-view+json": {
       "model_id": "b803f60fc92f4110a6d09477e76fcdf7",
       "version_major": 2,
       "version_minor": 0
      },
      "text/plain": [
       "Checking TFRecords: 0it [00:00, ?it/s]"
      ]
     },
     "metadata": {},
     "output_type": "display_data"
    },
    {
     "output_type": "display_data",
     "data": {
      "application/vnd.jupyter.widget-view+json": {
       "model_id": "e8f3c57fbf2a41eeb18e2aea227d2ae2",
       "version_major": 2,
       "version_minor": 0
      },
      "text/plain": [
       "Checking TFRecords: 0it [00:00, ?it/s]"
      ]
     },
     "metadata": {},
     "output_type": "display_data"
    },
    {
     "output_type": "display_data",
     "data": {
      "application/vnd.jupyter.widget-view+json": {
       "model_id": "186409e45c7c46d090af8de07707b94a",
       "version_major": 2,
       "version_minor": 0
      },
      "text/plain": [
       "Checking TFRecords: 0it [00:00, ?it/s]"
      ]
     },
     "metadata": {},
     "output_type": "display_data"
    },
    {
     "output_type": "display_data",
     "data": {
      "application/vnd.jupyter.widget-view+json": {
       "model_id": "e4598d39f43b408d8f5f8000809b08de",
       "version_major": 2,
       "version_minor": 0
      },
      "text/plain": [
       "Checking TFRecords: 0it [00:00, ?it/s]"
      ]
     },
     "metadata": {},
     "output_type": "display_data"
    },
    {
     "output_type": "display_data",
     "data": {
      "application/vnd.jupyter.widget-view+json": {
       "model_id": "472f87ef7eca4168ae1337b9bef94d9b",
       "version_major": 2,
       "version_minor": 0
      },
      "text/plain": [
       "Checking TFRecords: 0it [00:00, ?it/s]"
      ]
     },
     "metadata": {},
     "output_type": "display_data"
    },
    {
     "output_type": "display_data",
     "data": {
      "application/vnd.jupyter.widget-view+json": {
       "model_id": "4140915f4dd2436e8faf78e8c8005d86",
       "version_major": 2,
       "version_minor": 0
      },
      "text/plain": [
       "Checking TFRecords: 0it [00:00, ?it/s]"
      ]
     },
     "metadata": {},
     "output_type": "display_data"
    },
    {
     "output_type": "display_data",
     "data": {
      "application/vnd.jupyter.widget-view+json": {
       "model_id": "e80c7fb7aee74d16aea8eba7d8b6cae7",
       "version_major": 2,
       "version_minor": 0
      },
      "text/plain": [
       "Checking TFRecords: 0it [00:00, ?it/s]"
      ]
     },
     "metadata": {},
     "output_type": "display_data"
    },
    {
     "output_type": "display_data",
     "data": {
      "application/vnd.jupyter.widget-view+json": {
       "model_id": "b7c4a08d006e42c683984b499025110e",
       "version_major": 2,
       "version_minor": 0
      },
      "text/plain": [
       "Checking TFRecords: 0it [00:00, ?it/s]"
      ]
     },
     "metadata": {},
     "output_type": "display_data"
    },
    {
     "output_type": "display_data",
     "data": {
      "application/vnd.jupyter.widget-view+json": {
       "model_id": "113f7184ea5a4580a0d49ef9be51d05a",
       "version_major": 2,
       "version_minor": 0
      },
      "text/plain": [
       "Checking TFRecords: 0it [00:00, ?it/s]"
      ]
     },
     "metadata": {},
     "output_type": "display_data"
    },
    {
     "output_type": "display_data",
     "data": {
      "application/vnd.jupyter.widget-view+json": {
       "model_id": "34aebca6692b4d36b9d9ae372c248f0a",
       "version_major": 2,
       "version_minor": 0
      },
      "text/plain": [
       "Checking TFRecords: 0it [00:00, ?it/s]"
      ]
     },
     "metadata": {},
     "output_type": "display_data"
    },
    {
     "output_type": "display_data",
     "data": {
      "application/vnd.jupyter.widget-view+json": {
       "model_id": "f780abe5a95141ccaaf52006ed8f391a",
       "version_major": 2,
       "version_minor": 0
      },
      "text/plain": [
       "Checking TFRecords: 0it [00:00, ?it/s]"
      ]
     },
     "metadata": {},
     "output_type": "display_data"
    },
    {
     "output_type": "display_data",
     "data": {
      "application/vnd.jupyter.widget-view+json": {
       "model_id": "b7a52bae8c3f45aea9347d4f79733040",
       "version_major": 2,
       "version_minor": 0
      },
      "text/plain": [
       "Checking TFRecords: 0it [00:00, ?it/s]"
      ]
     },
     "metadata": {},
     "output_type": "display_data"
    },
    {
     "output_type": "display_data",
     "data": {
      "application/vnd.jupyter.widget-view+json": {
       "model_id": "37f4dea71bd84c33b1be3f33e02a078e",
       "version_major": 2,
       "version_minor": 0
      },
      "text/plain": [
       "Checking TFRecords: 0it [00:00, ?it/s]"
      ]
     },
     "metadata": {},
     "output_type": "display_data"
    },
    {
     "output_type": "display_data",
     "data": {
      "application/vnd.jupyter.widget-view+json": {
       "model_id": "3e6a03e3017a4e3ea22d574517f6459f",
       "version_major": 2,
       "version_minor": 0
      },
      "text/plain": [
       "Checking TFRecords: 0it [00:00, ?it/s]"
      ]
     },
     "metadata": {},
     "output_type": "display_data"
    },
    {
     "output_type": "display_data",
     "data": {
      "application/vnd.jupyter.widget-view+json": {
       "model_id": "6547166ecb7443cd95d98fd1620b0543",
       "version_major": 2,
       "version_minor": 0
      },
      "text/plain": [
       "Checking TFRecords: 0it [00:00, ?it/s]"
      ]
     },
     "metadata": {},
     "output_type": "display_data"
    },
    {
     "output_type": "display_data",
     "data": {
      "application/vnd.jupyter.widget-view+json": {
       "model_id": "0f5ba777d1384453ac1096c1d9167b38",
       "version_major": 2,
       "version_minor": 0
      },
      "text/plain": [
       "Checking TFRecords: 0it [00:00, ?it/s]"
      ]
     },
     "metadata": {},
     "output_type": "display_data"
    },
    {
     "output_type": "display_data",
     "data": {
      "application/vnd.jupyter.widget-view+json": {
       "model_id": "961c8860184b434d8689b719a110c98b",
       "version_major": 2,
       "version_minor": 0
      },
      "text/plain": [
       "Checking TFRecords: 0it [00:00, ?it/s]"
      ]
     },
     "metadata": {},
     "output_type": "display_data"
    },
    {
     "output_type": "display_data",
     "data": {
      "application/vnd.jupyter.widget-view+json": {
       "model_id": "7d3513db475b4872a1d81969e12a2fc5",
       "version_major": 2,
       "version_minor": 0
      },
      "text/plain": [
       "Checking TFRecords: 0it [00:00, ?it/s]"
      ]
     },
     "metadata": {},
     "output_type": "display_data"
    },
    {
     "output_type": "display_data",
     "data": {
      "application/vnd.jupyter.widget-view+json": {
       "model_id": "2ac45be9d96d4fcebd9e3632917371b2",
       "version_major": 2,
       "version_minor": 0
      },
      "text/plain": [
       "Checking TFRecords: 0it [00:00, ?it/s]"
      ]
     },
     "metadata": {},
     "output_type": "display_data"
    },
    {
     "output_type": "display_data",
     "data": {
      "application/vnd.jupyter.widget-view+json": {
       "model_id": "a8d0095534324d9d9bf6f0cde4c09abb",
       "version_major": 2,
       "version_minor": 0
      },
      "text/plain": [
       "Checking TFRecords: 0it [00:00, ?it/s]"
      ]
     },
     "metadata": {},
     "output_type": "display_data"
    },
    {
     "output_type": "display_data",
     "data": {
      "application/vnd.jupyter.widget-view+json": {
       "model_id": "930a4d4fb0df45ebb6595b63b00d718c",
       "version_major": 2,
       "version_minor": 0
      },
      "text/plain": [
       "Checking TFRecords: 0it [00:00, ?it/s]"
      ]
     },
     "metadata": {},
     "output_type": "display_data"
    },
    {
     "output_type": "display_data",
     "data": {
      "application/vnd.jupyter.widget-view+json": {
       "model_id": "8770fd2406374cfb83b91290a4df5565",
       "version_major": 2,
       "version_minor": 0
      },
      "text/plain": [
       "Checking TFRecords: 0it [00:00, ?it/s]"
      ]
     },
     "metadata": {},
     "output_type": "display_data"
    },
    {
     "output_type": "display_data",
     "data": {
      "application/vnd.jupyter.widget-view+json": {
       "model_id": "03536143f8a84624a23570ba9d1def3a",
       "version_major": 2,
       "version_minor": 0
      },
      "text/plain": [
       "Checking TFRecords: 0it [00:00, ?it/s]"
      ]
     },
     "metadata": {},
     "output_type": "display_data"
    },
    {
     "output_type": "display_data",
     "data": {
      "application/vnd.jupyter.widget-view+json": {
       "model_id": "d3c0b8a01d4a46269b663e0f2823bb20",
       "version_major": 2,
       "version_minor": 0
      },
      "text/plain": [
       "Checking TFRecords: 0it [00:00, ?it/s]"
      ]
     },
     "metadata": {},
     "output_type": "display_data"
    },
    {
     "output_type": "display_data",
     "data": {
      "application/vnd.jupyter.widget-view+json": {
       "model_id": "82a2be4bce5d4d7a99e0abdb9b106e1b",
       "version_major": 2,
       "version_minor": 0
      },
      "text/plain": [
       "Checking TFRecords: 0it [00:00, ?it/s]"
      ]
     },
     "metadata": {},
     "output_type": "display_data"
    },
    {
     "output_type": "display_data",
     "data": {
      "application/vnd.jupyter.widget-view+json": {
       "model_id": "6025f898c37849a8950175d5b16e19b6",
       "version_major": 2,
       "version_minor": 0
      },
      "text/plain": [
       "Checking TFRecords: 0it [00:00, ?it/s]"
      ]
     },
     "metadata": {},
     "output_type": "display_data"
    },
    {
     "output_type": "display_data",
     "data": {
      "application/vnd.jupyter.widget-view+json": {
       "model_id": "597b814c17424e45b4f1277246599eec",
       "version_major": 2,
       "version_minor": 0
      },
      "text/plain": [
       "Checking TFRecords: 0it [00:00, ?it/s]"
      ]
     },
     "metadata": {},
     "output_type": "display_data"
    },
    {
     "output_type": "display_data",
     "data": {
      "application/vnd.jupyter.widget-view+json": {
       "model_id": "8086fbb78273467897981544bfae8fa6",
       "version_major": 2,
       "version_minor": 0
      },
      "text/plain": [
       "Checking TFRecords: 0it [00:00, ?it/s]"
      ]
     },
     "metadata": {},
     "output_type": "display_data"
    },
    {
     "output_type": "display_data",
     "data": {
      "application/vnd.jupyter.widget-view+json": {
       "model_id": "026392a16b8f4e06a7ef68cc69ede225",
       "version_major": 2,
       "version_minor": 0
      },
      "text/plain": [
       "Checking TFRecords: 0it [00:00, ?it/s]"
      ]
     },
     "metadata": {},
     "output_type": "display_data"
    },
    {
     "output_type": "display_data",
     "data": {
      "application/vnd.jupyter.widget-view+json": {
       "model_id": "9ed47127eb0646908a94e1eee8cd31dd",
       "version_major": 2,
       "version_minor": 0
      },
      "text/plain": [
       "Checking TFRecords: 0it [00:00, ?it/s]"
      ]
     },
     "metadata": {},
     "output_type": "display_data"
    },
    {
     "output_type": "display_data",
     "data": {
      "application/vnd.jupyter.widget-view+json": {
       "model_id": "3fc4c64de8204c8bb0dcf47850feace8",
       "version_major": 2,
       "version_minor": 0
      },
      "text/plain": [
       "Checking TFRecords: 0it [00:00, ?it/s]"
      ]
     },
     "metadata": {},
     "output_type": "display_data"
    },
    {
     "output_type": "display_data",
     "data": {
      "application/vnd.jupyter.widget-view+json": {
       "model_id": "09434762740443eea178845e85510c5f",
       "version_major": 2,
       "version_minor": 0
      },
      "text/plain": [
       "Checking TFRecords: 0it [00:00, ?it/s]"
      ]
     },
     "metadata": {},
     "output_type": "display_data"
    },
    {
     "output_type": "display_data",
     "data": {
      "application/vnd.jupyter.widget-view+json": {
       "model_id": "f9484d87a0a5435a8f76273d8f16b3ca",
       "version_major": 2,
       "version_minor": 0
      },
      "text/plain": [
       "Checking TFRecords: 0it [00:00, ?it/s]"
      ]
     },
     "metadata": {},
     "output_type": "display_data"
    },
    {
     "output_type": "display_data",
     "data": {
      "application/vnd.jupyter.widget-view+json": {
       "model_id": "9c09771a484d4807b9931d2e64e04dc3",
       "version_major": 2,
       "version_minor": 0
      },
      "text/plain": [
       "Checking TFRecords: 0it [00:00, ?it/s]"
      ]
     },
     "metadata": {},
     "output_type": "display_data"
    },
    {
     "output_type": "display_data",
     "data": {
      "application/vnd.jupyter.widget-view+json": {
       "model_id": "07d07069da2544c7abdf51caedabaf74",
       "version_major": 2,
       "version_minor": 0
      },
      "text/plain": [
       "Checking TFRecords: 0it [00:00, ?it/s]"
      ]
     },
     "metadata": {},
     "output_type": "display_data"
    },
    {
     "output_type": "display_data",
     "data": {
      "application/vnd.jupyter.widget-view+json": {
       "model_id": "49c5d8c3445e4273987671ac060564c0",
       "version_major": 2,
       "version_minor": 0
      },
      "text/plain": [
       "Checking TFRecords: 0it [00:00, ?it/s]"
      ]
     },
     "metadata": {},
     "output_type": "display_data"
    },
    {
     "output_type": "display_data",
     "data": {
      "application/vnd.jupyter.widget-view+json": {
       "model_id": "3b3e5738a6354cae88e0a287fa8af726",
       "version_major": 2,
       "version_minor": 0
      },
      "text/plain": [
       "Checking TFRecords: 0it [00:00, ?it/s]"
      ]
     },
     "metadata": {},
     "output_type": "display_data"
    },
    {
     "output_type": "display_data",
     "data": {
      "application/vnd.jupyter.widget-view+json": {
       "model_id": "aeaf0010c9764a0b83b955c7f20a3198",
       "version_major": 2,
       "version_minor": 0
      },
      "text/plain": [
       "Checking TFRecords: 0it [00:00, ?it/s]"
      ]
     },
     "metadata": {},
     "output_type": "display_data"
    },
    {
     "output_type": "display_data",
     "data": {
      "application/vnd.jupyter.widget-view+json": {
       "model_id": "7b130a8887f5469d9fac07703baf1c19",
       "version_major": 2,
       "version_minor": 0
      },
      "text/plain": [
       "Checking TFRecords: 0it [00:00, ?it/s]"
      ]
     },
     "metadata": {},
     "output_type": "display_data"
    },
    {
     "output_type": "display_data",
     "data": {
      "application/vnd.jupyter.widget-view+json": {
       "model_id": "47f9e8bc7f1d4ff7a7193cf367305dc6",
       "version_major": 2,
       "version_minor": 0
      },
      "text/plain": [
       "Checking TFRecords: 0it [00:00, ?it/s]"
      ]
     },
     "metadata": {},
     "output_type": "display_data"
    },
    {
     "output_type": "display_data",
     "data": {
      "application/vnd.jupyter.widget-view+json": {
       "model_id": "ce7abe8d7ed24b2fa66341c90ba63e97",
       "version_major": 2,
       "version_minor": 0
      },
      "text/plain": [
       "Checking TFRecords: 0it [00:00, ?it/s]"
      ]
     },
     "metadata": {},
     "output_type": "display_data"
    },
    {
     "output_type": "display_data",
     "data": {
      "application/vnd.jupyter.widget-view+json": {
       "model_id": "0e56cf0c5d4e462bb3d11ff3a0c1318e",
       "version_major": 2,
       "version_minor": 0
      },
      "text/plain": [
       "Checking TFRecords: 0it [00:00, ?it/s]"
      ]
     },
     "metadata": {},
     "output_type": "display_data"
    },
    {
     "output_type": "display_data",
     "data": {
      "application/vnd.jupyter.widget-view+json": {
       "model_id": "3a896998d94544e88f0582000d7f4a4f",
       "version_major": 2,
       "version_minor": 0
      },
      "text/plain": [
       "Checking TFRecords: 0it [00:00, ?it/s]"
      ]
     },
     "metadata": {},
     "output_type": "display_data"
    },
    {
     "output_type": "display_data",
     "data": {
      "application/vnd.jupyter.widget-view+json": {
       "model_id": "e86d83ef605342febabfd36483218204",
       "version_major": 2,
       "version_minor": 0
      },
      "text/plain": [
       "Checking TFRecords: 0it [00:00, ?it/s]"
      ]
     },
     "metadata": {},
     "output_type": "display_data"
    },
    {
     "output_type": "display_data",
     "data": {
      "application/vnd.jupyter.widget-view+json": {
       "model_id": "a532780335ee441da896290b51ad0862",
       "version_major": 2,
       "version_minor": 0
      },
      "text/plain": [
       "Checking TFRecords: 0it [00:00, ?it/s]"
      ]
     },
     "metadata": {},
     "output_type": "display_data"
    },
    {
     "output_type": "display_data",
     "data": {
      "application/vnd.jupyter.widget-view+json": {
       "model_id": "a7be32e9624849e691cc1bd87e9b6a16",
       "version_major": 2,
       "version_minor": 0
      },
      "text/plain": [
       "Checking TFRecords: 0it [00:00, ?it/s]"
      ]
     },
     "metadata": {},
     "output_type": "display_data"
    },
    {
     "output_type": "display_data",
     "data": {
      "application/vnd.jupyter.widget-view+json": {
       "model_id": "109832a1853749849a3da10ded7c068e",
       "version_major": 2,
       "version_minor": 0
      },
      "text/plain": [
       "Checking TFRecords: 0it [00:00, ?it/s]"
      ]
     },
     "metadata": {},
     "output_type": "display_data"
    },
    {
     "output_type": "display_data",
     "data": {
      "application/vnd.jupyter.widget-view+json": {
       "model_id": "85b24b8d430a4f74827172d9a2d5eb92",
       "version_major": 2,
       "version_minor": 0
      },
      "text/plain": [
       "Checking TFRecords: 0it [00:00, ?it/s]"
      ]
     },
     "metadata": {},
     "output_type": "display_data"
    },
    {
     "output_type": "display_data",
     "data": {
      "application/vnd.jupyter.widget-view+json": {
       "model_id": "0b63a56badd0477fb55342cf769944ef",
       "version_major": 2,
       "version_minor": 0
      },
      "text/plain": [
       "Checking TFRecords: 0it [00:00, ?it/s]"
      ]
     },
     "metadata": {},
     "output_type": "display_data"
    },
    {
     "output_type": "display_data",
     "data": {
      "application/vnd.jupyter.widget-view+json": {
       "model_id": "1671188f2a3f4541b002b74de1574d4f",
       "version_major": 2,
       "version_minor": 0
      },
      "text/plain": [
       "Checking TFRecords: 0it [00:00, ?it/s]"
      ]
     },
     "metadata": {},
     "output_type": "display_data"
    },
    {
     "output_type": "display_data",
     "data": {
      "application/vnd.jupyter.widget-view+json": {
       "model_id": "3bd1174d15d8410aa07acbb79e601ea5",
       "version_major": 2,
       "version_minor": 0
      },
      "text/plain": [
       "Checking TFRecords: 0it [00:00, ?it/s]"
      ]
     },
     "metadata": {},
     "output_type": "display_data"
    },
    {
     "output_type": "display_data",
     "data": {
      "application/vnd.jupyter.widget-view+json": {
       "model_id": "b9fbb8a7a65e48189bdba1c9504e5170",
       "version_major": 2,
       "version_minor": 0
      },
      "text/plain": [
       "Checking TFRecords: 0it [00:00, ?it/s]"
      ]
     },
     "metadata": {},
     "output_type": "display_data"
    },
    {
     "output_type": "display_data",
     "data": {
      "application/vnd.jupyter.widget-view+json": {
       "model_id": "76db1d2c14dc43cf8670a08eed7cc296",
       "version_major": 2,
       "version_minor": 0
      },
      "text/plain": [
       "Checking TFRecords: 0it [00:00, ?it/s]"
      ]
     },
     "metadata": {},
     "output_type": "display_data"
    },
    {
     "output_type": "display_data",
     "data": {
      "application/vnd.jupyter.widget-view+json": {
       "model_id": "e1e371d871a5403d8105bcc88828af9e",
       "version_major": 2,
       "version_minor": 0
      },
      "text/plain": [
       "Checking TFRecords: 0it [00:00, ?it/s]"
      ]
     },
     "metadata": {},
     "output_type": "display_data"
    },
    {
     "output_type": "display_data",
     "data": {
      "application/vnd.jupyter.widget-view+json": {
       "model_id": "f904eec0e6c34e2b9d11bcce797762bf",
       "version_major": 2,
       "version_minor": 0
      },
      "text/plain": [
       "Checking TFRecords: 0it [00:00, ?it/s]"
      ]
     },
     "metadata": {},
     "output_type": "display_data"
    },
    {
     "output_type": "display_data",
     "data": {
      "application/vnd.jupyter.widget-view+json": {
       "model_id": "da9b55f09172466c9af2d5d72830bccb",
       "version_major": 2,
       "version_minor": 0
      },
      "text/plain": [
       "Checking TFRecords: 0it [00:00, ?it/s]"
      ]
     },
     "metadata": {},
     "output_type": "display_data"
    },
    {
     "output_type": "display_data",
     "data": {
      "application/vnd.jupyter.widget-view+json": {
       "model_id": "aaf467f3c0894ddca53493fd8d6d07f5",
       "version_major": 2,
       "version_minor": 0
      },
      "text/plain": [
       "Checking TFRecords: 0it [00:00, ?it/s]"
      ]
     },
     "metadata": {},
     "output_type": "display_data"
    },
    {
     "output_type": "display_data",
     "data": {
      "application/vnd.jupyter.widget-view+json": {
       "model_id": "9c037edbb5004283a9c37aa0e2642d7c",
       "version_major": 2,
       "version_minor": 0
      },
      "text/plain": [
       "Checking TFRecords: 0it [00:00, ?it/s]"
      ]
     },
     "metadata": {},
     "output_type": "display_data"
    },
    {
     "output_type": "display_data",
     "data": {
      "application/vnd.jupyter.widget-view+json": {
       "model_id": "81fa1c0a714c490dbc59d592e1fbf785",
       "version_major": 2,
       "version_minor": 0
      },
      "text/plain": [
       "Checking TFRecords: 0it [00:00, ?it/s]"
      ]
     },
     "metadata": {},
     "output_type": "display_data"
    },
    {
     "output_type": "display_data",
     "data": {
      "application/vnd.jupyter.widget-view+json": {
       "model_id": "5605e76042074a3591fc7a840c0bbed7",
       "version_major": 2,
       "version_minor": 0
      },
      "text/plain": [
       "Checking TFRecords: 0it [00:00, ?it/s]"
      ]
     },
     "metadata": {},
     "output_type": "display_data"
    },
    {
     "output_type": "display_data",
     "data": {
      "application/vnd.jupyter.widget-view+json": {
       "model_id": "0ebca3af403d475f9cea69265c478d87",
       "version_major": 2,
       "version_minor": 0
      },
      "text/plain": [
       "Checking TFRecords: 0it [00:00, ?it/s]"
      ]
     },
     "metadata": {},
     "output_type": "display_data"
    },
    {
     "output_type": "display_data",
     "data": {
      "application/vnd.jupyter.widget-view+json": {
       "model_id": "1a31f057850b49e68c294f8283141184",
       "version_major": 2,
       "version_minor": 0
      },
      "text/plain": [
       "Checking TFRecords: 0it [00:00, ?it/s]"
      ]
     },
     "metadata": {},
     "output_type": "display_data"
    },
    {
     "output_type": "display_data",
     "data": {
      "application/vnd.jupyter.widget-view+json": {
       "model_id": "88c7ea7ca1874670b856a8edb23e6e81",
       "version_major": 2,
       "version_minor": 0
      },
      "text/plain": [
       "Checking TFRecords: 0it [00:00, ?it/s]"
      ]
     },
     "metadata": {},
     "output_type": "display_data"
    },
    {
     "output_type": "display_data",
     "data": {
      "application/vnd.jupyter.widget-view+json": {
       "model_id": "3790eeba5e5241de9df499c9caf9da45",
       "version_major": 2,
       "version_minor": 0
      },
      "text/plain": [
       "Checking TFRecords: 0it [00:00, ?it/s]"
      ]
     },
     "metadata": {},
     "output_type": "display_data"
    },
    {
     "output_type": "display_data",
     "data": {
      "application/vnd.jupyter.widget-view+json": {
       "model_id": "7f50493cffff4d778b3a41e4b37d8a90",
       "version_major": 2,
       "version_minor": 0
      },
      "text/plain": [
       "Checking TFRecords: 0it [00:00, ?it/s]"
      ]
     },
     "metadata": {},
     "output_type": "display_data"
    },
    {
     "output_type": "display_data",
     "data": {
      "application/vnd.jupyter.widget-view+json": {
       "model_id": "d94f5d4cb80d458c8edbf22f5f5046cd",
       "version_major": 2,
       "version_minor": 0
      },
      "text/plain": [
       "Checking TFRecords: 0it [00:00, ?it/s]"
      ]
     },
     "metadata": {},
     "output_type": "display_data"
    },
    {
     "output_type": "display_data",
     "data": {
      "application/vnd.jupyter.widget-view+json": {
       "model_id": "1234942069094930bd15b012391eff9c",
       "version_major": 2,
       "version_minor": 0
      },
      "text/plain": [
       "Checking TFRecords: 0it [00:00, ?it/s]"
      ]
     },
     "metadata": {},
     "output_type": "display_data"
    },
    {
     "output_type": "display_data",
     "data": {
      "application/vnd.jupyter.widget-view+json": {
       "model_id": "7fbab607c6fb4122bf6232efabdceb72",
       "version_major": 2,
       "version_minor": 0
      },
      "text/plain": [
       "Checking TFRecords: 0it [00:00, ?it/s]"
      ]
     },
     "metadata": {},
     "output_type": "display_data"
    },
    {
     "output_type": "display_data",
     "data": {
      "application/vnd.jupyter.widget-view+json": {
       "model_id": "cca8b37bdd8c40fc8491b52df6f8cc13",
       "version_major": 2,
       "version_minor": 0
      },
      "text/plain": [
       "Checking TFRecords: 0it [00:00, ?it/s]"
      ]
     },
     "metadata": {},
     "output_type": "display_data"
    },
    {
     "output_type": "display_data",
     "data": {
      "application/vnd.jupyter.widget-view+json": {
       "model_id": "5664f54665da4389b45cec284902ccaf",
       "version_major": 2,
       "version_minor": 0
      },
      "text/plain": [
       "Checking TFRecords: 0it [00:00, ?it/s]"
      ]
     },
     "metadata": {},
     "output_type": "display_data"
    },
    {
     "output_type": "display_data",
     "data": {
      "application/vnd.jupyter.widget-view+json": {
       "model_id": "d68983b1835343ca801da6f7ac23f451",
       "version_major": 2,
       "version_minor": 0
      },
      "text/plain": [
       "Checking TFRecords: 0it [00:00, ?it/s]"
      ]
     },
     "metadata": {},
     "output_type": "display_data"
    },
    {
     "output_type": "display_data",
     "data": {
      "application/vnd.jupyter.widget-view+json": {
       "model_id": "ed00f2acda15452188e48a20f8517d2b",
       "version_major": 2,
       "version_minor": 0
      },
      "text/plain": [
       "Checking TFRecords: 0it [00:00, ?it/s]"
      ]
     },
     "metadata": {},
     "output_type": "display_data"
    },
    {
     "output_type": "display_data",
     "data": {
      "application/vnd.jupyter.widget-view+json": {
       "model_id": "bcab6adfaeb14be49fdd4588a269299e",
       "version_major": 2,
       "version_minor": 0
      },
      "text/plain": [
       "Checking TFRecords: 0it [00:00, ?it/s]"
      ]
     },
     "metadata": {},
     "output_type": "display_data"
    },
    {
     "output_type": "display_data",
     "data": {
      "application/vnd.jupyter.widget-view+json": {
       "model_id": "4bc1f5b4ed3949dea09069b51ae2d43c",
       "version_major": 2,
       "version_minor": 0
      },
      "text/plain": [
       "Checking TFRecords: 0it [00:00, ?it/s]"
      ]
     },
     "metadata": {},
     "output_type": "display_data"
    },
    {
     "output_type": "display_data",
     "data": {
      "application/vnd.jupyter.widget-view+json": {
       "model_id": "470896140d9b4ecdb5b985b1a2d8eedb",
       "version_major": 2,
       "version_minor": 0
      },
      "text/plain": [
       "Checking TFRecords: 0it [00:00, ?it/s]"
      ]
     },
     "metadata": {},
     "output_type": "display_data"
    },
    {
     "output_type": "display_data",
     "data": {
      "application/vnd.jupyter.widget-view+json": {
       "model_id": "d267ea9cb78249d688abf41fd6f76933",
       "version_major": 2,
       "version_minor": 0
      },
      "text/plain": [
       "Checking TFRecords: 0it [00:00, ?it/s]"
      ]
     },
     "metadata": {},
     "output_type": "display_data"
    },
    {
     "output_type": "display_data",
     "data": {
      "application/vnd.jupyter.widget-view+json": {
       "model_id": "3e27e1ece8e4461a93196d0a7549f7ab",
       "version_major": 2,
       "version_minor": 0
      },
      "text/plain": [
       "Checking TFRecords: 0it [00:00, ?it/s]"
      ]
     },
     "metadata": {},
     "output_type": "display_data"
    },
    {
     "output_type": "display_data",
     "data": {
      "application/vnd.jupyter.widget-view+json": {
       "model_id": "86d661f18f674db7a0d512f5a38b303f",
       "version_major": 2,
       "version_minor": 0
      },
      "text/plain": [
       "Checking TFRecords: 0it [00:00, ?it/s]"
      ]
     },
     "metadata": {},
     "output_type": "display_data"
    },
    {
     "output_type": "display_data",
     "data": {
      "application/vnd.jupyter.widget-view+json": {
       "model_id": "5d118e89bc6740dc82a0a045865ac0dc",
       "version_major": 2,
       "version_minor": 0
      },
      "text/plain": [
       "Checking TFRecords: 0it [00:00, ?it/s]"
      ]
     },
     "metadata": {},
     "output_type": "display_data"
    },
    {
     "output_type": "display_data",
     "data": {
      "application/vnd.jupyter.widget-view+json": {
       "model_id": "37e7528c8a544d54b821ad49072ca2b1",
       "version_major": 2,
       "version_minor": 0
      },
      "text/plain": [
       "Checking TFRecords: 0it [00:00, ?it/s]"
      ]
     },
     "metadata": {},
     "output_type": "display_data"
    },
    {
     "output_type": "display_data",
     "data": {
      "application/vnd.jupyter.widget-view+json": {
       "model_id": "c170962727ae46e2987e168d27a0b22b",
       "version_major": 2,
       "version_minor": 0
      },
      "text/plain": [
       "Checking TFRecords: 0it [00:00, ?it/s]"
      ]
     },
     "metadata": {},
     "output_type": "display_data"
    },
    {
     "output_type": "display_data",
     "data": {
      "application/vnd.jupyter.widget-view+json": {
       "model_id": "dfbf66015553411d90e4bdeb9fdd5dc9",
       "version_major": 2,
       "version_minor": 0
      },
      "text/plain": [
       "Checking TFRecords: 0it [00:00, ?it/s]"
      ]
     },
     "metadata": {},
     "output_type": "display_data"
    },
    {
     "output_type": "display_data",
     "data": {
      "application/vnd.jupyter.widget-view+json": {
       "model_id": "8209cbfaf1d645edbe77f8ad3bd8d868",
       "version_major": 2,
       "version_minor": 0
      },
      "text/plain": [
       "Checking TFRecords: 0it [00:00, ?it/s]"
      ]
     },
     "metadata": {},
     "output_type": "display_data"
    },
    {
     "output_type": "display_data",
     "data": {
      "application/vnd.jupyter.widget-view+json": {
       "model_id": "0aabbc1182bc40128a6e23e076a49577",
       "version_major": 2,
       "version_minor": 0
      },
      "text/plain": [
       "Checking TFRecords: 0it [00:00, ?it/s]"
      ]
     },
     "metadata": {},
     "output_type": "display_data"
    },
    {
     "output_type": "display_data",
     "data": {
      "application/vnd.jupyter.widget-view+json": {
       "model_id": "d1a4bf86ed2445aeacf3a6a8ec62993c",
       "version_major": 2,
       "version_minor": 0
      },
      "text/plain": [
       "Checking TFRecords: 0it [00:00, ?it/s]"
      ]
     },
     "metadata": {},
     "output_type": "display_data"
    },
    {
     "output_type": "display_data",
     "data": {
      "application/vnd.jupyter.widget-view+json": {
       "model_id": "5990eca2b65749d2a957d05f233097a0",
       "version_major": 2,
       "version_minor": 0
      },
      "text/plain": [
       "Checking TFRecords: 0it [00:00, ?it/s]"
      ]
     },
     "metadata": {},
     "output_type": "display_data"
    },
    {
     "output_type": "display_data",
     "data": {
      "application/vnd.jupyter.widget-view+json": {
       "model_id": "94941b4c71ff4d4e887fd496295567ef",
       "version_major": 2,
       "version_minor": 0
      },
      "text/plain": [
       "Checking TFRecords: 0it [00:00, ?it/s]"
      ]
     },
     "metadata": {},
     "output_type": "display_data"
    },
    {
     "output_type": "display_data",
     "data": {
      "application/vnd.jupyter.widget-view+json": {
       "model_id": "727eaa5babc440f89e8035e02d8841e8",
       "version_major": 2,
       "version_minor": 0
      },
      "text/plain": [
       "Checking TFRecords: 0it [00:00, ?it/s]"
      ]
     },
     "metadata": {},
     "output_type": "display_data"
    },
    {
     "output_type": "display_data",
     "data": {
      "application/vnd.jupyter.widget-view+json": {
       "model_id": "bd95f0eaf82b4b15a95d111fa2b79300",
       "version_major": 2,
       "version_minor": 0
      },
      "text/plain": [
       "Checking TFRecords: 0it [00:00, ?it/s]"
      ]
     },
     "metadata": {},
     "output_type": "display_data"
    },
    {
     "output_type": "display_data",
     "data": {
      "application/vnd.jupyter.widget-view+json": {
       "model_id": "f43100990a3a4b99a1d556cd0ec04a39",
       "version_major": 2,
       "version_minor": 0
      },
      "text/plain": [
       "Checking TFRecords: 0it [00:00, ?it/s]"
      ]
     },
     "metadata": {},
     "output_type": "display_data"
    },
    {
     "output_type": "display_data",
     "data": {
      "application/vnd.jupyter.widget-view+json": {
       "model_id": "1f427f2fc33448298d87856ff7ab7fbb",
       "version_major": 2,
       "version_minor": 0
      },
      "text/plain": [
       "Checking TFRecords: 0it [00:00, ?it/s]"
      ]
     },
     "metadata": {},
     "output_type": "display_data"
    },
    {
     "output_type": "display_data",
     "data": {
      "application/vnd.jupyter.widget-view+json": {
       "model_id": "266e5728fa0a4c34af0868af85fedbe6",
       "version_major": 2,
       "version_minor": 0
      },
      "text/plain": [
       "Checking TFRecords: 0it [00:00, ?it/s]"
      ]
     },
     "metadata": {},
     "output_type": "display_data"
    },
    {
     "output_type": "display_data",
     "data": {
      "application/vnd.jupyter.widget-view+json": {
       "model_id": "5bd20a9c472d454bbfc1f27292cf9c15",
       "version_major": 2,
       "version_minor": 0
      },
      "text/plain": [
       "Checking TFRecords: 0it [00:00, ?it/s]"
      ]
     },
     "metadata": {},
     "output_type": "display_data"
    },
    {
     "output_type": "display_data",
     "data": {
      "application/vnd.jupyter.widget-view+json": {
       "model_id": "b3dc3afd385e46cb9250b6b0a8cca444",
       "version_major": 2,
       "version_minor": 0
      },
      "text/plain": [
       "Checking TFRecords: 0it [00:00, ?it/s]"
      ]
     },
     "metadata": {},
     "output_type": "display_data"
    },
    {
     "output_type": "display_data",
     "data": {
      "application/vnd.jupyter.widget-view+json": {
       "model_id": "171dff0d5788416ba38874ff8070adde",
       "version_major": 2,
       "version_minor": 0
      },
      "text/plain": [
       "Checking TFRecords: 0it [00:00, ?it/s]"
      ]
     },
     "metadata": {},
     "output_type": "display_data"
    },
    {
     "output_type": "display_data",
     "data": {
      "application/vnd.jupyter.widget-view+json": {
       "model_id": "4dddca7818f54c8fa77dea3be983ec34",
       "version_major": 2,
       "version_minor": 0
      },
      "text/plain": [
       "Checking TFRecords: 0it [00:00, ?it/s]"
      ]
     },
     "metadata": {},
     "output_type": "display_data"
    },
    {
     "output_type": "display_data",
     "data": {
      "application/vnd.jupyter.widget-view+json": {
       "model_id": "23ed7cd98a93434ca04edb46af4cda6d",
       "version_major": 2,
       "version_minor": 0
      },
      "text/plain": [
       "Checking TFRecords: 0it [00:00, ?it/s]"
      ]
     },
     "metadata": {},
     "output_type": "display_data"
    },
    {
     "output_type": "display_data",
     "data": {
      "application/vnd.jupyter.widget-view+json": {
       "model_id": "5d568b6afb8e45d5a7e534a376674c82",
       "version_major": 2,
       "version_minor": 0
      },
      "text/plain": [
       "Checking TFRecords: 0it [00:00, ?it/s]"
      ]
     },
     "metadata": {},
     "output_type": "display_data"
    },
    {
     "output_type": "display_data",
     "data": {
      "application/vnd.jupyter.widget-view+json": {
       "model_id": "6038c0b281d64a1481d84f391fe0f5ec",
       "version_major": 2,
       "version_minor": 0
      },
      "text/plain": [
       "Checking TFRecords: 0it [00:00, ?it/s]"
      ]
     },
     "metadata": {},
     "output_type": "display_data"
    },
    {
     "output_type": "display_data",
     "data": {
      "application/vnd.jupyter.widget-view+json": {
       "model_id": "cc8c11a956ee413589daed4103e095a3",
       "version_major": 2,
       "version_minor": 0
      },
      "text/plain": [
       "Checking TFRecords:   0%|          | 0/106 [00:00<?, ?it/s]"
      ]
     },
     "metadata": {},
     "output_type": "display_data"
    },
    {
     "output_type": "display_data",
     "data": {
      "application/vnd.jupyter.widget-view+json": {
       "model_id": "9bcee2d0b9bd4c2e802be647eb78bbde",
       "version_major": 2,
       "version_minor": 0
      },
      "text/plain": [
       "Checking TFRecords:   0%|          | 0/101 [00:00<?, ?it/s]"
      ]
     },
     "metadata": {},
     "output_type": "display_data"
    },
    {
     "output_type": "display_data",
     "data": {
      "application/vnd.jupyter.widget-view+json": {
       "model_id": "8e87f7bba41f4415a72ea54708ad0304",
       "version_major": 2,
       "version_minor": 0
      },
      "text/plain": [
       "Checking TFRecords:   0%|          | 0/219 [00:00<?, ?it/s]"
      ]
     },
     "metadata": {},
     "output_type": "display_data"
    },
    {
     "output_type": "display_data",
     "data": {
      "application/vnd.jupyter.widget-view+json": {
       "model_id": "9f0d00dc6a0943edb0ddce2a22798131",
       "version_major": 2,
       "version_minor": 0
      },
      "text/plain": [
       "Checking TFRecords:   0%|          | 0/174 [00:00<?, ?it/s]"
      ]
     },
     "metadata": {},
     "output_type": "display_data"
    },
    {
     "output_type": "display_data",
     "data": {
      "application/vnd.jupyter.widget-view+json": {
       "model_id": "08795546b56d4617806c209acd7bbc00",
       "version_major": 2,
       "version_minor": 0
      },
      "text/plain": [
       "Checking TFRecords:   0%|          | 0/400 [00:00<?, ?it/s]"
      ]
     },
     "metadata": {},
     "output_type": "display_data"
    },
    {
     "output_type": "stream",
     "name": "stdout",
     "output_type": "stream",
     "text": [
      "None\nTotal time taken: 3723.77 seconds (62.06 minutes)\n"
     ]
    }
   ],
   "source": [
    "start_time = time.time()\n",
    "\n",
    "#os.makedirs(processed_dir, exist_ok=True)\n",
    "\n",
    "bands_missing_paths = process_dataset(\n",
    "    csv_path=csv_path,\n",
    "    input_dir=input_dir,\n",
    "    processed_dir=processed_dir\n",
    ")\n",
    "\n",
    "print(bands_missing_paths)\n",
    "\n",
    "\n",
    "end_time = time.time()\n",
    "elapsed_time = end_time - start_time\n",
    "\n",
    "print(f\"Total time taken: {elapsed_time:.2f} seconds ({elapsed_time/60:.2f} minutes)\")"
   ]
  }
 ],
 "metadata": {
  "application/vnd.databricks.v1+notebook": {
   "computePreferences": null,
   "dashboards": [],
   "environmentMetadata": {
    "base_environment": "",
    "environment_version": "2"
   },
   "inputWidgetPreferences": null,
   "language": "python",
   "notebookMetadata": {
    "pythonIndentUnit": 4
   },
   "notebookName": "1_process_tfrecords.ipynb",
   "widgets": {}
  },
  "language_info": {
   "name": "python"
  }
 },
 "nbformat": 4,
 "nbformat_minor": 0
}