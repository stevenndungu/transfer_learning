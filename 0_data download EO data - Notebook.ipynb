{
 "cells": [
  {
   "cell_type": "markdown",
   "metadata": {
    "application/vnd.databricks.v1+cell": {
     "cellMetadata": {
      "byteLimit": 2048000,
      "rowLimit": 10000
     },
     "inputWidgets": {},
     "nuid": "30acbd2a-b8d8-47d5-8722-6ff6320d60f4",
     "showTitle": false,
     "tableResultSettingsMap": {},
     "title": ""
    }
   },
   "source": [
    "# Satellite Imagery Data download Guide"
   ]
  },
  {
   "cell_type": "markdown",
   "metadata": {
    "application/vnd.databricks.v1+cell": {
     "cellMetadata": {
      "byteLimit": 2048000,
      "rowLimit": 10000
     },
     "inputWidgets": {},
     "nuid": "8a57e668-f40a-4d29-a49d-e74ad31f0e56",
     "showTitle": false,
     "tableResultSettingsMap": {},
     "title": ""
    }
   },
   "source": [
    "<h1>Table of Contents<span class=\"tocSkip\"></span></h1>\n",
    "<div class=\"toc\">\n",
    "<ul class=\"toc-item\">\n",
    "<li><span><a href=\"#Pre-requisites\" data-toc-modified-id=\"Pre-requisites-1\"><span class=\"toc-item-num\">1&nbsp;&nbsp;</span>Pre-requisites</a></span></li>\n",
    "<li><span><a href=\"#Instructions\" data-toc-modified-id=\"Instructions-2\"><span class=\"toc-item-num\">2&nbsp;&nbsp;</span>Instructions</a></span></li>\n",
    "<li><span><a href=\"#Imports-and-Constants\" data-toc-modified-id=\"Imports-and-Constants-3\"><span class=\"toc-item-num\">3&nbsp;&nbsp;</span>Imports and Constants</a></span></li>\n",
    "<li><span><a href=\"#Constants\" data-toc-modified-id=\"Constants-4\"><span class=\"toc-item-num\">4&nbsp;&nbsp;</span>Constants</a></span></li>\n",
    "<li><span><a href=\"#Export-Images\" data-toc-modified-id=\"Export-Images-5\"><span class=\"toc-item-num\">5&nbsp;&nbsp;</span>Export Images</a></span></li>\n",
    "<li><span><a href=\"#Visualize-an-exported-image\" data-toc-modified-id=\"Visualize-an-exported-image-6\"><span class=\"toc-item-num\">6&nbsp;&nbsp;</span>Visualize an exported image</a></span></li>\n",
    "</ul>\n",
    "</div>"
   ]
  },
  {
   "cell_type": "code",
   "execution_count": 0,
   "metadata": {
    "application/vnd.databricks.v1+cell": {
     "cellMetadata": {
      "byteLimit": 2048000,
      "rowLimit": 10000
     },
     "inputWidgets": {},
     "nuid": "3072a2d2-1270-4212-b0ac-3a7b33897225",
     "showTitle": true,
     "tableResultSettingsMap": {},
     "title": "Install relevant python modules"
    }
   },
   "outputs": [],
   "source": [
    "!pip install --upgrade pip -qq\n",
    "!pip install earthengine-api --upgrade -qq\n",
    "!pip install geemap -qq\n",
    "!pip install google-cloud-storage --quiet\n",
    "!pip install tqdm -qq\n",
    "!pip install gsutil -qq\n",
    "!pip install gcloud -qq"
   ]
  },
  {
   "cell_type": "markdown",
   "metadata": {
    "application/vnd.databricks.v1+cell": {
     "cellMetadata": {
      "byteLimit": 2048000,
      "rowLimit": 10000
     },
     "inputWidgets": {},
     "nuid": "1942e7a8-d795-4dd2-8c8a-8718cf77d2c8",
     "showTitle": false,
     "tableResultSettingsMap": {},
     "title": ""
    }
   },
   "source": [
    "\n",
    "## Imports and Constants"
   ]
  },
  {
   "cell_type": "code",
   "execution_count": 0,
   "metadata": {
    "application/vnd.databricks.v1+cell": {
     "cellMetadata": {
      "byteLimit": 2048000,
      "rowLimit": 10000
     },
     "inputWidgets": {},
     "nuid": "d7bc3c04-25a5-4819-8184-acfb5b2d5d0e",
     "showTitle": true,
     "tableResultSettingsMap": {},
     "title": "Load relevant modules"
    }
   },
   "outputs": [
    {
     "output_type": "stream",
     "name": "stdout",
     "output_type": "stream",
     "text": [
      "Earth Engine authenticated!\n"
     ]
    }
   ],
   "source": [
    "#================================================================================#\n",
    "#================================================================================#\n",
    "import tensorflow as tf\n",
    "import matplotlib.pyplot as plt\n",
    "import numpy as np\n",
    "import pandas as pd\n",
    "import time\n",
    "from tqdm import tqdm\n",
    "from typing import Any, Dict, Optional, Tuple\n",
    "from google.cloud import storage\n",
    "import gzip, shutil, os, pathlib, math, ee, geemap\n",
    "os.chdir('/dbfs/mnt/raw/DataScientistSDSData/TLSED_test/')\n",
    "import ee_utils\n",
    "from gcloud import storage\n",
    "#print(os.getcwd())\n",
    "\n",
    "#================================================================================#\n",
    "# ========== ADAPT THESE PARAMETERS ==========\n",
    "#================================================================================#\n",
    "\n",
    "\n",
    "# To export to Google Cloud Storage (GCS)\n",
    "EXPORT = 'gcs'\n",
    "BUCKET = 'dhs_tfrecords_raw_v2'\n",
    "PREFIX = \"dhs_tfrecords_raw_v2/\"\n",
    "DHS_EXPORT_FOLDER = 'dhs_tfrecords_raw_v2' # export location parameters\n",
    "# To export from GCS to Azure Data Lake\n",
    "DEST_DIR = \"/dbfs/mnt/raw/DataScientistSDSData/TLSED_test/raw\"\n",
    "\n",
    "# input data paths\n",
    "DHS_CSV_PATH = '/dbfs/mnt/raw/DataScientistSDSData/TLSED/dhs_clusters.csv'\n",
    "# band names\n",
    "MS_BANDS = ['BLUE', 'GREEN', 'RED', 'NIR', 'SWIR1', 'SWIR2', 'TEMP1']\n",
    "\n",
    "# image export parameters\n",
    "PROJECTION = 'EPSG:3857'  # see https://epsg.io/3857\n",
    "SCALE = 30                # export resolution: 30m/px\n",
    "EXPORT_TILE_RADIUS = 127  # image dimension = (2*EXPORT_TILE_RADIUS) + 1 = 255px\n",
    "CHUNK_SIZE = 1         # set to a small number (<= 50) if Google Earth Engine reports memory errors\n",
    "\n",
    "#================================================================================\n",
    "#================================================================================\n",
    "#\n",
    "# https://medium.com/@yvanjaquino/earth-engine-authentication-in-google-cloud-python-edition-6df832874f62\n",
    "# Google Cloud console: https://console.cloud.google.com/welcome?project=ee-margheritaleonelli\n",
    "# I created a default Earth Engine project and a service account for that (ee-transfer-learning@rare-deployment-461721-a2.iam.gserviceaccount.com)\n",
    "# in order to authenticate in non-interactive way\n",
    "\n",
    "service_account = 'ee-transfer-learning@rare-deployment-461721-a2.iam.gserviceaccount.com'\n",
    "credentials = ee.ServiceAccountCredentials(service_account, '/dbfs/mnt/raw/DataScientistSDSData/transfer_learning_rare-deployment-461721-a2-0ba3a6ab5a71.json')\n",
    "\n",
    "ee.Initialize(credentials)\n",
    "print('Earth Engine authenticated!')"
   ]
  },
  {
   "cell_type": "code",
   "execution_count": 0,
   "metadata": {
    "application/vnd.databricks.v1+cell": {
     "cellMetadata": {
      "byteLimit": 2048000,
      "rowLimit": 10000
     },
     "inputWidgets": {},
     "nuid": "80d3b4dd-e7ee-4bc9-bf35-c34c8e072c7d",
     "showTitle": true,
     "tableResultSettingsMap": {},
     "title": "Export Images"
    }
   },
   "outputs": [
    {
     "output_type": "display_data",
     "data": {
      "text/html": [
       "\n",
       "            <style>\n",
       "                .geemap-dark {\n",
       "                    --jp-widgets-color: white;\n",
       "                    --jp-widgets-label-color: white;\n",
       "                    --jp-ui-font-color1: white;\n",
       "                    --jp-layout-color2: #454545;\n",
       "                    background-color: #383838;\n",
       "                }\n",
       "\n",
       "                .geemap-dark .jupyter-button {\n",
       "                    --jp-layout-color3: #383838;\n",
       "                }\n",
       "\n",
       "                .geemap-colab {\n",
       "                    background-color: var(--colab-primary-surface-color, white);\n",
       "                }\n",
       "\n",
       "                .geemap-colab .jupyter-button {\n",
       "                    --jp-layout-color3: var(--colab-primary-surface-color, white);\n",
       "                }\n",
       "            </style>\n",
       "            "
      ],
      "text/plain": [
       "<IPython.core.display.HTML object>"
      ]
     },
     "metadata": {},
     "output_type": "display_data"
    }
   ],
   "source": [
    "def export_images(\n",
    "        df: pd.DataFrame,\n",
    "        country: str,\n",
    "        year: int,\n",
    "        export_folder: str,\n",
    "        chunk_size: Optional[int] = None,\n",
    "        ) -> Dict[Tuple[Any], ee.batch.Task]:\n",
    "    '''\n",
    "    Args\n",
    "    - df: pd.DataFrame, contains columns ['lat', 'lon', 'country', 'year']\n",
    "    - country: str, together with `year` determines the survey to export\n",
    "    - year: int, together with `country` determines the survey to export\n",
    "    - export_folder: str, name of folder for export\n",
    "    - chunk_size: int, optionally set a limit to the # of images exported per TFRecord file\n",
    "        - set to a small number (<= 50) if Google Earth Engine reports memory errors\n",
    "\n",
    "    Returns: dict, maps task name tuple (export_folder, country, year, chunk) to ee.batch.Task\n",
    "    '''\n",
    "    subset_df = df[(df['country'] == country) & (df['year'] == year)].reset_index(drop=True)\n",
    "    if chunk_size is None:\n",
    "        num_chunks = 1\n",
    "    else:\n",
    "        num_chunks = int(math.ceil(len(subset_df) / chunk_size))\n",
    "    tasks = {}\n",
    "\n",
    "    for i in range(num_chunks):\n",
    "        chunk_slice = slice(i * chunk_size, (i+1) * chunk_size - 1)  # df.loc[] is inclusive\n",
    "        fc = ee_utils.df_to_fc(subset_df.loc[chunk_slice, :])\n",
    "        \n",
    "        try:\n",
    "            start_date, end_date = ee_utils.surveyyear_to_range(year, nl=True)\n",
    "        except ValueError as e:\n",
    "            print(f\"Skipping {country}, {year}: {e}\")\n",
    "            continue\n",
    "        #start_date, end_date = ee_utils.surveyyear_to_range(year)\n",
    "\n",
    "        # create 3-year Landsat composite image\n",
    "        roi = fc.geometry()\n",
    "        imgcol = ee_utils.LandsatSR(roi, start_date=start_date, end_date=end_date).merged\n",
    "        imgcol = imgcol.map(ee_utils.mask_qaclear).select(MS_BANDS)\n",
    "        img = imgcol.median()\n",
    "\n",
    "        # add nightlights, latitude, and longitude bands\n",
    "        img = ee_utils.add_latlon(img)\n",
    "        img = img.addBands(ee_utils.composite_nl(year))\n",
    "\n",
    "        fname = f'{country}_{year}_{i:02d}'\n",
    "        tasks[(export_folder, country, year, i)] = ee_utils.get_array_patches(\n",
    "            img=img, scale=SCALE, \n",
    "            ksize=EXPORT_TILE_RADIUS,\n",
    "            points=fc, \n",
    "            export=EXPORT,\n",
    "            prefix=export_folder, \n",
    "            fname=fname,\n",
    "            bucket=BUCKET)\n",
    "    return tasks"
   ]
  },
  {
   "cell_type": "code",
   "execution_count": 0,
   "metadata": {
    "application/vnd.databricks.v1+cell": {
     "cellMetadata": {
      "byteLimit": 2048000,
      "rowLimit": 10000
     },
     "inputWidgets": {},
     "nuid": "f945b7ae-4735-49c4-b9d1-36c4c2175894",
     "showTitle": true,
     "tableResultSettingsMap": {},
     "title": "Prepare DHS data"
    }
   },
   "outputs": [
    {
     "output_type": "display_data",
     "data": {
      "text/html": [
       "\n",
       "            <style>\n",
       "                .geemap-dark {\n",
       "                    --jp-widgets-color: white;\n",
       "                    --jp-widgets-label-color: white;\n",
       "                    --jp-ui-font-color1: white;\n",
       "                    --jp-layout-color2: #454545;\n",
       "                    background-color: #383838;\n",
       "                }\n",
       "\n",
       "                .geemap-dark .jupyter-button {\n",
       "                    --jp-layout-color3: #383838;\n",
       "                }\n",
       "\n",
       "                .geemap-colab {\n",
       "                    background-color: var(--colab-primary-surface-color, white);\n",
       "                }\n",
       "\n",
       "                .geemap-colab .jupyter-button {\n",
       "                    --jp-layout-color3: var(--colab-primary-surface-color, white);\n",
       "                }\n",
       "            </style>\n",
       "            "
      ],
      "text/plain": [
       "<IPython.core.display.HTML object>"
      ]
     },
     "metadata": {},
     "output_type": "display_data"
    },
    {
     "output_type": "stream",
     "name": "stdout",
     "output_type": "stream",
     "text": [
      "Starting export for angola, 2006...\nWaiting on export tasks for angola, 2006...\n"
     ]
    },
    {
     "output_type": "display_data",
     "data": {
      "application/vnd.jupyter.widget-view+json": {
       "model_id": "0bded70660be4bcfa8ca1197e052f338",
       "version_major": 2,
       "version_minor": 0
      },
      "text/plain": [
       "  0%|          | 0/62 [00:00<?, ?it/s]"
      ]
     },
     "metadata": {},
     "output_type": "display_data"
    },
    {
     "output_type": "stream",
     "name": "stdout",
     "output_type": "stream",
     "text": [
      "Task ('dhs_tfrecords_raw_v2', 'angola', 2006, 0) finished in 0 min with state: COMPLETED\nTask ('dhs_tfrecords_raw_v2', 'angola', 2006, 1) finished in 0 min with state: COMPLETED\nTask ('dhs_tfrecords_raw_v2', 'angola', 2006, 2) finished in 0 min with state: COMPLETED\nTask ('dhs_tfrecords_raw_v2', 'angola', 2006, 3) finished in 0 min with state: COMPLETED\nTask ('dhs_tfrecords_raw_v2', 'angola', 2006, 4) finished in 0 min with state: COMPLETED\nTask ('dhs_tfrecords_raw_v2', 'angola', 2006, 5) finished in 0 min with state: COMPLETED\nTask ('dhs_tfrecords_raw_v2', 'angola', 2006, 6) finished in 0 min with state: COMPLETED\nTask ('dhs_tfrecords_raw_v2', 'angola', 2006, 7) finished in 0 min with state: COMPLETED\nTask ('dhs_tfrecords_raw_v2', 'angola', 2006, 8) finished in 0 min with state: COMPLETED\nTask ('dhs_tfrecords_raw_v2', 'angola', 2006, 9) finished in 0 min with state: COMPLETED\nTask ('dhs_tfrecords_raw_v2', 'angola', 2006, 10) finished in 0 min with state: COMPLETED\nTask ('dhs_tfrecords_raw_v2', 'angola', 2006, 11) finished in 0 min with state: COMPLETED\nTask ('dhs_tfrecords_raw_v2', 'angola', 2006, 12) finished in 0 min with state: COMPLETED\nTask ('dhs_tfrecords_raw_v2', 'angola', 2006, 13) finished in 0 min with state: COMPLETED\nTask ('dhs_tfrecords_raw_v2', 'angola', 2006, 14) finished in 0 min with state: COMPLETED\nTask ('dhs_tfrecords_raw_v2', 'angola', 2006, 15) finished in 0 min with state: COMPLETED\nTask ('dhs_tfrecords_raw_v2', 'angola', 2006, 16) finished in 0 min with state: COMPLETED\nTask ('dhs_tfrecords_raw_v2', 'angola', 2006, 17) finished in 0 min with state: COMPLETED\nTask ('dhs_tfrecords_raw_v2', 'angola', 2006, 18) finished in 0 min with state: COMPLETED\nTask ('dhs_tfrecords_raw_v2', 'angola', 2006, 19) finished in 0 min with state: COMPLETED\nTask ('dhs_tfrecords_raw_v2', 'angola', 2006, 20) finished in 0 min with state: COMPLETED\nTask ('dhs_tfrecords_raw_v2', 'angola', 2006, 21) finished in 0 min with state: COMPLETED\nTask ('dhs_tfrecords_raw_v2', 'angola', 2006, 22) finished in 0 min with state: COMPLETED\nTask ('dhs_tfrecords_raw_v2', 'angola', 2006, 25) finished in 0 min with state: COMPLETED\nTask ('dhs_tfrecords_raw_v2', 'angola', 2006, 26) finished in 0 min with state: COMPLETED\nTask ('dhs_tfrecords_raw_v2', 'angola', 2006, 27) finished in 0 min with state: COMPLETED\nTask ('dhs_tfrecords_raw_v2', 'angola', 2006, 28) finished in 0 min with state: COMPLETED\nTask ('dhs_tfrecords_raw_v2', 'angola', 2006, 29) finished in 0 min with state: COMPLETED\nTask ('dhs_tfrecords_raw_v2', 'angola', 2006, 30) finished in 0 min with state: COMPLETED\nTask ('dhs_tfrecords_raw_v2', 'angola', 2006, 31) finished in 0 min with state: COMPLETED\nTask ('dhs_tfrecords_raw_v2', 'angola', 2006, 32) finished in 0 min with state: COMPLETED\nTask ('dhs_tfrecords_raw_v2', 'angola', 2006, 39) finished in 0 min with state: COMPLETED\nTask ('dhs_tfrecords_raw_v2', 'angola', 2006, 23) finished in 0 min with state: COMPLETED\nTask ('dhs_tfrecords_raw_v2', 'angola', 2006, 24) finished in 0 min with state: COMPLETED\nTask ('dhs_tfrecords_raw_v2', 'angola', 2006, 33) finished in 0 min with state: COMPLETED\nTask ('dhs_tfrecords_raw_v2', 'angola', 2006, 34) finished in 0 min with state: COMPLETED\nTask ('dhs_tfrecords_raw_v2', 'angola', 2006, 35) finished in 0 min with state: COMPLETED\nTask ('dhs_tfrecords_raw_v2', 'angola', 2006, 36) finished in 0 min with state: COMPLETED\nTask ('dhs_tfrecords_raw_v2', 'angola', 2006, 37) finished in 0 min with state: COMPLETED\nTask ('dhs_tfrecords_raw_v2', 'angola', 2006, 38) finished in 0 min with state: COMPLETED\nTask ('dhs_tfrecords_raw_v2', 'angola', 2006, 40) finished in 0 min with state: COMPLETED\nTask ('dhs_tfrecords_raw_v2', 'angola', 2006, 41) finished in 0 min with state: COMPLETED\nTask ('dhs_tfrecords_raw_v2', 'angola', 2006, 42) finished in 0 min with state: COMPLETED\nTask ('dhs_tfrecords_raw_v2', 'angola', 2006, 43) finished in 0 min with state: COMPLETED\nTask ('dhs_tfrecords_raw_v2', 'angola', 2006, 44) finished in 0 min with state: COMPLETED\nTask ('dhs_tfrecords_raw_v2', 'angola', 2006, 45) finished in 0 min with state: COMPLETED\nTask ('dhs_tfrecords_raw_v2', 'angola', 2006, 46) finished in 0 min with state: COMPLETED\nTask ('dhs_tfrecords_raw_v2', 'angola', 2006, 47) finished in 0 min with state: COMPLETED\nTask ('dhs_tfrecords_raw_v2', 'angola', 2006, 48) finished in 0 min with state: COMPLETED\nTask ('dhs_tfrecords_raw_v2', 'angola', 2006, 49) finished in 0 min with state: COMPLETED\nTask ('dhs_tfrecords_raw_v2', 'angola', 2006, 50) finished in 0 min with state: COMPLETED\nTask ('dhs_tfrecords_raw_v2', 'angola', 2006, 51) finished in 0 min with state: COMPLETED\nTask ('dhs_tfrecords_raw_v2', 'angola', 2006, 52) finished in 0 min with state: COMPLETED\nTask ('dhs_tfrecords_raw_v2', 'angola', 2006, 53) finished in 0 min with state: COMPLETED\nTask ('dhs_tfrecords_raw_v2', 'angola', 2006, 54) finished in 0 min with state: COMPLETED\nTask ('dhs_tfrecords_raw_v2', 'angola', 2006, 55) finished in 0 min with state: COMPLETED\nTask ('dhs_tfrecords_raw_v2', 'angola', 2006, 56) finished in 0 min with state: COMPLETED\nTask ('dhs_tfrecords_raw_v2', 'angola', 2006, 57) finished in 0 min with state: COMPLETED\nTask ('dhs_tfrecords_raw_v2', 'angola', 2006, 58) finished in 0 min with state: COMPLETED\nTask ('dhs_tfrecords_raw_v2', 'angola', 2006, 59) finished in 0 min with state: COMPLETED\nTask ('dhs_tfrecords_raw_v2', 'angola', 2006, 60) finished in 0 min with state: COMPLETED\nTask ('dhs_tfrecords_raw_v2', 'angola', 2006, 61) finished in 0 min with state: COMPLETED\nFinished export for angola, 2006.\nStarting export for angola, 2007...\nWaiting on export tasks for angola, 2007...\n"
     ]
    },
    {
     "output_type": "display_data",
     "data": {
      "application/vnd.jupyter.widget-view+json": {
       "model_id": "06ac5e33f2c74cb2917fcd62fea7e7bb",
       "version_major": 2,
       "version_minor": 0
      },
      "text/plain": [
       "  0%|          | 0/53 [00:00<?, ?it/s]"
      ]
     },
     "metadata": {},
     "output_type": "display_data"
    },
    {
     "output_type": "stream",
     "name": "stdout",
     "output_type": "stream",
     "text": [
      "Task ('dhs_tfrecords_raw_v2', 'angola', 2007, 0) finished in 0 min with state: COMPLETED\nTask ('dhs_tfrecords_raw_v2', 'angola', 2007, 1) finished in 0 min with state: COMPLETED\nTask ('dhs_tfrecords_raw_v2', 'angola', 2007, 2) finished in 0 min with state: COMPLETED\nTask ('dhs_tfrecords_raw_v2', 'angola', 2007, 3) finished in 0 min with state: COMPLETED\nTask ('dhs_tfrecords_raw_v2', 'angola', 2007, 4) finished in 0 min with state: COMPLETED\nTask ('dhs_tfrecords_raw_v2', 'angola', 2007, 5) finished in 0 min with state: COMPLETED\nTask ('dhs_tfrecords_raw_v2', 'angola', 2007, 6) finished in 0 min with state: COMPLETED\nTask ('dhs_tfrecords_raw_v2', 'angola', 2007, 8) finished in 0 min with state: COMPLETED\nTask ('dhs_tfrecords_raw_v2', 'angola', 2007, 9) finished in 0 min with state: COMPLETED\nTask ('dhs_tfrecords_raw_v2', 'angola', 2007, 10) finished in 0 min with state: COMPLETED\nTask ('dhs_tfrecords_raw_v2', 'angola', 2007, 11) finished in 0 min with state: COMPLETED\nTask ('dhs_tfrecords_raw_v2', 'angola', 2007, 12) finished in 0 min with state: COMPLETED\nTask ('dhs_tfrecords_raw_v2', 'angola', 2007, 13) finished in 0 min with state: COMPLETED\nTask ('dhs_tfrecords_raw_v2', 'angola', 2007, 14) finished in 0 min with state: COMPLETED\nTask ('dhs_tfrecords_raw_v2', 'angola', 2007, 15) finished in 0 min with state: COMPLETED\nTask ('dhs_tfrecords_raw_v2', 'angola', 2007, 16) finished in 0 min with state: COMPLETED\nTask ('dhs_tfrecords_raw_v2', 'angola', 2007, 17) finished in 0 min with state: COMPLETED\nTask ('dhs_tfrecords_raw_v2', 'angola', 2007, 18) finished in 0 min with state: COMPLETED\nTask ('dhs_tfrecords_raw_v2', 'angola', 2007, 19) finished in 0 min with state: COMPLETED\nTask ('dhs_tfrecords_raw_v2', 'angola', 2007, 20) finished in 0 min with state: COMPLETED\nTask ('dhs_tfrecords_raw_v2', 'angola', 2007, 21) finished in 0 min with state: COMPLETED\nTask ('dhs_tfrecords_raw_v2', 'angola', 2007, 22) finished in 0 min with state: COMPLETED\nTask ('dhs_tfrecords_raw_v2', 'angola', 2007, 23) finished in 0 min with state: COMPLETED\nTask ('dhs_tfrecords_raw_v2', 'angola', 2007, 7) finished in 0 min with state: COMPLETED\nTask ('dhs_tfrecords_raw_v2', 'angola', 2007, 24) finished in 0 min with state: COMPLETED\nTask ('dhs_tfrecords_raw_v2', 'angola', 2007, 25) finished in 0 min with state: COMPLETED\nTask ('dhs_tfrecords_raw_v2', 'angola', 2007, 26) finished in 0 min with state: COMPLETED\nTask ('dhs_tfrecords_raw_v2', 'angola', 2007, 27) finished in 0 min with state: COMPLETED\nTask ('dhs_tfrecords_raw_v2', 'angola', 2007, 28) finished in 0 min with state: COMPLETED\nTask ('dhs_tfrecords_raw_v2', 'angola', 2007, 29) finished in 0 min with state: COMPLETED\nTask ('dhs_tfrecords_raw_v2', 'angola', 2007, 30) finished in 0 min with state: COMPLETED\nTask ('dhs_tfrecords_raw_v2', 'angola', 2007, 31) finished in 0 min with state: COMPLETED\nTask ('dhs_tfrecords_raw_v2', 'angola', 2007, 32) finished in 0 min with state: COMPLETED\nTask ('dhs_tfrecords_raw_v2', 'angola', 2007, 33) finished in 0 min with state: COMPLETED\nTask ('dhs_tfrecords_raw_v2', 'angola', 2007, 34) finished in 0 min with state: COMPLETED\nTask ('dhs_tfrecords_raw_v2', 'angola', 2007, 35) finished in 0 min with state: COMPLETED\nTask ('dhs_tfrecords_raw_v2', 'angola', 2007, 36) finished in 0 min with state: COMPLETED\nTask ('dhs_tfrecords_raw_v2', 'angola', 2007, 37) finished in 0 min with state: COMPLETED\nTask ('dhs_tfrecords_raw_v2', 'angola', 2007, 38) finished in 0 min with state: COMPLETED\nTask ('dhs_tfrecords_raw_v2', 'angola', 2007, 39) finished in 0 min with state: COMPLETED\nTask ('dhs_tfrecords_raw_v2', 'angola', 2007, 40) finished in 0 min with state: COMPLETED\nTask ('dhs_tfrecords_raw_v2', 'angola', 2007, 41) finished in 0 min with state: COMPLETED\nTask ('dhs_tfrecords_raw_v2', 'angola', 2007, 42) finished in 0 min with state: COMPLETED\nTask ('dhs_tfrecords_raw_v2', 'angola', 2007, 43) finished in 0 min with state: COMPLETED\nTask ('dhs_tfrecords_raw_v2', 'angola', 2007, 44) finished in 0 min with state: COMPLETED\nTask ('dhs_tfrecords_raw_v2', 'angola', 2007, 45) finished in 0 min with state: COMPLETED\nTask ('dhs_tfrecords_raw_v2', 'angola', 2007, 46) finished in 0 min with state: COMPLETED\nTask ('dhs_tfrecords_raw_v2', 'angola', 2007, 47) finished in 0 min with state: COMPLETED\nTask ('dhs_tfrecords_raw_v2', 'angola', 2007, 48) finished in 1 min with state: COMPLETED\nTask ('dhs_tfrecords_raw_v2', 'angola', 2007, 49) finished in 0 min with state: COMPLETED\nTask ('dhs_tfrecords_raw_v2', 'angola', 2007, 50) finished in 0 min with state: COMPLETED\nTask ('dhs_tfrecords_raw_v2', 'angola', 2007, 51) finished in 0 min with state: COMPLETED\nTask ('dhs_tfrecords_raw_v2', 'angola', 2007, 52) finished in 0 min with state: COMPLETED\nFinished export for angola, 2007.\nStarting export for angola, 2010...\nWaiting on export tasks for angola, 2010...\n"
     ]
    },
    {
     "output_type": "display_data",
     "data": {
      "application/vnd.jupyter.widget-view+json": {
       "model_id": "1f369b6994404bb98727a4849a11da46",
       "version_major": 2,
       "version_minor": 0
      },
      "text/plain": [
       "  0%|          | 0/2 [00:00<?, ?it/s]"
      ]
     },
     "metadata": {},
     "output_type": "display_data"
    },
    {
     "output_type": "stream",
     "name": "stdout",
     "output_type": "stream",
     "text": [
      "Task ('dhs_tfrecords_raw_v2', 'angola', 2010, 0) finished in 0 min with state: COMPLETED\nTask ('dhs_tfrecords_raw_v2', 'angola', 2010, 1) finished in 0 min with state: COMPLETED\nFinished export for angola, 2010.\nStarting export for angola, 2011...\nWaiting on export tasks for angola, 2011...\n"
     ]
    },
    {
     "output_type": "display_data",
     "data": {
      "application/vnd.jupyter.widget-view+json": {
       "model_id": "a172c6cd7c604b4e9866f9c085142e30",
       "version_major": 2,
       "version_minor": 0
      },
      "text/plain": [
       "  0%|          | 0/228 [00:00<?, ?it/s]"
      ]
     },
     "metadata": {},
     "output_type": "display_data"
    },
    {
     "output_type": "stream",
     "name": "stdout",
     "output_type": "stream",
     "text": [
      "Task ('dhs_tfrecords_raw_v2', 'angola', 2011, 0) finished in 0 min with state: COMPLETED\nTask ('dhs_tfrecords_raw_v2', 'angola', 2011, 1) finished in 0 min with state: COMPLETED\nTask ('dhs_tfrecords_raw_v2', 'angola', 2011, 2) finished in 0 min with state: COMPLETED\nTask ('dhs_tfrecords_raw_v2', 'angola', 2011, 3) finished in 0 min with state: COMPLETED\nTask ('dhs_tfrecords_raw_v2', 'angola', 2011, 4) finished in 0 min with state: COMPLETED\nTask ('dhs_tfrecords_raw_v2', 'angola', 2011, 5) finished in 0 min with state: COMPLETED\nTask ('dhs_tfrecords_raw_v2', 'angola', 2011, 6) finished in 0 min with state: COMPLETED\nTask ('dhs_tfrecords_raw_v2', 'angola', 2011, 7) finished in 0 min with state: COMPLETED\nTask ('dhs_tfrecords_raw_v2', 'angola', 2011, 8) finished in 0 min with state: COMPLETED\nTask ('dhs_tfrecords_raw_v2', 'angola', 2011, 9) finished in 0 min with state: COMPLETED\nTask ('dhs_tfrecords_raw_v2', 'angola', 2011, 10) finished in 0 min with state: COMPLETED\nTask ('dhs_tfrecords_raw_v2', 'angola', 2011, 11) finished in 0 min with state: COMPLETED\nTask ('dhs_tfrecords_raw_v2', 'angola', 2011, 12) finished in 0 min with state: COMPLETED\nTask ('dhs_tfrecords_raw_v2', 'angola', 2011, 13) finished in 0 min with state: COMPLETED\nTask ('dhs_tfrecords_raw_v2', 'angola', 2011, 14) finished in 0 min with state: COMPLETED\nTask ('dhs_tfrecords_raw_v2', 'angola', 2011, 15) finished in 0 min with state: COMPLETED\nTask ('dhs_tfrecords_raw_v2', 'angola', 2011, 16) finished in 0 min with state: COMPLETED\nTask ('dhs_tfrecords_raw_v2', 'angola', 2011, 17) finished in 0 min with state: COMPLETED\nTask ('dhs_tfrecords_raw_v2', 'angola', 2011, 18) finished in 0 min with state: COMPLETED\nTask ('dhs_tfrecords_raw_v2', 'angola', 2011, 19) finished in 0 min with state: COMPLETED\nTask ('dhs_tfrecords_raw_v2', 'angola', 2011, 20) finished in 0 min with state: COMPLETED\nTask ('dhs_tfrecords_raw_v2', 'angola', 2011, 21) finished in 0 min with state: COMPLETED\nTask ('dhs_tfrecords_raw_v2', 'angola', 2011, 22) finished in 0 min with state: COMPLETED\nTask ('dhs_tfrecords_raw_v2', 'angola', 2011, 23) finished in 0 min with state: COMPLETED\nTask ('dhs_tfrecords_raw_v2', 'angola', 2011, 24) finished in 0 min with state: COMPLETED\nTask ('dhs_tfrecords_raw_v2', 'angola', 2011, 25) finished in 0 min with state: COMPLETED\nTask ('dhs_tfrecords_raw_v2', 'angola', 2011, 26) finished in 0 min with state: COMPLETED\nTask ('dhs_tfrecords_raw_v2', 'angola', 2011, 27) finished in 0 min with state: COMPLETED\nTask ('dhs_tfrecords_raw_v2', 'angola', 2011, 28) finished in 0 min with state: COMPLETED\nTask ('dhs_tfrecords_raw_v2', 'angola', 2011, 29) finished in 0 min with state: COMPLETED\nTask ('dhs_tfrecords_raw_v2', 'angola', 2011, 30) finished in 0 min with state: COMPLETED\nTask ('dhs_tfrecords_raw_v2', 'angola', 2011, 31) finished in 0 min with state: COMPLETED\nTask ('dhs_tfrecords_raw_v2', 'angola', 2011, 32) finished in 0 min with state: COMPLETED\nTask ('dhs_tfrecords_raw_v2', 'angola', 2011, 33) finished in 0 min with state: COMPLETED\nTask ('dhs_tfrecords_raw_v2', 'angola', 2011, 34) finished in 0 min with state: COMPLETED\nTask ('dhs_tfrecords_raw_v2', 'angola', 2011, 35) finished in 0 min with state: COMPLETED\nTask ('dhs_tfrecords_raw_v2', 'angola', 2011, 36) finished in 0 min with state: COMPLETED\nTask ('dhs_tfrecords_raw_v2', 'angola', 2011, 37) finished in 0 min with state: COMPLETED\nTask ('dhs_tfrecords_raw_v2', 'angola', 2011, 38) finished in 0 min with state: COMPLETED\nTask ('dhs_tfrecords_raw_v2', 'angola', 2011, 39) finished in 0 min with state: COMPLETED\nTask ('dhs_tfrecords_raw_v2', 'angola', 2011, 40) finished in 1 min with state: COMPLETED\nTask ('dhs_tfrecords_raw_v2', 'angola', 2011, 41) finished in 0 min with state: COMPLETED\nTask ('dhs_tfrecords_raw_v2', 'angola', 2011, 42) finished in 0 min with state: COMPLETED\nTask ('dhs_tfrecords_raw_v2', 'angola', 2011, 43) finished in 0 min with state: COMPLETED\nTask ('dhs_tfrecords_raw_v2', 'angola', 2011, 44) finished in 0 min with state: COMPLETED\nTask ('dhs_tfrecords_raw_v2', 'angola', 2011, 45) finished in 0 min with state: COMPLETED\nTask ('dhs_tfrecords_raw_v2', 'angola', 2011, 46) finished in 0 min with state: COMPLETED\nTask ('dhs_tfrecords_raw_v2', 'angola', 2011, 47) finished in 0 min with state: COMPLETED\nTask ('dhs_tfrecords_raw_v2', 'angola', 2011, 48) finished in 0 min with state: COMPLETED\nTask ('dhs_tfrecords_raw_v2', 'angola', 2011, 49) finished in 0 min with state: COMPLETED\nTask ('dhs_tfrecords_raw_v2', 'angola', 2011, 50) finished in 0 min with state: COMPLETED\nTask ('dhs_tfrecords_raw_v2', 'angola', 2011, 51) finished in 0 min with state: COMPLETED\nTask ('dhs_tfrecords_raw_v2', 'angola', 2011, 52) finished in 0 min with state: COMPLETED\nTask ('dhs_tfrecords_raw_v2', 'angola', 2011, 53) finished in 0 min with state: COMPLETED\nTask ('dhs_tfrecords_raw_v2', 'angola', 2011, 54) finished in 0 min with state: COMPLETED\nTask ('dhs_tfrecords_raw_v2', 'angola', 2011, 55) finished in 0 min with state: COMPLETED\nTask ('dhs_tfrecords_raw_v2', 'angola', 2011, 56) finished in 0 min with state: COMPLETED\nTask ('dhs_tfrecords_raw_v2', 'angola', 2011, 57) finished in 0 min with state: COMPLETED\nTask ('dhs_tfrecords_raw_v2', 'angola', 2011, 58) finished in 0 min with state: COMPLETED\nTask ('dhs_tfrecords_raw_v2', 'angola', 2011, 59) finished in 0 min with state: COMPLETED\nTask ('dhs_tfrecords_raw_v2', 'angola', 2011, 60) finished in 0 min with state: COMPLETED\nTask ('dhs_tfrecords_raw_v2', 'angola', 2011, 61) finished in 0 min with state: COMPLETED\nTask ('dhs_tfrecords_raw_v2', 'angola', 2011, 62) finished in 0 min with state: COMPLETED\nTask ('dhs_tfrecords_raw_v2', 'angola', 2011, 63) finished in 0 min with state: COMPLETED\nTask ('dhs_tfrecords_raw_v2', 'angola', 2011, 64) finished in 0 min with state: COMPLETED\nTask ('dhs_tfrecords_raw_v2', 'angola', 2011, 65) finished in 0 min with state: COMPLETED\nTask ('dhs_tfrecords_raw_v2', 'angola', 2011, 66) finished in 0 min with state: COMPLETED\nTask ('dhs_tfrecords_raw_v2', 'angola', 2011, 67) finished in 0 min with state: COMPLETED\nTask ('dhs_tfrecords_raw_v2', 'angola', 2011, 68) finished in 0 min with state: COMPLETED\nTask ('dhs_tfrecords_raw_v2', 'angola', 2011, 69) finished in 0 min with state: COMPLETED\nTask ('dhs_tfrecords_raw_v2', 'angola', 2011, 70) finished in 0 min with state: COMPLETED\nTask ('dhs_tfrecords_raw_v2', 'angola', 2011, 71) finished in 0 min with state: COMPLETED\nTask ('dhs_tfrecords_raw_v2', 'angola', 2011, 72) finished in 0 min with state: COMPLETED\nTask ('dhs_tfrecords_raw_v2', 'angola', 2011, 73) finished in 0 min with state: COMPLETED\nTask ('dhs_tfrecords_raw_v2', 'angola', 2011, 74) finished in 0 min with state: COMPLETED\nTask ('dhs_tfrecords_raw_v2', 'angola', 2011, 75) finished in 0 min with state: COMPLETED\nTask ('dhs_tfrecords_raw_v2', 'angola', 2011, 76) finished in 0 min with state: COMPLETED\nTask ('dhs_tfrecords_raw_v2', 'angola', 2011, 77) finished in 0 min with state: COMPLETED\nTask ('dhs_tfrecords_raw_v2', 'angola', 2011, 78) finished in 0 min with state: COMPLETED\nTask ('dhs_tfrecords_raw_v2', 'angola', 2011, 79) finished in 0 min with state: COMPLETED\nTask ('dhs_tfrecords_raw_v2', 'angola', 2011, 80) finished in 0 min with state: COMPLETED\nTask ('dhs_tfrecords_raw_v2', 'angola', 2011, 81) finished in 0 min with state: COMPLETED\nTask ('dhs_tfrecords_raw_v2', 'angola', 2011, 82) finished in 0 min with state: COMPLETED\nTask ('dhs_tfrecords_raw_v2', 'angola', 2011, 83) finished in 0 min with state: COMPLETED\nTask ('dhs_tfrecords_raw_v2', 'angola', 2011, 84) finished in 0 min with state: COMPLETED\nTask ('dhs_tfrecords_raw_v2', 'angola', 2011, 85) finished in 0 min with state: COMPLETED\nTask ('dhs_tfrecords_raw_v2', 'angola', 2011, 86) finished in 0 min with state: COMPLETED\nTask ('dhs_tfrecords_raw_v2', 'angola', 2011, 87) finished in 0 min with state: COMPLETED\nTask ('dhs_tfrecords_raw_v2', 'angola', 2011, 88) finished in 0 min with state: COMPLETED\nTask ('dhs_tfrecords_raw_v2', 'angola', 2011, 89) finished in 0 min with state: COMPLETED\nTask ('dhs_tfrecords_raw_v2', 'angola', 2011, 90) finished in 0 min with state: COMPLETED\nTask ('dhs_tfrecords_raw_v2', 'angola', 2011, 91) finished in 0 min with state: COMPLETED\nTask ('dhs_tfrecords_raw_v2', 'angola', 2011, 92) finished in 0 min with state: COMPLETED\nTask ('dhs_tfrecords_raw_v2', 'angola', 2011, 93) finished in 0 min with state: COMPLETED\nTask ('dhs_tfrecords_raw_v2', 'angola', 2011, 94) finished in 0 min with state: COMPLETED\nTask ('dhs_tfrecords_raw_v2', 'angola', 2011, 95) finished in 0 min with state: COMPLETED\nTask ('dhs_tfrecords_raw_v2', 'angola', 2011, 96) finished in 0 min with state: COMPLETED\nTask ('dhs_tfrecords_raw_v2', 'angola', 2011, 97) finished in 0 min with state: COMPLETED\nTask ('dhs_tfrecords_raw_v2', 'angola', 2011, 98) finished in 0 min with state: COMPLETED\nTask ('dhs_tfrecords_raw_v2', 'angola', 2011, 99) finished in 0 min with state: COMPLETED\nTask ('dhs_tfrecords_raw_v2', 'angola', 2011, 100) finished in 0 min with state: COMPLETED\nTask ('dhs_tfrecords_raw_v2', 'angola', 2011, 101) finished in 0 min with state: COMPLETED\nTask ('dhs_tfrecords_raw_v2', 'angola', 2011, 102) finished in 0 min with state: COMPLETED\nTask ('dhs_tfrecords_raw_v2', 'angola', 2011, 103) finished in 0 min with state: COMPLETED\nTask ('dhs_tfrecords_raw_v2', 'angola', 2011, 104) finished in 0 min with state: COMPLETED\nTask ('dhs_tfrecords_raw_v2', 'angola', 2011, 105) finished in 0 min with state: COMPLETED\nTask ('dhs_tfrecords_raw_v2', 'angola', 2011, 106) finished in 0 min with state: COMPLETED\nTask ('dhs_tfrecords_raw_v2', 'angola', 2011, 107) finished in 0 min with state: COMPLETED\nTask ('dhs_tfrecords_raw_v2', 'angola', 2011, 108) finished in 0 min with state: COMPLETED\nTask ('dhs_tfrecords_raw_v2', 'angola', 2011, 109) finished in 0 min with state: COMPLETED\nTask ('dhs_tfrecords_raw_v2', 'angola', 2011, 110) finished in 0 min with state: COMPLETED\nTask ('dhs_tfrecords_raw_v2', 'angola', 2011, 111) finished in 0 min with state: COMPLETED\nTask ('dhs_tfrecords_raw_v2', 'angola', 2011, 112) finished in 0 min with state: COMPLETED\nTask ('dhs_tfrecords_raw_v2', 'angola', 2011, 113) finished in 0 min with state: COMPLETED\nTask ('dhs_tfrecords_raw_v2', 'angola', 2011, 114) finished in 0 min with state: COMPLETED\nTask ('dhs_tfrecords_raw_v2', 'angola', 2011, 115) finished in 0 min with state: COMPLETED\nTask ('dhs_tfrecords_raw_v2', 'angola', 2011, 116) finished in 0 min with state: COMPLETED\nTask ('dhs_tfrecords_raw_v2', 'angola', 2011, 117) finished in 0 min with state: COMPLETED\nTask ('dhs_tfrecords_raw_v2', 'angola', 2011, 118) finished in 0 min with state: COMPLETED\nTask ('dhs_tfrecords_raw_v2', 'angola', 2011, 119) finished in 0 min with state: COMPLETED\nTask ('dhs_tfrecords_raw_v2', 'angola', 2011, 120) finished in 0 min with state: COMPLETED\nTask ('dhs_tfrecords_raw_v2', 'angola', 2011, 121) finished in 0 min with state: COMPLETED\nTask ('dhs_tfrecords_raw_v2', 'angola', 2011, 122) finished in 0 min with state: COMPLETED\nTask ('dhs_tfrecords_raw_v2', 'angola', 2011, 123) finished in 0 min with state: COMPLETED\nTask ('dhs_tfrecords_raw_v2', 'angola', 2011, 124) finished in 0 min with state: COMPLETED\nTask ('dhs_tfrecords_raw_v2', 'angola', 2011, 125) finished in 0 min with state: COMPLETED\nTask ('dhs_tfrecords_raw_v2', 'angola', 2011, 126) finished in 0 min with state: COMPLETED\nTask ('dhs_tfrecords_raw_v2', 'angola', 2011, 127) finished in 0 min with state: COMPLETED\nTask ('dhs_tfrecords_raw_v2', 'angola', 2011, 128) finished in 0 min with state: COMPLETED\nTask ('dhs_tfrecords_raw_v2', 'angola', 2011, 129) finished in 0 min with state: COMPLETED\nTask ('dhs_tfrecords_raw_v2', 'angola', 2011, 130) finished in 0 min with state: COMPLETED\nTask ('dhs_tfrecords_raw_v2', 'angola', 2011, 131) finished in 0 min with state: COMPLETED\nTask ('dhs_tfrecords_raw_v2', 'angola', 2011, 132) finished in 0 min with state: COMPLETED\nTask ('dhs_tfrecords_raw_v2', 'angola', 2011, 133) finished in 0 min with state: COMPLETED\nTask ('dhs_tfrecords_raw_v2', 'angola', 2011, 134) finished in 0 min with state: COMPLETED\nTask ('dhs_tfrecords_raw_v2', 'angola', 2011, 135) finished in 0 min with state: COMPLETED\nTask ('dhs_tfrecords_raw_v2', 'angola', 2011, 136) finished in 0 min with state: COMPLETED\nTask ('dhs_tfrecords_raw_v2', 'angola', 2011, 137) finished in 0 min with state: COMPLETED\nTask ('dhs_tfrecords_raw_v2', 'angola', 2011, 138) finished in 0 min with state: COMPLETED\nTask ('dhs_tfrecords_raw_v2', 'angola', 2011, 139) finished in 0 min with state: COMPLETED\nTask ('dhs_tfrecords_raw_v2', 'angola', 2011, 140) finished in 0 min with state: COMPLETED\nTask ('dhs_tfrecords_raw_v2', 'angola', 2011, 141) finished in 0 min with state: COMPLETED\nTask ('dhs_tfrecords_raw_v2', 'angola', 2011, 142) finished in 0 min with state: COMPLETED\nTask ('dhs_tfrecords_raw_v2', 'angola', 2011, 143) finished in 0 min with state: COMPLETED\nTask ('dhs_tfrecords_raw_v2', 'angola', 2011, 144) finished in 0 min with state: COMPLETED\nTask ('dhs_tfrecords_raw_v2', 'angola', 2011, 145) finished in 0 min with state: COMPLETED\nTask ('dhs_tfrecords_raw_v2', 'angola', 2011, 146) finished in 0 min with state: COMPLETED\nTask ('dhs_tfrecords_raw_v2', 'angola', 2011, 147) finished in 0 min with state: COMPLETED\nTask ('dhs_tfrecords_raw_v2', 'angola', 2011, 148) finished in 0 min with state: COMPLETED\nTask ('dhs_tfrecords_raw_v2', 'angola', 2011, 149) finished in 0 min with state: COMPLETED\nTask ('dhs_tfrecords_raw_v2', 'angola', 2011, 150) finished in 0 min with state: COMPLETED\nTask ('dhs_tfrecords_raw_v2', 'angola', 2011, 151) finished in 0 min with state: COMPLETED\nTask ('dhs_tfrecords_raw_v2', 'angola', 2011, 152) finished in 0 min with state: COMPLETED\nTask ('dhs_tfrecords_raw_v2', 'angola', 2011, 153) finished in 0 min with state: COMPLETED\nTask ('dhs_tfrecords_raw_v2', 'angola', 2011, 154) finished in 0 min with state: COMPLETED\nTask ('dhs_tfrecords_raw_v2', 'angola', 2011, 155) finished in 0 min with state: COMPLETED\nTask ('dhs_tfrecords_raw_v2', 'angola', 2011, 156) finished in 0 min with state: COMPLETED\nTask ('dhs_tfrecords_raw_v2', 'angola', 2011, 157) finished in 0 min with state: COMPLETED\nTask ('dhs_tfrecords_raw_v2', 'angola', 2011, 158) finished in 0 min with state: COMPLETED\nTask ('dhs_tfrecords_raw_v2', 'angola', 2011, 159) finished in 0 min with state: COMPLETED\nTask ('dhs_tfrecords_raw_v2', 'angola', 2011, 160) finished in 0 min with state: COMPLETED\nTask ('dhs_tfrecords_raw_v2', 'angola', 2011, 161) finished in 0 min with state: COMPLETED\nTask ('dhs_tfrecords_raw_v2', 'angola', 2011, 162) finished in 0 min with state: COMPLETED\nTask ('dhs_tfrecords_raw_v2', 'angola', 2011, 163) finished in 0 min with state: COMPLETED\nTask ('dhs_tfrecords_raw_v2', 'angola', 2011, 164) finished in 0 min with state: COMPLETED\nTask ('dhs_tfrecords_raw_v2', 'angola', 2011, 165) finished in 0 min with state: COMPLETED\nTask ('dhs_tfrecords_raw_v2', 'angola', 2011, 166) finished in 0 min with state: COMPLETED\nTask ('dhs_tfrecords_raw_v2', 'angola', 2011, 167) finished in 0 min with state: COMPLETED\nTask ('dhs_tfrecords_raw_v2', 'angola', 2011, 168) finished in 1 min with state: COMPLETED\nTask ('dhs_tfrecords_raw_v2', 'angola', 2011, 169) finished in 1 min with state: COMPLETED\nTask ('dhs_tfrecords_raw_v2', 'angola', 2011, 170) finished in 1 min with state: COMPLETED\nTask ('dhs_tfrecords_raw_v2', 'angola', 2011, 171) finished in 1 min with state: COMPLETED\nTask ('dhs_tfrecords_raw_v2', 'angola', 2011, 172) finished in 0 min with state: COMPLETED\nTask ('dhs_tfrecords_raw_v2', 'angola', 2011, 173) finished in 0 min with state: COMPLETED\nTask ('dhs_tfrecords_raw_v2', 'angola', 2011, 174) finished in 0 min with state: COMPLETED\nTask ('dhs_tfrecords_raw_v2', 'angola', 2011, 175) finished in 0 min with state: COMPLETED\nTask ('dhs_tfrecords_raw_v2', 'angola', 2011, 176) finished in 0 min with state: COMPLETED\nTask ('dhs_tfrecords_raw_v2', 'angola', 2011, 177) finished in 0 min with state: COMPLETED\nTask ('dhs_tfrecords_raw_v2', 'angola', 2011, 178) finished in 1 min with state: COMPLETED\nTask ('dhs_tfrecords_raw_v2', 'angola', 2011, 179) finished in 0 min with state: COMPLETED\nTask ('dhs_tfrecords_raw_v2', 'angola', 2011, 180) finished in 1 min with state: COMPLETED\nTask ('dhs_tfrecords_raw_v2', 'angola', 2011, 181) finished in 1 min with state: COMPLETED\nTask ('dhs_tfrecords_raw_v2', 'angola', 2011, 182) finished in 1 min with state: COMPLETED\nTask ('dhs_tfrecords_raw_v2', 'angola', 2011, 183) finished in 0 min with state: COMPLETED\nTask ('dhs_tfrecords_raw_v2', 'angola', 2011, 184) finished in 1 min with state: COMPLETED\nTask ('dhs_tfrecords_raw_v2', 'angola', 2011, 185) finished in 1 min with state: COMPLETED\nTask ('dhs_tfrecords_raw_v2', 'angola', 2011, 186) finished in 1 min with state: COMPLETED\nTask ('dhs_tfrecords_raw_v2', 'angola', 2011, 187) finished in 1 min with state: COMPLETED\nTask ('dhs_tfrecords_raw_v2', 'angola', 2011, 188) finished in 1 min with state: COMPLETED\nTask ('dhs_tfrecords_raw_v2', 'angola', 2011, 189) finished in 1 min with state: COMPLETED\nTask ('dhs_tfrecords_raw_v2', 'angola', 2011, 190) finished in 1 min with state: COMPLETED\nTask ('dhs_tfrecords_raw_v2', 'angola', 2011, 191) finished in 1 min with state: COMPLETED\nTask ('dhs_tfrecords_raw_v2', 'angola', 2011, 192) finished in 1 min with state: COMPLETED\nTask ('dhs_tfrecords_raw_v2', 'angola', 2011, 193) finished in 1 min with state: COMPLETED\nTask ('dhs_tfrecords_raw_v2', 'angola', 2011, 194) finished in 1 min with state: COMPLETED\nTask ('dhs_tfrecords_raw_v2', 'angola', 2011, 195) finished in 1 min with state: COMPLETED\nTask ('dhs_tfrecords_raw_v2', 'angola', 2011, 197) finished in 1 min with state: COMPLETED\nTask ('dhs_tfrecords_raw_v2', 'angola', 2011, 198) finished in 1 min with state: COMPLETED\nTask ('dhs_tfrecords_raw_v2', 'angola', 2011, 199) finished in 1 min with state: COMPLETED\nTask ('dhs_tfrecords_raw_v2', 'angola', 2011, 200) finished in 1 min with state: COMPLETED\nTask ('dhs_tfrecords_raw_v2', 'angola', 2011, 201) finished in 1 min with state: COMPLETED\nTask ('dhs_tfrecords_raw_v2', 'angola', 2011, 202) finished in 1 min with state: COMPLETED\nTask ('dhs_tfrecords_raw_v2', 'angola', 2011, 207) finished in 1 min with state: COMPLETED\nTask ('dhs_tfrecords_raw_v2', 'angola', 2011, 208) finished in 1 min with state: COMPLETED\nTask ('dhs_tfrecords_raw_v2', 'angola', 2011, 209) finished in 1 min with state: COMPLETED\nTask ('dhs_tfrecords_raw_v2', 'angola', 2011, 210) finished in 1 min with state: COMPLETED\nTask ('dhs_tfrecords_raw_v2', 'angola', 2011, 213) finished in 1 min with state: COMPLETED\nTask ('dhs_tfrecords_raw_v2', 'angola', 2011, 196) finished in 1 min with state: COMPLETED\nTask ('dhs_tfrecords_raw_v2', 'angola', 2011, 203) finished in 1 min with state: COMPLETED\nTask ('dhs_tfrecords_raw_v2', 'angola', 2011, 204) finished in 1 min with state: COMPLETED\nTask ('dhs_tfrecords_raw_v2', 'angola', 2011, 205) finished in 1 min with state: COMPLETED\nTask ('dhs_tfrecords_raw_v2', 'angola', 2011, 206) finished in 1 min with state: COMPLETED\nTask ('dhs_tfrecords_raw_v2', 'angola', 2011, 211) finished in 1 min with state: COMPLETED\nTask ('dhs_tfrecords_raw_v2', 'angola', 2011, 212) finished in 1 min with state: COMPLETED\nTask ('dhs_tfrecords_raw_v2', 'angola', 2011, 214) finished in 1 min with state: COMPLETED\nTask ('dhs_tfrecords_raw_v2', 'angola', 2011, 215) finished in 1 min with state: COMPLETED\nTask ('dhs_tfrecords_raw_v2', 'angola', 2011, 216) finished in 1 min with state: COMPLETED\nTask ('dhs_tfrecords_raw_v2', 'angola', 2011, 217) finished in 1 min with state: COMPLETED\nTask ('dhs_tfrecords_raw_v2', 'angola', 2011, 218) finished in 1 min with state: COMPLETED\nTask ('dhs_tfrecords_raw_v2', 'angola', 2011, 219) finished in 1 min with state: COMPLETED\nTask ('dhs_tfrecords_raw_v2', 'angola', 2011, 220) finished in 1 min with state: COMPLETED\nTask ('dhs_tfrecords_raw_v2', 'angola', 2011, 221) finished in 1 min with state: COMPLETED\nTask ('dhs_tfrecords_raw_v2', 'angola', 2011, 222) finished in 1 min with state: COMPLETED\nTask ('dhs_tfrecords_raw_v2', 'angola', 2011, 223) finished in 1 min with state: COMPLETED\nTask ('dhs_tfrecords_raw_v2', 'angola', 2011, 224) finished in 1 min with state: COMPLETED\nTask ('dhs_tfrecords_raw_v2', 'angola', 2011, 225) finished in 1 min with state: COMPLETED\nTask ('dhs_tfrecords_raw_v2', 'angola', 2011, 226) finished in 1 min with state: COMPLETED\nTask ('dhs_tfrecords_raw_v2', 'angola', 2011, 227) finished in 1 min with state: COMPLETED\nFinished export for angola, 2011.\nStarting export for angola, 2015...\nWaiting on export tasks for angola, 2015...\n"
     ]
    },
    {
     "output_type": "display_data",
     "data": {
      "application/vnd.jupyter.widget-view+json": {
       "model_id": "497e251642574958b8db2af0c5ba876a",
       "version_major": 2,
       "version_minor": 0
      },
      "text/plain": [
       "  0%|          | 0/316 [00:00<?, ?it/s]"
      ]
     },
     "metadata": {},
     "output_type": "display_data"
    },
    {
     "output_type": "stream",
     "name": "stdout",
     "output_type": "stream",
     "text": [
      "Task ('dhs_tfrecords_raw_v2', 'angola', 2015, 0) finished in 0 min with state: COMPLETED\nTask ('dhs_tfrecords_raw_v2', 'angola', 2015, 1) finished in 0 min with state: COMPLETED\nTask ('dhs_tfrecords_raw_v2', 'angola', 2015, 2) finished in 0 min with state: COMPLETED\nTask ('dhs_tfrecords_raw_v2', 'angola', 2015, 3) finished in 0 min with state: COMPLETED\nTask ('dhs_tfrecords_raw_v2', 'angola', 2015, 4) finished in 0 min with state: COMPLETED\nTask ('dhs_tfrecords_raw_v2', 'angola', 2015, 6) finished in 0 min with state: COMPLETED\nTask ('dhs_tfrecords_raw_v2', 'angola', 2015, 7) finished in 0 min with state: COMPLETED\nTask ('dhs_tfrecords_raw_v2', 'angola', 2015, 8) finished in 0 min with state: COMPLETED\nTask ('dhs_tfrecords_raw_v2', 'angola', 2015, 9) finished in 0 min with state: COMPLETED\nTask ('dhs_tfrecords_raw_v2', 'angola', 2015, 10) finished in 0 min with state: COMPLETED\nTask ('dhs_tfrecords_raw_v2', 'angola', 2015, 11) finished in 0 min with state: COMPLETED\nTask ('dhs_tfrecords_raw_v2', 'angola', 2015, 12) finished in 0 min with state: COMPLETED\nTask ('dhs_tfrecords_raw_v2', 'angola', 2015, 13) finished in 0 min with state: COMPLETED\nTask ('dhs_tfrecords_raw_v2', 'angola', 2015, 14) finished in 0 min with state: COMPLETED\nTask ('dhs_tfrecords_raw_v2', 'angola', 2015, 15) finished in 0 min with state: COMPLETED\nTask ('dhs_tfrecords_raw_v2', 'angola', 2015, 16) finished in 0 min with state: COMPLETED\nTask ('dhs_tfrecords_raw_v2', 'angola', 2015, 17) finished in 0 min with state: COMPLETED\nTask ('dhs_tfrecords_raw_v2', 'angola', 2015, 18) finished in 0 min with state: COMPLETED\nTask ('dhs_tfrecords_raw_v2', 'angola', 2015, 19) finished in 1 min with state: COMPLETED\nTask ('dhs_tfrecords_raw_v2', 'angola', 2015, 20) finished in 0 min with state: COMPLETED\nTask ('dhs_tfrecords_raw_v2', 'angola', 2015, 21) finished in 0 min with state: COMPLETED\nTask ('dhs_tfrecords_raw_v2', 'angola', 2015, 22) finished in 0 min with state: COMPLETED\nTask ('dhs_tfrecords_raw_v2', 'angola', 2015, 23) finished in 0 min with state: COMPLETED\nTask ('dhs_tfrecords_raw_v2', 'angola', 2015, 24) finished in 0 min with state: COMPLETED\nTask ('dhs_tfrecords_raw_v2', 'angola', 2015, 25) finished in 0 min with state: COMPLETED\nTask ('dhs_tfrecords_raw_v2', 'angola', 2015, 26) finished in 0 min with state: COMPLETED\nTask ('dhs_tfrecords_raw_v2', 'angola', 2015, 27) finished in 0 min with state: COMPLETED\nTask ('dhs_tfrecords_raw_v2', 'angola', 2015, 28) finished in 0 min with state: COMPLETED\nTask ('dhs_tfrecords_raw_v2', 'angola', 2015, 29) finished in 0 min with state: COMPLETED\nTask ('dhs_tfrecords_raw_v2', 'angola', 2015, 30) finished in 0 min with state: COMPLETED\nTask ('dhs_tfrecords_raw_v2', 'angola', 2015, 31) finished in 0 min with state: COMPLETED\nTask ('dhs_tfrecords_raw_v2', 'angola', 2015, 32) finished in 0 min with state: COMPLETED\nTask ('dhs_tfrecords_raw_v2', 'angola', 2015, 33) finished in 0 min with state: COMPLETED\nTask ('dhs_tfrecords_raw_v2', 'angola', 2015, 34) finished in 0 min with state: COMPLETED\nTask ('dhs_tfrecords_raw_v2', 'angola', 2015, 35) finished in 0 min with state: COMPLETED\nTask ('dhs_tfrecords_raw_v2', 'angola', 2015, 36) finished in 0 min with state: COMPLETED\nTask ('dhs_tfrecords_raw_v2', 'angola', 2015, 37) finished in 0 min with state: COMPLETED\nTask ('dhs_tfrecords_raw_v2', 'angola', 2015, 38) finished in 1 min with state: COMPLETED\nTask ('dhs_tfrecords_raw_v2', 'angola', 2015, 39) finished in 1 min with state: COMPLETED\nTask ('dhs_tfrecords_raw_v2', 'angola', 2015, 40) finished in 1 min with state: COMPLETED\nTask ('dhs_tfrecords_raw_v2', 'angola', 2015, 41) finished in 1 min with state: COMPLETED\nTask ('dhs_tfrecords_raw_v2', 'angola', 2015, 42) finished in 1 min with state: COMPLETED\nTask ('dhs_tfrecords_raw_v2', 'angola', 2015, 43) finished in 1 min with state: COMPLETED\nTask ('dhs_tfrecords_raw_v2', 'angola', 2015, 44) finished in 1 min with state: COMPLETED\nTask ('dhs_tfrecords_raw_v2', 'angola', 2015, 45) finished in 0 min with state: COMPLETED\nTask ('dhs_tfrecords_raw_v2', 'angola', 2015, 46) finished in 1 min with state: COMPLETED\nTask ('dhs_tfrecords_raw_v2', 'angola', 2015, 47) finished in 1 min with state: COMPLETED\nTask ('dhs_tfrecords_raw_v2', 'angola', 2015, 48) finished in 1 min with state: COMPLETED\nTask ('dhs_tfrecords_raw_v2', 'angola', 2015, 49) finished in 1 min with state: COMPLETED\nTask ('dhs_tfrecords_raw_v2', 'angola', 2015, 50) finished in 1 min with state: COMPLETED\nTask ('dhs_tfrecords_raw_v2', 'angola', 2015, 51) finished in 1 min with state: COMPLETED\nTask ('dhs_tfrecords_raw_v2', 'angola', 2015, 52) finished in 1 min with state: COMPLETED\nTask ('dhs_tfrecords_raw_v2', 'angola', 2015, 53) finished in 1 min with state: COMPLETED\nTask ('dhs_tfrecords_raw_v2', 'angola', 2015, 54) finished in 1 min with state: COMPLETED\nTask ('dhs_tfrecords_raw_v2', 'angola', 2015, 55) finished in 1 min with state: COMPLETED\nTask ('dhs_tfrecords_raw_v2', 'angola', 2015, 56) finished in 1 min with state: COMPLETED\nTask ('dhs_tfrecords_raw_v2', 'angola', 2015, 57) finished in 1 min with state: COMPLETED\nTask ('dhs_tfrecords_raw_v2', 'angola', 2015, 58) finished in 1 min with state: COMPLETED\nTask ('dhs_tfrecords_raw_v2', 'angola', 2015, 59) finished in 1 min with state: COMPLETED\nTask ('dhs_tfrecords_raw_v2', 'angola', 2015, 60) finished in 1 min with state: COMPLETED\nTask ('dhs_tfrecords_raw_v2', 'angola', 2015, 61) finished in 1 min with state: COMPLETED\nTask ('dhs_tfrecords_raw_v2', 'angola', 2015, 62) finished in 1 min with state: COMPLETED\nTask ('dhs_tfrecords_raw_v2', 'angola', 2015, 63) finished in 1 min with state: COMPLETED\nTask ('dhs_tfrecords_raw_v2', 'angola', 2015, 64) finished in 1 min with state: COMPLETED\nTask ('dhs_tfrecords_raw_v2', 'angola', 2015, 65) finished in 1 min with state: COMPLETED\nTask ('dhs_tfrecords_raw_v2', 'angola', 2015, 66) finished in 1 min with state: COMPLETED\nTask ('dhs_tfrecords_raw_v2', 'angola', 2015, 67) finished in 1 min with state: COMPLETED\nTask ('dhs_tfrecords_raw_v2', 'angola', 2015, 68) finished in 1 min with state: COMPLETED\nTask ('dhs_tfrecords_raw_v2', 'angola', 2015, 69) finished in 1 min with state: COMPLETED\nTask ('dhs_tfrecords_raw_v2', 'angola', 2015, 70) finished in 1 min with state: COMPLETED\nTask ('dhs_tfrecords_raw_v2', 'angola', 2015, 71) finished in 1 min with state: COMPLETED\nTask ('dhs_tfrecords_raw_v2', 'angola', 2015, 72) finished in 1 min with state: COMPLETED\nTask ('dhs_tfrecords_raw_v2', 'angola', 2015, 73) finished in 1 min with state: COMPLETED\nTask ('dhs_tfrecords_raw_v2', 'angola', 2015, 75) finished in 1 min with state: COMPLETED\nTask ('dhs_tfrecords_raw_v2', 'angola', 2015, 76) finished in 1 min with state: COMPLETED\nTask ('dhs_tfrecords_raw_v2', 'angola', 2015, 77) finished in 1 min with state: COMPLETED\nTask ('dhs_tfrecords_raw_v2', 'angola', 2015, 78) finished in 1 min with state: COMPLETED\nTask ('dhs_tfrecords_raw_v2', 'angola', 2015, 5) finished in 2 min with state: COMPLETED\nTask ('dhs_tfrecords_raw_v2', 'angola', 2015, 74) finished in 2 min with state: COMPLETED\nTask ('dhs_tfrecords_raw_v2', 'angola', 2015, 79) finished in 1 min with state: COMPLETED\nTask ('dhs_tfrecords_raw_v2', 'angola', 2015, 80) finished in 1 min with state: COMPLETED\nTask ('dhs_tfrecords_raw_v2', 'angola', 2015, 81) finished in 1 min with state: COMPLETED\nTask ('dhs_tfrecords_raw_v2', 'angola', 2015, 82) finished in 2 min with state: COMPLETED\nTask ('dhs_tfrecords_raw_v2', 'angola', 2015, 83) finished in 2 min with state: COMPLETED\nTask ('dhs_tfrecords_raw_v2', 'angola', 2015, 84) finished in 2 min with state: COMPLETED\nTask ('dhs_tfrecords_raw_v2', 'angola', 2015, 85) finished in 2 min with state: COMPLETED\nTask ('dhs_tfrecords_raw_v2', 'angola', 2015, 86) finished in 2 min with state: COMPLETED\nTask ('dhs_tfrecords_raw_v2', 'angola', 2015, 87) finished in 2 min with state: COMPLETED\nTask ('dhs_tfrecords_raw_v2', 'angola', 2015, 88) finished in 2 min with state: COMPLETED\nTask ('dhs_tfrecords_raw_v2', 'angola', 2015, 89) finished in 2 min with state: COMPLETED\nTask ('dhs_tfrecords_raw_v2', 'angola', 2015, 90) finished in 2 min with state: COMPLETED\nTask ('dhs_tfrecords_raw_v2', 'angola', 2015, 91) finished in 2 min with state: COMPLETED\nTask ('dhs_tfrecords_raw_v2', 'angola', 2015, 92) finished in 2 min with state: COMPLETED\nTask ('dhs_tfrecords_raw_v2', 'angola', 2015, 93) finished in 2 min with state: COMPLETED\nTask ('dhs_tfrecords_raw_v2', 'angola', 2015, 94) finished in 2 min with state: COMPLETED\nTask ('dhs_tfrecords_raw_v2', 'angola', 2015, 95) finished in 2 min with state: COMPLETED\nTask ('dhs_tfrecords_raw_v2', 'angola', 2015, 96) finished in 2 min with state: COMPLETED\nTask ('dhs_tfrecords_raw_v2', 'angola', 2015, 97) finished in 2 min with state: COMPLETED\nTask ('dhs_tfrecords_raw_v2', 'angola', 2015, 98) finished in 2 min with state: COMPLETED\nTask ('dhs_tfrecords_raw_v2', 'angola', 2015, 99) finished in 2 min with state: COMPLETED\nTask ('dhs_tfrecords_raw_v2', 'angola', 2015, 100) finished in 2 min with state: COMPLETED\nTask ('dhs_tfrecords_raw_v2', 'angola', 2015, 101) finished in 2 min with state: COMPLETED\nTask ('dhs_tfrecords_raw_v2', 'angola', 2015, 102) finished in 2 min with state: COMPLETED\nTask ('dhs_tfrecords_raw_v2', 'angola', 2015, 103) finished in 2 min with state: COMPLETED\nTask ('dhs_tfrecords_raw_v2', 'angola', 2015, 104) finished in 2 min with state: COMPLETED\nTask ('dhs_tfrecords_raw_v2', 'angola', 2015, 105) finished in 2 min with state: COMPLETED\nTask ('dhs_tfrecords_raw_v2', 'angola', 2015, 106) finished in 2 min with state: COMPLETED\nTask ('dhs_tfrecords_raw_v2', 'angola', 2015, 107) finished in 2 min with state: COMPLETED\nTask ('dhs_tfrecords_raw_v2', 'angola', 2015, 108) finished in 2 min with state: COMPLETED\nTask ('dhs_tfrecords_raw_v2', 'angola', 2015, 109) finished in 2 min with state: COMPLETED\nTask ('dhs_tfrecords_raw_v2', 'angola', 2015, 110) finished in 2 min with state: COMPLETED\nTask ('dhs_tfrecords_raw_v2', 'angola', 2015, 111) finished in 2 min with state: COMPLETED\nTask ('dhs_tfrecords_raw_v2', 'angola', 2015, 112) finished in 2 min with state: COMPLETED\nTask ('dhs_tfrecords_raw_v2', 'angola', 2015, 113) finished in 2 min with state: COMPLETED\nTask ('dhs_tfrecords_raw_v2', 'angola', 2015, 114) finished in 2 min with state: COMPLETED\nTask ('dhs_tfrecords_raw_v2', 'angola', 2015, 115) finished in 2 min with state: COMPLETED\nTask ('dhs_tfrecords_raw_v2', 'angola', 2015, 116) finished in 2 min with state: COMPLETED\nTask ('dhs_tfrecords_raw_v2', 'angola', 2015, 117) finished in 2 min with state: COMPLETED\nTask ('dhs_tfrecords_raw_v2', 'angola', 2015, 118) finished in 2 min with state: COMPLETED\nTask ('dhs_tfrecords_raw_v2', 'angola', 2015, 119) finished in 2 min with state: COMPLETED\nTask ('dhs_tfrecords_raw_v2', 'angola', 2015, 120) finished in 2 min with state: COMPLETED\nTask ('dhs_tfrecords_raw_v2', 'angola', 2015, 121) finished in 2 min with state: COMPLETED\nTask ('dhs_tfrecords_raw_v2', 'angola', 2015, 122) finished in 3 min with state: COMPLETED\nTask ('dhs_tfrecords_raw_v2', 'angola', 2015, 123) finished in 2 min with state: COMPLETED\nTask ('dhs_tfrecords_raw_v2', 'angola', 2015, 124) finished in 2 min with state: COMPLETED\nTask ('dhs_tfrecords_raw_v2', 'angola', 2015, 125) finished in 2 min with state: COMPLETED\nTask ('dhs_tfrecords_raw_v2', 'angola', 2015, 126) finished in 2 min with state: COMPLETED\nTask ('dhs_tfrecords_raw_v2', 'angola', 2015, 127) finished in 2 min with state: COMPLETED\nTask ('dhs_tfrecords_raw_v2', 'angola', 2015, 128) finished in 2 min with state: COMPLETED\nTask ('dhs_tfrecords_raw_v2', 'angola', 2015, 129) finished in 2 min with state: COMPLETED\nTask ('dhs_tfrecords_raw_v2', 'angola', 2015, 130) finished in 2 min with state: COMPLETED\nTask ('dhs_tfrecords_raw_v2', 'angola', 2015, 131) finished in 2 min with state: COMPLETED\nTask ('dhs_tfrecords_raw_v2', 'angola', 2015, 132) finished in 2 min with state: COMPLETED\nTask ('dhs_tfrecords_raw_v2', 'angola', 2015, 133) finished in 2 min with state: COMPLETED\nTask ('dhs_tfrecords_raw_v2', 'angola', 2015, 134) finished in 2 min with state: COMPLETED\nTask ('dhs_tfrecords_raw_v2', 'angola', 2015, 135) finished in 2 min with state: COMPLETED\nTask ('dhs_tfrecords_raw_v2', 'angola', 2015, 136) finished in 2 min with state: COMPLETED\nTask ('dhs_tfrecords_raw_v2', 'angola', 2015, 137) finished in 2 min with state: COMPLETED\nTask ('dhs_tfrecords_raw_v2', 'angola', 2015, 138) finished in 3 min with state: COMPLETED\nTask ('dhs_tfrecords_raw_v2', 'angola', 2015, 139) finished in 2 min with state: COMPLETED\nTask ('dhs_tfrecords_raw_v2', 'angola', 2015, 140) finished in 2 min with state: COMPLETED\nTask ('dhs_tfrecords_raw_v2', 'angola', 2015, 142) finished in 2 min with state: COMPLETED\nTask ('dhs_tfrecords_raw_v2', 'angola', 2015, 143) finished in 2 min with state: COMPLETED\nTask ('dhs_tfrecords_raw_v2', 'angola', 2015, 144) finished in 2 min with state: COMPLETED\nTask ('dhs_tfrecords_raw_v2', 'angola', 2015, 145) finished in 3 min with state: COMPLETED\nTask ('dhs_tfrecords_raw_v2', 'angola', 2015, 146) finished in 2 min with state: COMPLETED\nTask ('dhs_tfrecords_raw_v2', 'angola', 2015, 147) finished in 2 min with state: COMPLETED\nTask ('dhs_tfrecords_raw_v2', 'angola', 2015, 148) finished in 3 min with state: COMPLETED\nTask ('dhs_tfrecords_raw_v2', 'angola', 2015, 150) finished in 3 min with state: COMPLETED\nTask ('dhs_tfrecords_raw_v2', 'angola', 2015, 151) finished in 2 min with state: COMPLETED\nTask ('dhs_tfrecords_raw_v2', 'angola', 2015, 152) finished in 3 min with state: COMPLETED\nTask ('dhs_tfrecords_raw_v2', 'angola', 2015, 153) finished in 3 min with state: COMPLETED\nTask ('dhs_tfrecords_raw_v2', 'angola', 2015, 154) finished in 3 min with state: COMPLETED\nTask ('dhs_tfrecords_raw_v2', 'angola', 2015, 155) finished in 3 min with state: COMPLETED\nTask ('dhs_tfrecords_raw_v2', 'angola', 2015, 156) finished in 3 min with state: COMPLETED\nTask ('dhs_tfrecords_raw_v2', 'angola', 2015, 157) finished in 3 min with state: COMPLETED\nTask ('dhs_tfrecords_raw_v2', 'angola', 2015, 158) finished in 3 min with state: COMPLETED\nTask ('dhs_tfrecords_raw_v2', 'angola', 2015, 159) finished in 3 min with state: COMPLETED\nTask ('dhs_tfrecords_raw_v2', 'angola', 2015, 160) finished in 3 min with state: COMPLETED\nTask ('dhs_tfrecords_raw_v2', 'angola', 2015, 162) finished in 3 min with state: COMPLETED\nTask ('dhs_tfrecords_raw_v2', 'angola', 2015, 163) finished in 3 min with state: COMPLETED\nTask ('dhs_tfrecords_raw_v2', 'angola', 2015, 165) finished in 3 min with state: COMPLETED\nTask ('dhs_tfrecords_raw_v2', 'angola', 2015, 167) finished in 3 min with state: COMPLETED\nTask ('dhs_tfrecords_raw_v2', 'angola', 2015, 169) finished in 3 min with state: COMPLETED\nTask ('dhs_tfrecords_raw_v2', 'angola', 2015, 170) finished in 3 min with state: COMPLETED\nTask ('dhs_tfrecords_raw_v2', 'angola', 2015, 141) finished in 3 min with state: COMPLETED\nTask ('dhs_tfrecords_raw_v2', 'angola', 2015, 149) finished in 4 min with state: COMPLETED\nTask ('dhs_tfrecords_raw_v2', 'angola', 2015, 161) finished in 3 min with state: COMPLETED\nTask ('dhs_tfrecords_raw_v2', 'angola', 2015, 164) finished in 3 min with state: COMPLETED\nTask ('dhs_tfrecords_raw_v2', 'angola', 2015, 166) finished in 3 min with state: COMPLETED\nTask ('dhs_tfrecords_raw_v2', 'angola', 2015, 168) finished in 3 min with state: COMPLETED\nTask ('dhs_tfrecords_raw_v2', 'angola', 2015, 171) finished in 3 min with state: COMPLETED\nTask ('dhs_tfrecords_raw_v2', 'angola', 2015, 172) finished in 3 min with state: COMPLETED\nTask ('dhs_tfrecords_raw_v2', 'angola', 2015, 173) finished in 3 min with state: COMPLETED\nTask ('dhs_tfrecords_raw_v2', 'angola', 2015, 174) finished in 3 min with state: COMPLETED\nTask ('dhs_tfrecords_raw_v2', 'angola', 2015, 175) finished in 3 min with state: COMPLETED\nTask ('dhs_tfrecords_raw_v2', 'angola', 2015, 176) finished in 3 min with state: COMPLETED\nTask ('dhs_tfrecords_raw_v2', 'angola', 2015, 177) finished in 3 min with state: COMPLETED\nTask ('dhs_tfrecords_raw_v2', 'angola', 2015, 178) finished in 3 min with state: COMPLETED\nTask ('dhs_tfrecords_raw_v2', 'angola', 2015, 179) finished in 3 min with state: COMPLETED\nTask ('dhs_tfrecords_raw_v2', 'angola', 2015, 180) finished in 3 min with state: COMPLETED\nTask ('dhs_tfrecords_raw_v2', 'angola', 2015, 181) finished in 3 min with state: COMPLETED\nTask ('dhs_tfrecords_raw_v2', 'angola', 2015, 182) finished in 3 min with state: COMPLETED\nTask ('dhs_tfrecords_raw_v2', 'angola', 2015, 183) finished in 3 min with state: COMPLETED\nTask ('dhs_tfrecords_raw_v2', 'angola', 2015, 184) finished in 3 min with state: COMPLETED\nTask ('dhs_tfrecords_raw_v2', 'angola', 2015, 185) finished in 3 min with state: COMPLETED\nTask ('dhs_tfrecords_raw_v2', 'angola', 2015, 186) finished in 3 min with state: COMPLETED\nTask ('dhs_tfrecords_raw_v2', 'angola', 2015, 187) finished in 3 min with state: COMPLETED\nTask ('dhs_tfrecords_raw_v2', 'angola', 2015, 188) finished in 3 min with state: COMPLETED\nTask ('dhs_tfrecords_raw_v2', 'angola', 2015, 189) finished in 3 min with state: COMPLETED\nTask ('dhs_tfrecords_raw_v2', 'angola', 2015, 190) finished in 3 min with state: COMPLETED\nTask ('dhs_tfrecords_raw_v2', 'angola', 2015, 191) finished in 3 min with state: COMPLETED\nTask ('dhs_tfrecords_raw_v2', 'angola', 2015, 192) finished in 3 min with state: COMPLETED\nTask ('dhs_tfrecords_raw_v2', 'angola', 2015, 193) finished in 3 min with state: COMPLETED\nTask ('dhs_tfrecords_raw_v2', 'angola', 2015, 194) finished in 3 min with state: COMPLETED\nTask ('dhs_tfrecords_raw_v2', 'angola', 2015, 195) finished in 3 min with state: COMPLETED\nTask ('dhs_tfrecords_raw_v2', 'angola', 2015, 196) finished in 3 min with state: COMPLETED\nTask ('dhs_tfrecords_raw_v2', 'angola', 2015, 197) finished in 3 min with state: COMPLETED\nTask ('dhs_tfrecords_raw_v2', 'angola', 2015, 198) finished in 3 min with state: COMPLETED\nTask ('dhs_tfrecords_raw_v2', 'angola', 2015, 199) finished in 3 min with state: COMPLETED\nTask ('dhs_tfrecords_raw_v2', 'angola', 2015, 200) finished in 3 min with state: COMPLETED\nTask ('dhs_tfrecords_raw_v2', 'angola', 2015, 201) finished in 4 min with state: COMPLETED\nTask ('dhs_tfrecords_raw_v2', 'angola', 2015, 202) finished in 3 min with state: COMPLETED\nTask ('dhs_tfrecords_raw_v2', 'angola', 2015, 203) finished in 3 min with state: COMPLETED\nTask ('dhs_tfrecords_raw_v2', 'angola', 2015, 204) finished in 3 min with state: COMPLETED\nTask ('dhs_tfrecords_raw_v2', 'angola', 2015, 205) finished in 3 min with state: COMPLETED\nTask ('dhs_tfrecords_raw_v2', 'angola', 2015, 206) finished in 3 min with state: COMPLETED\nTask ('dhs_tfrecords_raw_v2', 'angola', 2015, 207) finished in 3 min with state: COMPLETED\nTask ('dhs_tfrecords_raw_v2', 'angola', 2015, 208) finished in 3 min with state: COMPLETED\nTask ('dhs_tfrecords_raw_v2', 'angola', 2015, 209) finished in 3 min with state: COMPLETED\nTask ('dhs_tfrecords_raw_v2', 'angola', 2015, 210) finished in 3 min with state: COMPLETED\nTask ('dhs_tfrecords_raw_v2', 'angola', 2015, 211) finished in 4 min with state: COMPLETED\nTask ('dhs_tfrecords_raw_v2', 'angola', 2015, 212) finished in 4 min with state: COMPLETED\nTask ('dhs_tfrecords_raw_v2', 'angola', 2015, 213) finished in 3 min with state: COMPLETED\nTask ('dhs_tfrecords_raw_v2', 'angola', 2015, 214) finished in 3 min with state: COMPLETED\nTask ('dhs_tfrecords_raw_v2', 'angola', 2015, 215) finished in 4 min with state: COMPLETED\nTask ('dhs_tfrecords_raw_v2', 'angola', 2015, 216) finished in 4 min with state: COMPLETED\nTask ('dhs_tfrecords_raw_v2', 'angola', 2015, 217) finished in 4 min with state: COMPLETED\nTask ('dhs_tfrecords_raw_v2', 'angola', 2015, 218) finished in 4 min with state: COMPLETED\nTask ('dhs_tfrecords_raw_v2', 'angola', 2015, 219) finished in 4 min with state: COMPLETED\nTask ('dhs_tfrecords_raw_v2', 'angola', 2015, 220) finished in 4 min with state: COMPLETED\nTask ('dhs_tfrecords_raw_v2', 'angola', 2015, 221) finished in 4 min with state: COMPLETED\nTask ('dhs_tfrecords_raw_v2', 'angola', 2015, 222) finished in 4 min with state: COMPLETED\nTask ('dhs_tfrecords_raw_v2', 'angola', 2015, 223) finished in 4 min with state: COMPLETED\nTask ('dhs_tfrecords_raw_v2', 'angola', 2015, 224) finished in 4 min with state: COMPLETED\nTask ('dhs_tfrecords_raw_v2', 'angola', 2015, 226) finished in 4 min with state: COMPLETED\nTask ('dhs_tfrecords_raw_v2', 'angola', 2015, 227) finished in 4 min with state: COMPLETED\nTask ('dhs_tfrecords_raw_v2', 'angola', 2015, 228) finished in 4 min with state: COMPLETED\nTask ('dhs_tfrecords_raw_v2', 'angola', 2015, 229) finished in 4 min with state: COMPLETED\nTask ('dhs_tfrecords_raw_v2', 'angola', 2015, 230) finished in 4 min with state: COMPLETED\nTask ('dhs_tfrecords_raw_v2', 'angola', 2015, 232) finished in 4 min with state: COMPLETED\nTask ('dhs_tfrecords_raw_v2', 'angola', 2015, 233) finished in 4 min with state: COMPLETED\nTask ('dhs_tfrecords_raw_v2', 'angola', 2015, 234) finished in 4 min with state: COMPLETED\nTask ('dhs_tfrecords_raw_v2', 'angola', 2015, 235) finished in 4 min with state: COMPLETED\nTask ('dhs_tfrecords_raw_v2', 'angola', 2015, 236) finished in 4 min with state: COMPLETED\nTask ('dhs_tfrecords_raw_v2', 'angola', 2015, 237) finished in 4 min with state: COMPLETED\nTask ('dhs_tfrecords_raw_v2', 'angola', 2015, 238) finished in 4 min with state: COMPLETED\nTask ('dhs_tfrecords_raw_v2', 'angola', 2015, 239) finished in 4 min with state: COMPLETED\nTask ('dhs_tfrecords_raw_v2', 'angola', 2015, 240) finished in 4 min with state: COMPLETED\nTask ('dhs_tfrecords_raw_v2', 'angola', 2015, 241) finished in 4 min with state: COMPLETED\nTask ('dhs_tfrecords_raw_v2', 'angola', 2015, 242) finished in 4 min with state: COMPLETED\nTask ('dhs_tfrecords_raw_v2', 'angola', 2015, 243) finished in 4 min with state: COMPLETED\nTask ('dhs_tfrecords_raw_v2', 'angola', 2015, 244) finished in 4 min with state: COMPLETED\nTask ('dhs_tfrecords_raw_v2', 'angola', 2015, 245) finished in 4 min with state: COMPLETED\nTask ('dhs_tfrecords_raw_v2', 'angola', 2015, 247) finished in 4 min with state: COMPLETED\nTask ('dhs_tfrecords_raw_v2', 'angola', 2015, 249) finished in 4 min with state: COMPLETED\nTask ('dhs_tfrecords_raw_v2', 'angola', 2015, 250) finished in 4 min with state: COMPLETED\nTask ('dhs_tfrecords_raw_v2', 'angola', 2015, 225) finished in 4 min with state: COMPLETED\nTask ('dhs_tfrecords_raw_v2', 'angola', 2015, 231) finished in 4 min with state: COMPLETED\nTask ('dhs_tfrecords_raw_v2', 'angola', 2015, 246) finished in 4 min with state: COMPLETED\nTask ('dhs_tfrecords_raw_v2', 'angola', 2015, 248) finished in 4 min with state: COMPLETED\nTask ('dhs_tfrecords_raw_v2', 'angola', 2015, 251) finished in 4 min with state: COMPLETED\nTask ('dhs_tfrecords_raw_v2', 'angola', 2015, 252) finished in 4 min with state: COMPLETED\nTask ('dhs_tfrecords_raw_v2', 'angola', 2015, 253) finished in 5 min with state: COMPLETED\nTask ('dhs_tfrecords_raw_v2', 'angola', 2015, 254) finished in 4 min with state: COMPLETED\nTask ('dhs_tfrecords_raw_v2', 'angola', 2015, 255) finished in 4 min with state: COMPLETED\nTask ('dhs_tfrecords_raw_v2', 'angola', 2015, 256) finished in 4 min with state: COMPLETED\nTask ('dhs_tfrecords_raw_v2', 'angola', 2015, 257) finished in 4 min with state: COMPLETED\nTask ('dhs_tfrecords_raw_v2', 'angola', 2015, 258) finished in 4 min with state: COMPLETED\nTask ('dhs_tfrecords_raw_v2', 'angola', 2015, 259) finished in 4 min with state: COMPLETED\nTask ('dhs_tfrecords_raw_v2', 'angola', 2015, 260) finished in 4 min with state: COMPLETED\nTask ('dhs_tfrecords_raw_v2', 'angola', 2015, 261) finished in 4 min with state: COMPLETED\nTask ('dhs_tfrecords_raw_v2', 'angola', 2015, 262) finished in 4 min with state: COMPLETED\nTask ('dhs_tfrecords_raw_v2', 'angola', 2015, 263) finished in 5 min with state: COMPLETED\nTask ('dhs_tfrecords_raw_v2', 'angola', 2015, 264) finished in 5 min with state: COMPLETED\nTask ('dhs_tfrecords_raw_v2', 'angola', 2015, 265) finished in 4 min with state: COMPLETED\nTask ('dhs_tfrecords_raw_v2', 'angola', 2015, 266) finished in 4 min with state: COMPLETED\nTask ('dhs_tfrecords_raw_v2', 'angola', 2015, 267) finished in 5 min with state: COMPLETED\nTask ('dhs_tfrecords_raw_v2', 'angola', 2015, 268) finished in 4 min with state: COMPLETED\nTask ('dhs_tfrecords_raw_v2', 'angola', 2015, 269) finished in 4 min with state: COMPLETED\nTask ('dhs_tfrecords_raw_v2', 'angola', 2015, 270) finished in 4 min with state: COMPLETED\nTask ('dhs_tfrecords_raw_v2', 'angola', 2015, 271) finished in 4 min with state: COMPLETED\nTask ('dhs_tfrecords_raw_v2', 'angola', 2015, 272) finished in 5 min with state: COMPLETED\nTask ('dhs_tfrecords_raw_v2', 'angola', 2015, 273) finished in 5 min with state: COMPLETED\nTask ('dhs_tfrecords_raw_v2', 'angola', 2015, 274) finished in 5 min with state: COMPLETED\nTask ('dhs_tfrecords_raw_v2', 'angola', 2015, 275) finished in 5 min with state: COMPLETED\nTask ('dhs_tfrecords_raw_v2', 'angola', 2015, 276) finished in 5 min with state: COMPLETED\nTask ('dhs_tfrecords_raw_v2', 'angola', 2015, 277) finished in 5 min with state: COMPLETED\nTask ('dhs_tfrecords_raw_v2', 'angola', 2015, 278) finished in 5 min with state: COMPLETED\nTask ('dhs_tfrecords_raw_v2', 'angola', 2015, 279) finished in 5 min with state: COMPLETED\nTask ('dhs_tfrecords_raw_v2', 'angola', 2015, 280) finished in 5 min with state: COMPLETED\nTask ('dhs_tfrecords_raw_v2', 'angola', 2015, 281) finished in 5 min with state: COMPLETED\nTask ('dhs_tfrecords_raw_v2', 'angola', 2015, 282) finished in 5 min with state: COMPLETED\nTask ('dhs_tfrecords_raw_v2', 'angola', 2015, 283) finished in 5 min with state: COMPLETED\nTask ('dhs_tfrecords_raw_v2', 'angola', 2015, 284) finished in 5 min with state: COMPLETED\nTask ('dhs_tfrecords_raw_v2', 'angola', 2015, 285) finished in 5 min with state: COMPLETED\nTask ('dhs_tfrecords_raw_v2', 'angola', 2015, 286) finished in 5 min with state: COMPLETED\nTask ('dhs_tfrecords_raw_v2', 'angola', 2015, 287) finished in 5 min with state: COMPLETED\nTask ('dhs_tfrecords_raw_v2', 'angola', 2015, 288) finished in 5 min with state: COMPLETED\nTask ('dhs_tfrecords_raw_v2', 'angola', 2015, 289) finished in 5 min with state: COMPLETED\nTask ('dhs_tfrecords_raw_v2', 'angola', 2015, 290) finished in 5 min with state: COMPLETED\nTask ('dhs_tfrecords_raw_v2', 'angola', 2015, 291) finished in 5 min with state: COMPLETED\nTask ('dhs_tfrecords_raw_v2', 'angola', 2015, 292) finished in 5 min with state: COMPLETED\nTask ('dhs_tfrecords_raw_v2', 'angola', 2015, 293) finished in 5 min with state: COMPLETED\nTask ('dhs_tfrecords_raw_v2', 'angola', 2015, 294) finished in 5 min with state: COMPLETED\nTask ('dhs_tfrecords_raw_v2', 'angola', 2015, 295) finished in 5 min with state: COMPLETED\nTask ('dhs_tfrecords_raw_v2', 'angola', 2015, 296) finished in 5 min with state: COMPLETED\nTask ('dhs_tfrecords_raw_v2', 'angola', 2015, 297) finished in 5 min with state: COMPLETED\nTask ('dhs_tfrecords_raw_v2', 'angola', 2015, 298) finished in 5 min with state: COMPLETED\nTask ('dhs_tfrecords_raw_v2', 'angola', 2015, 299) finished in 5 min with state: COMPLETED\nTask ('dhs_tfrecords_raw_v2', 'angola', 2015, 300) finished in 5 min with state: COMPLETED\nTask ('dhs_tfrecords_raw_v2', 'angola', 2015, 301) finished in 5 min with state: COMPLETED\nTask ('dhs_tfrecords_raw_v2', 'angola', 2015, 302) finished in 5 min with state: COMPLETED\nTask ('dhs_tfrecords_raw_v2', 'angola', 2015, 303) finished in 5 min with state: COMPLETED\nTask ('dhs_tfrecords_raw_v2', 'angola', 2015, 304) finished in 5 min with state: COMPLETED\nTask ('dhs_tfrecords_raw_v2', 'angola', 2015, 305) finished in 5 min with state: COMPLETED\nTask ('dhs_tfrecords_raw_v2', 'angola', 2015, 306) finished in 5 min with state: COMPLETED\nTask ('dhs_tfrecords_raw_v2', 'angola', 2015, 307) finished in 5 min with state: COMPLETED\nTask ('dhs_tfrecords_raw_v2', 'angola', 2015, 308) finished in 5 min with state: COMPLETED\nTask ('dhs_tfrecords_raw_v2', 'angola', 2015, 309) finished in 5 min with state: COMPLETED\nTask ('dhs_tfrecords_raw_v2', 'angola', 2015, 310) finished in 5 min with state: COMPLETED\nTask ('dhs_tfrecords_raw_v2', 'angola', 2015, 311) finished in 5 min with state: COMPLETED\nTask ('dhs_tfrecords_raw_v2', 'angola', 2015, 312) finished in 5 min with state: COMPLETED\nTask ('dhs_tfrecords_raw_v2', 'angola', 2015, 313) finished in 5 min with state: COMPLETED\nTask ('dhs_tfrecords_raw_v2', 'angola', 2015, 314) finished in 5 min with state: COMPLETED\nTask ('dhs_tfrecords_raw_v2', 'angola', 2015, 315) finished in 5 min with state: COMPLETED\nFinished export for angola, 2015.\nStarting export for angola, 2016...\nWaiting on export tasks for angola, 2016...\n"
     ]
    },
    {
     "output_type": "display_data",
     "data": {
      "application/vnd.jupyter.widget-view+json": {
       "model_id": "ac2253fb59274baab185c67d88ba9922",
       "version_major": 2,
       "version_minor": 0
      },
      "text/plain": [
       "  0%|          | 0/308 [00:00<?, ?it/s]"
      ]
     },
     "metadata": {},
     "output_type": "display_data"
    },
    {
     "output_type": "stream",
     "name": "stdout",
     "output_type": "stream",
     "text": [
      "Task ('dhs_tfrecords_raw_v2', 'angola', 2016, 0) finished in 0 min with state: COMPLETED\nTask ('dhs_tfrecords_raw_v2', 'angola', 2016, 1) finished in 0 min with state: COMPLETED\nTask ('dhs_tfrecords_raw_v2', 'angola', 2016, 2) finished in 0 min with state: COMPLETED\nTask ('dhs_tfrecords_raw_v2', 'angola', 2016, 3) finished in 0 min with state: COMPLETED\nTask ('dhs_tfrecords_raw_v2', 'angola', 2016, 4) finished in 0 min with state: COMPLETED\nTask ('dhs_tfrecords_raw_v2', 'angola', 2016, 5) finished in 0 min with state: COMPLETED\nTask ('dhs_tfrecords_raw_v2', 'angola', 2016, 6) finished in 0 min with state: COMPLETED\nTask ('dhs_tfrecords_raw_v2', 'angola', 2016, 7) finished in 0 min with state: COMPLETED\nTask ('dhs_tfrecords_raw_v2', 'angola', 2016, 8) finished in 0 min with state: COMPLETED\nTask ('dhs_tfrecords_raw_v2', 'angola', 2016, 9) finished in 0 min with state: COMPLETED\nTask ('dhs_tfrecords_raw_v2', 'angola', 2016, 10) finished in 0 min with state: COMPLETED\nTask ('dhs_tfrecords_raw_v2', 'angola', 2016, 11) finished in 0 min with state: COMPLETED\nTask ('dhs_tfrecords_raw_v2', 'angola', 2016, 12) finished in 0 min with state: COMPLETED\nTask ('dhs_tfrecords_raw_v2', 'angola', 2016, 13) finished in 0 min with state: COMPLETED\nTask ('dhs_tfrecords_raw_v2', 'angola', 2016, 14) finished in 0 min with state: COMPLETED\nTask ('dhs_tfrecords_raw_v2', 'angola', 2016, 15) finished in 0 min with state: COMPLETED\nTask ('dhs_tfrecords_raw_v2', 'angola', 2016, 16) finished in 0 min with state: COMPLETED\nTask ('dhs_tfrecords_raw_v2', 'angola', 2016, 17) finished in 0 min with state: COMPLETED\nTask ('dhs_tfrecords_raw_v2', 'angola', 2016, 18) finished in 0 min with state: COMPLETED\nTask ('dhs_tfrecords_raw_v2', 'angola', 2016, 19) finished in 0 min with state: COMPLETED\nTask ('dhs_tfrecords_raw_v2', 'angola', 2016, 20) finished in 0 min with state: COMPLETED\nTask ('dhs_tfrecords_raw_v2', 'angola', 2016, 21) finished in 0 min with state: COMPLETED\nTask ('dhs_tfrecords_raw_v2', 'angola', 2016, 22) finished in 0 min with state: COMPLETED\nTask ('dhs_tfrecords_raw_v2', 'angola', 2016, 23) finished in 0 min with state: COMPLETED\nTask ('dhs_tfrecords_raw_v2', 'angola', 2016, 24) finished in 0 min with state: COMPLETED\nTask ('dhs_tfrecords_raw_v2', 'angola', 2016, 25) finished in 0 min with state: COMPLETED\nTask ('dhs_tfrecords_raw_v2', 'angola', 2016, 26) finished in 0 min with state: COMPLETED\nTask ('dhs_tfrecords_raw_v2', 'angola', 2016, 27) finished in 0 min with state: COMPLETED\nTask ('dhs_tfrecords_raw_v2', 'angola', 2016, 28) finished in 0 min with state: COMPLETED\nTask ('dhs_tfrecords_raw_v2', 'angola', 2016, 29) finished in 0 min with state: COMPLETED\nTask ('dhs_tfrecords_raw_v2', 'angola', 2016, 30) finished in 0 min with state: COMPLETED\nTask ('dhs_tfrecords_raw_v2', 'angola', 2016, 31) finished in 0 min with state: COMPLETED\nTask ('dhs_tfrecords_raw_v2', 'angola', 2016, 32) finished in 0 min with state: COMPLETED\nTask ('dhs_tfrecords_raw_v2', 'angola', 2016, 33) finished in 0 min with state: COMPLETED\nTask ('dhs_tfrecords_raw_v2', 'angola', 2016, 34) finished in 0 min with state: COMPLETED\nTask ('dhs_tfrecords_raw_v2', 'angola', 2016, 35) finished in 0 min with state: COMPLETED\nTask ('dhs_tfrecords_raw_v2', 'angola', 2016, 36) finished in 0 min with state: COMPLETED\nTask ('dhs_tfrecords_raw_v2', 'angola', 2016, 37) finished in 0 min with state: COMPLETED\nTask ('dhs_tfrecords_raw_v2', 'angola', 2016, 38) finished in 0 min with state: COMPLETED\nTask ('dhs_tfrecords_raw_v2', 'angola', 2016, 39) finished in 0 min with state: COMPLETED\nTask ('dhs_tfrecords_raw_v2', 'angola', 2016, 40) finished in 0 min with state: COMPLETED\nTask ('dhs_tfrecords_raw_v2', 'angola', 2016, 41) finished in 0 min with state: COMPLETED\nTask ('dhs_tfrecords_raw_v2', 'angola', 2016, 42) finished in 0 min with state: COMPLETED\nTask ('dhs_tfrecords_raw_v2', 'angola', 2016, 43) finished in 1 min with state: COMPLETED\nTask ('dhs_tfrecords_raw_v2', 'angola', 2016, 44) finished in 0 min with state: COMPLETED\nTask ('dhs_tfrecords_raw_v2', 'angola', 2016, 45) finished in 0 min with state: COMPLETED\nTask ('dhs_tfrecords_raw_v2', 'angola', 2016, 46) finished in 0 min with state: COMPLETED\nTask ('dhs_tfrecords_raw_v2', 'angola', 2016, 47) finished in 1 min with state: COMPLETED\nTask ('dhs_tfrecords_raw_v2', 'angola', 2016, 48) finished in 0 min with state: COMPLETED\nTask ('dhs_tfrecords_raw_v2', 'angola', 2016, 49) finished in 0 min with state: COMPLETED\nTask ('dhs_tfrecords_raw_v2', 'angola', 2016, 50) finished in 0 min with state: COMPLETED\nTask ('dhs_tfrecords_raw_v2', 'angola', 2016, 51) finished in 0 min with state: COMPLETED\nTask ('dhs_tfrecords_raw_v2', 'angola', 2016, 52) finished in 0 min with state: COMPLETED\nTask ('dhs_tfrecords_raw_v2', 'angola', 2016, 53) finished in 0 min with state: COMPLETED\nTask ('dhs_tfrecords_raw_v2', 'angola', 2016, 54) finished in 0 min with state: COMPLETED\nTask ('dhs_tfrecords_raw_v2', 'angola', 2016, 55) finished in 0 min with state: COMPLETED\nTask ('dhs_tfrecords_raw_v2', 'angola', 2016, 56) finished in 0 min with state: COMPLETED\nTask ('dhs_tfrecords_raw_v2', 'angola', 2016, 57) finished in 0 min with state: COMPLETED\nTask ('dhs_tfrecords_raw_v2', 'angola', 2016, 58) finished in 0 min with state: COMPLETED\nTask ('dhs_tfrecords_raw_v2', 'angola', 2016, 59) finished in 0 min with state: COMPLETED\nTask ('dhs_tfrecords_raw_v2', 'angola', 2016, 60) finished in 0 min with state: COMPLETED\nTask ('dhs_tfrecords_raw_v2', 'angola', 2016, 61) finished in 1 min with state: COMPLETED\nTask ('dhs_tfrecords_raw_v2', 'angola', 2016, 62) finished in 1 min with state: COMPLETED\nTask ('dhs_tfrecords_raw_v2', 'angola', 2016, 63) finished in 1 min with state: COMPLETED\nTask ('dhs_tfrecords_raw_v2', 'angola', 2016, 64) finished in 1 min with state: COMPLETED\nTask ('dhs_tfrecords_raw_v2', 'angola', 2016, 65) finished in 1 min with state: COMPLETED\nTask ('dhs_tfrecords_raw_v2', 'angola', 2016, 66) finished in 1 min with state: COMPLETED\nTask ('dhs_tfrecords_raw_v2', 'angola', 2016, 67) finished in 1 min with state: COMPLETED\nTask ('dhs_tfrecords_raw_v2', 'angola', 2016, 68) finished in 1 min with state: COMPLETED\nTask ('dhs_tfrecords_raw_v2', 'angola', 2016, 69) finished in 1 min with state: COMPLETED\nTask ('dhs_tfrecords_raw_v2', 'angola', 2016, 70) finished in 1 min with state: COMPLETED\nTask ('dhs_tfrecords_raw_v2', 'angola', 2016, 71) finished in 1 min with state: COMPLETED\nTask ('dhs_tfrecords_raw_v2', 'angola', 2016, 72) finished in 1 min with state: COMPLETED\nTask ('dhs_tfrecords_raw_v2', 'angola', 2016, 73) finished in 1 min with state: COMPLETED\nTask ('dhs_tfrecords_raw_v2', 'angola', 2016, 74) finished in 1 min with state: COMPLETED\nTask ('dhs_tfrecords_raw_v2', 'angola', 2016, 75) finished in 1 min with state: COMPLETED\nTask ('dhs_tfrecords_raw_v2', 'angola', 2016, 76) finished in 1 min with state: COMPLETED\nTask ('dhs_tfrecords_raw_v2', 'angola', 2016, 77) finished in 1 min with state: COMPLETED\nTask ('dhs_tfrecords_raw_v2', 'angola', 2016, 78) finished in 1 min with state: COMPLETED\nTask ('dhs_tfrecords_raw_v2', 'angola', 2016, 79) finished in 1 min with state: COMPLETED\nTask ('dhs_tfrecords_raw_v2', 'angola', 2016, 81) finished in 1 min with state: COMPLETED\nTask ('dhs_tfrecords_raw_v2', 'angola', 2016, 82) finished in 1 min with state: COMPLETED\nTask ('dhs_tfrecords_raw_v2', 'angola', 2016, 83) finished in 1 min with state: COMPLETED\nTask ('dhs_tfrecords_raw_v2', 'angola', 2016, 84) finished in 1 min with state: COMPLETED\nTask ('dhs_tfrecords_raw_v2', 'angola', 2016, 85) finished in 1 min with state: COMPLETED\nTask ('dhs_tfrecords_raw_v2', 'angola', 2016, 86) finished in 1 min with state: COMPLETED\nTask ('dhs_tfrecords_raw_v2', 'angola', 2016, 87) finished in 1 min with state: COMPLETED\nTask ('dhs_tfrecords_raw_v2', 'angola', 2016, 88) finished in 1 min with state: COMPLETED\nTask ('dhs_tfrecords_raw_v2', 'angola', 2016, 89) finished in 1 min with state: COMPLETED\nTask ('dhs_tfrecords_raw_v2', 'angola', 2016, 91) finished in 1 min with state: COMPLETED\nTask ('dhs_tfrecords_raw_v2', 'angola', 2016, 92) finished in 1 min with state: COMPLETED\nTask ('dhs_tfrecords_raw_v2', 'angola', 2016, 93) finished in 1 min with state: COMPLETED\nTask ('dhs_tfrecords_raw_v2', 'angola', 2016, 95) finished in 1 min with state: COMPLETED\nTask ('dhs_tfrecords_raw_v2', 'angola', 2016, 99) finished in 1 min with state: COMPLETED\nTask ('dhs_tfrecords_raw_v2', 'angola', 2016, 80) finished in 1 min with state: COMPLETED\nTask ('dhs_tfrecords_raw_v2', 'angola', 2016, 90) finished in 1 min with state: COMPLETED\nTask ('dhs_tfrecords_raw_v2', 'angola', 2016, 94) finished in 1 min with state: COMPLETED\nTask ('dhs_tfrecords_raw_v2', 'angola', 2016, 96) finished in 1 min with state: COMPLETED\nTask ('dhs_tfrecords_raw_v2', 'angola', 2016, 97) finished in 1 min with state: COMPLETED\nTask ('dhs_tfrecords_raw_v2', 'angola', 2016, 98) finished in 1 min with state: COMPLETED\nTask ('dhs_tfrecords_raw_v2', 'angola', 2016, 100) finished in 1 min with state: COMPLETED\nTask ('dhs_tfrecords_raw_v2', 'angola', 2016, 101) finished in 1 min with state: COMPLETED\nTask ('dhs_tfrecords_raw_v2', 'angola', 2016, 102) finished in 1 min with state: COMPLETED\nTask ('dhs_tfrecords_raw_v2', 'angola', 2016, 103) finished in 1 min with state: COMPLETED\nTask ('dhs_tfrecords_raw_v2', 'angola', 2016, 104) finished in 1 min with state: COMPLETED\nTask ('dhs_tfrecords_raw_v2', 'angola', 2016, 105) finished in 1 min with state: COMPLETED\nTask ('dhs_tfrecords_raw_v2', 'angola', 2016, 106) finished in 1 min with state: COMPLETED\nTask ('dhs_tfrecords_raw_v2', 'angola', 2016, 107) finished in 1 min with state: COMPLETED\nTask ('dhs_tfrecords_raw_v2', 'angola', 2016, 108) finished in 1 min with state: COMPLETED\nTask ('dhs_tfrecords_raw_v2', 'angola', 2016, 109) finished in 1 min with state: COMPLETED\nTask ('dhs_tfrecords_raw_v2', 'angola', 2016, 110) finished in 1 min with state: COMPLETED\nTask ('dhs_tfrecords_raw_v2', 'angola', 2016, 111) finished in 1 min with state: COMPLETED\nTask ('dhs_tfrecords_raw_v2', 'angola', 2016, 112) finished in 1 min with state: COMPLETED\nTask ('dhs_tfrecords_raw_v2', 'angola', 2016, 113) finished in 2 min with state: COMPLETED\nTask ('dhs_tfrecords_raw_v2', 'angola', 2016, 114) finished in 1 min with state: COMPLETED\nTask ('dhs_tfrecords_raw_v2', 'angola', 2016, 115) finished in 2 min with state: COMPLETED\nTask ('dhs_tfrecords_raw_v2', 'angola', 2016, 116) finished in 2 min with state: COMPLETED\nTask ('dhs_tfrecords_raw_v2', 'angola', 2016, 117) finished in 2 min with state: COMPLETED\nTask ('dhs_tfrecords_raw_v2', 'angola', 2016, 118) finished in 1 min with state: COMPLETED\nTask ('dhs_tfrecords_raw_v2', 'angola', 2016, 119) finished in 2 min with state: COMPLETED\nTask ('dhs_tfrecords_raw_v2', 'angola', 2016, 120) finished in 2 min with state: COMPLETED\nTask ('dhs_tfrecords_raw_v2', 'angola', 2016, 121) finished in 2 min with state: COMPLETED\nTask ('dhs_tfrecords_raw_v2', 'angola', 2016, 122) finished in 2 min with state: COMPLETED\nTask ('dhs_tfrecords_raw_v2', 'angola', 2016, 123) finished in 2 min with state: COMPLETED\nTask ('dhs_tfrecords_raw_v2', 'angola', 2016, 124) finished in 2 min with state: COMPLETED\nTask ('dhs_tfrecords_raw_v2', 'angola', 2016, 125) finished in 2 min with state: COMPLETED\nTask ('dhs_tfrecords_raw_v2', 'angola', 2016, 126) finished in 2 min with state: COMPLETED\nTask ('dhs_tfrecords_raw_v2', 'angola', 2016, 127) finished in 2 min with state: COMPLETED\nTask ('dhs_tfrecords_raw_v2', 'angola', 2016, 128) finished in 2 min with state: COMPLETED\nTask ('dhs_tfrecords_raw_v2', 'angola', 2016, 129) finished in 2 min with state: COMPLETED\nTask ('dhs_tfrecords_raw_v2', 'angola', 2016, 130) finished in 2 min with state: COMPLETED\nTask ('dhs_tfrecords_raw_v2', 'angola', 2016, 131) finished in 2 min with state: COMPLETED\nTask ('dhs_tfrecords_raw_v2', 'angola', 2016, 132) finished in 2 min with state: COMPLETED\nTask ('dhs_tfrecords_raw_v2', 'angola', 2016, 133) finished in 2 min with state: COMPLETED\nTask ('dhs_tfrecords_raw_v2', 'angola', 2016, 134) finished in 2 min with state: COMPLETED\nTask ('dhs_tfrecords_raw_v2', 'angola', 2016, 135) finished in 2 min with state: COMPLETED\nTask ('dhs_tfrecords_raw_v2', 'angola', 2016, 136) finished in 2 min with state: COMPLETED\nTask ('dhs_tfrecords_raw_v2', 'angola', 2016, 137) finished in 2 min with state: COMPLETED\nTask ('dhs_tfrecords_raw_v2', 'angola', 2016, 138) finished in 2 min with state: COMPLETED\nTask ('dhs_tfrecords_raw_v2', 'angola', 2016, 139) finished in 2 min with state: COMPLETED\nTask ('dhs_tfrecords_raw_v2', 'angola', 2016, 140) finished in 2 min with state: COMPLETED\nTask ('dhs_tfrecords_raw_v2', 'angola', 2016, 141) finished in 2 min with state: COMPLETED\nTask ('dhs_tfrecords_raw_v2', 'angola', 2016, 142) finished in 2 min with state: COMPLETED\nTask ('dhs_tfrecords_raw_v2', 'angola', 2016, 143) finished in 2 min with state: COMPLETED\nTask ('dhs_tfrecords_raw_v2', 'angola', 2016, 144) finished in 2 min with state: COMPLETED\nTask ('dhs_tfrecords_raw_v2', 'angola', 2016, 145) finished in 2 min with state: COMPLETED\nTask ('dhs_tfrecords_raw_v2', 'angola', 2016, 146) finished in 2 min with state: COMPLETED\nTask ('dhs_tfrecords_raw_v2', 'angola', 2016, 147) finished in 2 min with state: COMPLETED\nTask ('dhs_tfrecords_raw_v2', 'angola', 2016, 148) finished in 2 min with state: COMPLETED\nTask ('dhs_tfrecords_raw_v2', 'angola', 2016, 149) finished in 2 min with state: COMPLETED\nTask ('dhs_tfrecords_raw_v2', 'angola', 2016, 150) finished in 3 min with state: COMPLETED\nTask ('dhs_tfrecords_raw_v2', 'angola', 2016, 151) finished in 2 min with state: COMPLETED\nTask ('dhs_tfrecords_raw_v2', 'angola', 2016, 152) finished in 2 min with state: COMPLETED\nTask ('dhs_tfrecords_raw_v2', 'angola', 2016, 154) finished in 2 min with state: COMPLETED\nTask ('dhs_tfrecords_raw_v2', 'angola', 2016, 155) finished in 2 min with state: COMPLETED\nTask ('dhs_tfrecords_raw_v2', 'angola', 2016, 156) finished in 2 min with state: COMPLETED\nTask ('dhs_tfrecords_raw_v2', 'angola', 2016, 157) finished in 2 min with state: COMPLETED\nTask ('dhs_tfrecords_raw_v2', 'angola', 2016, 158) finished in 2 min with state: COMPLETED\nTask ('dhs_tfrecords_raw_v2', 'angola', 2016, 159) finished in 2 min with state: COMPLETED\nTask ('dhs_tfrecords_raw_v2', 'angola', 2016, 160) finished in 2 min with state: COMPLETED\nTask ('dhs_tfrecords_raw_v2', 'angola', 2016, 161) finished in 2 min with state: COMPLETED\nTask ('dhs_tfrecords_raw_v2', 'angola', 2016, 162) finished in 2 min with state: COMPLETED\nTask ('dhs_tfrecords_raw_v2', 'angola', 2016, 163) finished in 2 min with state: COMPLETED\nTask ('dhs_tfrecords_raw_v2', 'angola', 2016, 164) finished in 2 min with state: COMPLETED\nTask ('dhs_tfrecords_raw_v2', 'angola', 2016, 165) finished in 2 min with state: COMPLETED\nTask ('dhs_tfrecords_raw_v2', 'angola', 2016, 166) finished in 2 min with state: COMPLETED\nTask ('dhs_tfrecords_raw_v2', 'angola', 2016, 167) finished in 2 min with state: COMPLETED\nTask ('dhs_tfrecords_raw_v2', 'angola', 2016, 168) finished in 2 min with state: COMPLETED\nTask ('dhs_tfrecords_raw_v2', 'angola', 2016, 169) finished in 2 min with state: COMPLETED\nTask ('dhs_tfrecords_raw_v2', 'angola', 2016, 170) finished in 3 min with state: COMPLETED\nTask ('dhs_tfrecords_raw_v2', 'angola', 2016, 171) finished in 3 min with state: COMPLETED\nTask ('dhs_tfrecords_raw_v2', 'angola', 2016, 172) finished in 3 min with state: COMPLETED\nTask ('dhs_tfrecords_raw_v2', 'angola', 2016, 173) finished in 3 min with state: COMPLETED\nTask ('dhs_tfrecords_raw_v2', 'angola', 2016, 174) finished in 2 min with state: COMPLETED\nTask ('dhs_tfrecords_raw_v2', 'angola', 2016, 175) finished in 3 min with state: COMPLETED\nTask ('dhs_tfrecords_raw_v2', 'angola', 2016, 176) finished in 2 min with state: COMPLETED\nTask ('dhs_tfrecords_raw_v2', 'angola', 2016, 177) finished in 3 min with state: COMPLETED\nTask ('dhs_tfrecords_raw_v2', 'angola', 2016, 178) finished in 2 min with state: COMPLETED\nTask ('dhs_tfrecords_raw_v2', 'angola', 2016, 179) finished in 3 min with state: COMPLETED\nTask ('dhs_tfrecords_raw_v2', 'angola', 2016, 180) finished in 3 min with state: COMPLETED\nTask ('dhs_tfrecords_raw_v2', 'angola', 2016, 181) finished in 3 min with state: COMPLETED\nTask ('dhs_tfrecords_raw_v2', 'angola', 2016, 182) finished in 3 min with state: COMPLETED\nTask ('dhs_tfrecords_raw_v2', 'angola', 2016, 153) finished in 3 min with state: COMPLETED\nTask ('dhs_tfrecords_raw_v2', 'angola', 2016, 183) finished in 3 min with state: COMPLETED\nTask ('dhs_tfrecords_raw_v2', 'angola', 2016, 184) finished in 3 min with state: COMPLETED\nTask ('dhs_tfrecords_raw_v2', 'angola', 2016, 185) finished in 3 min with state: COMPLETED\nTask ('dhs_tfrecords_raw_v2', 'angola', 2016, 186) finished in 3 min with state: COMPLETED\nTask ('dhs_tfrecords_raw_v2', 'angola', 2016, 187) finished in 3 min with state: COMPLETED\nTask ('dhs_tfrecords_raw_v2', 'angola', 2016, 188) finished in 3 min with state: COMPLETED\nTask ('dhs_tfrecords_raw_v2', 'angola', 2016, 189) finished in 3 min with state: COMPLETED\nTask ('dhs_tfrecords_raw_v2', 'angola', 2016, 190) finished in 3 min with state: COMPLETED\nTask ('dhs_tfrecords_raw_v2', 'angola', 2016, 191) finished in 3 min with state: COMPLETED\nTask ('dhs_tfrecords_raw_v2', 'angola', 2016, 192) finished in 3 min with state: COMPLETED\nTask ('dhs_tfrecords_raw_v2', 'angola', 2016, 193) finished in 3 min with state: COMPLETED\nTask ('dhs_tfrecords_raw_v2', 'angola', 2016, 194) finished in 3 min with state: COMPLETED\nTask ('dhs_tfrecords_raw_v2', 'angola', 2016, 195) finished in 3 min with state: COMPLETED\nTask ('dhs_tfrecords_raw_v2', 'angola', 2016, 196) finished in 3 min with state: COMPLETED\nTask ('dhs_tfrecords_raw_v2', 'angola', 2016, 197) finished in 3 min with state: COMPLETED\nTask ('dhs_tfrecords_raw_v2', 'angola', 2016, 198) finished in 3 min with state: COMPLETED\nTask ('dhs_tfrecords_raw_v2', 'angola', 2016, 199) finished in 3 min with state: COMPLETED\nTask ('dhs_tfrecords_raw_v2', 'angola', 2016, 200) finished in 3 min with state: COMPLETED\nTask ('dhs_tfrecords_raw_v2', 'angola', 2016, 201) finished in 3 min with state: COMPLETED\nTask ('dhs_tfrecords_raw_v2', 'angola', 2016, 202) finished in 3 min with state: COMPLETED\nTask ('dhs_tfrecords_raw_v2', 'angola', 2016, 203) finished in 3 min with state: COMPLETED\nTask ('dhs_tfrecords_raw_v2', 'angola', 2016, 204) finished in 3 min with state: COMPLETED\nTask ('dhs_tfrecords_raw_v2', 'angola', 2016, 205) finished in 3 min with state: COMPLETED\nTask ('dhs_tfrecords_raw_v2', 'angola', 2016, 206) finished in 3 min with state: COMPLETED\nTask ('dhs_tfrecords_raw_v2', 'angola', 2016, 207) finished in 3 min with state: COMPLETED\nTask ('dhs_tfrecords_raw_v2', 'angola', 2016, 208) finished in 3 min with state: COMPLETED\nTask ('dhs_tfrecords_raw_v2', 'angola', 2016, 209) finished in 3 min with state: COMPLETED\nTask ('dhs_tfrecords_raw_v2', 'angola', 2016, 210) finished in 3 min with state: COMPLETED\nTask ('dhs_tfrecords_raw_v2', 'angola', 2016, 211) finished in 3 min with state: COMPLETED\nTask ('dhs_tfrecords_raw_v2', 'angola', 2016, 212) finished in 3 min with state: COMPLETED\nTask ('dhs_tfrecords_raw_v2', 'angola', 2016, 213) finished in 3 min with state: COMPLETED\nTask ('dhs_tfrecords_raw_v2', 'angola', 2016, 214) finished in 3 min with state: COMPLETED\nTask ('dhs_tfrecords_raw_v2', 'angola', 2016, 215) finished in 3 min with state: COMPLETED\nTask ('dhs_tfrecords_raw_v2', 'angola', 2016, 216) finished in 3 min with state: COMPLETED\nTask ('dhs_tfrecords_raw_v2', 'angola', 2016, 217) finished in 3 min with state: COMPLETED\nTask ('dhs_tfrecords_raw_v2', 'angola', 2016, 218) finished in 3 min with state: COMPLETED\nTask ('dhs_tfrecords_raw_v2', 'angola', 2016, 219) finished in 3 min with state: COMPLETED\nTask ('dhs_tfrecords_raw_v2', 'angola', 2016, 220) finished in 3 min with state: COMPLETED\nTask ('dhs_tfrecords_raw_v2', 'angola', 2016, 221) finished in 3 min with state: COMPLETED\nTask ('dhs_tfrecords_raw_v2', 'angola', 2016, 222) finished in 3 min with state: COMPLETED\nTask ('dhs_tfrecords_raw_v2', 'angola', 2016, 223) finished in 3 min with state: COMPLETED\nTask ('dhs_tfrecords_raw_v2', 'angola', 2016, 224) finished in 3 min with state: COMPLETED\nTask ('dhs_tfrecords_raw_v2', 'angola', 2016, 225) finished in 3 min with state: COMPLETED\nTask ('dhs_tfrecords_raw_v2', 'angola', 2016, 226) finished in 3 min with state: COMPLETED\nTask ('dhs_tfrecords_raw_v2', 'angola', 2016, 227) finished in 3 min with state: COMPLETED\nTask ('dhs_tfrecords_raw_v2', 'angola', 2016, 228) finished in 3 min with state: COMPLETED\nTask ('dhs_tfrecords_raw_v2', 'angola', 2016, 229) finished in 3 min with state: COMPLETED\nTask ('dhs_tfrecords_raw_v2', 'angola', 2016, 230) finished in 3 min with state: COMPLETED\nTask ('dhs_tfrecords_raw_v2', 'angola', 2016, 231) finished in 3 min with state: COMPLETED\nTask ('dhs_tfrecords_raw_v2', 'angola', 2016, 232) finished in 3 min with state: COMPLETED\nTask ('dhs_tfrecords_raw_v2', 'angola', 2016, 233) finished in 3 min with state: COMPLETED\nTask ('dhs_tfrecords_raw_v2', 'angola', 2016, 234) finished in 3 min with state: COMPLETED\nTask ('dhs_tfrecords_raw_v2', 'angola', 2016, 235) finished in 4 min with state: COMPLETED\nTask ('dhs_tfrecords_raw_v2', 'angola', 2016, 236) finished in 3 min with state: COMPLETED\nTask ('dhs_tfrecords_raw_v2', 'angola', 2016, 237) finished in 3 min with state: COMPLETED\nTask ('dhs_tfrecords_raw_v2', 'angola', 2016, 238) finished in 3 min with state: COMPLETED\nTask ('dhs_tfrecords_raw_v2', 'angola', 2016, 239) finished in 3 min with state: COMPLETED\nTask ('dhs_tfrecords_raw_v2', 'angola', 2016, 240) finished in 3 min with state: COMPLETED\nTask ('dhs_tfrecords_raw_v2', 'angola', 2016, 241) finished in 3 min with state: COMPLETED\nTask ('dhs_tfrecords_raw_v2', 'angola', 2016, 242) finished in 3 min with state: COMPLETED\nTask ('dhs_tfrecords_raw_v2', 'angola', 2016, 243) finished in 3 min with state: COMPLETED\nTask ('dhs_tfrecords_raw_v2', 'angola', 2016, 244) finished in 3 min with state: COMPLETED\nTask ('dhs_tfrecords_raw_v2', 'angola', 2016, 245) finished in 3 min with state: COMPLETED\nTask ('dhs_tfrecords_raw_v2', 'angola', 2016, 246) finished in 4 min with state: COMPLETED\nTask ('dhs_tfrecords_raw_v2', 'angola', 2016, 247) finished in 4 min with state: COMPLETED\nTask ('dhs_tfrecords_raw_v2', 'angola', 2016, 248) finished in 4 min with state: COMPLETED\nTask ('dhs_tfrecords_raw_v2', 'angola', 2016, 249) finished in 4 min with state: COMPLETED\nTask ('dhs_tfrecords_raw_v2', 'angola', 2016, 250) finished in 4 min with state: COMPLETED\nTask ('dhs_tfrecords_raw_v2', 'angola', 2016, 251) finished in 4 min with state: COMPLETED\nTask ('dhs_tfrecords_raw_v2', 'angola', 2016, 252) finished in 4 min with state: COMPLETED\nTask ('dhs_tfrecords_raw_v2', 'angola', 2016, 253) finished in 4 min with state: COMPLETED\nTask ('dhs_tfrecords_raw_v2', 'angola', 2016, 254) finished in 4 min with state: COMPLETED\nTask ('dhs_tfrecords_raw_v2', 'angola', 2016, 255) finished in 3 min with state: COMPLETED\nTask ('dhs_tfrecords_raw_v2', 'angola', 2016, 256) finished in 4 min with state: COMPLETED\nTask ('dhs_tfrecords_raw_v2', 'angola', 2016, 257) finished in 4 min with state: COMPLETED\nTask ('dhs_tfrecords_raw_v2', 'angola', 2016, 258) finished in 4 min with state: COMPLETED\nTask ('dhs_tfrecords_raw_v2', 'angola', 2016, 259) finished in 4 min with state: COMPLETED\nTask ('dhs_tfrecords_raw_v2', 'angola', 2016, 262) finished in 4 min with state: COMPLETED\nTask ('dhs_tfrecords_raw_v2', 'angola', 2016, 264) finished in 4 min with state: COMPLETED\nTask ('dhs_tfrecords_raw_v2', 'angola', 2016, 265) finished in 4 min with state: COMPLETED\nTask ('dhs_tfrecords_raw_v2', 'angola', 2016, 266) finished in 4 min with state: COMPLETED\nTask ('dhs_tfrecords_raw_v2', 'angola', 2016, 260) finished in 4 min with state: COMPLETED\nTask ('dhs_tfrecords_raw_v2', 'angola', 2016, 261) finished in 4 min with state: COMPLETED\nTask ('dhs_tfrecords_raw_v2', 'angola', 2016, 263) finished in 4 min with state: COMPLETED\nTask ('dhs_tfrecords_raw_v2', 'angola', 2016, 267) finished in 4 min with state: COMPLETED\nTask ('dhs_tfrecords_raw_v2', 'angola', 2016, 268) finished in 4 min with state: COMPLETED\nTask ('dhs_tfrecords_raw_v2', 'angola', 2016, 269) finished in 4 min with state: COMPLETED\nTask ('dhs_tfrecords_raw_v2', 'angola', 2016, 270) finished in 4 min with state: COMPLETED\nTask ('dhs_tfrecords_raw_v2', 'angola', 2016, 271) finished in 4 min with state: COMPLETED\nTask ('dhs_tfrecords_raw_v2', 'angola', 2016, 272) finished in 4 min with state: COMPLETED\nTask ('dhs_tfrecords_raw_v2', 'angola', 2016, 273) finished in 4 min with state: COMPLETED\nTask ('dhs_tfrecords_raw_v2', 'angola', 2016, 274) finished in 4 min with state: COMPLETED\nTask ('dhs_tfrecords_raw_v2', 'angola', 2016, 275) finished in 4 min with state: COMPLETED\nTask ('dhs_tfrecords_raw_v2', 'angola', 2016, 276) finished in 4 min with state: COMPLETED\nTask ('dhs_tfrecords_raw_v2', 'angola', 2016, 277) finished in 4 min with state: COMPLETED\nTask ('dhs_tfrecords_raw_v2', 'angola', 2016, 278) finished in 4 min with state: COMPLETED\nTask ('dhs_tfrecords_raw_v2', 'angola', 2016, 279) finished in 4 min with state: COMPLETED\nTask ('dhs_tfrecords_raw_v2', 'angola', 2016, 280) finished in 4 min with state: COMPLETED\nTask ('dhs_tfrecords_raw_v2', 'angola', 2016, 281) finished in 4 min with state: COMPLETED\nTask ('dhs_tfrecords_raw_v2', 'angola', 2016, 282) finished in 4 min with state: COMPLETED\nTask ('dhs_tfrecords_raw_v2', 'angola', 2016, 283) finished in 4 min with state: COMPLETED\nTask ('dhs_tfrecords_raw_v2', 'angola', 2016, 284) finished in 4 min with state: COMPLETED\nTask ('dhs_tfrecords_raw_v2', 'angola', 2016, 285) finished in 4 min with state: COMPLETED\nTask ('dhs_tfrecords_raw_v2', 'angola', 2016, 286) finished in 4 min with state: COMPLETED\nTask ('dhs_tfrecords_raw_v2', 'angola', 2016, 287) finished in 4 min with state: COMPLETED\nTask ('dhs_tfrecords_raw_v2', 'angola', 2016, 288) finished in 4 min with state: COMPLETED\nTask ('dhs_tfrecords_raw_v2', 'angola', 2016, 289) finished in 4 min with state: COMPLETED\nTask ('dhs_tfrecords_raw_v2', 'angola', 2016, 290) finished in 4 min with state: COMPLETED\nTask ('dhs_tfrecords_raw_v2', 'angola', 2016, 291) finished in 4 min with state: COMPLETED\nTask ('dhs_tfrecords_raw_v2', 'angola', 2016, 292) finished in 4 min with state: COMPLETED\nTask ('dhs_tfrecords_raw_v2', 'angola', 2016, 293) finished in 4 min with state: COMPLETED\nTask ('dhs_tfrecords_raw_v2', 'angola', 2016, 294) finished in 4 min with state: COMPLETED\nTask ('dhs_tfrecords_raw_v2', 'angola', 2016, 295) finished in 4 min with state: COMPLETED\nTask ('dhs_tfrecords_raw_v2', 'angola', 2016, 296) finished in 4 min with state: COMPLETED\nTask ('dhs_tfrecords_raw_v2', 'angola', 2016, 297) finished in 4 min with state: COMPLETED\nTask ('dhs_tfrecords_raw_v2', 'angola', 2016, 298) finished in 4 min with state: COMPLETED\nTask ('dhs_tfrecords_raw_v2', 'angola', 2016, 299) finished in 4 min with state: COMPLETED\nTask ('dhs_tfrecords_raw_v2', 'angola', 2016, 301) finished in 4 min with state: COMPLETED\nTask ('dhs_tfrecords_raw_v2', 'angola', 2016, 302) finished in 4 min with state: COMPLETED\nTask ('dhs_tfrecords_raw_v2', 'angola', 2016, 303) finished in 4 min with state: COMPLETED\nTask ('dhs_tfrecords_raw_v2', 'angola', 2016, 304) finished in 4 min with state: COMPLETED\nTask ('dhs_tfrecords_raw_v2', 'angola', 2016, 305) finished in 4 min with state: COMPLETED\nTask ('dhs_tfrecords_raw_v2', 'angola', 2016, 306) finished in 4 min with state: COMPLETED\nTask ('dhs_tfrecords_raw_v2', 'angola', 2016, 307) finished in 4 min with state: COMPLETED\nTask ('dhs_tfrecords_raw_v2', 'angola', 2016, 300) finished in 5 min with state: COMPLETED\nFinished export for angola, 2016.\nStarting export for benin, 1996...\nWaiting on export tasks for benin, 1996...\n"
     ]
    },
    {
     "output_type": "display_data",
     "data": {
      "application/vnd.jupyter.widget-view+json": {
       "model_id": "d598c6c49c11468a87e1f4828798c6fd",
       "version_major": 2,
       "version_minor": 0
      },
      "text/plain": [
       "0it [00:00, ?it/s]"
      ]
     },
     "metadata": {},
     "output_type": "display_data"
    },
    {
     "output_type": "stream",
     "name": "stdout",
     "output_type": "stream",
     "text": [
      "Finished export for benin, 1996.\nTotal time taken: 2617.15 seconds (43.62 minutes)\n"
     ]
    }
   ],
   "source": [
    "# Load surveys\n",
    "dhs_df = pd.read_csv(DHS_CSV_PATH, float_precision='high', index_col=False).head(1000)\n",
    "#dhs_df = dhs_df.head(10000)\n",
    "dhs_surveys = list(dhs_df.groupby(['country', 'year']).groups.keys())\n",
    "\n",
    "start_time = time.time()\n",
    "\n",
    "for country, year in dhs_surveys:\n",
    "    print(f\"Starting export for {country}, {year}...\")\n",
    "    tasks = {}  # New empty task dict for each survey\n",
    "\n",
    "    # Export images (submit export tasks)\n",
    "    new_tasks = export_images(\n",
    "        df=dhs_df, \n",
    "        country=country, \n",
    "        year=year,\n",
    "        export_folder=DHS_EXPORT_FOLDER,\n",
    "        chunk_size=CHUNK_SIZE)\n",
    "    tasks.update(new_tasks)\n",
    "\n",
    "    # Wait for all export tasks for this survey to finish\n",
    "    print(f\"Waiting on export tasks for {country}, {year}...\")\n",
    "    ee_utils.wait_on_tasks(tasks, poll_interval=60)\n",
    "    print(f\"Finished export for {country}, {year}.\")\n",
    "            \n",
    "    # Give it some time to avoid overloading Google Earth Engine’s API (quota is being throttled (HTTP 503 = Service Unavailable)).\n",
    "    time.sleep(100)\n",
    "\n",
    "end_time = time.time()\n",
    "elapsed_time = end_time - start_time\n",
    "\n",
    "print(f\"Total time taken: {elapsed_time:.2f} seconds ({elapsed_time/60:.2f} minutes)\")"
   ]
  },
  {
   "cell_type": "code",
   "execution_count": 0,
   "metadata": {
    "application/vnd.databricks.v1+cell": {
     "cellMetadata": {
      "byteLimit": 2048000,
      "rowLimit": 10000
     },
     "inputWidgets": {},
     "nuid": "24ca3ae8-6621-4b14-b4d8-dcb0fd09bdaa",
     "showTitle": false,
     "tableResultSettingsMap": {},
     "title": ""
    }
   },
   "outputs": [
    {
     "output_type": "display_data",
     "data": {
      "text/html": [
       "\n",
       "            <style>\n",
       "                .geemap-dark {\n",
       "                    --jp-widgets-color: white;\n",
       "                    --jp-widgets-label-color: white;\n",
       "                    --jp-ui-font-color1: white;\n",
       "                    --jp-layout-color2: #454545;\n",
       "                    background-color: #383838;\n",
       "                }\n",
       "\n",
       "                .geemap-dark .jupyter-button {\n",
       "                    --jp-layout-color3: #383838;\n",
       "                }\n",
       "\n",
       "                .geemap-colab {\n",
       "                    background-color: var(--colab-primary-surface-color, white);\n",
       "                }\n",
       "\n",
       "                .geemap-colab .jupyter-button {\n",
       "                    --jp-layout-color3: var(--colab-primary-surface-color, white);\n",
       "                }\n",
       "            </style>\n",
       "            "
      ],
      "text/plain": [
       "<IPython.core.display.HTML object>"
      ]
     },
     "metadata": {},
     "output_type": "display_data"
    },
    {
     "output_type": "stream",
     "name": "stdout",
     "output_type": "stream",
     "text": [
      "Total files to check: 969\n"
     ]
    },
    {
     "output_type": "stream",
     "name": "stderr",
     "output_type": "stream",
     "text": [
      "\rDownloading blobs:   0%|          | 0/969 [00:00<?, ?it/s]\rDownloading blobs:   0%|          | 1/969 [00:00<02:41,  5.98it/s]"
     ]
    },
    {
     "output_type": "stream",
     "name": "stdout",
     "output_type": "stream",
     "text": [
      "File exists: /dbfs/mnt/raw/DataScientistSDSData/TLSED_test/raw/angola_2006_00.tfrecord.gz, skipping.\n"
     ]
    },
    {
     "output_type": "stream",
     "name": "stderr",
     "output_type": "stream",
     "text": [
      "\rDownloading blobs:   0%|          | 2/969 [00:00<02:32,  6.33it/s]"
     ]
    },
    {
     "output_type": "stream",
     "name": "stdout",
     "output_type": "stream",
     "text": [
      "File exists: /dbfs/mnt/raw/DataScientistSDSData/TLSED_test/raw/angola_2006_01.tfrecord.gz, skipping.\n"
     ]
    },
    {
     "output_type": "stream",
     "name": "stderr",
     "output_type": "stream",
     "text": [
      "\rDownloading blobs:   0%|          | 3/969 [00:00<02:11,  7.36it/s]"
     ]
    },
    {
     "output_type": "stream",
     "name": "stdout",
     "output_type": "stream",
     "text": [
      "File exists: /dbfs/mnt/raw/DataScientistSDSData/TLSED_test/raw/angola_2006_02.tfrecord.gz, skipping.\n"
     ]
    },
    {
     "output_type": "stream",
     "name": "stderr",
     "output_type": "stream",
     "text": [
      "\rDownloading blobs:   0%|          | 4/969 [00:00<01:57,  8.21it/s]"
     ]
    },
    {
     "output_type": "stream",
     "name": "stdout",
     "output_type": "stream",
     "text": [
      "File exists: /dbfs/mnt/raw/DataScientistSDSData/TLSED_test/raw/angola_2006_03.tfrecord.gz, skipping.\n"
     ]
    },
    {
     "output_type": "stream",
     "name": "stderr",
     "output_type": "stream",
     "text": [
      "\rDownloading blobs:   1%|          | 5/969 [00:00<01:51,  8.66it/s]"
     ]
    },
    {
     "output_type": "stream",
     "name": "stdout",
     "output_type": "stream",
     "text": [
      "File exists: /dbfs/mnt/raw/DataScientistSDSData/TLSED_test/raw/angola_2006_04.tfrecord.gz, skipping.\n"
     ]
    },
    {
     "output_type": "stream",
     "name": "stderr",
     "output_type": "stream",
     "text": [
      "\rDownloading blobs:   1%|          | 6/969 [00:00<01:50,  8.68it/s]"
     ]
    },
    {
     "output_type": "stream",
     "name": "stdout",
     "output_type": "stream",
     "text": [
      "File exists: /dbfs/mnt/raw/DataScientistSDSData/TLSED_test/raw/angola_2006_05.tfrecord.gz, skipping.\n"
     ]
    },
    {
     "output_type": "stream",
     "name": "stderr",
     "output_type": "stream",
     "text": [
      "\rDownloading blobs:   1%|          | 7/969 [00:00<01:55,  8.36it/s]"
     ]
    },
    {
     "output_type": "stream",
     "name": "stdout",
     "output_type": "stream",
     "text": [
      "File exists: /dbfs/mnt/raw/DataScientistSDSData/TLSED_test/raw/angola_2006_06.tfrecord.gz, skipping.\n"
     ]
    },
    {
     "output_type": "stream",
     "name": "stderr",
     "output_type": "stream",
     "text": [
      "\rDownloading blobs:   1%|          | 8/969 [00:01<02:10,  7.35it/s]"
     ]
    },
    {
     "output_type": "stream",
     "name": "stdout",
     "output_type": "stream",
     "text": [
      "File exists: /dbfs/mnt/raw/DataScientistSDSData/TLSED_test/raw/angola_2006_07.tfrecord.gz, skipping.\n"
     ]
    },
    {
     "output_type": "stream",
     "name": "stderr",
     "output_type": "stream",
     "text": [
      "\rDownloading blobs:   1%|          | 9/969 [00:01<02:12,  7.22it/s]"
     ]
    },
    {
     "output_type": "stream",
     "name": "stdout",
     "output_type": "stream",
     "text": [
      "File exists: /dbfs/mnt/raw/DataScientistSDSData/TLSED_test/raw/angola_2006_08.tfrecord.gz, skipping.\nFile exists: /dbfs/mnt/raw/DataScientistSDSData/TLSED_test/raw/angola_2006_09.tfrecord.gz, skipping.\n"
     ]
    },
    {
     "output_type": "stream",
     "name": "stderr",
     "output_type": "stream",
     "text": [
      "\rDownloading blobs:   1%|          | 11/969 [00:01<03:08,  5.08it/s]\rDownloading blobs:   1%|          | 12/969 [00:02<03:32,  4.50it/s]\rDownloading blobs:   1%|▏         | 13/969 [00:02<03:33,  4.49it/s]\rDownloading blobs:   1%|▏         | 14/969 [00:02<03:39,  4.36it/s]\rDownloading blobs:   2%|▏         | 15/969 [00:02<03:47,  4.19it/s]\rDownloading blobs:   2%|▏         | 16/969 [00:02<03:43,  4.26it/s]\rDownloading blobs:   2%|▏         | 17/969 [00:03<03:38,  4.35it/s]\rDownloading blobs:   2%|▏         | 18/969 [00:03<03:57,  4.00it/s]\rDownloading blobs:   2%|▏         | 19/969 [00:03<03:59,  3.96it/s]\rDownloading blobs:   2%|▏         | 20/969 [00:03<03:52,  4.08it/s]\rDownloading blobs:   2%|▏         | 21/969 [00:04<03:55,  4.02it/s]\rDownloading blobs:   2%|▏         | 22/969 [00:04<03:55,  4.01it/s]\rDownloading blobs:   2%|▏         | 23/969 [00:04<03:46,  4.18it/s]\rDownloading blobs:   2%|▏         | 24/969 [00:04<03:47,  4.16it/s]\rDownloading blobs:   3%|▎         | 25/969 [00:05<03:51,  4.08it/s]\rDownloading blobs:   3%|▎         | 26/969 [00:05<03:47,  4.14it/s]\rDownloading blobs:   3%|▎         | 27/969 [00:05<04:37,  3.39it/s]\rDownloading blobs:   3%|▎         | 28/969 [00:06<04:32,  3.45it/s]\rDownloading blobs:   3%|▎         | 29/969 [00:06<04:08,  3.78it/s]\rDownloading blobs:   3%|▎         | 30/969 [00:06<03:49,  4.08it/s]\rDownloading blobs:   3%|▎         | 31/969 [00:06<04:05,  3.82it/s]\rDownloading blobs:   3%|▎         | 32/969 [00:07<04:01,  3.88it/s]\rDownloading blobs:   3%|▎         | 33/969 [00:07<04:28,  3.49it/s]\rDownloading blobs:   4%|▎         | 34/969 [00:07<04:19,  3.60it/s]\rDownloading blobs:   4%|▎         | 35/969 [00:07<04:10,  3.73it/s]\rDownloading blobs:   4%|▎         | 36/969 [00:08<03:54,  3.97it/s]\rDownloading blobs:   4%|▍         | 37/969 [00:08<03:46,  4.12it/s]\rDownloading blobs:   4%|▍         | 38/969 [00:08<03:55,  3.96it/s]\rDownloading blobs:   4%|▍         | 39/969 [00:08<03:51,  4.02it/s]\rDownloading blobs:   4%|▍         | 40/969 [00:09<03:47,  4.08it/s]\rDownloading blobs:   4%|▍         | 41/969 [00:09<04:02,  3.83it/s]\rDownloading blobs:   4%|▍         | 42/969 [00:09<04:07,  3.74it/s]\rDownloading blobs:   4%|▍         | 43/969 [00:09<03:59,  3.87it/s]\rDownloading blobs:   5%|▍         | 44/969 [00:10<03:56,  3.91it/s]\rDownloading blobs:   5%|▍         | 45/969 [00:10<03:58,  3.87it/s]\rDownloading blobs:   5%|▍         | 46/969 [00:10<04:00,  3.84it/s]\rDownloading blobs:   5%|▍         | 47/969 [00:10<03:47,  4.05it/s]\rDownloading blobs:   5%|▍         | 48/969 [00:11<03:47,  4.05it/s]\rDownloading blobs:   5%|▌         | 49/969 [00:11<03:38,  4.21it/s]\rDownloading blobs:   5%|▌         | 50/969 [00:11<03:26,  4.44it/s]\rDownloading blobs:   5%|▌         | 51/969 [00:11<03:50,  3.99it/s]\rDownloading blobs:   5%|▌         | 52/969 [00:12<03:54,  3.92it/s]\rDownloading blobs:   5%|▌         | 53/969 [00:12<04:46,  3.20it/s]\rDownloading blobs:   6%|▌         | 54/969 [00:12<04:50,  3.15it/s]\rDownloading blobs:   6%|▌         | 55/969 [00:13<04:42,  3.24it/s]\rDownloading blobs:   6%|▌         | 56/969 [00:13<04:22,  3.48it/s]\rDownloading blobs:   6%|▌         | 57/969 [00:13<04:01,  3.78it/s]\rDownloading blobs:   6%|▌         | 58/969 [00:13<04:06,  3.70it/s]\rDownloading blobs:   6%|▌         | 59/969 [00:14<04:00,  3.78it/s]\rDownloading blobs:   6%|▌         | 60/969 [00:14<03:55,  3.86it/s]\rDownloading blobs:   6%|▋         | 61/969 [00:14<03:53,  3.90it/s]\rDownloading blobs:   6%|▋         | 62/969 [00:14<03:59,  3.78it/s]\rDownloading blobs:   7%|▋         | 63/969 [00:15<03:58,  3.80it/s]\rDownloading blobs:   7%|▋         | 64/969 [00:15<04:00,  3.77it/s]\rDownloading blobs:   7%|▋         | 65/969 [00:15<03:50,  3.92it/s]\rDownloading blobs:   7%|▋         | 66/969 [00:16<03:55,  3.83it/s]\rDownloading blobs:   7%|▋         | 67/969 [00:16<04:00,  3.75it/s]\rDownloading blobs:   7%|▋         | 68/969 [00:16<04:04,  3.69it/s]\rDownloading blobs:   7%|▋         | 69/969 [00:16<03:40,  4.08it/s]\rDownloading blobs:   7%|▋         | 70/969 [00:17<03:48,  3.93it/s]\rDownloading blobs:   7%|▋         | 71/969 [00:17<03:45,  3.98it/s]\rDownloading blobs:   7%|▋         | 72/969 [00:17<03:36,  4.15it/s]\rDownloading blobs:   8%|▊         | 73/969 [00:17<03:56,  3.79it/s]\rDownloading blobs:   8%|▊         | 74/969 [00:18<03:49,  3.90it/s]\rDownloading blobs:   8%|▊         | 75/969 [00:18<03:42,  4.02it/s]\rDownloading blobs:   8%|▊         | 76/969 [00:18<03:41,  4.04it/s]\rDownloading blobs:   8%|▊         | 77/969 [00:18<03:41,  4.03it/s]\rDownloading blobs:   8%|▊         | 78/969 [00:19<04:09,  3.58it/s]\rDownloading blobs:   8%|▊         | 79/969 [00:19<03:52,  3.83it/s]\rDownloading blobs:   8%|▊         | 80/969 [00:19<03:44,  3.96it/s]\rDownloading blobs:   8%|▊         | 81/969 [00:19<03:54,  3.79it/s]\rDownloading blobs:   8%|▊         | 82/969 [00:20<04:05,  3.61it/s]\rDownloading blobs:   9%|▊         | 83/969 [00:20<04:02,  3.65it/s]\rDownloading blobs:   9%|▊         | 84/969 [00:20<03:42,  3.98it/s]\rDownloading blobs:   9%|▉         | 85/969 [00:20<03:32,  4.16it/s]\rDownloading blobs:   9%|▉         | 86/969 [00:21<03:40,  4.01it/s]\rDownloading blobs:   9%|▉         | 87/969 [00:21<03:35,  4.09it/s]\rDownloading blobs:   9%|▉         | 88/969 [00:21<03:33,  4.12it/s]\rDownloading blobs:   9%|▉         | 89/969 [00:21<03:47,  3.86it/s]\rDownloading blobs:   9%|▉         | 90/969 [00:22<03:56,  3.71it/s]\rDownloading blobs:   9%|▉         | 91/969 [00:22<04:11,  3.49it/s]\rDownloading blobs:   9%|▉         | 92/969 [00:22<04:05,  3.58it/s]\rDownloading blobs:  10%|▉         | 93/969 [00:23<03:51,  3.79it/s]\rDownloading blobs:  10%|▉         | 94/969 [00:23<03:39,  3.98it/s]\rDownloading blobs:  10%|▉         | 95/969 [00:23<03:27,  4.21it/s]\rDownloading blobs:  10%|▉         | 96/969 [00:23<03:24,  4.27it/s]\rDownloading blobs:  10%|█         | 97/969 [00:23<03:18,  4.38it/s]\rDownloading blobs:  10%|█         | 98/969 [00:24<03:21,  4.32it/s]\rDownloading blobs:  10%|█         | 99/969 [00:24<03:42,  3.92it/s]\rDownloading blobs:  10%|█         | 100/969 [00:24<03:51,  3.75it/s]\rDownloading blobs:  10%|█         | 101/969 [00:24<03:43,  3.89it/s]\rDownloading blobs:  11%|█         | 102/969 [00:25<03:29,  4.14it/s]\rDownloading blobs:  11%|█         | 103/969 [00:25<03:40,  3.92it/s]\rDownloading blobs:  11%|█         | 104/969 [00:25<03:37,  3.97it/s]\rDownloading blobs:  11%|█         | 105/969 [00:26<03:58,  3.62it/s]\rDownloading blobs:  11%|█         | 106/969 [00:26<03:56,  3.65it/s]\rDownloading blobs:  11%|█         | 107/969 [00:26<03:30,  4.10it/s]\rDownloading blobs:  11%|█         | 108/969 [00:26<03:25,  4.19it/s]\rDownloading blobs:  11%|█         | 109/969 [00:26<03:23,  4.23it/s]\rDownloading blobs:  11%|█▏        | 110/969 [00:27<03:21,  4.27it/s]\rDownloading blobs:  11%|█▏        | 111/969 [00:27<03:11,  4.48it/s]\rDownloading blobs:  12%|█▏        | 112/969 [00:27<03:08,  4.53it/s]\rDownloading blobs:  12%|█▏        | 113/969 [00:27<03:01,  4.70it/s]\rDownloading blobs:  12%|█▏        | 114/969 [00:28<03:19,  4.30it/s]\rDownloading blobs:  12%|█▏        | 115/969 [00:28<03:30,  4.06it/s]\rDownloading blobs:  12%|█▏        | 116/969 [00:28<03:29,  4.06it/s]\rDownloading blobs:  12%|█▏        | 117/969 [00:28<03:41,  3.85it/s]\rDownloading blobs:  12%|█▏        | 118/969 [00:29<03:40,  3.86it/s]\rDownloading blobs:  12%|█▏        | 119/969 [00:29<03:41,  3.84it/s]\rDownloading blobs:  12%|█▏        | 120/969 [00:29<03:33,  3.97it/s]\rDownloading blobs:  12%|█▏        | 121/969 [00:29<03:34,  3.95it/s]\rDownloading blobs:  13%|█▎        | 122/969 [00:30<03:33,  3.96it/s]\rDownloading blobs:  13%|█▎        | 123/969 [00:30<03:26,  4.10it/s]\rDownloading blobs:  13%|█▎        | 124/969 [00:30<03:29,  4.03it/s]\rDownloading blobs:  13%|█▎        | 125/969 [00:30<03:38,  3.87it/s]\rDownloading blobs:  13%|█▎        | 126/969 [00:31<03:41,  3.81it/s]\rDownloading blobs:  13%|█▎        | 127/969 [00:31<03:46,  3.72it/s]\rDownloading blobs:  13%|█▎        | 128/969 [00:31<03:40,  3.81it/s]\rDownloading blobs:  13%|█▎        | 129/969 [00:31<03:32,  3.95it/s]\rDownloading blobs:  13%|█▎        | 130/969 [00:32<03:30,  3.99it/s]\rDownloading blobs:  14%|█▎        | 131/969 [00:32<03:28,  4.03it/s]\rDownloading blobs:  14%|█▎        | 132/969 [00:32<03:59,  3.49it/s]\rDownloading blobs:  14%|█▎        | 133/969 [00:33<03:54,  3.57it/s]\rDownloading blobs:  14%|█▍        | 134/969 [00:33<03:41,  3.77it/s]\rDownloading blobs:  14%|█▍        | 135/969 [00:33<03:33,  3.91it/s]\rDownloading blobs:  14%|█▍        | 136/969 [00:33<03:20,  4.16it/s]\rDownloading blobs:  14%|█▍        | 137/969 [00:33<03:19,  4.16it/s]\rDownloading blobs:  14%|█▍        | 138/969 [00:34<03:13,  4.30it/s]\rDownloading blobs:  14%|█▍        | 139/969 [00:34<03:10,  4.36it/s]\rDownloading blobs:  14%|█▍        | 140/969 [00:34<03:10,  4.36it/s]\rDownloading blobs:  15%|█▍        | 141/969 [00:34<03:10,  4.35it/s]\rDownloading blobs:  15%|█▍        | 142/969 [00:35<03:18,  4.17it/s]\rDownloading blobs:  15%|█▍        | 143/969 [00:35<03:16,  4.21it/s]\rDownloading blobs:  15%|█▍        | 144/969 [00:35<03:19,  4.13it/s]\rDownloading blobs:  15%|█▍        | 145/969 [00:35<03:14,  4.23it/s]\rDownloading blobs:  15%|█▌        | 146/969 [00:36<03:46,  3.63it/s]\rDownloading blobs:  15%|█▌        | 147/969 [00:36<03:40,  3.72it/s]\rDownloading blobs:  15%|█▌        | 148/969 [00:36<03:32,  3.86it/s]\rDownloading blobs:  15%|█▌        | 149/969 [00:36<03:22,  4.04it/s]\rDownloading blobs:  15%|█▌        | 150/969 [00:37<03:17,  4.14it/s]\rDownloading blobs:  16%|█▌        | 151/969 [00:37<03:18,  4.11it/s]\rDownloading blobs:  16%|█▌        | 152/969 [00:37<03:16,  4.15it/s]\rDownloading blobs:  16%|█▌        | 153/969 [00:37<03:23,  4.00it/s]\rDownloading blobs:  16%|█▌        | 154/969 [00:38<03:20,  4.06it/s]\rDownloading blobs:  16%|█▌        | 155/969 [00:38<03:32,  3.83it/s]\rDownloading blobs:  16%|█▌        | 156/969 [00:38<03:22,  4.01it/s]\rDownloading blobs:  16%|█▌        | 157/969 [00:38<03:11,  4.23it/s]\rDownloading blobs:  16%|█▋        | 158/969 [00:39<03:07,  4.32it/s]\rDownloading blobs:  16%|█▋        | 159/969 [00:39<02:58,  4.55it/s]\rDownloading blobs:  17%|█▋        | 160/969 [00:39<02:52,  4.69it/s]\rDownloading blobs:  17%|█▋        | 161/969 [00:39<03:10,  4.25it/s]\rDownloading blobs:  17%|█▋        | 162/969 [00:39<03:03,  4.40it/s]\rDownloading blobs:  17%|█▋        | 163/969 [00:40<03:01,  4.43it/s]\rDownloading blobs:  17%|█▋        | 164/969 [00:40<03:08,  4.28it/s]\rDownloading blobs:  17%|█▋        | 165/969 [00:40<03:04,  4.36it/s]\rDownloading blobs:  17%|█▋        | 166/969 [00:40<03:10,  4.21it/s]\rDownloading blobs:  17%|█▋        | 167/969 [00:41<03:03,  4.36it/s]\rDownloading blobs:  17%|█▋        | 168/969 [00:41<03:08,  4.24it/s]\rDownloading blobs:  17%|█▋        | 169/969 [00:41<03:22,  3.96it/s]\rDownloading blobs:  18%|█▊        | 170/969 [00:41<03:09,  4.21it/s]\rDownloading blobs:  18%|█▊        | 171/969 [00:42<02:56,  4.51it/s]\rDownloading blobs:  18%|█▊        | 172/969 [00:42<02:58,  4.47it/s]\rDownloading blobs:  18%|█▊        | 173/969 [00:42<03:08,  4.22it/s]\rDownloading blobs:  18%|█▊        | 174/969 [00:42<03:41,  3.59it/s]\rDownloading blobs:  18%|█▊        | 175/969 [00:43<03:30,  3.77it/s]\rDownloading blobs:  18%|█▊        | 176/969 [00:43<03:19,  3.97it/s]\rDownloading blobs:  18%|█▊        | 177/969 [00:43<03:39,  3.61it/s]\rDownloading blobs:  18%|█▊        | 178/969 [00:44<03:49,  3.44it/s]\rDownloading blobs:  18%|█▊        | 179/969 [00:44<04:00,  3.28it/s]\rDownloading blobs:  19%|█▊        | 180/969 [00:44<03:46,  3.49it/s]\rDownloading blobs:  19%|█▊        | 181/969 [00:44<03:39,  3.59it/s]\rDownloading blobs:  19%|█▉        | 182/969 [00:45<03:38,  3.61it/s]\rDownloading blobs:  19%|█▉        | 183/969 [00:45<03:29,  3.75it/s]\rDownloading blobs:  19%|█▉        | 184/969 [00:45<03:20,  3.91it/s]\rDownloading blobs:  19%|█▉        | 185/969 [00:45<03:13,  4.05it/s]\rDownloading blobs:  19%|█▉        | 186/969 [00:46<03:17,  3.97it/s]\rDownloading blobs:  19%|█▉        | 187/969 [00:46<03:24,  3.82it/s]\rDownloading blobs:  19%|█▉        | 188/969 [00:46<03:55,  3.32it/s]\rDownloading blobs:  20%|█▉        | 189/969 [00:47<03:34,  3.63it/s]\rDownloading blobs:  20%|█▉        | 190/969 [00:47<03:16,  3.96it/s]\rDownloading blobs:  20%|█▉        | 191/969 [00:47<03:09,  4.12it/s]\rDownloading blobs:  20%|█▉        | 192/969 [00:47<03:04,  4.20it/s]\rDownloading blobs:  20%|█▉        | 193/969 [00:47<03:06,  4.17it/s]\rDownloading blobs:  20%|██        | 194/969 [00:48<03:01,  4.26it/s]\rDownloading blobs:  20%|██        | 195/969 [00:48<03:28,  3.71it/s]\rDownloading blobs:  20%|██        | 196/969 [00:48<03:22,  3.82it/s]\rDownloading blobs:  20%|██        | 197/969 [00:48<03:17,  3.90it/s]\rDownloading blobs:  20%|██        | 198/969 [00:49<04:25,  2.90it/s]\rDownloading blobs:  21%|██        | 199/969 [00:49<04:04,  3.15it/s]\rDownloading blobs:  21%|██        | 200/969 [00:49<03:39,  3.51it/s]\rDownloading blobs:  21%|██        | 201/969 [00:50<03:43,  3.43it/s]\rDownloading blobs:  21%|██        | 202/969 [00:50<03:22,  3.78it/s]\rDownloading blobs:  21%|██        | 203/969 [00:50<03:22,  3.79it/s]\rDownloading blobs:  21%|██        | 204/969 [00:50<03:17,  3.87it/s]\rDownloading blobs:  21%|██        | 205/969 [00:51<02:59,  4.26it/s]\rDownloading blobs:  21%|██▏       | 206/969 [00:51<02:59,  4.26it/s]\rDownloading blobs:  21%|██▏       | 207/969 [00:51<03:16,  3.88it/s]\rDownloading blobs:  21%|██▏       | 208/969 [00:52<03:22,  3.76it/s]\rDownloading blobs:  22%|██▏       | 209/969 [00:52<03:33,  3.56it/s]\rDownloading blobs:  22%|██▏       | 210/969 [00:52<03:26,  3.68it/s]\rDownloading blobs:  22%|██▏       | 211/969 [00:52<03:17,  3.84it/s]\rDownloading blobs:  22%|██▏       | 212/969 [00:53<03:12,  3.93it/s]\rDownloading blobs:  22%|██▏       | 213/969 [00:53<03:15,  3.86it/s]\rDownloading blobs:  22%|██▏       | 214/969 [00:53<03:15,  3.85it/s]\rDownloading blobs:  22%|██▏       | 215/969 [00:54<05:07,  2.45it/s]\rDownloading blobs:  22%|██▏       | 216/969 [00:54<04:33,  2.75it/s]\rDownloading blobs:  22%|██▏       | 217/969 [00:54<03:57,  3.17it/s]\rDownloading blobs:  22%|██▏       | 218/969 [00:55<03:33,  3.52it/s]\rDownloading blobs:  23%|██▎       | 219/969 [00:55<03:31,  3.55it/s]\rDownloading blobs:  23%|██▎       | 220/969 [00:55<03:17,  3.80it/s]\rDownloading blobs:  23%|██▎       | 221/969 [00:55<03:16,  3.80it/s]\rDownloading blobs:  23%|██▎       | 222/969 [00:55<03:09,  3.94it/s]\rDownloading blobs:  23%|██▎       | 223/969 [00:56<03:23,  3.66it/s]\rDownloading blobs:  23%|██▎       | 224/969 [00:56<03:20,  3.71it/s]\rDownloading blobs:  23%|██▎       | 225/969 [00:56<03:14,  3.83it/s]\rDownloading blobs:  23%|██▎       | 226/969 [00:57<03:08,  3.94it/s]\rDownloading blobs:  23%|██▎       | 227/969 [00:57<03:14,  3.82it/s]\rDownloading blobs:  24%|██▎       | 228/969 [00:57<03:02,  4.05it/s]\rDownloading blobs:  24%|██▎       | 229/969 [00:57<03:05,  3.98it/s]\rDownloading blobs:  24%|██▎       | 230/969 [00:58<02:56,  4.18it/s]\rDownloading blobs:  24%|██▍       | 231/969 [00:58<03:05,  3.97it/s]\rDownloading blobs:  24%|██▍       | 232/969 [00:58<02:56,  4.18it/s]\rDownloading blobs:  24%|██▍       | 233/969 [00:58<02:50,  4.32it/s]\rDownloading blobs:  24%|██▍       | 234/969 [00:58<02:59,  4.10it/s]\rDownloading blobs:  24%|██▍       | 235/969 [00:59<03:16,  3.74it/s]\rDownloading blobs:  24%|██▍       | 236/969 [00:59<03:17,  3.72it/s]\rDownloading blobs:  24%|██▍       | 237/969 [00:59<03:07,  3.90it/s]\rDownloading blobs:  25%|██▍       | 238/969 [01:00<03:00,  4.05it/s]\rDownloading blobs:  25%|██▍       | 239/969 [01:00<03:47,  3.20it/s]\rDownloading blobs:  25%|██▍       | 240/969 [01:00<03:25,  3.55it/s]\rDownloading blobs:  25%|██▍       | 241/969 [01:00<03:15,  3.72it/s]\rDownloading blobs:  25%|██▍       | 242/969 [01:01<03:18,  3.66it/s]\rDownloading blobs:  25%|██▌       | 243/969 [01:01<03:18,  3.65it/s]\rDownloading blobs:  25%|██▌       | 244/969 [01:01<03:08,  3.85it/s]\rDownloading blobs:  25%|██▌       | 245/969 [01:01<02:51,  4.22it/s]\rDownloading blobs:  25%|██▌       | 246/969 [01:02<02:43,  4.42it/s]\rDownloading blobs:  25%|██▌       | 247/969 [01:02<02:39,  4.51it/s]\rDownloading blobs:  26%|██▌       | 248/969 [01:02<02:42,  4.44it/s]\rDownloading blobs:  26%|██▌       | 249/969 [01:02<02:42,  4.44it/s]\rDownloading blobs:  26%|██▌       | 250/969 [01:02<02:36,  4.60it/s]\rDownloading blobs:  26%|██▌       | 251/969 [01:03<02:41,  4.45it/s]\rDownloading blobs:  26%|██▌       | 252/969 [01:03<03:09,  3.78it/s]\rDownloading blobs:  26%|██▌       | 253/969 [01:03<03:16,  3.65it/s]\rDownloading blobs:  26%|██▌       | 254/969 [01:04<02:59,  3.99it/s]\rDownloading blobs:  26%|██▋       | 255/969 [01:04<03:11,  3.73it/s]\rDownloading blobs:  26%|██▋       | 256/969 [01:04<03:07,  3.80it/s]\rDownloading blobs:  27%|██▋       | 257/969 [01:04<03:06,  3.81it/s]\rDownloading blobs:  27%|██▋       | 258/969 [01:05<03:10,  3.73it/s]\rDownloading blobs:  27%|██▋       | 259/969 [01:05<03:08,  3.76it/s]\rDownloading blobs:  27%|██▋       | 260/969 [01:05<03:12,  3.69it/s]\rDownloading blobs:  27%|██▋       | 261/969 [01:05<02:56,  4.01it/s]\rDownloading blobs:  27%|██▋       | 262/969 [01:06<02:57,  3.97it/s]\rDownloading blobs:  27%|██▋       | 263/969 [01:06<02:57,  3.99it/s]\rDownloading blobs:  27%|██▋       | 264/969 [01:06<03:01,  3.87it/s]\rDownloading blobs:  27%|██▋       | 265/969 [01:06<03:07,  3.75it/s]\rDownloading blobs:  27%|██▋       | 266/969 [01:07<03:05,  3.79it/s]\rDownloading blobs:  28%|██▊       | 267/969 [01:07<02:52,  4.06it/s]\rDownloading blobs:  28%|██▊       | 268/969 [01:07<02:49,  4.14it/s]\rDownloading blobs:  28%|██▊       | 269/969 [01:08<03:23,  3.43it/s]\rDownloading blobs:  28%|██▊       | 270/969 [01:08<03:10,  3.67it/s]\rDownloading blobs:  28%|██▊       | 271/969 [01:08<03:06,  3.74it/s]\rDownloading blobs:  28%|██▊       | 272/969 [01:08<02:48,  4.14it/s]\rDownloading blobs:  28%|██▊       | 273/969 [01:08<02:37,  4.43it/s]\rDownloading blobs:  28%|██▊       | 274/969 [01:09<02:37,  4.40it/s]\rDownloading blobs:  28%|██▊       | 275/969 [01:09<02:36,  4.42it/s]\rDownloading blobs:  28%|██▊       | 276/969 [01:09<02:45,  4.19it/s]\rDownloading blobs:  29%|██▊       | 277/969 [01:09<02:50,  4.07it/s]\rDownloading blobs:  29%|██▊       | 278/969 [01:10<02:57,  3.89it/s]\rDownloading blobs:  29%|██▉       | 279/969 [01:10<02:56,  3.90it/s]\rDownloading blobs:  29%|██▉       | 280/969 [01:10<02:48,  4.09it/s]\rDownloading blobs:  29%|██▉       | 281/969 [01:10<02:47,  4.10it/s]\rDownloading blobs:  29%|██▉       | 282/969 [01:11<02:40,  4.28it/s]\rDownloading blobs:  29%|██▉       | 283/969 [01:11<02:44,  4.17it/s]\rDownloading blobs:  29%|██▉       | 284/969 [01:11<02:45,  4.14it/s]\rDownloading blobs:  29%|██▉       | 285/969 [01:11<02:37,  4.34it/s]\rDownloading blobs:  30%|██▉       | 286/969 [01:12<02:33,  4.45it/s]\rDownloading blobs:  30%|██▉       | 287/969 [01:12<02:43,  4.17it/s]\rDownloading blobs:  30%|██▉       | 288/969 [01:12<02:43,  4.18it/s]\rDownloading blobs:  30%|██▉       | 289/969 [01:12<02:36,  4.33it/s]\rDownloading blobs:  30%|██▉       | 290/969 [01:13<02:38,  4.27it/s]\rDownloading blobs:  30%|███       | 291/969 [01:13<02:38,  4.28it/s]\rDownloading blobs:  30%|███       | 292/969 [01:13<02:31,  4.46it/s]\rDownloading blobs:  30%|███       | 293/969 [01:13<02:31,  4.47it/s]\rDownloading blobs:  30%|███       | 294/969 [01:13<02:40,  4.21it/s]\rDownloading blobs:  30%|███       | 295/969 [01:14<02:44,  4.10it/s]\rDownloading blobs:  31%|███       | 296/969 [01:14<02:40,  4.20it/s]\rDownloading blobs:  31%|███       | 297/969 [01:14<02:32,  4.42it/s]\rDownloading blobs:  31%|███       | 298/969 [01:14<02:39,  4.21it/s]\rDownloading blobs:  31%|███       | 299/969 [01:15<03:05,  3.61it/s]\rDownloading blobs:  31%|███       | 300/969 [01:15<02:58,  3.74it/s]\rDownloading blobs:  31%|███       | 301/969 [01:15<03:00,  3.71it/s]\rDownloading blobs:  31%|███       | 302/969 [01:16<02:58,  3.73it/s]\rDownloading blobs:  31%|███▏      | 303/969 [01:16<02:58,  3.74it/s]\rDownloading blobs:  31%|███▏      | 304/969 [01:16<02:57,  3.75it/s]\rDownloading blobs:  31%|███▏      | 305/969 [01:16<02:43,  4.06it/s]\rDownloading blobs:  32%|███▏      | 306/969 [01:17<02:50,  3.88it/s]\rDownloading blobs:  32%|███▏      | 307/969 [01:17<02:41,  4.10it/s]\rDownloading blobs:  32%|███▏      | 308/969 [01:17<03:01,  3.65it/s]\rDownloading blobs:  32%|███▏      | 309/969 [01:18<03:41,  2.98it/s]\rDownloading blobs:  32%|███▏      | 310/969 [01:18<03:21,  3.27it/s]\rDownloading blobs:  32%|███▏      | 311/969 [01:18<03:01,  3.62it/s]\rDownloading blobs:  32%|███▏      | 312/969 [01:18<03:13,  3.40it/s]\rDownloading blobs:  32%|███▏      | 313/969 [01:19<03:30,  3.12it/s]\rDownloading blobs:  32%|███▏      | 314/969 [01:19<03:19,  3.29it/s]\rDownloading blobs:  33%|███▎      | 315/969 [01:19<03:12,  3.39it/s]\rDownloading blobs:  33%|███▎      | 316/969 [01:20<03:01,  3.60it/s]\rDownloading blobs:  33%|███▎      | 317/969 [01:20<02:56,  3.69it/s]\rDownloading blobs:  33%|███▎      | 318/969 [01:20<02:45,  3.94it/s]\rDownloading blobs:  33%|███▎      | 319/969 [01:20<02:40,  4.06it/s]\rDownloading blobs:  33%|███▎      | 320/969 [01:20<02:34,  4.20it/s]\rDownloading blobs:  33%|███▎      | 321/969 [01:21<02:32,  4.24it/s]\rDownloading blobs:  33%|███▎      | 322/969 [01:21<02:32,  4.24it/s]\rDownloading blobs:  33%|███▎      | 323/969 [01:21<02:25,  4.43it/s]\rDownloading blobs:  33%|███▎      | 324/969 [01:21<02:27,  4.37it/s]\rDownloading blobs:  34%|███▎      | 325/969 [01:22<02:24,  4.47it/s]\rDownloading blobs:  34%|███▎      | 326/969 [01:22<02:24,  4.45it/s]\rDownloading blobs:  34%|███▎      | 327/969 [01:22<02:32,  4.20it/s]\rDownloading blobs:  34%|███▍      | 328/969 [01:22<02:45,  3.88it/s]\rDownloading blobs:  34%|███▍      | 329/969 [01:23<02:46,  3.84it/s]\rDownloading blobs:  34%|███▍      | 330/969 [01:23<02:41,  3.95it/s]\rDownloading blobs:  34%|███▍      | 331/969 [01:23<02:42,  3.92it/s]\rDownloading blobs:  34%|███▍      | 332/969 [01:23<02:34,  4.12it/s]\rDownloading blobs:  34%|███▍      | 333/969 [01:24<02:36,  4.07it/s]\rDownloading blobs:  34%|███▍      | 334/969 [01:24<02:28,  4.29it/s]\rDownloading blobs:  35%|███▍      | 335/969 [01:24<02:39,  3.96it/s]\rDownloading blobs:  35%|███▍      | 336/969 [01:24<02:41,  3.92it/s]\rDownloading blobs:  35%|███▍      | 337/969 [01:25<02:36,  4.04it/s]\rDownloading blobs:  35%|███▍      | 338/969 [01:25<02:50,  3.69it/s]\rDownloading blobs:  35%|███▍      | 339/969 [01:25<02:44,  3.83it/s]\rDownloading blobs:  35%|███▌      | 340/969 [01:25<02:48,  3.73it/s]\rDownloading blobs:  35%|███▌      | 341/969 [01:26<02:44,  3.82it/s]\rDownloading blobs:  35%|███▌      | 342/969 [01:26<02:36,  4.02it/s]\rDownloading blobs:  35%|███▌      | 343/969 [01:26<02:25,  4.31it/s]\rDownloading blobs:  36%|███▌      | 344/969 [01:26<02:17,  4.56it/s]\rDownloading blobs:  36%|███▌      | 345/969 [01:27<02:19,  4.48it/s]\rDownloading blobs:  36%|███▌      | 346/969 [01:27<02:20,  4.43it/s]\rDownloading blobs:  36%|███▌      | 347/969 [01:27<02:33,  4.05it/s]\rDownloading blobs:  36%|███▌      | 348/969 [01:27<02:36,  3.96it/s]\rDownloading blobs:  36%|███▌      | 349/969 [01:28<02:35,  3.97it/s]\rDownloading blobs:  36%|███▌      | 350/969 [01:28<02:41,  3.83it/s]\rDownloading blobs:  36%|███▌      | 351/969 [01:28<02:35,  3.98it/s]\rDownloading blobs:  36%|███▋      | 352/969 [01:28<02:29,  4.12it/s]\rDownloading blobs:  36%|███▋      | 353/969 [01:29<02:36,  3.95it/s]\rDownloading blobs:  37%|███▋      | 354/969 [01:29<02:39,  3.85it/s]\rDownloading blobs:  37%|███▋      | 355/969 [01:29<02:40,  3.82it/s]\rDownloading blobs:  37%|███▋      | 356/969 [01:29<02:38,  3.87it/s]\rDownloading blobs:  37%|███▋      | 357/969 [01:30<02:32,  4.01it/s]\rDownloading blobs:  37%|███▋      | 358/969 [01:30<02:27,  4.13it/s]\rDownloading blobs:  37%|███▋      | 359/969 [01:30<02:31,  4.02it/s]\rDownloading blobs:  37%|███▋      | 360/969 [01:30<02:30,  4.05it/s]\rDownloading blobs:  37%|███▋      | 361/969 [01:31<02:35,  3.91it/s]\rDownloading blobs:  37%|███▋      | 362/969 [01:31<02:27,  4.12it/s]\rDownloading blobs:  37%|███▋      | 363/969 [01:31<02:33,  3.95it/s]\rDownloading blobs:  38%|███▊      | 364/969 [01:31<02:29,  4.04it/s]\rDownloading blobs:  38%|███▊      | 365/969 [01:32<02:44,  3.67it/s]\rDownloading blobs:  38%|███▊      | 366/969 [01:32<02:55,  3.43it/s]\rDownloading blobs:  38%|███▊      | 367/969 [01:32<03:26,  2.92it/s]\rDownloading blobs:  38%|███▊      | 368/969 [01:33<03:13,  3.11it/s]\rDownloading blobs:  38%|███▊      | 369/969 [01:33<02:54,  3.45it/s]\rDownloading blobs:  38%|███▊      | 370/969 [01:33<02:41,  3.71it/s]\rDownloading blobs:  38%|███▊      | 371/969 [01:33<02:36,  3.83it/s]\rDownloading blobs:  38%|███▊      | 372/969 [01:34<02:52,  3.46it/s]\rDownloading blobs:  38%|███▊      | 373/969 [01:34<02:42,  3.67it/s]\rDownloading blobs:  39%|███▊      | 374/9\n\n*** WARNING: max output size exceeded, skipping output. ***\n\n 610/969 [02:34<01:29,  4.01it/s]\rDownloading blobs:  63%|██████▎   | 611/969 [02:35<01:28,  4.03it/s]\rDownloading blobs:  63%|██████▎   | 612/969 [02:35<01:29,  4.01it/s]\rDownloading blobs:  63%|██████▎   | 613/969 [02:35<01:31,  3.89it/s]\rDownloading blobs:  63%|██████▎   | 614/969 [02:35<01:38,  3.60it/s]\rDownloading blobs:  63%|██████▎   | 615/969 [02:36<01:28,  3.99it/s]\rDownloading blobs:  64%|██████▎   | 616/969 [02:36<01:19,  4.42it/s]\rDownloading blobs:  64%|██████▎   | 617/969 [02:36<01:26,  4.07it/s]\rDownloading blobs:  64%|██████▍   | 618/969 [02:36<01:31,  3.82it/s]\rDownloading blobs:  64%|██████▍   | 619/969 [02:37<01:32,  3.77it/s]\rDownloading blobs:  64%|██████▍   | 620/969 [02:37<01:30,  3.87it/s]\rDownloading blobs:  64%|██████▍   | 621/969 [02:37<01:28,  3.95it/s]\rDownloading blobs:  64%|██████▍   | 622/969 [02:37<01:25,  4.04it/s]\rDownloading blobs:  64%|██████▍   | 623/969 [02:38<01:34,  3.66it/s]\rDownloading blobs:  64%|██████▍   | 624/969 [02:38<01:29,  3.86it/s]\rDownloading blobs:  64%|██████▍   | 625/969 [02:38<01:23,  4.11it/s]\rDownloading blobs:  65%|██████▍   | 626/969 [02:38<01:21,  4.21it/s]\rDownloading blobs:  65%|██████▍   | 627/969 [02:39<01:20,  4.27it/s]\rDownloading blobs:  65%|██████▍   | 628/969 [02:39<01:27,  3.90it/s]\rDownloading blobs:  65%|██████▍   | 629/969 [02:40<02:19,  2.44it/s]\rDownloading blobs:  65%|██████▌   | 630/969 [02:40<02:02,  2.76it/s]\rDownloading blobs:  65%|██████▌   | 631/969 [02:40<01:49,  3.09it/s]\rDownloading blobs:  65%|██████▌   | 632/969 [02:40<01:35,  3.54it/s]\rDownloading blobs:  65%|██████▌   | 633/969 [02:41<01:32,  3.62it/s]\rDownloading blobs:  65%|██████▌   | 634/969 [02:41<01:42,  3.27it/s]\rDownloading blobs:  66%|██████▌   | 635/969 [02:41<01:32,  3.62it/s]\rDownloading blobs:  66%|██████▌   | 636/969 [02:41<01:27,  3.81it/s]\rDownloading blobs:  66%|██████▌   | 637/969 [02:42<01:24,  3.91it/s]\rDownloading blobs:  66%|██████▌   | 638/969 [02:42<01:19,  4.18it/s]\rDownloading blobs:  66%|██████▌   | 639/969 [02:42<01:16,  4.32it/s]\rDownloading blobs:  66%|██████▌   | 640/969 [02:42<01:19,  4.11it/s]\rDownloading blobs:  66%|██████▌   | 641/969 [02:43<01:22,  3.98it/s]\rDownloading blobs:  66%|██████▋   | 642/969 [02:43<01:23,  3.92it/s]\rDownloading blobs:  66%|██████▋   | 643/969 [02:43<01:20,  4.07it/s]\rDownloading blobs:  66%|██████▋   | 644/969 [02:43<01:19,  4.09it/s]\rDownloading blobs:  67%|██████▋   | 645/969 [02:44<01:14,  4.33it/s]\rDownloading blobs:  67%|██████▋   | 646/969 [02:44<01:15,  4.26it/s]\rDownloading blobs:  67%|██████▋   | 647/969 [02:44<01:15,  4.25it/s]\rDownloading blobs:  67%|██████▋   | 648/969 [02:44<01:17,  4.16it/s]\rDownloading blobs:  67%|██████▋   | 649/969 [02:45<01:15,  4.26it/s]\rDownloading blobs:  67%|██████▋   | 650/969 [02:45<01:15,  4.24it/s]\rDownloading blobs:  67%|██████▋   | 651/969 [02:45<01:25,  3.74it/s]\rDownloading blobs:  67%|██████▋   | 652/969 [02:45<01:20,  3.94it/s]\rDownloading blobs:  67%|██████▋   | 653/969 [02:46<01:17,  4.09it/s]\rDownloading blobs:  67%|██████▋   | 654/969 [02:46<01:15,  4.18it/s]\rDownloading blobs:  68%|██████▊   | 655/969 [02:46<01:12,  4.34it/s]\rDownloading blobs:  68%|██████▊   | 656/969 [02:46<01:16,  4.09it/s]\rDownloading blobs:  68%|██████▊   | 657/969 [02:46<01:15,  4.14it/s]\rDownloading blobs:  68%|██████▊   | 658/969 [02:47<01:16,  4.05it/s]\rDownloading blobs:  68%|██████▊   | 659/969 [02:47<01:17,  3.99it/s]\rDownloading blobs:  68%|██████▊   | 660/969 [02:47<01:16,  4.02it/s]\rDownloading blobs:  68%|██████▊   | 661/969 [02:48<01:22,  3.73it/s]\rDownloading blobs:  68%|██████▊   | 662/969 [02:48<01:14,  4.10it/s]\rDownloading blobs:  68%|██████▊   | 663/969 [02:48<01:13,  4.14it/s]\rDownloading blobs:  69%|██████▊   | 664/969 [02:48<01:27,  3.49it/s]\rDownloading blobs:  69%|██████▊   | 665/969 [02:49<01:42,  2.95it/s]\rDownloading blobs:  69%|██████▊   | 666/969 [02:49<01:29,  3.38it/s]\rDownloading blobs:  69%|██████▉   | 667/969 [02:49<01:23,  3.60it/s]\rDownloading blobs:  69%|██████▉   | 668/969 [02:49<01:17,  3.86it/s]\rDownloading blobs:  69%|██████▉   | 669/969 [02:50<01:14,  4.01it/s]\rDownloading blobs:  69%|██████▉   | 670/969 [02:50<01:32,  3.23it/s]\rDownloading blobs:  69%|██████▉   | 671/969 [02:51<01:38,  3.04it/s]\rDownloading blobs:  69%|██████▉   | 672/969 [02:51<01:28,  3.36it/s]\rDownloading blobs:  69%|██████▉   | 673/969 [02:51<01:20,  3.70it/s]\rDownloading blobs:  70%|██████▉   | 674/969 [02:51<01:14,  3.96it/s]\rDownloading blobs:  70%|██████▉   | 675/969 [02:51<01:14,  3.97it/s]\rDownloading blobs:  70%|██████▉   | 676/969 [02:52<01:11,  4.10it/s]\rDownloading blobs:  70%|██████▉   | 677/969 [02:52<01:13,  4.00it/s]\rDownloading blobs:  70%|██████▉   | 678/969 [02:52<01:08,  4.24it/s]\rDownloading blobs:  70%|███████   | 679/969 [02:53<01:23,  3.46it/s]\rDownloading blobs:  70%|███████   | 680/969 [02:53<01:18,  3.69it/s]\rDownloading blobs:  70%|███████   | 681/969 [02:53<01:14,  3.86it/s]\rDownloading blobs:  70%|███████   | 682/969 [02:53<01:12,  3.97it/s]\rDownloading blobs:  70%|███████   | 683/969 [02:54<01:18,  3.66it/s]\rDownloading blobs:  71%|███████   | 684/969 [02:54<01:17,  3.68it/s]\rDownloading blobs:  71%|███████   | 685/969 [02:54<01:12,  3.90it/s]\rDownloading blobs:  71%|███████   | 686/969 [02:54<01:09,  4.08it/s]\rDownloading blobs:  71%|███████   | 687/969 [02:54<01:08,  4.12it/s]\rDownloading blobs:  71%|███████   | 688/969 [02:55<01:10,  3.98it/s]\rDownloading blobs:  71%|███████   | 689/969 [02:55<01:07,  4.14it/s]\rDownloading blobs:  71%|███████   | 690/969 [02:55<01:15,  3.71it/s]\rDownloading blobs:  71%|███████▏  | 691/969 [02:56<01:17,  3.58it/s]\rDownloading blobs:  71%|███████▏  | 692/969 [02:56<01:24,  3.28it/s]\rDownloading blobs:  72%|███████▏  | 693/969 [02:56<01:15,  3.66it/s]\rDownloading blobs:  72%|███████▏  | 694/969 [02:56<01:10,  3.92it/s]\rDownloading blobs:  72%|███████▏  | 695/969 [02:57<01:18,  3.47it/s]\rDownloading blobs:  72%|███████▏  | 696/969 [02:57<01:17,  3.53it/s]\rDownloading blobs:  72%|███████▏  | 697/969 [02:57<01:14,  3.64it/s]\rDownloading blobs:  72%|███████▏  | 698/969 [02:58<01:11,  3.79it/s]\rDownloading blobs:  72%|███████▏  | 699/969 [02:58<01:08,  3.96it/s]\rDownloading blobs:  72%|███████▏  | 700/969 [02:58<01:08,  3.92it/s]\rDownloading blobs:  72%|███████▏  | 701/969 [02:58<01:03,  4.21it/s]\rDownloading blobs:  72%|███████▏  | 702/969 [02:58<01:00,  4.38it/s]\rDownloading blobs:  73%|███████▎  | 703/969 [02:59<00:58,  4.52it/s]\rDownloading blobs:  73%|███████▎  | 704/969 [02:59<01:01,  4.28it/s]\rDownloading blobs:  73%|███████▎  | 705/969 [02:59<01:07,  3.91it/s]\rDownloading blobs:  73%|███████▎  | 706/969 [02:59<01:09,  3.76it/s]\rDownloading blobs:  73%|███████▎  | 707/969 [03:00<01:05,  4.02it/s]\rDownloading blobs:  73%|███████▎  | 708/969 [03:00<01:02,  4.20it/s]\rDownloading blobs:  73%|███████▎  | 709/969 [03:00<00:58,  4.44it/s]\rDownloading blobs:  73%|███████▎  | 710/969 [03:00<00:59,  4.36it/s]\rDownloading blobs:  73%|███████▎  | 711/969 [03:01<00:56,  4.60it/s]\rDownloading blobs:  73%|███████▎  | 712/969 [03:01<00:58,  4.39it/s]\rDownloading blobs:  74%|███████▎  | 713/969 [03:01<01:00,  4.26it/s]\rDownloading blobs:  74%|███████▎  | 714/969 [03:01<00:58,  4.34it/s]\rDownloading blobs:  74%|███████▍  | 715/969 [03:02<01:00,  4.17it/s]\rDownloading blobs:  74%|███████▍  | 716/969 [03:02<01:17,  3.25it/s]\rDownloading blobs:  74%|███████▍  | 717/969 [03:02<01:10,  3.56it/s]\rDownloading blobs:  74%|███████▍  | 718/969 [03:02<01:07,  3.73it/s]\rDownloading blobs:  74%|███████▍  | 719/969 [03:03<01:07,  3.68it/s]\rDownloading blobs:  74%|███████▍  | 720/969 [03:03<01:10,  3.56it/s]\rDownloading blobs:  74%|███████▍  | 721/969 [03:03<01:07,  3.69it/s]\rDownloading blobs:  75%|███████▍  | 722/969 [03:03<01:01,  3.99it/s]\rDownloading blobs:  75%|███████▍  | 723/969 [03:04<01:00,  4.06it/s]\rDownloading blobs:  75%|███████▍  | 724/969 [03:04<01:00,  4.05it/s]\rDownloading blobs:  75%|███████▍  | 725/969 [03:04<01:00,  4.03it/s]\rDownloading blobs:  75%|███████▍  | 726/969 [03:04<00:58,  4.18it/s]\rDownloading blobs:  75%|███████▌  | 727/969 [03:05<01:00,  4.03it/s]\rDownloading blobs:  75%|███████▌  | 728/969 [03:05<01:01,  3.93it/s]\rDownloading blobs:  75%|███████▌  | 729/969 [03:05<01:01,  3.91it/s]\rDownloading blobs:  75%|███████▌  | 730/969 [03:05<00:58,  4.10it/s]\rDownloading blobs:  75%|███████▌  | 731/969 [03:06<00:56,  4.20it/s]\rDownloading blobs:  76%|███████▌  | 732/969 [03:06<01:00,  3.93it/s]\rDownloading blobs:  76%|███████▌  | 733/969 [03:06<00:59,  3.96it/s]\rDownloading blobs:  76%|███████▌  | 734/969 [03:07<01:04,  3.64it/s]\rDownloading blobs:  76%|███████▌  | 735/969 [03:07<01:04,  3.65it/s]\rDownloading blobs:  76%|███████▌  | 736/969 [03:07<01:06,  3.49it/s]\rDownloading blobs:  76%|███████▌  | 737/969 [03:07<01:07,  3.42it/s]\rDownloading blobs:  76%|███████▌  | 738/969 [03:08<01:03,  3.63it/s]\rDownloading blobs:  76%|███████▋  | 739/969 [03:08<01:02,  3.66it/s]\rDownloading blobs:  76%|███████▋  | 740/969 [03:08<00:59,  3.86it/s]\rDownloading blobs:  76%|███████▋  | 741/969 [03:08<00:55,  4.12it/s]\rDownloading blobs:  77%|███████▋  | 742/969 [03:09<00:55,  4.08it/s]\rDownloading blobs:  77%|███████▋  | 743/969 [03:09<00:53,  4.21it/s]\rDownloading blobs:  77%|███████▋  | 744/969 [03:09<00:51,  4.33it/s]\rDownloading blobs:  77%|███████▋  | 745/969 [03:09<00:55,  4.05it/s]\rDownloading blobs:  77%|███████▋  | 746/969 [03:10<00:54,  4.12it/s]\rDownloading blobs:  77%|███████▋  | 747/969 [03:10<00:51,  4.32it/s]\rDownloading blobs:  77%|███████▋  | 748/969 [03:10<00:53,  4.12it/s]\rDownloading blobs:  77%|███████▋  | 749/969 [03:10<00:52,  4.16it/s]\rDownloading blobs:  77%|███████▋  | 750/969 [03:10<00:51,  4.24it/s]\rDownloading blobs:  78%|███████▊  | 751/969 [03:11<00:50,  4.28it/s]\rDownloading blobs:  78%|███████▊  | 752/969 [03:11<00:52,  4.14it/s]\rDownloading blobs:  78%|███████▊  | 753/969 [03:11<00:50,  4.31it/s]\rDownloading blobs:  78%|███████▊  | 754/969 [03:11<00:51,  4.18it/s]\rDownloading blobs:  78%|███████▊  | 755/969 [03:12<00:48,  4.44it/s]\rDownloading blobs:  78%|███████▊  | 756/969 [03:12<00:49,  4.31it/s]\rDownloading blobs:  78%|███████▊  | 757/969 [03:12<00:49,  4.32it/s]\rDownloading blobs:  78%|███████▊  | 758/969 [03:12<00:56,  3.73it/s]\rDownloading blobs:  78%|███████▊  | 759/969 [03:13<00:54,  3.86it/s]\rDownloading blobs:  78%|███████▊  | 760/969 [03:13<00:56,  3.71it/s]\rDownloading blobs:  79%|███████▊  | 761/969 [03:13<00:53,  3.87it/s]\rDownloading blobs:  79%|███████▊  | 762/969 [03:13<00:51,  4.05it/s]\rDownloading blobs:  79%|███████▊  | 763/969 [03:14<00:50,  4.08it/s]\rDownloading blobs:  79%|███████▉  | 764/969 [03:14<00:51,  3.94it/s]\rDownloading blobs:  79%|███████▉  | 765/969 [03:14<00:51,  3.95it/s]\rDownloading blobs:  79%|███████▉  | 766/969 [03:14<00:48,  4.16it/s]\rDownloading blobs:  79%|███████▉  | 767/969 [03:15<00:47,  4.22it/s]\rDownloading blobs:  79%|███████▉  | 768/969 [03:15<00:49,  4.09it/s]\rDownloading blobs:  79%|███████▉  | 769/969 [03:15<00:47,  4.19it/s]\rDownloading blobs:  79%|███████▉  | 770/969 [03:15<00:47,  4.18it/s]\rDownloading blobs:  80%|███████▉  | 771/969 [03:16<00:46,  4.28it/s]\rDownloading blobs:  80%|███████▉  | 772/969 [03:16<00:45,  4.32it/s]\rDownloading blobs:  80%|███████▉  | 773/969 [03:16<00:47,  4.13it/s]\rDownloading blobs:  80%|███████▉  | 774/969 [03:16<00:49,  3.97it/s]\rDownloading blobs:  80%|███████▉  | 775/969 [03:17<00:47,  4.10it/s]\rDownloading blobs:  80%|████████  | 776/969 [03:17<00:46,  4.17it/s]\rDownloading blobs:  80%|████████  | 777/969 [03:17<00:49,  3.88it/s]\rDownloading blobs:  80%|████████  | 778/969 [03:17<00:46,  4.12it/s]\rDownloading blobs:  80%|████████  | 779/969 [03:18<00:44,  4.23it/s]\rDownloading blobs:  80%|████████  | 780/969 [03:18<00:47,  4.01it/s]\rDownloading blobs:  81%|████████  | 781/969 [03:18<00:43,  4.28it/s]\rDownloading blobs:  81%|████████  | 782/969 [03:18<00:43,  4.29it/s]\rDownloading blobs:  81%|████████  | 783/969 [03:18<00:41,  4.50it/s]\rDownloading blobs:  81%|████████  | 784/969 [03:19<00:45,  4.08it/s]\rDownloading blobs:  81%|████████  | 785/969 [03:19<00:43,  4.24it/s]\rDownloading blobs:  81%|████████  | 786/969 [03:19<00:41,  4.40it/s]\rDownloading blobs:  81%|████████  | 787/969 [03:19<00:44,  4.12it/s]\rDownloading blobs:  81%|████████▏ | 788/969 [03:20<00:41,  4.36it/s]\rDownloading blobs:  81%|████████▏ | 789/969 [03:20<00:41,  4.31it/s]\rDownloading blobs:  82%|████████▏ | 790/969 [03:20<00:40,  4.43it/s]\rDownloading blobs:  82%|████████▏ | 791/969 [03:20<00:39,  4.51it/s]\rDownloading blobs:  82%|████████▏ | 792/969 [03:21<00:42,  4.21it/s]\rDownloading blobs:  82%|████████▏ | 793/969 [03:21<00:42,  4.15it/s]\rDownloading blobs:  82%|████████▏ | 794/969 [03:21<00:45,  3.81it/s]\rDownloading blobs:  82%|████████▏ | 795/969 [03:21<00:42,  4.08it/s]\rDownloading blobs:  82%|████████▏ | 796/969 [03:22<00:40,  4.24it/s]\rDownloading blobs:  82%|████████▏ | 797/969 [03:22<00:42,  4.09it/s]\rDownloading blobs:  82%|████████▏ | 798/969 [03:22<00:41,  4.07it/s]\rDownloading blobs:  82%|████████▏ | 799/969 [03:22<00:41,  4.05it/s]\rDownloading blobs:  83%|████████▎ | 800/969 [03:23<00:40,  4.18it/s]\rDownloading blobs:  83%|████████▎ | 801/969 [03:23<00:41,  4.01it/s]\rDownloading blobs:  83%|████████▎ | 802/969 [03:23<00:41,  4.04it/s]\rDownloading blobs:  83%|████████▎ | 803/969 [03:23<00:41,  4.00it/s]\rDownloading blobs:  83%|████████▎ | 804/969 [03:24<00:42,  3.85it/s]\rDownloading blobs:  83%|████████▎ | 805/969 [03:24<00:43,  3.78it/s]\rDownloading blobs:  83%|████████▎ | 806/969 [03:24<00:42,  3.83it/s]\rDownloading blobs:  83%|████████▎ | 807/969 [03:24<00:40,  4.00it/s]\rDownloading blobs:  83%|████████▎ | 808/969 [03:25<00:41,  3.86it/s]\rDownloading blobs:  83%|████████▎ | 809/969 [03:25<00:46,  3.44it/s]\rDownloading blobs:  84%|████████▎ | 810/969 [03:25<00:41,  3.82it/s]\rDownloading blobs:  84%|████████▎ | 811/969 [03:25<00:39,  3.97it/s]\rDownloading blobs:  84%|████████▍ | 812/969 [03:26<00:37,  4.21it/s]\rDownloading blobs:  84%|████████▍ | 813/969 [03:26<00:35,  4.34it/s]\rDownloading blobs:  84%|████████▍ | 814/969 [03:26<00:38,  4.05it/s]\rDownloading blobs:  84%|████████▍ | 815/969 [03:26<00:36,  4.23it/s]\rDownloading blobs:  84%|████████▍ | 816/969 [03:27<00:35,  4.34it/s]\rDownloading blobs:  84%|████████▍ | 817/969 [03:27<00:36,  4.13it/s]\rDownloading blobs:  84%|████████▍ | 818/969 [03:27<00:37,  4.04it/s]\rDownloading blobs:  85%|████████▍ | 819/969 [03:27<00:36,  4.11it/s]\rDownloading blobs:  85%|████████▍ | 820/969 [03:28<00:36,  4.09it/s]\rDownloading blobs:  85%|████████▍ | 821/969 [03:28<00:34,  4.31it/s]\rDownloading blobs:  85%|████████▍ | 822/969 [03:28<00:33,  4.45it/s]\rDownloading blobs:  85%|████████▍ | 823/969 [03:28<00:31,  4.66it/s]\rDownloading blobs:  85%|████████▌ | 824/969 [03:28<00:35,  4.13it/s]\rDownloading blobs:  85%|████████▌ | 825/969 [03:29<00:34,  4.20it/s]\rDownloading blobs:  85%|████████▌ | 826/969 [03:29<00:35,  4.08it/s]\rDownloading blobs:  85%|████████▌ | 827/969 [03:29<00:35,  4.04it/s]\rDownloading blobs:  85%|████████▌ | 828/969 [03:29<00:33,  4.27it/s]\rDownloading blobs:  86%|████████▌ | 829/969 [03:30<00:32,  4.29it/s]\rDownloading blobs:  86%|████████▌ | 830/969 [03:30<00:36,  3.80it/s]\rDownloading blobs:  86%|████████▌ | 831/969 [03:30<00:33,  4.10it/s]\rDownloading blobs:  86%|████████▌ | 832/969 [03:30<00:31,  4.28it/s]\rDownloading blobs:  86%|████████▌ | 833/969 [03:31<00:33,  4.06it/s]\rDownloading blobs:  86%|████████▌ | 834/969 [03:31<00:33,  4.08it/s]\rDownloading blobs:  86%|████████▌ | 835/969 [03:31<00:33,  4.02it/s]\rDownloading blobs:  86%|████████▋ | 836/969 [03:31<00:31,  4.18it/s]\rDownloading blobs:  86%|████████▋ | 837/969 [03:32<00:31,  4.14it/s]\rDownloading blobs:  86%|████████▋ | 838/969 [03:32<00:33,  3.95it/s]\rDownloading blobs:  87%|████████▋ | 839/969 [03:32<00:33,  3.94it/s]\rDownloading blobs:  87%|████████▋ | 840/969 [03:32<00:30,  4.28it/s]\rDownloading blobs:  87%|████████▋ | 841/969 [03:33<00:30,  4.26it/s]\rDownloading blobs:  87%|████████▋ | 842/969 [03:33<00:28,  4.52it/s]\rDownloading blobs:  87%|████████▋ | 843/969 [03:33<00:28,  4.46it/s]\rDownloading blobs:  87%|████████▋ | 844/969 [03:33<00:27,  4.54it/s]\rDownloading blobs:  87%|████████▋ | 845/969 [03:33<00:26,  4.61it/s]\rDownloading blobs:  87%|████████▋ | 846/969 [03:34<00:31,  3.95it/s]\rDownloading blobs:  87%|████████▋ | 847/969 [03:34<00:29,  4.16it/s]\rDownloading blobs:  88%|████████▊ | 848/969 [03:34<00:28,  4.20it/s]\rDownloading blobs:  88%|████████▊ | 849/969 [03:34<00:29,  4.09it/s]\rDownloading blobs:  88%|████████▊ | 850/969 [03:35<00:28,  4.11it/s]\rDownloading blobs:  88%|████████▊ | 851/969 [03:35<00:29,  4.06it/s]\rDownloading blobs:  88%|████████▊ | 852/969 [03:35<00:32,  3.64it/s]\rDownloading blobs:  88%|████████▊ | 853/969 [03:36<00:29,  3.98it/s]\rDownloading blobs:  88%|████████▊ | 854/969 [03:36<00:27,  4.13it/s]\rDownloading blobs:  88%|████████▊ | 855/969 [03:36<00:27,  4.12it/s]\rDownloading blobs:  88%|████████▊ | 856/969 [03:36<00:25,  4.36it/s]\rDownloading blobs:  88%|████████▊ | 857/969 [03:36<00:26,  4.21it/s]\rDownloading blobs:  89%|████████▊ | 858/969 [03:37<00:25,  4.41it/s]\rDownloading blobs:  89%|████████▊ | 859/969 [03:37<00:25,  4.32it/s]\rDownloading blobs:  89%|████████▉ | 860/969 [03:37<00:25,  4.21it/s]\rDownloading blobs:  89%|████████▉ | 861/969 [03:37<00:26,  4.04it/s]\rDownloading blobs:  89%|████████▉ | 862/969 [03:38<00:26,  3.97it/s]\rDownloading blobs:  89%|████████▉ | 863/969 [03:38<00:25,  4.15it/s]\rDownloading blobs:  89%|████████▉ | 864/969 [03:38<00:27,  3.78it/s]\rDownloading blobs:  89%|████████▉ | 865/969 [03:38<00:26,  3.89it/s]\rDownloading blobs:  89%|████████▉ | 866/969 [03:39<00:29,  3.54it/s]\rDownloading blobs:  89%|████████▉ | 867/969 [03:39<00:26,  3.91it/s]\rDownloading blobs:  90%|████████▉ | 868/969 [03:39<00:26,  3.82it/s]\rDownloading blobs:  90%|████████▉ | 869/969 [03:39<00:24,  4.03it/s]\rDownloading blobs:  90%|████████▉ | 870/969 [03:40<00:25,  3.85it/s]\rDownloading blobs:  90%|████████▉ | 871/969 [03:40<00:23,  4.10it/s]\rDownloading blobs:  90%|████████▉ | 872/969 [03:40<00:24,  3.99it/s]\rDownloading blobs:  90%|█████████ | 873/969 [03:40<00:22,  4.34it/s]\rDownloading blobs:  90%|█████████ | 874/969 [03:41<00:21,  4.33it/s]\rDownloading blobs:  90%|█████████ | 875/969 [03:41<00:22,  4.10it/s]\rDownloading blobs:  90%|█████████ | 876/969 [03:41<00:23,  4.02it/s]\rDownloading blobs:  91%|█████████ | 877/969 [03:41<00:23,  3.92it/s]\rDownloading blobs:  91%|█████████ | 878/969 [03:42<00:23,  3.87it/s]\rDownloading blobs:  91%|█████████ | 879/969 [03:42<00:22,  3.97it/s]\rDownloading blobs:  91%|█████████ | 880/969 [03:42<00:23,  3.80it/s]\rDownloading blobs:  91%|█████████ | 881/969 [03:43<00:31,  2.82it/s]\rDownloading blobs:  91%|█████████ | 882/969 [03:43<00:26,  3.25it/s]\rDownloading blobs:  91%|█████████ | 883/969 [03:43<00:25,  3.34it/s]\rDownloading blobs:  91%|█████████ | 884/969 [03:44<00:24,  3.52it/s]\rDownloading blobs:  91%|█████████▏| 885/969 [03:44<00:23,  3.51it/s]\rDownloading blobs:  91%|█████████▏| 886/969 [03:44<00:22,  3.71it/s]\rDownloading blobs:  92%|█████████▏| 887/969 [03:44<00:20,  4.02it/s]\rDownloading blobs:  92%|█████████▏| 888/969 [03:45<00:21,  3.85it/s]\rDownloading blobs:  92%|█████████▏| 889/969 [03:45<00:21,  3.74it/s]\rDownloading blobs:  92%|█████████▏| 890/969 [03:45<00:19,  4.01it/s]\rDownloading blobs:  92%|█████████▏| 891/969 [03:45<00:19,  3.94it/s]\rDownloading blobs:  92%|█████████▏| 892/969 [03:46<00:19,  4.03it/s]\rDownloading blobs:  92%|█████████▏| 893/969 [03:46<00:18,  4.03it/s]\rDownloading blobs:  92%|█████████▏| 894/969 [03:46<00:18,  4.11it/s]\rDownloading blobs:  92%|█████████▏| 895/969 [03:46<00:17,  4.34it/s]\rDownloading blobs:  92%|█████████▏| 896/969 [03:46<00:16,  4.30it/s]\rDownloading blobs:  93%|█████████▎| 897/969 [03:47<00:17,  4.08it/s]\rDownloading blobs:  93%|█████████▎| 898/969 [03:47<00:17,  4.12it/s]\rDownloading blobs:  93%|█████████▎| 899/969 [03:47<00:18,  3.76it/s]\rDownloading blobs:  93%|█████████▎| 900/969 [03:48<00:28,  2.44it/s]\rDownloading blobs:  93%|█████████▎| 901/969 [03:48<00:24,  2.81it/s]\rDownloading blobs:  93%|█████████▎| 902/969 [03:48<00:21,  3.13it/s]\rDownloading blobs:  93%|█████████▎| 903/969 [03:49<00:20,  3.28it/s]\rDownloading blobs:  93%|█████████▎| 904/969 [03:49<00:18,  3.53it/s]\rDownloading blobs:  93%|█████████▎| 905/969 [03:49<00:18,  3.40it/s]\rDownloading blobs:  93%|█████████▎| 906/969 [03:50<00:19,  3.24it/s]\rDownloading blobs:  94%|█████████▎| 907/969 [03:50<00:19,  3.11it/s]\rDownloading blobs:  94%|█████████▎| 908/969 [03:50<00:17,  3.45it/s]\rDownloading blobs:  94%|█████████▍| 909/969 [03:51<00:17,  3.47it/s]\rDownloading blobs:  94%|█████████▍| 910/969 [03:51<00:15,  3.76it/s]\rDownloading blobs:  94%|█████████▍| 911/969 [03:51<00:15,  3.72it/s]\rDownloading blobs:  94%|█████████▍| 912/969 [03:51<00:14,  3.82it/s]\rDownloading blobs:  94%|█████████▍| 913/969 [03:52<00:14,  3.84it/s]\rDownloading blobs:  94%|█████████▍| 914/969 [03:52<00:14,  3.70it/s]\rDownloading blobs:  94%|█████████▍| 915/969 [03:52<00:14,  3.70it/s]\rDownloading blobs:  95%|█████████▍| 916/969 [03:52<00:13,  3.81it/s]\rDownloading blobs:  95%|█████████▍| 917/969 [03:53<00:14,  3.50it/s]\rDownloading blobs:  95%|█████████▍| 918/969 [03:53<00:13,  3.67it/s]\rDownloading blobs:  95%|█████████▍| 919/969 [03:53<00:12,  3.90it/s]\rDownloading blobs:  95%|█████████▍| 920/969 [03:53<00:11,  4.08it/s]\rDownloading blobs:  95%|█████████▌| 921/969 [03:54<00:11,  4.09it/s]\rDownloading blobs:  95%|█████████▌| 922/969 [03:54<00:11,  3.98it/s]\rDownloading blobs:  95%|█████████▌| 923/969 [03:54<00:11,  3.92it/s]\rDownloading blobs:  95%|█████████▌| 924/969 [03:54<00:11,  3.96it/s]\rDownloading blobs:  95%|█████████▌| 925/969 [03:55<00:11,  4.00it/s]\rDownloading blobs:  96%|█████████▌| 926/969 [03:55<00:10,  3.94it/s]\rDownloading blobs:  96%|█████████▌| 927/969 [03:55<00:10,  3.95it/s]\rDownloading blobs:  96%|█████████▌| 928/969 [03:55<00:10,  3.93it/s]\rDownloading blobs:  96%|█████████▌| 929/969 [03:56<00:09,  4.18it/s]\rDownloading blobs:  96%|█████████▌| 930/969 [03:56<00:09,  4.21it/s]\rDownloading blobs:  96%|█████████▌| 931/969 [03:56<00:09,  4.22it/s]\rDownloading blobs:  96%|█████████▌| 932/969 [03:56<00:09,  4.03it/s]\rDownloading blobs:  96%|█████████▋| 933/969 [03:57<00:08,  4.16it/s]\rDownloading blobs:  96%|█████████▋| 934/969 [03:57<00:08,  4.28it/s]\rDownloading blobs:  96%|█████████▋| 935/969 [03:57<00:08,  4.23it/s]\rDownloading blobs:  97%|█████████▋| 936/969 [03:57<00:07,  4.29it/s]\rDownloading blobs:  97%|█████████▋| 937/969 [03:57<00:07,  4.24it/s]\rDownloading blobs:  97%|█████████▋| 938/969 [03:58<00:07,  4.26it/s]\rDownloading blobs:  97%|█████████▋| 939/969 [03:58<00:06,  4.41it/s]\rDownloading blobs:  97%|█████████▋| 940/969 [03:58<00:06,  4.51it/s]\rDownloading blobs:  97%|█████████▋| 941/969 [03:58<00:06,  4.47it/s]\rDownloading blobs:  97%|█████████▋| 942/969 [03:59<00:05,  4.61it/s]\rDownloading blobs:  97%|█████████▋| 943/969 [03:59<00:05,  4.47it/s]\rDownloading blobs:  97%|█████████▋| 944/969 [03:59<00:05,  4.46it/s]\rDownloading blobs:  98%|█████████▊| 945/969 [03:59<00:05,  4.27it/s]\rDownloading blobs:  98%|█████████▊| 946/969 [04:00<00:05,  4.22it/s]\rDownloading blobs:  98%|█████████▊| 947/969 [04:00<00:05,  3.85it/s]\rDownloading blobs:  98%|█████████▊| 948/969 [04:00<00:05,  3.87it/s]\rDownloading blobs:  98%|█████████▊| 949/969 [04:00<00:05,  3.69it/s]\rDownloading blobs:  98%|█████████▊| 950/969 [04:01<00:04,  3.80it/s]\rDownloading blobs:  98%|█████████▊| 951/969 [04:01<00:04,  3.85it/s]\rDownloading blobs:  98%|█████████▊| 952/969 [04:01<00:04,  4.05it/s]\rDownloading blobs:  98%|█████████▊| 953/969 [04:01<00:03,  4.15it/s]\rDownloading blobs:  98%|█████████▊| 954/969 [04:02<00:03,  4.09it/s]\rDownloading blobs:  99%|█████████▊| 955/969 [04:02<00:03,  4.15it/s]\rDownloading blobs:  99%|█████████▊| 956/969 [04:02<00:03,  4.19it/s]\rDownloading blobs:  99%|█████████▉| 957/969 [04:02<00:02,  4.26it/s]\rDownloading blobs:  99%|█████████▉| 958/969 [04:02<00:02,  4.30it/s]\rDownloading blobs:  99%|█████████▉| 959/969 [04:03<00:02,  4.35it/s]\rDownloading blobs:  99%|█████████▉| 960/969 [04:03<00:02,  4.11it/s]\rDownloading blobs:  99%|█████████▉| 961/969 [04:03<00:01,  4.03it/s]\rDownloading blobs:  99%|█████████▉| 962/969 [04:03<00:01,  4.19it/s]\rDownloading blobs:  99%|█████████▉| 963/969 [04:04<00:01,  4.30it/s]\rDownloading blobs:  99%|█████████▉| 964/969 [04:04<00:01,  4.27it/s]\rDownloading blobs: 100%|█████████▉| 965/969 [04:04<00:00,  4.28it/s]\rDownloading blobs: 100%|█████████▉| 966/969 [04:04<00:00,  4.15it/s]\rDownloading blobs: 100%|█████████▉| 967/969 [04:05<00:00,  3.89it/s]\rDownloading blobs: 100%|█████████▉| 968/969 [04:05<00:00,  3.94it/s]\rDownloading blobs: 100%|██████████| 969/969 [04:05<00:00,  4.08it/s]\rDownloading blobs: 100%|██████████| 969/969 [04:05<00:00,  3.94it/s]\n\rDownloading blobs:   0%|          | 0/969 [00:00<?, ?it/s]\rDownloading blobs:   0%|          | 2/969 [00:00<00:51, 18.96it/s]"
     ]
    },
    {
     "output_type": "stream",
     "name": "stdout",
     "output_type": "stream",
     "text": [
      "File exists: /dbfs/mnt/raw/DataScientistSDSData/TLSED_test/raw/angola_2006_00.tfrecord.gz, skipping.\nFile exists: /dbfs/mnt/raw/DataScientistSDSData/TLSED_test/raw/angola_2006_01.tfrecord.gz, skipping.\nFile exists: /dbfs/mnt/raw/DataScientistSDSData/TLSED_test/raw/angola_2006_02.tfrecord.gz, skipping.\n"
     ]
    },
    {
     "output_type": "stream",
     "name": "stderr",
     "output_type": "stream",
     "text": [
      "\rDownloading blobs:   0%|          | 4/969 [00:00<01:23, 11.60it/s]"
     ]
    },
    {
     "output_type": "stream",
     "name": "stdout",
     "output_type": "stream",
     "text": [
      "File exists: /dbfs/mnt/raw/DataScientistSDSData/TLSED_test/raw/angola_2006_03.tfrecord.gz, skipping.\nFile exists: /dbfs/mnt/raw/DataScientistSDSData/TLSED_test/raw/angola_2006_04.tfrecord.gz, skipping.\n"
     ]
    },
    {
     "output_type": "stream",
     "name": "stderr",
     "output_type": "stream",
     "text": [
      "\rDownloading blobs:   1%|          | 6/969 [00:00<01:30, 10.60it/s]\rDownloading blobs:   1%|          | 8/969 [00:00<01:24, 11.39it/s]"
     ]
    },
    {
     "output_type": "stream",
     "name": "stdout",
     "output_type": "stream",
     "text": [
      "File exists: /dbfs/mnt/raw/DataScientistSDSData/TLSED_test/raw/angola_2006_05.tfrecord.gz, skipping.\nFile exists: /dbfs/mnt/raw/DataScientistSDSData/TLSED_test/raw/angola_2006_06.tfrecord.gz, skipping.\nFile exists: /dbfs/mnt/raw/DataScientistSDSData/TLSED_test/raw/angola_2006_07.tfrecord.gz, skipping.\n"
     ]
    },
    {
     "output_type": "stream",
     "name": "stderr",
     "output_type": "stream",
     "text": [
      "\rDownloading blobs:   1%|          | 10/969 [00:00<01:27, 10.95it/s]"
     ]
    },
    {
     "output_type": "stream",
     "name": "stdout",
     "output_type": "stream",
     "text": [
      "File exists: /dbfs/mnt/raw/DataScientistSDSData/TLSED_test/raw/angola_2006_08.tfrecord.gz, skipping.\nFile exists: /dbfs/mnt/raw/DataScientistSDSData/TLSED_test/raw/angola_2006_09.tfrecord.gz, skipping.\nFile exists: /dbfs/mnt/raw/DataScientistSDSData/TLSED_test/raw/angola_2006_10.tfrecord.gz, skipping.\n"
     ]
    },
    {
     "output_type": "stream",
     "name": "stderr",
     "output_type": "stream",
     "text": [
      "\rDownloading blobs:   1%|          | 12/969 [00:01<01:22, 11.55it/s]\rDownloading blobs:   1%|▏         | 14/969 [00:01<01:24, 11.30it/s]"
     ]
    },
    {
     "output_type": "stream",
     "name": "stdout",
     "output_type": "stream",
     "text": [
      "File exists: /dbfs/mnt/raw/DataScientistSDSData/TLSED_test/raw/angola_2006_11.tfrecord.gz, skipping.\nFile exists: /dbfs/mnt/raw/DataScientistSDSData/TLSED_test/raw/angola_2006_12.tfrecord.gz, skipping.\nFile exists: /dbfs/mnt/raw/DataScientistSDSData/TLSED_test/raw/angola_2006_13.tfrecord.gz, skipping.\n"
     ]
    },
    {
     "output_type": "stream",
     "name": "stderr",
     "output_type": "stream",
     "text": [
      "\rDownloading blobs:   2%|▏         | 16/969 [00:01<01:31, 10.37it/s]"
     ]
    },
    {
     "output_type": "stream",
     "name": "stdout",
     "output_type": "stream",
     "text": [
      "File exists: /dbfs/mnt/raw/DataScientistSDSData/TLSED_test/raw/angola_2006_14.tfrecord.gz, skipping.\nFile exists: /dbfs/mnt/raw/DataScientistSDSData/TLSED_test/raw/angola_2006_15.tfrecord.gz, skipping.\n"
     ]
    },
    {
     "output_type": "stream",
     "name": "stderr",
     "output_type": "stream",
     "text": [
      "\rDownloading blobs:   2%|▏         | 18/969 [00:01<01:33, 10.17it/s]"
     ]
    },
    {
     "output_type": "stream",
     "name": "stdout",
     "output_type": "stream",
     "text": [
      "File exists: /dbfs/mnt/raw/DataScientistSDSData/TLSED_test/raw/angola_2006_16.tfrecord.gz, skipping.\nFile exists: /dbfs/mnt/raw/DataScientistSDSData/TLSED_test/raw/angola_2006_17.tfrecord.gz, skipping.\nFile exists: /dbfs/mnt/raw/DataScientistSDSData/TLSED_test/raw/angola_2006_18.tfrecord.gz, skipping.\n"
     ]
    },
    {
     "output_type": "stream",
     "name": "stderr",
     "output_type": "stream",
     "text": [
      "\rDownloading blobs:   2%|▏         | 20/969 [00:01<01:35,  9.89it/s]"
     ]
    },
    {
     "output_type": "stream",
     "name": "stdout",
     "output_type": "stream",
     "text": [
      "File exists: /dbfs/mnt/raw/DataScientistSDSData/TLSED_test/raw/angola_2006_19.tfrecord.gz, skipping.\nFile exists: /dbfs/mnt/raw/DataScientistSDSData/TLSED_test/raw/angola_2006_20.tfrecord.gz, skipping.\n"
     ]
    },
    {
     "output_type": "stream",
     "name": "stderr",
     "output_type": "stream",
     "text": [
      "\rDownloading blobs:   2%|▏         | 22/969 [00:02<01:38,  9.64it/s]\rDownloading blobs:   2%|▏         | 24/969 [00:02<01:31, 10.37it/s]"
     ]
    },
    {
     "output_type": "stream",
     "name": "stdout",
     "output_type": "stream",
     "text": [
      "File exists: /dbfs/mnt/raw/DataScientistSDSData/TLSED_test/raw/angola_2006_21.tfrecord.gz, skipping.\nFile exists: /dbfs/mnt/raw/DataScientistSDSData/TLSED_test/raw/angola_2006_22.tfrecord.gz, skipping.\nFile exists: /dbfs/mnt/raw/DataScientistSDSData/TLSED_test/raw/angola_2006_23.tfrecord.gz, skipping.\n"
     ]
    },
    {
     "output_type": "stream",
     "name": "stderr",
     "output_type": "stream",
     "text": [
      "\rDownloading blobs:   3%|▎         | 26/969 [00:02<01:30, 10.43it/s]"
     ]
    },
    {
     "output_type": "stream",
     "name": "stdout",
     "output_type": "stream",
     "text": [
      "File exists: /dbfs/mnt/raw/DataScientistSDSData/TLSED_test/raw/angola_2006_24.tfrecord.gz, skipping.\nFile exists: /dbfs/mnt/raw/DataScientistSDSData/TLSED_test/raw/angola_2006_25.tfrecord.gz, skipping.\nFile exists: /dbfs/mnt/raw/DataScientistSDSData/TLSED_test/raw/angola_2006_26.tfrecord.gz, skipping.\n"
     ]
    },
    {
     "output_type": "stream",
     "name": "stderr",
     "output_type": "stream",
     "text": [
      "\rDownloading blobs:   3%|▎         | 28/969 [00:02<01:37,  9.64it/s]\rDownloading blobs:   3%|▎         | 29/969 [00:02<01:37,  9.66it/s]"
     ]
    },
    {
     "output_type": "stream",
     "name": "stdout",
     "output_type": "stream",
     "text": [
      "File exists: /dbfs/mnt/raw/DataScientistSDSData/TLSED_test/raw/angola_2006_27.tfrecord.gz, skipping.\nFile exists: /dbfs/mnt/raw/DataScientistSDSData/TLSED_test/raw/angola_2006_28.tfrecord.gz, skipping.\nFile exists: /dbfs/mnt/raw/DataScientistSDSData/TLSED_test/raw/angola_2006_29.tfrecord.gz, skipping.\n"
     ]
    },
    {
     "output_type": "stream",
     "name": "stderr",
     "output_type": "stream",
     "text": [
      "\rDownloading blobs:   3%|▎         | 31/969 [00:02<01:32, 10.17it/s]"
     ]
    },
    {
     "output_type": "stream",
     "name": "stdout",
     "output_type": "stream",
     "text": [
      "File exists: /dbfs/mnt/raw/DataScientistSDSData/TLSED_test/raw/angola_2006_30.tfrecord.gz, skipping.\nFile exists: /dbfs/mnt/raw/DataScientistSDSData/TLSED_test/raw/angola_2006_31.tfrecord.gz, skipping.\n"
     ]
    },
    {
     "output_type": "stream",
     "name": "stderr",
     "output_type": "stream",
     "text": [
      "\rDownloading blobs:   3%|▎         | 33/969 [00:03<01:35,  9.77it/s]\rDownloading blobs:   4%|▎         | 35/969 [00:03<01:27, 10.70it/s]"
     ]
    },
    {
     "output_type": "stream",
     "name": "stdout",
     "output_type": "stream",
     "text": [
      "File exists: /dbfs/mnt/raw/DataScientistSDSData/TLSED_test/raw/angola_2006_32.tfrecord.gz, skipping.\nFile exists: /dbfs/mnt/raw/DataScientistSDSData/TLSED_test/raw/angola_2006_33.tfrecord.gz, skipping.\nFile exists: /dbfs/mnt/raw/DataScientistSDSData/TLSED_test/raw/angola_2006_34.tfrecord.gz, skipping.\n"
     ]
    },
    {
     "output_type": "stream",
     "name": "stderr",
     "output_type": "stream",
     "text": [
      "\rDownloading blobs:   4%|▍         | 37/969 [00:03<01:32, 10.10it/s]"
     ]
    },
    {
     "output_type": "stream",
     "name": "stdout",
     "output_type": "stream",
     "text": [
      "File exists: /dbfs/mnt/raw/DataScientistSDSData/TLSED_test/raw/angola_2006_35.tfrecord.gz, skipping.\nFile exists: /dbfs/mnt/raw/DataScientistSDSData/TLSED_test/raw/angola_2006_36.tfrecord.gz, skipping.\n"
     ]
    },
    {
     "output_type": "stream",
     "name": "stderr",
     "output_type": "stream",
     "text": [
      "\rDownloading blobs:   4%|▍         | 39/969 [00:03<01:36,  9.65it/s]"
     ]
    },
    {
     "output_type": "stream",
     "name": "stdout",
     "output_type": "stream",
     "text": [
      "File exists: /dbfs/mnt/raw/DataScientistSDSData/TLSED_test/raw/angola_2006_37.tfrecord.gz, skipping.\nFile exists: /dbfs/mnt/raw/DataScientistSDSData/TLSED_test/raw/angola_2006_38.tfrecord.gz, skipping.\n"
     ]
    },
    {
     "output_type": "stream",
     "name": "stderr",
     "output_type": "stream",
     "text": [
      "\rDownloading blobs:   4%|▍         | 40/969 [00:03<01:36,  9.66it/s]\rDownloading blobs:   4%|▍         | 42/969 [00:04<01:29, 10.39it/s]"
     ]
    },
    {
     "output_type": "stream",
     "name": "stdout",
     "output_type": "stream",
     "text": [
      "File exists: /dbfs/mnt/raw/DataScientistSDSData/TLSED_test/raw/angola_2006_39.tfrecord.gz, skipping.\nFile exists: /dbfs/mnt/raw/DataScientistSDSData/TLSED_test/raw/angola_2006_40.tfrecord.gz, skipping.\nFile exists: /dbfs/mnt/raw/DataScientistSDSData/TLSED_test/raw/angola_2006_41.tfrecord.gz, skipping.\n"
     ]
    },
    {
     "output_type": "stream",
     "name": "stderr",
     "output_type": "stream",
     "text": [
      "\rDownloading blobs:   5%|▍         | 44/969 [00:04<01:31, 10.09it/s]"
     ]
    },
    {
     "output_type": "stream",
     "name": "stdout",
     "output_type": "stream",
     "text": [
      "File exists: /dbfs/mnt/raw/DataScientistSDSData/TLSED_test/raw/angola_2006_42.tfrecord.gz, skipping.\nFile exists: /dbfs/mnt/raw/DataScientistSDSData/TLSED_test/raw/angola_2006_43.tfrecord.gz, skipping.\n"
     ]
    },
    {
     "output_type": "stream",
     "name": "stderr",
     "output_type": "stream",
     "text": [
      "\rDownloading blobs:   5%|▍         | 46/969 [00:04<01:34,  9.73it/s]"
     ]
    },
    {
     "output_type": "stream",
     "name": "stdout",
     "output_type": "stream",
     "text": [
      "File exists: /dbfs/mnt/raw/DataScientistSDSData/TLSED_test/raw/angola_2006_44.tfrecord.gz, skipping.\nFile exists: /dbfs/mnt/raw/DataScientistSDSData/TLSED_test/raw/angola_2006_45.tfrecord.gz, skipping.\nFile exists: /dbfs/mnt/raw/DataScientistSDSData/TLSED_test/raw/angola_2006_46.tfrecord.gz, skipping.\n"
     ]
    },
    {
     "output_type": "stream",
     "name": "stderr",
     "output_type": "stream",
     "text": [
      "\rDownloading blobs:   5%|▍         | 48/969 [00:04<01:31, 10.08it/s]\rDownloading blobs:   5%|▌         | 50/969 [00:04<01:26, 10.58it/s]"
     ]
    },
    {
     "output_type": "stream",
     "name": "stdout",
     "output_type": "stream",
     "text": [
      "File exists: /dbfs/mnt/raw/DataScientistSDSData/TLSED_test/raw/angola_2006_47.tfrecord.gz, skipping.\nFile exists: /dbfs/mnt/raw/DataScientistSDSData/TLSED_test/raw/angola_2006_48.tfrecord.gz, skipping.\nFile exists: /dbfs/mnt/raw/DataScientistSDSData/TLSED_test/raw/angola_2006_49.tfrecord.gz, skipping.\n"
     ]
    },
    {
     "output_type": "stream",
     "name": "stderr",
     "output_type": "stream",
     "text": [
      "\rDownloading blobs:   5%|▌         | 52/969 [00:05<01:29, 10.21it/s]"
     ]
    },
    {
     "output_type": "stream",
     "name": "stdout",
     "output_type": "stream",
     "text": [
      "File exists: /dbfs/mnt/raw/DataScientistSDSData/TLSED_test/raw/angola_2006_50.tfrecord.gz, skipping.\nFile exists: /dbfs/mnt/raw/DataScientistSDSData/TLSED_test/raw/angola_2006_51.tfrecord.gz, skipping.\nFile exists: /dbfs/mnt/raw/DataScientistSDSData/TLSED_test/raw/angola_2006_52.tfrecord.gz, skipping.\n"
     ]
    },
    {
     "output_type": "stream",
     "name": "stderr",
     "output_type": "stream",
     "text": [
      "\rDownloading blobs:   6%|▌         | 54/969 [00:05<01:24, 10.79it/s]\rDownloading blobs:   6%|▌         | 56/969 [00:05<01:13, 12.49it/s]"
     ]
    },
    {
     "output_type": "stream",
     "name": "stdout",
     "output_type": "stream",
     "text": [
      "File exists: /dbfs/mnt/raw/DataScientistSDSData/TLSED_test/raw/angola_2006_53.tfrecord.gz, skipping.\nFile exists: /dbfs/mnt/raw/DataScientistSDSData/TLSED_test/raw/angola_2006_54.tfrecord.gz, skipping.\nFile exists: /dbfs/mnt/raw/DataScientistSDSData/TLSED_test/raw/angola_2006_55.tfrecord.gz, skipping.\n"
     ]
    },
    {
     "output_type": "stream",
     "name": "stderr",
     "output_type": "stream",
     "text": [
      "\rDownloading blobs:   6%|▌         | 58/969 [00:05<01:21, 11.22it/s]"
     ]
    },
    {
     "output_type": "stream",
     "name": "stdout",
     "output_type": "stream",
     "text": [
      "File exists: /dbfs/mnt/raw/DataScientistSDSData/TLSED_test/raw/angola_2006_56.tfrecord.gz, skipping.\nFile exists: /dbfs/mnt/raw/DataScientistSDSData/TLSED_test/raw/angola_2006_57.tfrecord.gz, skipping.\n"
     ]
    },
    {
     "output_type": "stream",
     "name": "stderr",
     "output_type": "stream",
     "text": [
      "\rDownloading blobs:   6%|▌         | 60/969 [00:05<01:24, 10.71it/s]"
     ]
    },
    {
     "output_type": "stream",
     "name": "stdout",
     "output_type": "stream",
     "text": [
      "File exists: /dbfs/mnt/raw/DataScientistSDSData/TLSED_test/raw/angola_2006_58.tfrecord.gz, skipping.\nFile exists: /dbfs/mnt/raw/DataScientistSDSData/TLSED_test/raw/angola_2006_59.tfrecord.gz, skipping.\nFile exists: /dbfs/mnt/raw/DataScientistSDSData/TLSED_test/raw/angola_2006_60.tfrecord.gz, skipping.\n"
     ]
    },
    {
     "output_type": "stream",
     "name": "stderr",
     "output_type": "stream",
     "text": [
      "\rDownloading blobs:   6%|▋         | 62/969 [00:05<01:16, 11.93it/s]"
     ]
    },
    {
     "output_type": "stream",
     "name": "stdout",
     "output_type": "stream",
     "text": [
      "File exists: /dbfs/mnt/raw/DataScientistSDSData/TLSED_test/raw/angola_2006_61.tfrecord.gz, skipping.\nFile exists: /dbfs/mnt/raw/DataScientistSDSData/TLSED_test/raw/angola_2007_00.tfrecord.gz, skipping.\n"
     ]
    },
    {
     "output_type": "stream",
     "name": "stderr",
     "output_type": "stream",
     "text": [
      "\rDownloading blobs:   7%|▋         | 64/969 [00:06<01:17, 11.63it/s]"
     ]
    },
    {
     "output_type": "stream",
     "name": "stdout",
     "output_type": "stream",
     "text": [
      "File exists: /dbfs/mnt/raw/DataScientistSDSData/TLSED_test/raw/angola_2007_01.tfrecord.gz, skipping.\n"
     ]
    },
    {
     "output_type": "stream",
     "name": "stderr",
     "output_type": "stream",
     "text": [
      "\rDownloading blobs:   7%|▋         | 66/969 [00:06<01:13, 12.32it/s]"
     ]
    },
    {
     "output_type": "stream",
     "name": "stdout",
     "output_type": "stream",
     "text": [
      "File exists: /dbfs/mnt/raw/DataScientistSDSData/TLSED_test/raw/angola_2007_02.tfrecord.gz, skipping.\nFile exists: /dbfs/mnt/raw/DataScientistSDSData/TLSED_test/raw/angola_2007_03.tfrecord.gz, skipping.\nFile exists: /dbfs/mnt/raw/DataScientistSDSData/TLSED_test/raw/angola_2007_04.tfrecord.gz, skipping.\n"
     ]
    },
    {
     "output_type": "stream",
     "name": "stderr",
     "output_type": "stream",
     "text": [
      "\rDownloading blobs:   7%|▋         | 68/969 [00:06<01:18, 11.49it/s]"
     ]
    },
    {
     "output_type": "stream",
     "name": "stdout",
     "output_type": "stream",
     "text": [
      "File exists: /dbfs/mnt/raw/DataScientistSDSData/TLSED_test/raw/angola_2007_05.tfrecord.gz, skipping.\nFile exists: /dbfs/mnt/raw/DataScientistSDSData/TLSED_test/raw/angola_2007_06.tfrecord.gz, skipping.\n"
     ]
    },
    {
     "output_type": "stream",
     "name": "stderr",
     "output_type": "stream",
     "text": [
      "\rDownloading blobs:   7%|▋         | 70/969 [00:06<01:17, 11.60it/s]"
     ]
    },
    {
     "output_type": "stream",
     "name": "stdout",
     "output_type": "stream",
     "text": [
      "File exists: /dbfs/mnt/raw/DataScientistSDSData/TLSED_test/raw/angola_2007_07.tfrecord.gz, skipping.\nFile exists: /dbfs/mnt/raw/DataScientistSDSData/TLSED_test/raw/angola_2007_08.tfrecord.gz, skipping.\n"
     ]
    },
    {
     "output_type": "stream",
     "name": "stderr",
     "output_type": "stream",
     "text": [
      "\rDownloading blobs:   7%|▋         | 72/969 [00:06<01:24, 10.58it/s]"
     ]
    },
    {
     "output_type": "stream",
     "name": "stdout",
     "output_type": "stream",
     "text": [
      "File exists: /dbfs/mnt/raw/DataScientistSDSData/TLSED_test/raw/angola_2007_09.tfrecord.gz, skipping.\nFile exists: /dbfs/mnt/raw/DataScientistSDSData/TLSED_test/raw/angola_2007_10.tfrecord.gz, skipping.\n"
     ]
    },
    {
     "output_type": "stream",
     "name": "stderr",
     "output_type": "stream",
     "text": [
      "\rDownloading blobs:   8%|▊         | 74/969 [00:06<01:20, 11.11it/s]"
     ]
    },
    {
     "output_type": "stream",
     "name": "stdout",
     "output_type": "stream",
     "text": [
      "File exists: /dbfs/mnt/raw/DataScientistSDSData/TLSED_test/raw/angola_2007_11.tfrecord.gz, skipping.\nFile exists: /dbfs/mnt/raw/DataScientistSDSData/TLSED_test/raw/angola_2007_12.tfrecord.gz, skipping.\n"
     ]
    },
    {
     "output_type": "stream",
     "name": "stderr",
     "output_type": "stream",
     "text": [
      "\rDownloading blobs:   8%|▊         | 76/969 [00:07<01:47,  8.32it/s]\rDownloading blobs:   8%|▊         | 78/969 [00:07<01:41,  8.79it/s]"
     ]
    },
    {
     "output_type": "stream",
     "name": "stdout",
     "output_type": "stream",
     "text": [
      "File exists: /dbfs/mnt/raw/DataScientistSDSData/TLSED_test/raw/angola_2007_13.tfrecord.gz, skipping.\nFile exists: /dbfs/mnt/raw/DataScientistSDSData/TLSED_test/raw/angola_2007_14.tfrecord.gz, skipping.\nFile exists: /dbfs/mnt/raw/DataScientistSDSData/TLSED_test/raw/angola_2007_15.tfrecord.gz, skipping.\n"
     ]
    },
    {
     "output_type": "stream",
     "name": "stderr",
     "output_type": "stream",
     "text": [
      "\rDownloading blobs:   8%|▊         | 80/969 [00:07<01:31,  9.75it/s]\rDownloading blobs:   8%|▊         | 82/969 [00:07<01:19, 11.16it/s]"
     ]
    },
    {
     "output_type": "stream",
     "name": "stdout",
     "output_type": "stream",
     "text": [
      "File exists: /dbfs/mnt/raw/DataScientistSDSData/TLSED_test/raw/angola_2007_16.tfrecord.gz, skipping.\nFile exists: /dbfs/mnt/raw/DataScientistSDSData/TLSED_test/raw/angola_2007_17.tfrecord.gz, skipping.\nFile exists: /dbfs/mnt/raw/DataScientistSDSData/TLSED_test/raw/angola_2007_18.tfrecord.gz, skipping.\nFile exists: /dbfs/mnt/raw/DataScientistSDSData/TLSED_test/raw/angola_2007_19.tfrecord.gz, skipping.\n"
     ]
    },
    {
     "output_type": "stream",
     "name": "stderr",
     "output_type": "stream",
     "text": [
      "\rDownloading blobs:   9%|▊         | 84/969 [00:07<01:19, 11.15it/s]"
     ]
    },
    {
     "output_type": "stream",
     "name": "stdout",
     "output_type": "stream",
     "text": [
      "File exists: /dbfs/mnt/raw/DataScientistSDSData/TLSED_test/raw/angola_2007_20.tfrecord.gz, skipping.\nFile exists: /dbfs/mnt/raw/DataScientistSDSData/TLSED_test/raw/angola_2007_21.tfrecord.gz, skipping.\nFile exists: /dbfs/mnt/raw/DataScientistSDSData/TLSED_test/raw/angola_2007_22.tfrecord.gz, skipping.\n"
     ]
    },
    {
     "output_type": "stream",
     "name": "stderr",
     "output_type": "stream",
     "text": [
      "\rDownloading blobs:   9%|▉         | 86/969 [00:08<01:22, 10.69it/s]\rDownloading blobs:   9%|▉         | 88/969 [00:08<01:16, 11.49it/s]"
     ]
    },
    {
     "output_type": "stream",
     "name": "stdout",
     "output_type": "stream",
     "text": [
      "File exists: /dbfs/mnt/raw/DataScientistSDSData/TLSED_test/raw/angola_2007_23.tfrecord.gz, skipping.\nFile exists: /dbfs/mnt/raw/DataScientistSDSData/TLSED_test/raw/angola_2007_24.tfrecord.gz, skipping.\nFile exists: /dbfs/mnt/raw/DataScientistSDSData/TLSED_test/raw/angola_2007_25.tfrecord.gz, skipping.\n"
     ]
    },
    {
     "output_type": "stream",
     "name": "stderr",
     "output_type": "stream",
     "text": [
      "\rDownloading blobs:   9%|▉         | 90/969 [00:08<01:31,  9.66it/s]"
     ]
    },
    {
     "output_type": "stream",
     "name": "stdout",
     "output_type": "stream",
     "text": [
      "File exists: /dbfs/mnt/raw/DataScientistSDSData/TLSED_test/raw/angola_2007_26.tfrecord.gz, skipping.\nFile exists: /dbfs/mnt/raw/DataScientistSDSData/TLSED_test/raw/angola_2007_27.tfrecord.gz, skipping.\n"
     ]
    },
    {
     "output_type": "stream",
     "name": "stderr",
     "output_type": "stream",
     "text": [
      "\rDownloading blobs:   9%|▉         | 92/969 [00:08<01:22, 10.59it/s]"
     ]
    },
    {
     "output_type": "stream",
     "name": "stdout",
     "output_type": "stream",
     "text": [
      "File exists: /dbfs/mnt/raw/DataScientistSDSData/TLSED_test/raw/angola_2007_28.tfrecord.gz, skipping.\nFile exists: /dbfs/mnt/raw/DataScientistSDSData/TLSED_test/raw/angola_2007_29.tfrecord.gz, skipping.\nFile exists: /dbfs/mnt/raw/DataScientistSDSData/TLSED_test/raw/angola_2007_30.tfrecord.gz, skipping.\n"
     ]
    },
    {
     "output_type": "stream",
     "name": "stderr",
     "output_type": "stream",
     "text": [
      "\rDownloading blobs:  10%|▉         | 94/969 [00:08<01:15, 11.53it/s]\rDownloading blobs:  10%|▉         | 96/969 [00:09<01:13, 11.91it/s]"
     ]
    },
    {
     "output_type": "stream",
     "name": "stdout",
     "output_type": "stream",
     "text": [
      "File exists: /dbfs/mnt/raw/DataScientistSDSData/TLSED_test/raw/angola_2007_31.tfrecord.gz, skipping.\nFile exists: /dbfs/mnt/raw/DataScientistSDSData/TLSED_test/raw/angola_2007_32.tfrecord.gz, skipping.\nFile exists: /dbfs/mnt/raw/DataScientistSDSData/TLSED_test/raw/angola_2007_33.tfrecord.gz, skipping.\n"
     ]
    },
    {
     "output_type": "stream",
     "name": "stderr",
     "output_type": "stream",
     "text": [
      "\rDownloading blobs:  10%|█         | 98/969 [00:09<01:15, 11.52it/s]"
     ]
    },
    {
     "output_type": "stream",
     "name": "stdout",
     "output_type": "stream",
     "text": [
      "File exists: /dbfs/mnt/raw/DataScientistSDSData/TLSED_test/raw/angola_2007_34.tfrecord.gz, skipping.\nFile exists: /dbfs/mnt/raw/DataScientistSDSData/TLSED_test/raw/angola_2007_35.tfrecord.gz, skipping.\nFile exists: /dbfs/mnt/raw/DataScientistSDSData/TLSED_test/raw/angola_2007_36.tfrecord.gz, skipping.\n"
     ]
    },
    {
     "output_type": "stream",
     "name": "stderr",
     "output_type": "stream",
     "text": [
      "\rDownloading blobs:  10%|█         | 100/969 [00:09<01:10, 12.25it/s]\rDownloading blobs:  11%|█         | 102/969 [00:09<01:12, 12.01it/s]"
     ]
    },
    {
     "output_type": "stream",
     "name": "stdout",
     "output_type": "stream",
     "text": [
      "File exists: /dbfs/mnt/raw/DataScientistSDSData/TLSED_test/raw/angola_2007_37.tfrecord.gz, skipping.\nFile exists: /dbfs/mnt/raw/DataScientistSDSData/TLSED_test/raw/angola_2007_38.tfrecord.gz, skipping.\nFile exists: /dbfs/mnt/raw/DataScientistSDSData/TLSED_test/raw/angola_2007_39.tfrecord.gz, skipping.\n"
     ]
    },
    {
     "output_type": "stream",
     "name": "stderr",
     "output_type": "stream",
     "text": [
      "\rDownloading blobs:  11%|█         | 104/969 [00:09<01:13, 11.77it/s]"
     ]
    },
    {
     "output_type": "stream",
     "name": "stdout",
     "output_type": "stream",
     "text": [
      "File exists: /dbfs/mnt/raw/DataScientistSDSData/TLSED_test/raw/angola_2007_40.tfrecord.gz, skipping.\nFile exists: /dbfs/mnt/raw/DataScientistSDSData/TLSED_test/raw/angola_2007_41.tfrecord.gz, skipping.\nFile exists: /dbfs/mnt/raw/DataScientistSDSData/TLSED_test/raw/angola_2007_42.tfrecord.gz, skipping.\n"
     ]
    },
    {
     "output_type": "stream",
     "name": "stderr",
     "output_type": "stream",
     "text": [
      "\rDownloading blobs:  11%|█         | 106/969 [00:09<01:14, 11.59it/s]\rDownloading blobs:  11%|█         | 108/969 [00:10<01:17, 11.08it/s]"
     ]
    },
    {
     "output_type": "stream",
     "name": "stdout",
     "output_type": "stream",
     "text": [
      "File exists: /dbfs/mnt/raw/DataScientistSDSData/TLSED_test/raw/angola_2007_43.tfrecord.gz, skipping.\nFile exists: /dbfs/mnt/raw/DataScientistSDSData/TLSED_test/raw/angola_2007_44.tfrecord.gz, skipping.\nFile exists: /dbfs/mnt/raw/DataScientistSDSData/TLSED_test/raw/angola_2007_45.tfrecord.gz, skipping.\n"
     ]
    },
    {
     "output_type": "stream",
     "name": "stderr",
     "output_type": "stream",
     "text": [
      "\rDownloading blobs:  11%|█▏        | 110/969 [00:10<01:17, 11.13it/s]\rDownloading blobs:  12%|█▏        | 112/969 [00:10<01:11, 12.07it/s]"
     ]
    },
    {
     "output_type": "stream",
     "name": "stdout",
     "output_type": "stream",
     "text": [
      "File exists: /dbfs/mnt/raw/DataScientistSDSData/TLSED_test/raw/angola_2007_46.tfrecord.gz, skipping.\nFile exists: /dbfs/mnt/raw/DataScientistSDSData/TLSED_test/raw/angola_2007_47.tfrecord.gz, skipping.\nFile exists: /dbfs/mnt/raw/DataScientistSDSData/TLSED_test/raw/angola_2007_48.tfrecord.gz, skipping.\nFile exists: /dbfs/mnt/raw/DataScientistSDSData/TLSED_test/raw/angola_2007_49.tfrecord.gz, skipping.\n"
     ]
    },
    {
     "output_type": "stream",
     "name": "stderr",
     "output_type": "stream",
     "text": [
      "\rDownloading blobs:  12%|█▏        | 114/969 [00:10<01:16, 11.18it/s]"
     ]
    },
    {
     "output_type": "stream",
     "name": "stdout",
     "output_type": "stream",
     "text": [
      "File exists: /dbfs/mnt/raw/DataScientistSDSData/TLSED_test/raw/angola_2007_50.tfrecord.gz, skipping.\nFile exists: /dbfs/mnt/raw/DataScientistSDSData/TLSED_test/raw/angola_2007_51.tfrecord.gz, skipping.\nFile exists: /dbfs/mnt/raw/DataScientistSDSData/TLSED_test/raw/angola_2007_52.tfrecord.gz, skipping.\n"
     ]
    },
    {
     "output_type": "stream",
     "name": "stderr",
     "output_type": "stream",
     "text": [
      "\rDownloading blobs:  12%|█▏        | 116/969 [00:10<01:07, 12.70it/s]\rDownloading blobs:  12%|█▏        | 118/969 [00:10<01:11, 11.86it/s]"
     ]
    },
    {
     "output_type": "stream",
     "name": "stdout",
     "output_type": "stream",
     "text": [
      "File exists: /dbfs/mnt/raw/DataScientistSDSData/TLSED_test/raw/angola_2010_00.tfrecord.gz, skipping.\nFile exists: /dbfs/mnt/raw/DataScientistSDSData/TLSED_test/raw/angola_2010_01.tfrecord.gz, skipping.\nFile exists: /dbfs/mnt/raw/DataScientistSDSData/TLSED_test/raw/angola_2011_00.tfrecord.gz, skipping.\n"
     ]
    },
    {
     "output_type": "stream",
     "name": "stderr",
     "output_type": "stream",
     "text": [
      "\rDownloading blobs:  12%|█▏        | 120/969 [00:11<01:11, 11.80it/s]"
     ]
    },
    {
     "output_type": "stream",
     "name": "stdout",
     "output_type": "stream",
     "text": [
      "File exists: /dbfs/mnt/raw/DataScientistSDSData/TLSED_test/raw/angola_2011_01.tfrecord.gz, skipping.\nFile exists: /dbfs/mnt/raw/DataScientistSDSData/TLSED_test/raw/angola_2011_02.tfrecord.gz, skipping.\nFile exists: /dbfs/mnt/raw/DataScientistSDSData/TLSED_test/raw/angola_2011_03.tfrecord.gz, skipping.\n"
     ]
    },
    {
     "output_type": "stream",
     "name": "stderr",
     "output_type": "stream",
     "text": [
      "\rDownloading blobs:  13%|█▎        | 122/969 [00:11<01:06, 12.74it/s]\rDownloading blobs:  13%|█▎        | 124/969 [00:11<01:06, 12.64it/s]"
     ]
    },
    {
     "output_type": "stream",
     "name": "stdout",
     "output_type": "stream",
     "text": [
      "File exists: /dbfs/mnt/raw/DataScientistSDSData/TLSED_test/raw/angola_2011_04.tfrecord.gz, skipping.\nFile exists: /dbfs/mnt/raw/DataScientistSDSData/TLSED_test/raw/angola_2011_05.tfrecord.gz, skipping.\nFile exists: /dbfs/mnt/raw/DataScientistSDSData/TLSED_test/raw/angola_2011_06.tfrecord.gz, skipping.\n"
     ]
    },
    {
     "output_type": "stream",
     "name": "stderr",
     "output_type": "stream",
     "text": [
      "\rDownloading blobs:  13%|█▎        | 126/969 [00:11<01:04, 13.08it/s]\rDownloading blobs:  13%|█▎        | 129/969 [00:11<00:55, 15.10it/s]"
     ]
    },
    {
     "output_type": "stream",
     "name": "stdout",
     "output_type": "stream",
     "text": [
      "File exists: /dbfs/mnt/raw/DataScientistSDSData/TLSED_test/raw/angola_2011_07.tfrecord.gz, skipping.\nFile exists: /dbfs/mnt/raw/DataScientistSDSData/TLSED_test/raw/angola_2011_08.tfrecord.gz, skipping.\nFile exists: /dbfs/mnt/raw/DataScientistSDSData/TLSED_test/raw/angola_2011_09.tfrecord.gz, skipping.\nFile exists: /dbfs/mnt/raw/DataScientistSDSData/TLSED_test/raw/angola_2011_10.tfrecord.gz, skipping.\nFile exists: /dbfs/mnt/raw/DataScientistSDSData/TLSED_test/raw/angola_2011_100.tfrecord.gz, skipping.\n"
     ]
    },
    {
     "output_type": "stream",
     "name": "stderr",
     "output_type": "stream",
     "text": [
      "\rDownloading blobs:  14%|█▎        | 131/969 [00:11<01:10, 11.95it/s]"
     ]
    },
    {
     "output_type": "stream",
     "name": "stdout",
     "output_type": "stream",
     "text": [
      "File exists: /dbfs/mnt/raw/DataScientistSDSData/TLSED_test/raw/angola_2011_101.tfrecord.gz, skipping.\nFile exists: /dbfs/mnt/raw/DataScientistSDSData/TLSED_test/raw/angola_2011_102.tfrecord.gz, skipping.\n"
     ]
    },
    {
     "output_type": "stream",
     "name": "stderr",
     "output_type": "stream",
     "text": [
      "\rDownloading blobs:  14%|█▎        | 133/969 [00:12<01:12, 11.61it/s]"
     ]
    },
    {
     "output_type": "stream",
     "name": "stdout",
     "output_type": "stream",
     "text": [
      "File exists: /dbfs/mnt/raw/DataScientistSDSData/TLSED_test/raw/angola_2011_103.tfrecord.gz, skipping.\nFile exists: /dbfs/mnt/raw/DataScientistSDSData/TLSED_test/raw/angola_2011_104.tfrecord.gz, skipping.\nFile exists: /dbfs/mnt/raw/DataScientistSDSData/TLSED_test/raw/angola_2011_105.tfrecord.gz, skipping.\n"
     ]
    },
    {
     "output_type": "stream",
     "name": "stderr",
     "output_type": "stream",
     "text": [
      "\rDownloading blobs:  14%|█▍        | 135/969 [00:12<01:11, 11.65it/s]\rDownloading blobs:  14%|█▍        | 137/969 [00:12<01:06, 12.58it/s]"
     ]
    },
    {
     "output_type": "stream",
     "name": "stdout",
     "output_type": "stream",
     "text": [
      "File exists: /dbfs/mnt/raw/DataScientistSDSData/TLSED_test/raw/angola_2011_106.tfrecord.gz, skipping.\nFile exists: /dbfs/mnt/raw/DataScientistSDSData/TLSED_test/raw/angola_2011_107.tfrecord.gz, skipping.\nFile exists: /dbfs/mnt/raw/DataScientistSDSData/TLSED_test/raw/angola_2011_108.tfrecord.gz, skipping.\n"
     ]
    },
    {
     "output_type": "stream",
     "name": "stderr",
     "output_type": "stream",
     "text": [
      "\rDownloading blobs:  14%|█▍        | 139/969 [00:12<01:05, 12.64it/s]"
     ]
    },
    {
     "output_type": "stream",
     "name": "stdout",
     "output_type": "stream",
     "text": [
      "File exists: /dbfs/mnt/raw/DataScientistSDSData/TLSED_test/raw/angola_2011_109.tfrecord.gz, skipping.\nFile exists: /dbfs/mnt/raw/DataScientistSDSData/TLSED_test/raw/angola_2011_11.tfrecord.gz, skipping.\nFile exists: /dbfs/mnt/raw/DataScientistSDSData/TLSED_test/raw/angola_2011_110.tfrecord.gz, skipping.\n"
     ]
    },
    {
     "output_type": "stream",
     "name": "stderr",
     "output_type": "stream",
     "text": [
      "\rDownloading blobs:  15%|█▍        | 141/969 [00:12<01:08, 12.04it/s]\rDownloading blobs:  15%|█▍        | 143/969 [00:12<01:05, 12.68it/s]"
     ]
    },
    {
     "output_type": "stream",
     "name": "stdout",
     "output_type": "stream",
     "text": [
      "File exists: /dbfs/mnt/raw/DataScientistSDSData/TLSED_test/raw/angola_2011_111.tfrecord.gz, skipping.\nFile exists: /dbfs/mnt/raw/DataScientistSDSData/TLSED_test/raw/angola_2011_112.tfrecord.gz, skipping.\nFile exists: /dbfs/mnt/raw/DataScientistSDSData/TLSED_test/raw/angola_2011_113.tfrecord.gz, skipping.\nFile exists: /dbfs/mnt/raw/DataScientistSDSData/TLSED_test/raw/angola_2011_114.tfrecord.gz, skipping.\n"
     ]
    },
    {
     "output_type": "stream",
     "name": "stderr",
     "output_type": "stream",
     "text": [
      "\rDownloading blobs:  15%|█▌        | 146/969 [00:13<00:54, 15.05it/s]"
     ]
    },
    {
     "output_type": "stream",
     "name": "stdout",
     "output_type": "stream",
     "text": [
      "File exists: /dbfs/mnt/raw/DataScientistSDSData/TLSED_test/raw/angola_2011_115.tfrecord.gz, skipping.\nFile exists: /dbfs/mnt/raw/DataScientistSDSData/TLSED_test/raw/angola_2011_116.tfrecord.gz, skipping.\nFile exists: /dbfs/mnt/raw/DataScientistSDSData/TLSED_test/raw/angola_2011_117.tfrecord.gz, skipping.\n"
     ]
    },
    {
     "output_type": "stream",
     "name": "stderr",
     "output_type": "stream",
     "text": [
      "\rDownloading blobs:  15%|█▌        | 148/969 [00:13<01:02, 13.17it/s]\rDownloading blobs:  15%|█▌        | 150/969 [00:13<01:06, 12.32it/s]"
     ]
    },
    {
     "output_type": "stream",
     "name": "stdout",
     "output_type": "stream",
     "text": [
      "File exists: /dbfs/mnt/raw/DataScientistSDSData/TLSED_test/raw/angola_2011_118.tfrecord.gz, skipping.\nFile exists: /dbfs/mnt/raw/DataScientistSDSData/TLSED_test/raw/angola_2011_119.tfrecord.gz, skipping.\nFile exists: /dbfs/mnt/raw/DataScientistSDSData/TLSED_test/raw/angola_2011_12.tfrecord.gz, skipping.\n"
     ]
    },
    {
     "output_type": "stream",
     "name": "stderr",
     "output_type": "stream",
     "text": [
      "\rDownloading blobs:  16%|█▌        | 152/969 [00:13<01:12, 11.31it/s]"
     ]
    },
    {
     "output_type": "stream",
     "name": "stdout",
     "output_type": "stream",
     "text": [
      "File exists: /dbfs/mnt/raw/DataScientistSDSData/TLSED_test/raw/angola_2011_120.tfrecord.gz, skipping.\nFile exists: /dbfs/mnt/raw/DataScientistSDSData/TLSED_test/raw/angola_2011_121.tfrecord.gz, skipping.\n"
     ]
    },
    {
     "output_type": "stream",
     "name": "stderr",
     "output_type": "stream",
     "text": [
      "\rDownloading blobs:  16%|█▌        | 154/969 [00:13<01:04, 12.54it/s]"
     ]
    },
    {
     "output_type": "stream",
     "name": "stdout",
     "output_type": "stream",
     "text": [
      "File exists: /dbfs/mnt/raw/DataScientistSDSData/TLSED_test/raw/angola_2011_122.tfrecord.gz, skipping.\nFile exists: /dbfs/mnt/raw/DataScientistSDSData/TLSED_test/raw/angola_2011_123.tfrecord.gz, skipping.\nFile exists: /dbfs/mnt/raw/DataScientistSDSData/TLSED_test/raw/angola_2011_124.tfrecord.gz, skipping.\n"
     ]
    },
    {
     "output_type": "stream",
     "name": "stderr",
     "output_type": "stream",
     "text": [
      "\rDownloading blobs:  16%|█▌        | 156/969 [00:13<01:07, 11.99it/s]\rDownloading blobs:  16%|█▋        | 158/969 [00:14<01:10, 11.52it/s]"
     ]
    },
    {
     "output_type": "stream",
     "name": "stdout",
     "output_type": "stream",
     "text": [
      "File exists: /dbfs/mnt/raw/DataScientistSDSData/TLSED_test/raw/angola_2011_125.tfrecord.gz, skipping.\nFile exists: /dbfs/mnt/raw/DataScientistSDSData/TLSED_test/raw/angola_2011_126.tfrecord.gz, skipping.\nFile exists: /dbfs/mnt/raw/DataScientistSDSData/TLSED_test/raw/angola_2011_127.tfrecord.gz, skipping.\n"
     ]
    },
    {
     "output_type": "stream",
     "name": "stderr",
     "output_type": "stream",
     "text": [
      "\rDownloading blobs:  17%|█▋        | 160/969 [00:14<01:18, 10.32it/s]"
     ]
    },
    {
     "output_type": "stream",
     "name": "stdout",
     "output_type": "stream",
     "text": [
      "File exists: /dbfs/mnt/raw/DataScientistSDSData/TLSED_test/raw/angola_2011_128.tfrecord.gz, skipping.\nFile exists: /dbfs/mnt/raw/DataScientistSDSData/TLSED_test/raw/angola_2011_129.tfrecord.gz, skipping.\n"
     ]
    },
    {
     "output_type": "stream",
     "name": "stderr",
     "output_type": "stream",
     "text": [
      "\rDownloading blobs:  17%|█▋        | 162/969 [00:14<01:19, 10.11it/s]"
     ]
    },
    {
     "output_type": "stream",
     "name": "stdout",
     "output_type": "stream",
     "text": [
      "File exists: /dbfs/mnt/raw/DataScientistSDSData/TLSED_test/raw/angola_2011_13.tfrecord.gz, skipping.\nFile exists: /dbfs/mnt/raw/DataScientistSDSData/TLSED_test/raw/angola_2011_130.tfrecord.gz, skipping.\nFile exists: /dbfs/mnt/raw/DataScientistSDSData/TLSED_test/raw/angola_2011_131.tfrecord.gz, skipping.\n"
     ]
    },
    {
     "output_type": "stream",
     "name": "stderr",
     "output_type": "stream",
     "text": [
      "\rDownloading blobs:  17%|█▋        | 164/969 [00:14<01:15, 10.69it/s]\rDownloading blobs:  17%|█▋        | 166/969 [00:14<01:11, 11.20it/s]"
     ]
    },
    {
     "output_type": "stream",
     "name": "stdout",
     "output_type": "stream",
     "text": [
      "File exists: /dbfs/mnt/raw/DataScientistSDSData/TLSED_test/raw/angola_2011_132.tfrecord.gz, skipping.\nFile exists: /dbfs/mnt/raw/DataScientistSDSData/TLSED_test/raw/angola_2011_133.tfrecord.gz, skipping.\nFile exists: /dbfs/mnt/raw/DataScientistSDSData/TLSED_test/raw/angola_2011_134.tfrecord.gz, skipping.\n"
     ]
    },
    {
     "output_type": "stream",
     "name": "stderr",
     "output_type": "stream",
     "text": [
      "\rDownloading blobs:  17%|█▋        | 168/969 [00:15<01:08, 11.77it/s]"
     ]
    },
    {
     "output_type": "stream",
     "name": "stdout",
     "output_type": "stream",
     "text": [
      "File exists: /dbfs/mnt/raw/DataScientistSDSData/TLSED_test/raw/angola_2011_135.tfrecord.gz, skipping.\nFile exists: /dbfs/mnt/raw/DataScientistSDSData/TLSED_test/raw/angola_2011_136.tfrecord.gz, skipping.\nFile exists: /dbfs/mnt/raw/DataScientistSDSData/TLSED_test/raw/angola_2011_137.tfrecord.gz, skipping.\n"
     ]
    },
    {
     "output_type": "stream",
     "name": "stderr",
     "output_type": "stream",
     "text": [
      "\rDownloading blobs:  18%|█▊        | 170/969 [00:15<01:08, 11.69it/s]\rDownloading blobs:  18%|█▊        | 172/969 [00:15<01:11, 11.17it/s]"
     ]
    },
    {
     "output_type": "stream",
     "name": "stdout",
     "output_type": "stream",
     "text": [
      "File exists: /dbfs/mnt/raw/DataScientistSDSData/TLSED_test/raw/angola_2011_138.tfrecord.gz, skipping.\nFile exists: /dbfs/mnt/raw/DataScientistSDSData/TLSED_test/raw/angola_2011_139.tfrecord.gz, skipping.\nFile exists: /dbfs/mnt/raw/DataScientistSDSData/TLSED_test/raw/angola_2011_14.tfrecord.gz, skipping.\n"
     ]
    },
    {
     "output_type": "stream",
     "name": "stderr",
     "output_type": "stream",
     "text": [
      "\rDownloading blobs:  18%|█▊        | 174/969 [00:15<01:04, 12.32it/s]"
     ]
    },
    {
     "output_type": "stream",
     "name": "stdout",
     "output_type": "stream",
     "text": [
      "File exists: /dbfs/mnt/raw/DataScientistSDSData/TLSED_test/raw/angola_2011_140.tfrecord.gz, skipping.\nFile exists: /dbfs/mnt/raw/DataScientistSDSData/TLSED_test/raw/angola_2011_141.tfrecord.gz, skipping.\nFile exists: /dbfs/mnt/raw/DataScientistSDSData/TLSED_test/raw/angola_2011_142.tfrecord.gz, skipping.\n"
     ]
    },
    {
     "output_type": "stream",
     "name": "stderr",
     "output_type": "stream",
     "text": [
      "\rDownloading blobs:  18%|█▊        | 176/969 [00:15<01:08, 11.53it/s]\rDownloading blobs:  18%|█▊        | 178/969 [00:15<01:03, 12.45it/s]"
     ]
    },
    {
     "output_type": "stream",
     "name": "stdout",
     "output_type": "stream",
     "text": [
      "File exists: /dbfs/mnt/raw/DataScientistSDSData/TLSED_test/raw/angola_2011_143.tfrecord.gz, skipping.\nFile exists: /dbfs/mnt/raw/DataScientistSDSData/TLSED_test/raw/angola_2011_144.tfrecord.gz, skipping.\nFile exists: /dbfs/mnt/raw/DataScientistSDSData/TLSED_test/raw/angola_2011_145.tfrecord.gz, skipping.\nFile exists: /dbfs/mnt/raw/DataScientistSDSData/TLSED_test/raw/angola_2011_146.tfrecord.gz, skipping.\n"
     ]
    },
    {
     "output_type": "stream",
     "name": "stderr",
     "output_type": "stream",
     "text": [
      "\rDownloading blobs:  19%|█▊        | 181/969 [00:16<00:52, 15.04it/s]\rDownloading blobs:  19%|█▉        | 183/969 [00:16<00:54, 14.46it/s]"
     ]
    },
    {
     "output_type": "stream",
     "name": "stdout",
     "output_type": "stream",
     "text": [
      "File exists: /dbfs/mnt/raw/DataScientistSDSData/TLSED_test/raw/angola_2011_147.tfrecord.gz, skipping.\nFile exists: /dbfs/mnt/raw/DataScientistSDSData/TLSED_test/raw/angola_2011_148.tfrecord.gz, skipping.\nFile exists: /dbfs/mnt/raw/DataScientistSDSData/TLSED_test/raw/angola_2011_149.tfrecord.gz, skipping.\nFile exists: /dbfs/mnt/raw/DataScientistSDSData/TLSED_test/raw/angola_2011_15.tfrecord.gz, skipping.\n"
     ]
    },
    {
     "output_type": "stream",
     "name": "stderr",
     "output_type": "stream",
     "text": [
      "\rDownloading blobs:  19%|█▉        | 185/969 [00:16<01:02, 12.52it/s]"
     ]
    },
    {
     "output_type": "stream",
     "name": "stdout",
     "output_type": "stream",
     "text": [
      "File exists: /dbfs/mnt/raw/DataScientistSDSData/TLSED_test/raw/angola_2011_150.tfrecord.gz, skipping.\nFile exists: /dbfs/mnt/raw/DataScientistSDSData/TLSED_test/raw/angola_2011_151.tfrecord.gz, skipping.\n"
     ]
    },
    {
     "output_type": "stream",
     "name": "stderr",
     "output_type": "stream",
     "text": [
      "\rDownloading blobs:  19%|█▉        | 187/969 [00:16<01:00, 12.97it/s]"
     ]
    },
    {
     "output_type": "stream",
     "name": "stdout",
     "output_type": "stream",
     "text": [
      "File exists: /dbfs/mnt/raw/DataScientistSDSData/TLSED_test/raw/angola_2011_152.tfrecord.gz, skipping.\nFile exists: /dbfs/mnt/raw/DataScientistSDSData/TLSED_test/raw/angola_2011_153.tfrecord.gz, skipping.\nFile exists: /dbfs/mnt/raw/DataScientistSDSData/TLSED_test/raw/angola_2011_154.tfrecord.gz, skipping.\n"
     ]
    },
    {
     "output_type": "stream",
     "name": "stderr",
     "output_type": "stream",
     "text": [
      "\rDownloading blobs:  20%|█▉        | 189/969 [00:16<01:02, 12.50it/s]\rDownloading blobs:  20%|█▉        | 191/969 [00:16<01:04, 12.08it/s]"
     ]
    },
    {
     "output_type": "stream",
     "name": "stdout",
     "output_type": "stream",
     "text": [
      "File exists: /dbfs/mnt/raw/DataScientistSDSData/TLSED_test/raw/angola_2011_155.tfrecord.gz, skipping.\nFile exists: /dbfs/mnt/raw/DataScientistSDSData/TLSED_test/raw/angola_2011_156.tfrecord.gz, skipping.\nFile exists: /dbfs/mnt/raw/DataScientistSDSData/TLSED_test/raw/angola_2011_157.tfrecord.gz, skipping.\n"
     ]
    },
    {
     "output_type": "stream",
     "name": "stderr",
     "output_type": "stream",
     "text": [
      "\rDownloading blobs:  20%|█▉        | 193/969 [00:16<01:00, 12.93it/s]"
     ]
    },
    {
     "output_type": "stream",
     "name": "stdout",
     "output_type": "stream",
     "text": [
      "File exists: /dbfs/mnt/raw/DataScientistSDSData/TLSED_test/raw/angola_2011_158.tfrecord.gz, skipping.\nFile exists: /dbfs/mnt/raw/DataScientistSDSData/TLSED_test/raw/angola_2011_159.tfrecord.gz, skipping.\nFile exists: /dbfs/mnt/raw/DataScientistSDSData/TLSED_test/raw/angola_2011_16.tfrecord.gz, skipping.\n"
     ]
    },
    {
     "output_type": "stream",
     "name": "stderr",
     "output_type": "stream",
     "text": [
      "\rDownloading blobs:  20%|██        | 195/969 [00:17<01:03, 12.15it/s]\rDownloading blobs:  20%|██        | 197/969 [00:17<00:56, 13.65it/s]"
     ]
    },
    {
     "output_type": "stream",
     "name": "stdout",
     "output_type": "stream",
     "text": [
      "File exists: /dbfs/mnt/raw/DataScientistSDSData/TLSED_test/raw/angola_2011_160.tfrecord.gz, skipping.\nFile exists: /dbfs/mnt/raw/DataScientistSDSData/TLSED_test/raw/angola_2011_161.tfrecord.gz, skipping.\nFile exists: /dbfs/mnt/raw/DataScientistSDSData/TLSED_test/raw/angola_2011_162.tfrecord.gz, skipping.\nFile exists: /dbfs/mnt/raw/DataScientistSDSData/TLSED_test/raw/angola_2011_163.tfrecord.gz, skipping.\n"
     ]
    },
    {
     "output_type": "stream",
     "name": "stderr",
     "output_type": "stream",
     "text": [
      "\rDownloading blobs:  21%|██        | 199/969 [00:17<00:55, 13.83it/s]\rDownloading blobs:  21%|██        | 201/969 [00:17<00:54, 14.22it/s]"
     ]
    },
    {
     "output_type": "stream",
     "name": "stdout",
     "output_type": "stream",
     "text": [
      "File exists: /dbfs/mnt/raw/DataScientistSDSData/TLSED_test/raw/angola_2011_164.tfrecord.gz, skipping.\nFile exists: /dbfs/mnt/raw/DataScientistSDSData/TLSED_test/raw/angola_2011_165.tfrecord.gz, skipping.\nFile exists: /dbfs/mnt/raw/DataScientistSDSData/TLSED_test/raw/angola_2011_166.tfrecord.gz, skipping.\n"
     ]
    },
    {
     "output_type": "stream",
     "name": "stderr",
     "output_type": "stream",
     "text": [
      "\rDownloading blobs:  21%|██        | 203/969 [00:17<01:02, 12.34it/s]\rDownloading blobs:  21%|██        | 205/969 [00:17<00:55, 13.70it/s]"
     ]
    },
    {
     "output_type": "stream",
     "name": "stdout",
     "output_type": "stream",
     "text": [
      "File exists: /dbfs/mnt/raw/DataScientistSDSData/TLSED_test/raw/angola_2011_167.tfrecord.gz, skipping.\nFile exists: /dbfs/mnt/raw/DataScientistSDSData/TLSED_test/raw/angola_2011_168.tfrecord.gz, skipping.\nFile exists: /dbfs/mnt/raw/DataScientistSDSData/TLSED_test/raw/angola_2011_169.tfrecord.gz, skipping.\nFile exists: /dbfs/mnt/raw/DataScientistSDSData/TLSED_test/raw/angola_2011_17.tfrecord.gz, skipping.\n"
     ]
    },
    {
     "output_type": "stream",
     "name": "stderr",
     "output_type": "stream",
     "text": [
      "\rDownloading blobs:  21%|██▏       | 207/969 [00:18<01:07, 11.33it/s]"
     ]
    },
    {
     "output_type": "stream",
     "name": "stdout",
     "output_type": "stream",
     "text": [
      "File exists: /dbfs/mnt/raw/DataScientistSDSData/TLSED_test/raw/angola_2011_170.tfrecord.gz, skipping.\nFile exists: /dbfs/mnt/raw/DataScientistSDSData/TLSED_test/raw/angola_2011_171.tfrecord.gz, skipping.\nFile exists: /dbfs/mnt/raw/DataScientistSDSData/TLSED_test/raw/angola_2011_172.tfrecord.gz, skipping.\n"
     ]
    },
    {
     "output_type": "stream",
     "name": "stderr",
     "output_type": "stream",
     "text": [
      "\rDownloading blobs:  22%|██▏       | 209/969 [00:18<01:03, 11.93it/s]\rDownloading blobs:  22%|██▏       | 211/969 [00:18<00:59, 12.83it/s]"
     ]
    },
    {
     "output_type": "stream",
     "name": "stdout",
     "output_type": "stream",
     "text": [
      "File exists: /dbfs/mnt/raw/DataScientistSDSData/TLSED_test/raw/angola_2011_173.tfrecord.gz, skipping.\nFile exists: /dbfs/mnt/raw/DataScientistSDSData/TLSED_test/raw/angola_2011_174.tfrecord.gz, skipping.\nFile exists: /dbfs/mnt/raw/DataScientistSDSData/TLSED_test/raw/angola_2011_175.tfrecord.gz, skipping.\n"
     ]
    },
    {
     "output_type": "stream",
     "name": "stderr",
     "output_type": "stream",
     "text": [
      "\rDownloading blobs:  22%|██▏       | 213/969 [00:18<01:05, 11.58it/s]"
     ]
    },
    {
     "output_type": "stream",
     "name": "stdout",
     "output_type": "stream",
     "text": [
      "File exists: /dbfs/mnt/raw/DataScientistSDSData/TLSED_test/raw/angola_2011_176.tfrecord.gz, skipping.\nFile exists: /dbfs/mnt/raw/DataScientistSDSData/TLSED_test/raw/angola_2011_177.tfrecord.gz, skipping.\nFile exists: /dbfs/mnt/raw/DataScientistSDSData/TLSED_test/raw/angola_2011_178.tfrecord.gz, skipping.\n"
     ]
    },
    {
     "output_type": "stream",
     "name": "stderr",
     "output_type": "stream",
     "text": [
      "\rDownloading blobs:  22%|██▏       | 215/969 [00:18<01:00, 12.43it/s]\rDownloading blobs:  22%|██▏       | 217/969 [00:18<01:01, 12.22it/s]"
     ]
    },
    {
     "output_type": "stream",
     "name": "stdout",
     "output_type": "stream",
     "text": [
      "File exists: /dbfs/mnt/raw/DataScientistSDSData/TLSED_test/raw/angola_2011_179.tfrecord.gz, skipping.\nFile exists: /dbfs/mnt/raw/DataScientistSDSData/TLSED_test/raw/angola_2011_18.tfrecord.gz, skipping.\nFile exists: /dbfs/mnt/raw/DataScientistSDSData/TLSED_test/raw/angola_2011_180.tfrecord.gz, skipping.\n"
     ]
    },
    {
     "output_type": "stream",
     "name": "stderr",
     "output_type": "stream",
     "text": [
      "\rDownloading blobs:  23%|██▎       | 219/969 [00:19<00:57, 13.11it/s]\rDownloading blobs:  23%|██▎       | 221/969 [00:19<00:53, 13.92it/s]"
     ]
    },
    {
     "output_type": "stream",
     "name": "stdout",
     "output_type": "stream",
     "text": [
      "File exists: /dbfs/mnt/raw/DataScientistSDSData/TLSED_test/raw/angola_2011_181.tfrecord.gz, skipping.\nFile exists: /dbfs/mnt/raw/DataScientistSDSData/TLSED_test/raw/angola_2011_182.tfrecord.gz, skipping.\nFile exists: /dbfs/mnt/raw/DataScientistSDSData/TLSED_test/raw/angola_2011_183.tfrecord.gz, skipping.\nFile exists: /dbfs/mnt/raw/DataScientistSDSData/TLSED_test/raw/angola_2011_184.tfrecord.gz, skipping.\n"
     ]
    },
    {
     "output_type": "stream",
     "name": "stderr",
     "output_type": "stream",
     "text": [
      "\rDownloading blobs:  23%|██▎       | 223/969 [00:19<00:58, 12.81it/s]\rDownloading blobs:  23%|██▎       | 225/969 [00:19<00:51, 14.35it/s]"
     ]
    },
    {
     "output_type": "stream",
     "name": "stdout",
     "output_type": "stream",
     "text": [
      "File exists: /dbfs/mnt/raw/DataScientistSDSData/TLSED_test/raw/angola_2011_185.tfrecord.gz, skipping.\nFile exists: /dbfs/mnt/raw/DataScientistSDSData/TLSED_test/raw/angola_2011_186.tfrecord.gz, skipping.\nFile exists: /dbfs/mnt/raw/DataScientistSDSData/TLSED_test/raw/angola_2011_187.tfrecord.gz, skipping.\nFile exists: /dbfs/mnt/raw/DataScientistSDSData/TLSED_test/raw/angola_2011_188.tfrecord.gz, skipping.\n"
     ]
    },
    {
     "output_type": "stream",
     "name": "stderr",
     "output_type": "stream",
     "text": [
      "\rDownloading blobs:  23%|██▎       | 227/969 [00:19<00:50, 14.55it/s]"
     ]
    },
    {
     "output_type": "stream",
     "name": "stdout",
     "output_type": "stream",
     "text": [
      "File exists: /dbfs/mnt/raw/DataScientistSDSData/TLSED_test/raw/angola_2011_189.tfrecord.gz, skipping.\nFile exists: /dbfs/mnt/raw/DataScientistSDSData/TLSED_test/raw/angola_2011_19.tfrecord.gz, skipping.\nFile exists: /dbfs/mnt/raw/DataScientistSDSData/TLSED_test/raw/angola_2011_190.tfrecord.gz, skipping.\n"
     ]
    },
    {
     "output_type": "stream",
     "name": "stderr",
     "output_type": "stream",
     "text": [
      "\rDownloading blobs:  24%|██▎       | 229/969 [00:19<00:54, 13.59it/s]\rDownloading blobs:  24%|██▍       | 231/969 [00:19<00:56, 13.08it/s]"
     ]
    },
    {
     "output_type": "stream",
     "name": "stdout",
     "output_type": "stream",
     "text": [
      "File exists: /dbfs/mnt/raw/DataScientistSDSData/TLSED_test/raw/angola_2011_191.tfrecord.gz, skipping.\nFile exists: /dbfs/mnt/raw/DataScientistSDSData/TLSED_test/raw/angola_2011_192.tfrecord.gz, skipping.\nFile exists: /dbfs/mnt/raw/DataScientistSDSData/TLSED_test/raw/angola_2011_193.tfrecord.gz, skipping.\n"
     ]
    },
    {
     "output_type": "stream",
     "name": "stderr",
     "output_type": "stream",
     "text": [
      "\rDownloading blobs:  24%|██▍       | 233/969 [00:20<00:55, 13.33it/s]"
     ]
    },
    {
     "output_type": "stream",
     "name": "stdout",
     "output_type": "stream",
     "text": [
      "File exists: /dbfs/mnt/raw/DataScientistSDSData/TLSED_test/raw/angola_2011_194.tfrecord.gz, skipping.\nFile exists: /dbfs/mnt/raw/DataScientistSDSData/TLSED_test/raw/angola_2011_195.tfrecord.gz, skipping.\nFile exists: /dbfs/mnt/raw/DataScientistSDSData/TLSED_test/raw/angola_2011_196.tfrecord.gz, skipping.\n"
     ]
    },
    {
     "output_type": "stream",
     "name": "stderr",
     "output_type": "stream",
     "text": [
      "\rDownloading blobs:  24%|██▍       | 235/969 [00:20<00:59, 12.31it/s]\rDownloading blobs:  24%|██▍       | 237/969 [00:20<00:54, 13.33it/s]"
     ]
    },
    {
     "output_type": "stream",
     "name": "stdout",
     "output_type": "stream",
     "text": [
      "File exists: /dbfs/mnt/raw/DataScientistSDSData/TLSED_test/raw/angola_2011_197.tfrecord.gz, skipping.\nFile exists: /dbfs/mnt/raw/DataScientistSDSData/TLSED_test/raw/angola_2011_198.tfrecord.gz, skipping.\nFile exists: /dbfs/mnt/raw/DataScientistSDSData/TLSED_test/raw/angola_2011_199.tfrecord.gz, skipping.\nFile exists: /dbfs/mnt/raw/DataScientistSDSData/TLSED_test/raw/angola_2011_20.tfrecord.gz, skipping.\n"
     ]
    },
    {
     "output_type": "stream",
     "name": "stderr",
     "output_type": "stream",
     "text": [
      "\rDownloading blobs:  25%|██▍       | 239/969 [00:20<00:51, 14.08it/s]\rDownloading blobs:  25%|██▍       | 241/969 [00:20<00:54, 13.33it/s]"
     ]
    },
    {
     "output_type": "stream",
     "name": "stdout",
     "output_type": "stream",
     "text": [
      "File exists: /dbfs/mnt/raw/DataScientistSDSData/TLSED_test/raw/angola_2011_200.tfrecord.gz, skipping.\nFile exists: /dbfs/mnt/raw/DataScientistSDSData/TLSED_test/raw/angola_2011_201.tfrecord.gz, skipping.\nFile exists: /dbfs/mnt/raw/DataScientistSDSData/TLSED_test/raw/angola_2011_202.tfrecord.gz, skipping.\n"
     ]
    },
    {
     "output_type": "stream",
     "name": "stderr",
     "output_type": "stream",
     "text": [
      "\rDownloading blobs:  25%|██▌       | 243/969 [00:20<00:54, 13.28it/s]"
     ]
    },
    {
     "output_type": "stream",
     "name": "stdout",
     "output_type": "stream",
     "text": [
      "File exists: /dbfs/mnt/raw/DataScientistSDSData/TLSED_test/raw/angola_2011_203.tfrecord.gz, skipping.\nFile exists: /dbfs/mnt/raw/DataScientistSDSData/TLSED_test/raw/angola_2011_204.tfrecord.gz, skipping.\nFile exists: /dbfs/mnt/raw/DataScientistSDSData/TLSED_test/raw/angola_2011_205.tfrecord.gz, skipping.\n"
     ]
    },
    {
     "output_type": "stream",
     "name": "stderr",
     "output_type": "stream",
     "text": [
      "\rDownloading blobs:  25%|██▌       | 245/969 [00:20<00:55, 13.11it/s]\rDownloading blobs:  25%|██▌       | 247/969 [00:21<00:57, 12.53it/s]"
     ]
    },
    {
     "output_type": "stream",
     "name": "stdout",
     "output_type": "stream",
     "text": [
      "File exists: /dbfs/mnt/raw/DataScientistSDSData/TLSED_test/raw/angola_2011_206.tfrecord.gz, skipping.\nFile exists: /dbfs/mnt/raw/DataScientistSDSData/TLSED_test/raw/angola_2011_207.tfrecord.gz, skipping.\nFile exists: /dbfs/mnt/raw/DataScientistSDSData/TLSED_test/raw/angola_2011_208.tfrecord.gz, skipping.\n"
     ]
    },
    {
     "output_type": "stream",
     "name": "stderr",
     "output_type": "stream",
     "text": [
      "\rDownloading blobs:  26%|██▌       | 249/969 [00:21<00:55, 12.97it/s]\rDownloading blobs:  26%|██▌       | 251/969 [00:21<00:51, 13.95it/s]"
     ]
    },
    {
     "output_type": "stream",
     "name": "stdout",
     "output_type": "stream",
     "text": [
      "File exists: /dbfs/mnt/raw/DataScientistSDSData/TLSED_test/raw/angola_2011_209.tfrecord.gz, skipping.\nFile exists: /dbfs/mnt/raw/DataScientistSDSData/TLSED_test/raw/angola_2011_21.tfrecord.gz, skipping.\nFile exists: /dbfs/mnt/raw/DataScientistSDSData/TLSED_test/raw/angola_2011_210.tfrecord.gz, skipping.\nFile exists: /dbfs/mnt/raw/DataScientistSDSData/TLSED_test/raw/angola_2011_211.tfrecord.gz, skipping.\n"
     ]
    },
    {
     "output_type": "stream",
     "name": "stderr",
     "output_type": "stream",
     "text": [
      "\rDownloading blobs:  26%|██▌       | 253/969 [00:21<00:56, 12.73it/s]"
     ]
    },
    {
     "output_type": "stream",
     "name": "stdout",
     "output_type": "stream",
     "text": [
      "File exists: /dbfs/mnt/raw/DataScientistSDSData/TLSED_test/raw/angola_2011_212.tfrecord.gz, skipping.\nFile exists: /dbfs/mnt/raw/DataScientistSDSData/TLSED_test/raw/angola_2011_213.tfrecord.gz, skipping.\nFile exists: /dbfs/mnt/raw/DataScientistSDSData/TLSED_test/raw/angola_2011_214.tfrecord.gz, skipping.\n"
     ]
    },
    {
     "output_type": "stream",
     "name": "stderr",
     "output_type": "stream",
     "text": [
      "\rDownloading blobs:  26%|██▋       | 255/969 [00:21<00:53, 13.29it/s]\rDownloading blobs:  27%|██▋       | 257/969 [00:21<00:57, 12.33it/s]"
     ]
    },
    {
     "output_type": "stream",
     "name": "stdout",
     "output_type": "stream",
     "text": [
      "File exists: /dbfs/mnt/raw/DataScientistSDSData/TLSED_test/raw/angola_2011_215.tfrecord.gz, skipping.\nFile exists: /dbfs/mnt/raw/DataScientistSDSData/TLSED_test/raw/angola_2011_216.tfrecord.gz, skipping.\nFile exists: /dbfs/mnt/raw/DataScientistSDSData/TLSED_test/raw/angola_2011_217.tfrecord.gz, skipping.\n"
     ]
    },
    {
     "output_type": "stream",
     "name": "stderr",
     "output_type": "stream",
     "text": [
      "\rDownloading blobs:  27%|██▋       | 259/969 [00:22<01:02, 11.35it/s]"
     ]
    },
    {
     "output_type": "stream",
     "name": "stdout",
     "output_type": "stream",
     "text": [
      "File exists: /dbfs/mnt/raw/DataScientistSDSData/TLSED_test/raw/angola_2011_218.tfrecord.gz, skipping.\nFile exists: /dbfs/mnt/raw/DataScientistSDSData/TLSED_test/raw/angola_2011_219.tfrecord.gz, skipping.\nFile exists: /dbfs/mnt/raw/DataScientistSDSData/TLSED_test/raw/angola_2011_22.tfrecord.gz, skipping.\n"
     ]
    },
    {
     "output_type": "stream",
     "name": "stderr",
     "output_type": "stream",
     "text": [
      "\rDownloading blobs:  27%|██▋       | 261/969 [00:22<00:58, 12.20it/s]\rDownloading blobs:  27%|██▋       | 263/969 [00:22<00:55, 12.82it/s]"
     ]
    },
    {
     "output_type": "stream",
     "name": "stdout",
     "output_type": "stream",
     "text": [
      "File exists: /dbfs/mnt/raw/DataScientistSDSData/TLSED_test/raw/angola_2011_220.tfrecord.gz, skipping.\nFile exists: /dbfs/mnt/raw/DataScientistSDSData/TLSED_test/raw/angola_2011_221.tfrecord.gz, skipping.\nFile exists: /dbfs/mnt/raw/DataScientistSDSData/TLSED_test/raw/angola_2011_222.tfrecord.gz, skipping.\nFile exists: /dbfs/mnt/raw/DataScientistSDSData/TLSED_test/raw/angola_2011_223.tfrecord.gz, skipping.\n"
     ]
    },
    {
     "output_type": "stream",
     "name": "stderr",
     "output_type": "stream",
     "text": [
      "\rDownloading blobs:  27%|██▋       | 265/969 [00:22<00:50, 14.08it/s]\rDownloading blobs:  28%|██▊       | 267/969 [00:22<00:49, 14.07it/s]"
     ]
    },
    {
     "output_type": "stream",
     "name": "stdout",
     "output_type": "stream",
     "text": [
      "File exists: /dbfs/mnt/raw/DataScientistSDSData/TLSED_test/raw/angola_2011_224.tfrecord.gz, skipping.\nFile exists: /dbfs/mnt/raw/DataScientistSDSData/TLSED_test/raw/angola_2011_225.tfrecord.gz, skipping.\nFile exists: /dbfs/mnt/raw/DataScientistSDSData/TLSED_test/raw/angola_2011_226.tfrecord.gz, skipping.\nFile exists: /dbfs/mnt/raw/DataScientistSDSData/TLSED_test/raw/angola_2011_227.tfrecord.gz, skipping.\n"
     ]
    },
    {
     "output_type": "stream",
     "name": "stderr",
     "output_type": "stream",
     "text": [
      "\rDownloading blobs:  28%|██▊       | 270/969 [00:22<00:45, 15.20it/s]"
     ]
    },
    {
     "output_type": "stream",
     "name": "stdout",
     "output_type": "stream",
     "text": [
      "File exists: /dbfs/mnt/raw/DataScientistSDSData/TLSED_test/raw/angola_2011_23.tfrecord.gz, skipping.\nFile exists: /dbfs/mnt/raw/DataScientistSDSData/TLSED_test/raw/angola_2011_24.tfrecord.gz, skipping.\nFile exists: /dbfs/mnt/raw/DataScientistSDSData/TLSED_test/raw/angola_2011_25.tfrecord.gz, skipping.\n"
     ]
    },
    {
     "output_type": "stream",
     "name": "stderr",
     "output_type": "stream",
     "text": [
      "\rDownloading blobs:  28%|██▊       | 272/969 [00:22<00:46, 15.14it/s]\rDownloading blobs:  28%|██▊       | 274/969 [00:23<00:44, 15.79it/s]"
     ]
    },
    {
     "output_type": "stream",
     "name": "stdout",
     "output_type": "stream",
     "text": [
      "File exists: /dbfs/mnt/raw/DataScientistSDSData/TLSED_test/raw/angola_2011_26.tfrecord.gz, skipping.\nFile exists: /dbfs/mnt/raw/DataScientistSDSData/TLSED_test/raw/angola_2011_27.tfrecord.gz, skipping.\nFile exists: /dbfs/mnt/raw/DataScientistSDSData/TLSED_test/raw/angola_2011_28.tfrecord.gz, skipping.\n"
     ]
    },
    {
     "output_type": "stream",
     "name": "stderr",
     "output_type": "stream",
     "text": [
      "\rDownloading blobs:  28%|██▊       | 276/969 [00:23<00:47, 14.66it/s]"
     ]
    },
    {
     "output_type": "stream",
     "name": "stdout",
     "output_type": "stream",
     "text": [
      "File exists: /dbfs/mnt/raw/DataScientistSDSData/TLSED_test/raw/angola_2011_29.tfrecord.gz, skipping.\nFile exists: /dbfs/mnt/raw/DataScientistSDSData/TLSED_test/raw/angola_2011_30.tfrecord.gz, skipping.\nFile exists: /dbfs/mnt/raw/DataScientistSDSData/TLSED_test/raw/angola_2011_31.tfrecord.gz, skipping.\n"
     ]
    },
    {
     "output_type": "stream",
     "name": "stderr",
     "output_type": "stream",
     "text": [
      "\rDownloading blobs:  29%|██▊       | 278/969 [00:23<00:51, 13.41it/s]\rDownloading blobs:  29%|██▉       | 280/969 [00:23<00:50, 13.52it/s]"
     ]
    },
    {
     "output_type": "stream",
     "name": "stdout",
     "output_type": "stream",
     "text": [
      "File exists: /dbfs/mnt/raw/DataScientistSDSData/TLSED_test/raw/angola_2011_32.tfrecord.gz, skipping.\nFile exists: /dbfs/mnt/raw/DataScientistSDSData/TLSED_test/raw/angola_2011_33.tfrecord.gz, skipping.\nFile exists: /dbfs/mnt/raw/DataScientistSDSData/TLSED_test/raw/angola_2011_34.tfrecord.gz, skipping.\nFile exists: /dbfs/mnt/raw/DataScientistSDSData/TLSED_test/raw/angola_2011_35.tfrecord.gz, skipping.\n"
     ]
    },
    {
     "output_type": "stream",
     "name": "stderr",
     "output_type": "stream",
     "text": [
      "\rDownloading blobs:  29%|██▉       | 282/969 [00:23<00:46, 14.83it/s]\rDownloading blobs:  29%|██▉       | 284/969 [00:23<00:43, 15.72it/s]"
     ]
    },
    {
     "output_type": "stream",
     "name": "stdout",
     "output_type": "stream",
     "text": [
      "File exists: /dbfs/mnt/raw/DataScientistSDSData/TLSED_test/raw/angola_2011_36.tfrecord.gz, skipping.\nFile exists: /dbfs/mnt/raw/DataScientistSDSData/TLSED_test/raw/angola_2011_37.tfrecord.gz, skipping.\nFile exists: /dbfs/mnt/raw/DataScientistSDSData/TLSED_test/raw/angola_2011_38.tfrecord.gz, skipping.\nFile exists: /dbfs/mnt/raw/DataScientistSDSData/TLSED_test/raw/angola_2011_39.tfrecord.gz, skipping.\n"
     ]
    },
    {
     "output_type": "stream",
     "name": "stderr",
     "output_type": "stream",
     "text": [
      "\rDownloading blobs:  30%|██▉       | 286/969 [00:23<00:41, 16.38it/s]\rDownloading blobs:  30%|██▉       | 288/969 [00:23<00:39, 17.26it/s]"
     ]
    },
    {
     "output_type": "stream",
     "name": "stdout",
     "output_type": "stream",
     "text": [
      "File exists: /dbfs/mnt/raw/DataScientistSDSData/TLSED_test/raw/angola_2011_40.tfrecord.gz, skipping.\nFile exists: /dbfs/mnt/raw/DataScientistSDSData/TLSED_test/raw/angola_2011_41.tfrecord.gz, skipping.\nFile exists: /dbfs/mnt/raw/DataScientistSDSData/TLSED_test/raw/angola_2011_42.tfrecord.gz, skipping.\nFile exists: /dbfs/mnt/raw/DataScientistSDSData/TLSED_test/raw/angola_2011_43.tfrecord.gz, skipping.\n"
     ]
    },
    {
     "output_type": "stream",
     "name": "stderr",
     "output_type": "stream",
     "text": [
      "\rDownloading blobs:  30%|██▉       | 290/969 [00:24<00:48, 13.88it/s]\rDownloading blobs:  30%|███       | 292/969 [00:24<00:49, 13.67it/s]"
     ]
    },
    {
     "output_type": "stream",
     "name": "stdout",
     "output_type": "stream",
     "text": [
      "File exists: /dbfs/mnt/raw/DataScientistSDSData/TLSED_test/raw/angola_2011_44.tfrecord.gz, skipping.\nFile exists: /dbfs/mnt/raw/DataScientistSDSData/TLSED_test/raw/angola_2011_45.tfrecord.gz, skipping.\nFile exists: /dbfs/mnt/raw/DataScientistSDSData/TLSED_test/raw/angola_2011_46.tfrecord.gz, skipping.\n"
     ]
    },
    {
     "output_type": "stream",
     "name": "stderr",
     "output_type": "stream",
     "text": [
      "\rDownloading blobs:  30%|███       | 294/969 [00:24<00:51, 13.09it/s]"
     ]
    },
    {
     "output_type": "stream",
     "name": "stdout",
     "output_type": "stream",
     "text": [
      "File exists: /dbfs/mnt/raw/DataScientistSDSData/TLSED_test/raw/angola_2011_47.tfrecord.gz, skipping.\nFile exists: /dbfs/mnt/raw/DataScientistSDSData/TLSED_test/raw/angola_2011_48.tfrecord.gz, skipping.\n"
     ]
    },
    {
     "output_type": "stream",
     "name": "stderr",
     "output_type": "stream",
     "text": [
      "\rDownloading blobs:  31%|███       | 296/969 [00:24<00:55, 12.10it/s]"
     ]
    },
    {
     "output_type": "stream",
     "name": "stdout",
     "output_type": "stream",
     "text": [
      "File exists: /dbfs/mnt/raw/DataScientistSDSData/TLSED_test/raw/angola_2011_49.tfrecord.gz, skipping.\nFile exists: /dbfs/mnt/raw/DataScientistSDSData/TLSED_test/raw/angola_2011_50.tfrecord.gz, skipping.\nFile exists: /dbfs/mnt/raw/DataScientistSDSData/TLSED_test/raw/angola_2011_51.tfrecord.gz, skipping.\n"
     ]
    },
    {
     "output_type": "stream",
     "name": "stderr",
     "output_type": "stream",
     "text": [
      "\rDownloading blobs:  31%|███       | 298/969 [00:24<00:53, 12.47it/s]\rDownloading blobs:  31%|███       | 300/969 [00:24<00:48, 13.81it/s]"
     ]
    },
    {
     "output_type": "stream",
     "name": "stdout",
     "output_type": "stream",
     "text": [
      "File exists: /dbfs/mnt/raw/DataScientistSDSData/TLSED_test/raw/angola_2011_52.tfrecord.gz, skipping.\nFile exists: /dbfs/mnt/raw/DataScientistSDSData/TLSED_test/raw/angola_2011_53.tfrecord.gz, skipping.\nFile exists: /dbfs/mnt/raw/DataScientistSDSData/TLSED_test/raw/angola_2011_54.tfrecord.gz, skipping.\nFile exists: /dbfs/mnt/raw/DataScientistSDSData/TLSED_test/raw/angola_2011_55.tfrecord.gz, skipping.\n"
     ]
    },
    {
     "output_type": "stream",
     "name": "stderr",
     "output_type": "stream",
     "text": [
      "\rDownloading blobs:  31%|███       | 302/969 [00:25<00:49, 13.61it/s]\rDownloading blobs:  31%|███▏      | 304/969 [00:25<00:47, 14.06it/s]"
     ]
    },
    {
     "output_type": "stream",
     "name": "stdout",
     "output_type": "stream",
     "text": [
      "File exists: /dbfs/mnt/raw/DataScientistSDSData/TLSED_test/raw/angola_2011_56.tfrecord.gz, skipping.\nFile exists: /dbfs/mnt/raw/DataScientistSDSData/TLSED_test/raw/angola_2011_57.tfrecord.gz, skipping.\nFile exists: /dbfs/mnt/raw/DataScientistSDSData/TLSED_test/raw/angola_2011_58.tfrecord.gz, skipping.\nFile exists: /dbfs/mnt/raw/DataScientistSDSData/TLSED_test/raw/angola_2011_59.tfrecord.gz, skipping.\n"
     ]
    },
    {
     "output_type": "stream",
     "name": "stderr",
     "output_type": "stream",
     "text": [
      "\rDownloading blobs:  32%|███▏      | 306/969 [00:25<00:49, 13.42it/s]\rDownloading blobs:  32%|███▏      | 308/969 [00:25<00:49, 13.24it/s]"
     ]
    },
    {
     "output_type": "stream",
     "name": "stdout",
     "output_type": "stream",
     "text": [
      "File exists: /dbfs/mnt/raw/DataScientistSDSData/TLSED_test/raw/angola_2011_60.tfrecord.gz, skipping.\nFile exists: /dbfs/mnt/raw/DataScientistSDSData/TLSED_test/raw/angola_2011_61.tfrecord.gz, skipping.\nFile exists: /dbfs/mnt/raw/DataScientistSDSData/TLSED_test/raw/angola_2011_62.tfrecord.gz, skipping.\n"
     ]
    },
    {
     "output_type": "stream",
     "name": "stderr",
     "output_type": "stream",
     "text": [
      "\rDownloading blobs:  32%|███▏      | 310/969 [00:25<00:51, 12.84it/s]"
     ]
    },
    {
     "output_type": "stream",
     "name": "stdout",
     "output_type": "stream",
     "text": [
      "File exists: /dbfs/mnt/raw/DataScientistSDSData/TLSED_test/raw/angola_2011_63.tfrecord.gz, skipping.\nFile exists: /dbfs/mnt/raw/DataScientistSDSData/TLSED_test/raw/angola_2011_64.tfrecord.gz, skipping.\nFile exists: /dbfs/mnt/raw/DataScientistSDSData/TLSED_test/raw/angola_2011_65.tfrecord.gz, skipping.\nFile exists: /dbfs/mnt/raw/DataScientistSDSData/TLSED_test/raw/angola_2011_66.tfrecord.gz, skipping.\n"
     ]
    },
    {
     "output_type": "stream",
     "name": "stderr",
     "output_type": "stream",
     "text": [
      "\rDownloading blobs:  32%|███▏      | 313/969 [00:25<00:46, 13.99it/s]\rDownloading blobs:  33%|███▎      | 315/969 [00:26<00:45, 14.36it/s]"
     ]
    },
    {
     "output_type": "stream",
     "name": "stdout",
     "output_type": "stream",
     "text": [
      "File exists: /dbfs/mnt/raw/DataScientistSDSData/TLSED_test/raw/angola_2011_67.tfrecord.gz, skipping.\nFile exists: /dbfs/mnt/raw/DataScientistSDSData/TLSED_test/raw/angola_2011_68.tfrecord.gz, skipping.\nFile exists: /dbfs/mnt/raw/DataScientistSDSData/TLSED_test/raw/angola_2011_69.tfrecord.gz, skipping.\n"
     ]
    },
    {
     "output_type": "stream",
     "name": "stderr",
     "output_type": "stream",
     "text": [
      "\rDownloading blobs:  33%|███▎      | 317/969 [00:26<00:48, 13.46it/s]\rDownloading blobs:  33%|███▎      | 319/969 [00:26<00:44, 14.56it/s]"
     ]
    },
    {
     "output_type": "stream",
     "name": "stdout",
     "output_type": "stream",
     "text": [
      "File exists: /dbfs/mnt/raw/DataScientistSDSData/TLSED_test/raw/angola_2011_70.tfrecord.gz, skipping.\nFile exists: /dbfs/mnt/raw/DataScientistSDSData/TLSED_test/raw/angola_2011_71.tfrecord.gz, skipping.\nFile exists: /dbfs/mnt/raw/DataScientistSDSData/TLSED_test/raw/angola_2011_72.tfrecord.gz, skipping.\nFile exists: /dbfs/mnt/raw/DataScientistSDSData/TLSED_test/raw/angola_2011_73.tfrecord.gz, skipping.\n"
     ]
    },
    {
     "output_type": "stream",
     "name": "stderr",
     "output_type": "stream",
     "text": [
      "\rDownloading blobs:  33%|███▎      | 321/969 [00:26<00:53, 12.06it/s]"
     ]
    },
    {
     "output_type": "stream",
     "name": "stdout",
     "output_type": "stream",
     "text": [
      "File exists: /dbfs/mnt/raw/DataScientistSDSData/TLSED_test/raw/angola_2011_74.tfrecord.gz, skipping.\nFile exists: /dbfs/mnt/raw/DataScientistSDSData/TLSED_test/raw/angola_2011_75.tfrecord.gz, skipping.\n"
     ]
    },
    {
     "output_type": "stream",
     "name": "stderr",
     "output_type": "stream",
     "text": [
      "\rDownloading blobs:  33%|███▎      | 323/969 [00:26<00:57, 11.15it/s]"
     ]
    },
    {
     "output_type": "stream",
     "name": "stdout",
     "output_type": "stream",
     "text": [
      "File exists: /dbfs/mnt/raw/DataScientistSDSData/TLSED_test/raw/angola_2011_76.tfrecord.gz, skipping.\nFile exists: /dbfs/mnt/raw/DataScientistSDSData/TLSED_test/raw/angola_2011_77.tfrecord.gz, skipping.\n"
     ]
    },
    {
     "output_type": "stream",
     "name": "stderr",
     "output_type": "stream",
     "text": [
      "\rDownloading blobs:  34%|███▎      | 325/969 [00:26<00:56, 11.45it/s]\rDownloading blobs:  34%|███▎      | 327/969 [00:27<00:53, 12.10it/s]"
     ]
    },
    {
     "output_type": "stream",
     "name": "stdout",
     "output_type": "stream",
     "text": [
      "File exists: /dbfs/mnt/raw/DataScientistSDSData/TLSED_test/raw/angola_2011_78.tfrecord.gz, skipping.\nFile exists: /dbfs/mnt/raw/DataScientistSDSData/TLSED_test/raw/angola_2011_79.tfrecord.gz, skipping.\nFile exists: /dbfs/mnt/raw/DataScientistSDSData/TLSED_test/raw/angola_2011_80.tfrecord.gz, skipping.\nFile exists: /dbfs/mnt/raw/DataScientistSDSData/TLSED_test/raw/angola_2011_81.tfrecord.gz, skipping.\n"
     ]
    },
    {
     "output_type": "stream",
     "name": "stderr",
     "output_type": "stream",
     "text": [
      "\rDownloading blobs:  34%|███▍      | 329/969 [00:27<00:47, 13.54it/s]"
     ]
    },
    {
     "output_type": "stream",
     "name": "stdout",
     "output_type": "stream",
     "text": [
      "File exists: /dbfs/mnt/raw/DataScientistSDSData/TLSED_test/raw/angola_2011_82.tfrecord.gz, skipping.\nFile exists: /dbfs/mnt/raw/DataScientistSDSData/TLSED_test/raw/angola_2011_83.tfrecord.gz, skipping.\n"
     ]
    },
    {
     "output_type": "stream",
     "name": "stderr",
     "output_type": "stream",
     "text": [
      "\rDownloading blobs:  34%|███▍      | 331/969 [00:27<01:06,  9.62it/s]"
     ]
    },
    {
     "output_type": "stream",
     "name": "stdout",
     "output_type": "stream",
     "text": [
      "File exists: /dbfs/mnt/raw/DataScientistSDSData/TLSED_test/raw/angola_2011_84.tfrecord.gz, skipping.\nFile exists: /dbfs/mnt/raw/DataScientistSDSData/TLSED_test/raw/angola_2011_85.tfrecord.gz, skipping.\n"
     ]
    },
    {
     "output_type": "stream",
     "name": "stderr",
     "output_type": "stream",
     "text": [
      "\rDownloading blobs:  34%|███▍      | 333/969 [00:27<00:57, 11.10it/s]"
     ]
    },
    {
     "output_type": "stream",
     "name": "stdout",
     "output_type": "stream",
     "text": [
      "File exists: /dbfs/mnt/raw/DataScientistSDSData/TLSED_test/raw/angola_2011_86.tfrecord.gz, skipping.\nFile exists: /dbfs/mnt/raw/DataScientistSDSData/TLSED_test/raw/angola_2011_87.tfrecord.gz, skipping.\nFile exists: /dbfs/mnt/raw/DataScientistSDSData/TLSED_test/raw/angola_2011_88.tfrecord.gz, skipping.\n"
     ]
    },
    {
     "output_type": "stream",
     "name": "stderr",
     "output_type": "stream",
     "text": [
      "\rDownloading blobs:  35%|███▍      | 335/969 [00:27<00:54, 11.73it/s]\rDownloading blobs:  35%|███▍      | 337/969 [00:28<00:56, 11.17it/s]"
     ]
    },
    {
     "output_type": "stream",
     "name": "stdout",
     "output_type": "stream",
     "text": [
      "File exists: /dbfs/mnt/raw/DataScientistSDSData/TLSED_test/raw/angola_2011_89.tfrecord.gz, skipping.\nFile exists: /dbfs/mnt/raw/DataScientistSDSData/TLSED_test/raw/angola_2011_90.tfrecord.gz, skipping.\nFile exists: /dbfs/mnt/raw/DataScientistSDSData/TLSED_test/raw/angola_2011_91.tfrecord.gz, skipping.\n"
     ]
    },
    {
     "output_type": "stream",
     "name": "stderr",
     "output_type": "stream",
     "text": [
      "\rDownloading blobs:  35%|███▍      | 339/969 [00:28<00:55, 11.37it/s]"
     ]
    },
    {
     "output_type": "stream",
     "name": "stdout",
     "output_type": "stream",
     "text": [
      "File exists: /dbfs/mnt/raw/DataScientistSDSData/TLSED_test/raw/angola_2011_92.tfrecord.gz, skipping.\nFile exists: /dbfs/mnt/raw/DataScientistSDSData/TLSED_test/raw/angola_2011_93.tfrecord.gz, skipping.\nFile exists: /dbfs/mnt/raw/DataScientistSDSData/TLSED_test/raw/angola_2011_94.tfrecord.gz, skipping.\nFile exists: /dbfs/mnt/raw/DataScientistSDSData/TLSED_test/raw/angola_2011_95.tfrecord.gz, skipping.\n"
     ]
    },
    {
     "output_type": "stream",
     "name": "stderr",
     "output_type": "stream",
     "text": [
      "\rDownloading blobs:  35%|███▌      | 342/969 [00:28<00:45, 13.67it/s]\rDownloading blobs:  36%|███▌      | 344/969 [00:28<00:47, 13.13it/s]"
     ]
    },
    {
     "output_type": "stream",
     "name": "stdout",
     "output_type": "stream",
     "text": [
      "File exists: /dbfs/mnt/raw/DataScientistSDSData/TLSED_test/raw/angola_2011_96.tfrecord.gz, skipping.\nFile exists: /dbfs/mnt/raw/DataScientistSDSData/TLSED_test/raw/angola_2011_97.tfrecord.gz, skipping.\nFile exists: /dbfs/mnt/raw/DataScientistSDSData/TLSED_test/raw/angola_2011_98.tfrecord.gz, skipping.\n"
     ]
    },
    {
     "output_type": "stream",
     "name": "stderr",
     "output_type": "stream",
     "text": [
      "\rDownloading blobs:  36%|███▌      | 346/969 [00:28<00:45, 13.72it/s]"
     ]
    },
    {
     "output_type": "stream",
     "name": "stdout",
     "output_type": "stream",
     "text": [
      "File exists: /dbfs/mnt/raw/DataScientistSDSData/TLSED_test/raw/angola_2011_99.tfrecord.gz, skipping.\nFile exists: /dbfs/mnt/raw/DataScientistSDSData/TLSED_test/raw/angola_2015_00.tfrecord.gz, skipping.\n"
     ]
    },
    {
     "output_type": "stream",
     "name": "stderr",
     "output_type": "stream",
     "text": [
      "\rDownloading blobs:  36%|███▌      | 348/969 [00:28<00:53, 11.69it/s]\rDownloading blobs:  36%|███▌      | 350/969 [00:28<00:48, 12.67it/s]"
     ]
    },
    {
     "output_type": "stream",
     "name": "stdout",
     "output_type": "stream",
     "text": [
      "File exists: /dbfs/mnt/raw/DataScientistSDSData/TLSED_test/raw/angola_2015_01.tfrecord.gz, skipping.\nFile exists: /dbfs/mnt/raw/DataScientistSDSData/TLSED_test/raw/angola_2015_02.tfrecord.gz, skipping.\nFile exists: /dbfs/mnt/raw/DataScientistSDSData/TLSED_test/raw/angola_2015_03.tfrecord.gz, skipping.\nFile exists: /dbfs/mnt/raw/DataScientistSDSData/TLSED_test/raw/angola_2015_04.tfrecord.gz, skipping.\n"
     ]
    },
    {
     "output_type": "stream",
     "name": "stderr",
     "output_type": "stream",
     "text": [
      "\rDownloading blobs:  36%|███▋      | 352/969 [00:29<00:47, 12.93it/s]\rDownloading blobs:  37%|███▋      | 354/969 [00:29<00:44, 13.70it/s]"
     ]
    },
    {
     "output_type": "stream",
     "name": "stdout",
     "output_type": "stream",
     "text": [
      "File exists: /dbfs/mnt/raw/DataScientistSDSData/TLSED_test/raw/angola_2015_05.tfrecord.gz, skipping.\nFile exists: /dbfs/mnt/raw/DataScientistSDSData/TLSED_test/raw/angola_2015_06.tfrecord.gz, skipping.\nFile exists: /dbfs/mnt/raw/DataScientistSDSData/TLSED_test/raw/angola_2015_07.tfrecord.gz, skipping.\nFile exists: /dbfs/mnt/raw/DataScientistSDSData/TLSED_test/raw/angola_2015_08.tfrecord.gz, skipping.\n"
     ]
    },
    {
     "output_type": "stream",
     "name": "stderr",
     "output_type": "stream",
     "text": [
      "\rDownloading blobs:  37%|███▋      | 356/969 [00:29<00:52, 11.63it/s]"
     ]
    },
    {
     "output_type": "stream",
     "name": "stdout",
     "output_type": "stream",
     "text": [
      "File exists: /dbfs/mnt/raw/DataScientistSDSData/TLSED_test/raw/angola_2015_09.tfrecord.gz, skipping.\nFile exists: /dbfs/mnt/raw/DataScientistSDSData/TLSED_test/raw/angola_2015_10.tfrecord.gz, skipping.\n"
     ]
    },
    {
     "output_type": "stream",
     "name": "stderr",
     "output_type": "stream",
     "text": [
      "\rDownloading blobs:  37%|███▋      | 358/969 [00:29<01:00, 10.10it/s]"
     ]
    },
    {
     "output_type": "stream",
     "name": "stdout",
     "output_type": "stream",
     "text": [
      "File exists: /dbfs/mnt/raw/DataScientistSDSData/TLSED_test/raw/angola_2015_100.tfrecord.gz, skipping.\nFile exists: /dbfs/mnt/raw/DataScientistSDSData/TLSED_test/raw/angola_2015_101.tfrecord.gz, skipping.\nFile exists: /dbfs/mnt/raw/DataScientistSDSData/TLSED_test/raw/angola_2015_102.tfrecord.gz, skipping.\n"
     ]
    },
    {
     "output_type": "stream",
     "name": "stderr",
     "output_type": "stream",
     "text": [
      "\rDownloading blobs:  37%|███▋      | 360/969 [00:29<00:53, 11.38it/s]\rDownloading blobs:  37%|███▋      | 362/969 [00:30<00:54, 11.16it/s]"
     ]
    },
    {
     "output_type": "stream",
     "name": "stdout",
     "output_type": "stream",
     "text": [
      "File exists: /dbfs/mnt/raw/DataScientistSDSData/TLSED_test/raw/angola_2015_103.tfrecord.gz, skipping.\nFile exists: /dbfs/mnt/raw/DataScientistSDSData/TLSED_test/raw/angola_2015_104.tfrecord.gz, skipping.\nFile exists: /dbfs/mnt/raw/DataScientistSDSData/TLSED_test/raw/angola_2015_105.tfrecord.gz, skipping.\n"
     ]
    },
    {
     "output_type": "stream",
     "name": "stderr",
     "output_type": "stream",
     "text": [
      "\rDownloading blobs:  38%|███▊      | 364/969 [00:30<00:47, 12.78it/s]\rDownloading blobs:  38%|███▊      | 366/969 [00:30<00:45, 13.27it/s]"
     ]
    },
    {
     "output_type": "stream",
     "name": "stdout",
     "output_type": "stream",
     "text": [
      "File exists: /dbfs/mnt/raw/DataScientistSDSData/TLSED_test/raw/angola_2015_106.tfrecord.gz, skipping.\nFile exists: /dbfs/mnt/raw/DataScientistSDSData/TLSED_test/raw/angola_2015_107.tfrecord.gz, skipping.\nFile exists: /dbfs/mnt/raw/DataScientistSDSData/TLSED_test/raw/angola_2015_108.tfrecord.gz, skipping.\nFile exists: /dbfs/mnt/raw/DataScientistSDSData/TLSED_test/raw/angola_2015_109.tfrecord.gz, skipping.\n"
     ]
    },
    {
     "output_type": "stream",
     "name": "stderr",
     "output_type": "stream",
     "text": [
      "\rDownloading blobs:  38%|███▊      | 368/969 [00:30<00:44, 13.54it/s]"
     ]
    },
    {
     "output_type": "stream",
     "name": "stdout",
     "output_type": "stream",
     "text": [
      "File exists: /dbfs/mnt/raw/DataScientistSDSData/TLSED_test/raw/angola_2015_11.tfrecord.gz, skipping.\nFile exists: /dbfs/mnt/raw/DataScientistSDSData/TLSED_test/raw/angola_2015_110.tfrecord.gz, skipping.\nFile exists: /dbfs/mnt/raw/DataScientistSDSData/TLSED_test/raw/angola_2015_111.tfrecord.gz, skipping.\n"
     ]
    },
    {
     "output_type": "stream",
     "name": "stderr",
     "output_type": "stream",
     "text": [
      "\rDownloading blobs:  38%|███▊      | 370/969 [00:30<00:47, 12.72it/s]\rDownloading blobs:  38%|███▊      | 372/969 [00:30<00:46, 12.87it/s]"
     ]
    },
    {
     "output_type": "stream",
     "name": "stdout",
     "output_type": "stream",
     "text": [
      "File exists: /dbfs/mnt/raw/DataScientistSDSData/TLSED_test/raw/angola_2015_112.tfrecord.gz, skipping.\nFile exists: /dbfs/mnt/raw/DataScientistSDSData/TLSED_test/raw/angola_2015_113.tfrecord.gz, skipping.\nFile exists: /dbfs/mnt/raw/DataScientistSDSData/TLSED_test/raw/angola_2015_114.tfrecord.gz, skipping.\n"
     ]
    },
    {
     "output_type": "stream",
     "name": "stderr",
     "output_type": "stream",
     "text": [
      "\rDownloading blobs:  39%|███▊      | 374/969 [00:30<00:42, 14.00it/s]"
     ]
    },
    {
     "output_type": "stream",
     "name": "stdout",
     "output_type": "stream",
     "text": [
      "File exists: /dbfs/mnt/raw/DataScientistSDSData/TLSED_test/raw/angola_2015_115.tfrecord.gz, skipping.\nFile exists: /dbfs/mnt/raw/DataScientistSDSData/TLSED_test/raw/angola_2015_116.tfrecord.gz, skipping.\nFile exists: /dbfs/mnt/raw/DataScientistSDSData/TLSED_test/raw/angola_2015_117.tfrecord.gz, skipping.\n"
     ]
    },
    {
     "output_type": "stream",
     "name": "stderr",
     "output_type": "stream",
     "text": [
      "\rDownloading blobs:  39%|███▉      | 376/969 [00:31<00:43, 13.68it/s]\rDownloading blobs:  39%|███▉      | 378/969 [00:31<00:39, 15.05it/s]"
     ]
    },
    {
     "output_type": "stream",
     "name": "stdout",
     "output_type": "stream",
     "text": [
      "File exists: /dbfs/mnt/raw/DataScientistSDSData/TLSED_test/raw/angola_2015_118.tfrecord.gz, skipping.\nFile exists: /dbfs/mnt/raw/DataScientistSDSData/TLSED_test/raw/angola_2015_119.tfrecord.gz, skipping.\nFile exists: /dbfs/mnt/raw/DataScientistSDSData/TLSED_test/raw/angola_2015_12.tfrecord.gz, skipping.\nFile exists: /dbfs/mnt/raw/DataScientistSDSData/TLSED_test/raw/angola_2015_120.tfrecord.gz, skipping.\n"
     ]
    },
    {
     "output_type": "stream",
     "name": "stderr",
     "output_type": "stream",
     "text": [
      "\rDownloading blobs:  39%|███▉      | 380/969 [00:31<00:36, 16.22it/s]\rDownloading blobs:  40%|███▉      | 383/969 [00:31<00:33, 17.49it/s]"
     ]
    },
    {
     "output_type": "stream",
     "name": "stdout",
     "output_type": "stream",
     "text": [
      "File exists: /dbfs/mnt/raw/DataScientistSDSData/TLSED_test/raw/angola_2015_121.tfrecord.gz, skipping.\nFile exists: /dbfs/mnt/raw/DataScientistSDSData/TLSED_test/raw/angola_2015_122.tfrecord.gz, skipping.\nFile exists: /dbfs/mnt/raw/DataScientistSDSData/TLSED_test/raw/angola_2015_123.tfrecord.gz, skipping.\nFile exists: /dbfs/mnt/raw/DataScientistSDSData/TLSED_test/raw/angola_2015_124.tfrecord.gz, skipping.\n"
     ]
    },
    {
     "output_type": "stream",
     "name": "stderr",
     "output_type": "stream",
     "text": [
      "\rDownloading blobs:  40%|███▉      | 385/969 [00:31<00:36, 16.18it/s]\rDownloading blobs:  40%|███▉      | 387/969 [00:31<00:34, 16.79it/s]"
     ]
    },
    {
     "output_type": "stream",
     "name": "stdout",
     "output_type": "stream",
     "text": [
      "File exists: /dbfs/mnt/raw/DataScientistSDSData/TLSED_test/raw/angola_2015_125.tfrecord.gz, skipping.\nFile exists: /dbfs/mnt/raw/DataScientistSDSData/TLSED_test/raw/angola_2015_126.tfrecord.gz, skipping.\nFile exists: /dbfs/mnt/raw/DataScientistSDSData/TLSED_test/raw/angola_2015_127.tfrecord.gz, skipping.\nFile exists: /dbfs/mnt/raw/DataScientistSDSData/TLSED_test/raw/angola_2015_128.tfrecord.gz, skipping.\n"
     ]
    },
    {
     "output_type": "stream",
     "name": "stderr",
     "output_type": "stream",
     "text": [
      "\rDownloading blobs:  40%|████      | 389/969 [00:31<00:33, 17.33it/s]\rDownloading blobs:  40%|████      | 391/969 [00:31<00:34, 16.80it/s]"
     ]
    },
    {
     "output_type": "stream",
     "name": "stdout",
     "output_type": "stream",
     "text": [
      "File exists: /dbfs/mnt/raw/DataScientistSDSData/TLSED_test/raw/angola_2015_129.tfrecord.gz, skipping.\nFile exists: /dbfs/mnt/raw/DataScientistSDSData/TLSED_test/raw/angola_2015_13.tfrecord.gz, skipping.\nFile exists: /dbfs/mnt/raw/DataScientistSDSData/TLSED_test/raw/angola_2015_130.tfrecord.gz, skipping.\nFile exists: /dbfs/mnt/raw/DataScientistSDSData/TLSED_test/raw/angola_2015_131.tfrecord.gz, skipping.\n"
     ]
    },
    {
     "output_type": "stream",
     "name": "stderr",
     "output_type": "stream",
     "text": [
      "\rDownloading blobs:  41%|████      | 393/969 [00:32<00:34, 16.61it/s]\rDownloading blobs:  41%|████      | 395/969 [00:32<00:35, 16.20it/s]"
     ]
    },
    {
     "output_type": "stream",
     "name": "stdout",
     "output_type": "stream",
     "text": [
      "File exists: /dbfs/mnt/raw/DataScientistSDSData/TLSED_test/raw/angola_2015_132.tfrecord.gz, skipping.\nFile exists: /dbfs/mnt/raw/DataScientistSDSData/TLSED_test/raw/angola_2015_133.tfrecord.gz, skipping.\nFile exists: /dbfs/mnt/raw/DataScientistSDSData/TLSED_test/raw/angola_2015_134.tfrecord.gz, skipping.\nFile exists: /dbfs/mnt/raw/DataScientistSDSData/TLSED_test/raw/angola_2015_135.tfrecord.gz, skipping.\n"
     ]
    },
    {
     "output_type": "stream",
     "name": "stderr",
     "output_type": "stream",
     "text": [
      "\rDownloading blobs:  41%|████      | 397/969 [00:32<00:33, 17.04it/s]\rDownloading blobs:  41%|████      | 399/969 [00:32<00:35, 15.99it/s]"
     ]
    },
    {
     "output_type": "stream",
     "name": "stdout",
     "output_type": "stream",
     "text": [
      "File exists: /dbfs/mnt/raw/DataScientistSDSData/TLSED_test/raw/angola_2015_136.tfrecord.gz, skipping.\nFile exists: /dbfs/mnt/raw/DataScientistSDSData/TLSED_test/raw/angola_2015_137.tfrecord.gz, skipping.\nFile exists: /dbfs/mnt/raw/DataScientistSDSData/TLSED_test/raw/angola_2015_138.tfrecord.gz, skipping.\nFile exists: /dbfs/mnt/raw/DataScientistSDSData/TLSED_test/raw/angola_2015_139.tfrecord.gz, skipping.\n"
     ]
    },
    {
     "output_type": "stream",
     "name": "stderr",
     "output_type": "stream",
     "text": [
      "\rDownloading blobs:  41%|████▏     | 401/969 [00:32<00:33, 16.98it/s]"
     ]
    },
    {
     "output_type": "stream",
     "name": "stdout",
     "output_type": "stream",
     "text": [
      "File exists: /dbfs/mnt/raw/DataScientistSDSData/TLSED_test/raw/angola_2015_14.tfrecord.gz, skipping.\nFile exists: /dbfs/mnt/raw/DataScientistSDSData/TLSED_test/raw/angola_2015_140.tfrecord.gz, skipping.\nFile exists: /dbfs/mnt/raw/DataScientistSDSData/TLSED_test/raw/angola_2015_141.tfrecord.gz, skipping.\n"
     ]
    },
    {
     "output_type": "stream",
     "name": "stderr",
     "output_type": "stream",
     "text": [
      "\rDownloading blobs:  42%|████▏     | 403/969 [00:32<00:37, 15.17it/s]\rDownloading blobs:  42%|████▏     | 405/969 [00:32<00:39, 14.29it/s]"
     ]
    },
    {
     "output_type": "stream",
     "name": "stdout",
     "output_type": "stream",
     "text": [
      "File exists: /dbfs/mnt/raw/DataScientistSDSData/TLSED_test/raw/angola_2015_142.tfrecord.gz, skipping.\nFile exists: /dbfs/mnt/raw/DataScientistSDSData/TLSED_test/raw/angola_2015_143.tfrecord.gz, skipping.\nFile exists: /dbfs/mnt/raw/DataScientistSDSData/TLSED_test/raw/angola_2015_144.tfrecord.gz, skipping.\n"
     ]
    },
    {
     "output_type": "stream",
     "name": "stderr",
     "output_type": "stream",
     "text": [
      "\rDownloading blobs:  42%|████▏     | 407/969 [00:33<00:44, 12.55it/s]"
     ]
    },
    {
     "output_type": "stream",
     "name": "stdout",
     "output_type": "stream",
     "text": [
      "File exists: /dbfs/mnt/raw/DataScientistSDSData/TLSED_test/raw/angola_2015_145.tfrecord.gz, skipping.\nFile exists: /dbfs/mnt/raw/DataScientistSDSData/TLSED_test/raw/angola_2015_146.tfrecord.gz, skipping.\nFile exists: /dbfs/mnt/raw/DataScientistSDSData/TLSED_test/raw/angola_2015_147.tfrecord.gz, skipping.\n"
     ]
    },
    {
     "output_type": "stream",
     "name": "stderr",
     "output_type": "stream",
     "text": [
      "\rDownloading blobs:  42%|████▏     | 409/969 [00:33<00:39, 14.10it/s]"
     ]
    },
    {
     "output_type": "stream",
     "name": "stdout",
     "output_type": "stream",
     "text": [
      "File exists: /dbfs/mnt/raw/DataScientistSDSData/TLSED_test/raw/angola_2015_148.tfrecord.gz, skipping.\n"
     ]
    },
    {
     "output_type": "stream",
     "name": "stderr",
     "output_type": "stream",
     "text": [
      "\rDownloading blobs:  42%|████▏     | 411/969 [00:33<00:55, 10.04it/s]\rDownloading blobs:  43%|████▎     | 413/969 [00:33<00:47, 11.79it/s]"
     ]
    },
    {
     "output_type": "stream",
     "name": "stdout",
     "output_type": "stream",
     "text": [
      "File exists: /dbfs/mnt/raw/DataScientistSDSData/TLSED_test/raw/angola_2015_149.tfrecord.gz, skipping.\nFile exists: /dbfs/mnt/raw/DataScientistSDSData/TLSED_test/raw/angola_2015_15.tfrecord.gz, skipping.\nFile exists: /dbfs/mnt/raw/DataScientistSDSData/TLSED_test/raw/angola_2015_150.tfrecord.gz, skipping.\nFile exists: /dbfs/mnt/raw/DataScientistSDSData/TLSED_test/raw/angola_2015_151.tfrecord.gz, skipping.\nFile exists: /dbfs/mnt/raw/DataScientistSDSData/TLSED_test/raw/angola_2015_152.tfrecord.gz, skipping.\n"
     ]
    },
    {
     "output_type": "stream",
     "name": "stderr",
     "output_type": "stream",
     "text": [
      "\rDownloading blobs:  43%|████▎     | 416/969 [00:33<00:39, 14.02it/s]\rDownloading blobs:  43%|████▎     | 418/969 [00:33<00:37, 14.84it/s]"
     ]
    },
    {
     "output_type": "stream",
     "name": "stdout",
     "output_type": "stream",
     "text": [
      "File exists: /dbfs/mnt/raw/DataScientistSDSData/TLSED_test/raw/angola_2015_153.tfrecord.gz, skipping.\nFile exists: /dbfs/mnt/raw/DataScientistSDSData/TLSED_test/raw/angola_2015_154.tfrecord.gz, skipping.\nFile exists: /dbfs/mnt/raw/DataScientistSDSData/TLSED_test/raw/angola_2015_155.tfrecord.gz, skipping.\nFile exists: /dbfs/mnt/raw/DataScientistSDSData/TLSED_test/raw/angola_2015_156.tfrecord.gz, skipping.\n"
     ]
    },
    {
     "output_type": "stream",
     "name": "stderr",
     "output_type": "stream",
     "text": [
      "\rDownloading blobs:  43%|████▎     | 420/969 [00:33<00:38, 14.44it/s]\rDownloading blobs:  44%|████▎     | 422/969 [00:34<00:35, 15.20it/s]"
     ]
    },
    {
     "output_type": "stream",
     "name": "stdout",
     "output_type": "stream",
     "text": [
      "File exists: /dbfs/mnt/raw/DataScientistSDSData/TLSED_test/raw/angola_2015_157.tfrecord.gz, skipping.\nFile exists: /dbfs/mnt/raw/DataScientistSDSData/TLSED_test/raw/angola_2015_158.tfrecord.gz, skipping.\nFile exists: /dbfs/mnt/raw/DataScientistSDSData/TLSED_test/raw/angola_2015_159.tfrecord.gz, skipping.\nFile exists: /dbfs/mnt/raw/DataScientistSDSData/TLSED_test/raw/angola_2015_16.tfrecord.gz, skipping.\n"
     ]
    },
    {
     "output_type": "stream",
     "name": "stderr",
     "output_type": "stream",
     "text": [
      "\rDownloading blobs:  44%|████▍     | 424/969 [00:34<00:38, 14.19it/s]"
     ]
    },
    {
     "output_type": "stream",
     "name": "stdout",
     "output_type": "stream",
     "text": [
      "File exists: /dbfs/mnt/raw/DataScientistSDSData/TLSED_test/raw/angola_2015_160.tfrecord.gz, skipping.\nFile exists: /dbfs/mnt/raw/DataScientistSDSData/TLSED_test/raw/angola_2015_161.tfrecord.gz, skipping.\nFile exists: /dbfs/mnt/raw/DataScientistSDSData/TLSED_test/raw/angola_2015_162.tfrecord.gz, skipping.\n"
     ]
    },
    {
     "output_type": "stream",
     "name": "stderr",
     "output_type": "stream",
     "text": [
      "\rDownloading blobs:  44%|████▍     | 426/969 [00:34<00:39, 13.66it/s]\rDownloading blobs:  44%|████▍     | 428/969 [00:34<00:36, 14.82it/s]"
     ]
    },
    {
     "output_type": "stream",
     "name": "stdout",
     "output_type": "stream",
     "text": [
      "File exists: /dbfs/mnt/raw/DataScientistSDSData/TLSED_test/raw/angola_2015_163.tfrecord.gz, skipping.\nFile exists: /dbfs/mnt/raw/DataScientistSDSData/TLSED_test/raw/angola_2015_164.tfrecord.gz, skipping.\nFile exists: /dbfs/mnt/raw/DataScientistSDSData/TLSED_test/raw/angola_2015_165.tfrecord.gz, skipping.\nFile exists: /dbfs/mnt/raw/DataScientistSDSData/TLSED_test/raw/angola_2015_166.tfrecord.gz, skipping.\n"
     ]
    },
    {
     "output_type": "stream",
     "name": "stderr",
     "output_type": "stream",
     "text": [
      "\rDownloading blobs:  44%|████▍     | 430/969 [00:34<00:38, 14.05it/s]\rDownloading blobs:  45%|████▍     | 432/969 [00:34<00:35, 14.99it/s]"
     ]
    },
    {
     "output_type": "stream",
     "name": "stdout",
     "output_type": "stream",
     "text": [
      "File exists: /dbfs/mnt/raw/DataScientistSDSData/TLSED_test/raw/angola_2015_167.tfrecord.gz, skipping.\nFile exists: /dbfs/mnt/raw/DataScientistSDSData/TLSED_test/raw/angola_2015_168.tfrecord.gz, skipping.\nFile exists: /dbfs/mnt/raw/DataScientistSDSData/TLSED_test/raw/angola_2015_169.tfrecord.gz, skipping.\nFile exists: /dbfs/mnt/raw/DataScientistSDSData/TLSED_test/raw/angola_2015_17.tfrecord.gz, skipping.\n"
     ]
    },
    {
     "output_type": "stream",
     "name": "stderr",
     "output_type": "stream",
     "text": [
      "\rDownloading blobs:  45%|████▍     | 434/969 [00:34<00:35, 15.12it/s]\rDownloading blobs:  45%|████▍     | 436/969 [00:35<00:35, 14.97it/s]"
     ]
    },
    {
     "output_type": "stream",
     "name": "stdout",
     "output_type": "stream",
     "text": [
      "File exists: /dbfs/mnt/raw/DataScientistSDSData/TLSED_test/raw/angola_2015_170.tfrecord.gz, skipping.\nFile exists: /dbfs/mnt/raw/DataScientistSDSData/TLSED_test/raw/angola_2015_171.tfrecord.gz, skipping.\nFile exists: /dbfs/mnt/raw/DataScientistSDSData/TLSED_test/raw/angola_2015_172.tfrecord.gz, skipping.\nFile exists: /dbfs/mnt/raw/DataScientistSDSData/TLSED_test/raw/angola_2015_173.tfrecord.gz, skipping.\n"
     ]
    },
    {
     "output_type": "stream",
     "name": "stderr",
     "output_type": "stream",
     "text": [
      "\rDownloading blobs:  45%|████▌     | 438/969 [00:35<00:35, 15.00it/s]\rDownloading blobs:  45%|████▌     | 440/969 [00:35<00:34, 15.51it/s]"
     ]
    },
    {
     "output_type": "stream",
     "name": "stdout",
     "output_type": "stream",
     "text": [
      "File exists: /dbfs/mnt/raw/DataScientistSDSData/TLSED_test/raw/angola_2015_174.tfrecord.gz, skipping.\nFile exists: /dbfs/mnt/raw/DataScientistSDSData/TLSED_test/raw/angola_2015_175.tfrecord.gz, skipping.\nFile exists: /dbfs/mnt/raw/DataScientistSDSData/TLSED_test/raw/angola_2015_176.tfrecord.gz, skipping.\nFile exists: /dbfs/mnt/raw/DataScientistSDSData/TLSED_test/raw/angola_2015_177.tfrecord.gz, skipping.\n"
     ]
    },
    {
     "output_type": "stream",
     "name": "stderr",
     "output_type": "stream",
     "text": [
      "\rDownloading blobs:  46%|████▌     | 442/969 [00:35<00:31, 16.60it/s]\rDownloading blobs:  46%|████▌     | 444/969 [00:35<00:34, 15.13it/s]"
     ]
    },
    {
     "output_type": "stream",
     "name": "stdout",
     "output_type": "stream",
     "text": [
      "File exists: /dbfs/mnt/raw/DataScientistSDSData/TLSED_test/raw/angola_2015_178.tfrecord.gz, skipping.\nFile exists: /dbfs/mnt/raw/DataScientistSDSData/TLSED_test/raw/angola_2015_179.tfrecord.gz, skipping.\nFile exists: /dbfs/mnt/raw/DataScientistSDSData/TLSED_test/raw/angola_2015_18.tfrecord.gz, skipping.\n"
     ]
    },
    {
     "output_type": "stream",
     "name": "stderr",
     "output_type": "stream",
     "text": [
      "\rDownloading blobs:  46%|████▌     | 446/969 [00:35<00:32, 16.11it/s]\rDownloading blobs:  46%|████▌     | 448/969 [00:35<00:30, 17.01it/s]"
     ]
    },
    {
     "output_type": "stream",
     "name": "stdout",
     "output_type": "stream",
     "text": [
      "File exists: /dbfs/mnt/raw/DataScientistSDSData/TLSED_test/raw/angola_2015_180.tfrecord.gz, skipping.\nFile exists: /dbfs/mnt/raw/DataScientistSDSData/TLSED_test/raw/angola_2015_181.tfrecord.gz, skipping.\nFile exists: /dbfs/mnt/raw/DataScientistSDSData/TLSED_test/raw/angola_2015_182.tfrecord.gz, skipping.\nFile exists: /dbfs/mnt/raw/DataScientistSDSData/TLSED_test/raw/angola_2015_183.tfrecord.gz, skipping.\n"
     ]
    },
    {
     "output_type": "stream",
     "name": "stderr",
     "output_type": "stream",
     "text": [
      "\rDownloading blobs:  46%|████▋     | 450/969 [00:35<00:29, 17.49it/s]"
     ]
    },
    {
     "output_type": "stream",
     "name": "stdout",
     "output_type": "stream",
     "text": [
      "File exists: /dbfs/mnt/raw/DataScientistSDSData/TLSED_test/raw/angola_2015_184.tfrecord.gz, skipping.\nFile exists: /dbfs/mnt/raw/DataScientistSDSData/TLSED_test/raw/angola_2015_185.tfrecord.gz, skipping.\nFile exists: /dbfs/mnt/raw/DataScientistSDSData/TLSED_test/raw/angola_2015_186.tfrecord.gz, skipping.\n"
     ]
    },
    {
     "output_type": "stream",
     "name": "stderr",
     "output_type": "stream",
     "text": [
      "\rDownloading blobs:  47%|████▋     | 452/969 [00:36<00:35, 14.43it/s]\rDownloading blobs:  47%|████▋     | 454/969 [00:36<00:38, 13.34it/s]"
     ]
    },
    {
     "output_type": "stream",
     "name": "stdout",
     "output_type": "stream",
     "text": [
      "File exists: /dbfs/mnt/raw/DataScientistSDSData/TLSED_test/raw/angola_2015_187.tfrecord.gz, skipping.\nFile exists: /dbfs/mnt/raw/DataScientistSDSData/TLSED_test/raw/angola_2015_188.tfrecord.gz, skipping.\nFile exists: /dbfs/mnt/raw/DataScientistSDSData/TLSED_test/raw/angola_2015_189.tfrecord.gz, skipping.\n"
     ]
    },
    {
     "output_type": "stream",
     "name": "stderr",
     "output_type": "stream",
     "text": [
      "\rDownloading blobs:  47%|████▋     | 456/969 [00:36<00:36, 14.19it/s]"
     ]
    },
    {
     "output_type": "stream",
     "name": "stdout",
     "output_type": "stream",
     "text": [
      "File exists: /dbfs/mnt/raw/DataScientistSDSData/TLSED_test/raw/angola_2015_19.tfrecord.gz, skipping.\nFile exists: /dbfs/mnt/raw/DataScientistSDSData/TLSED_test/raw/angola_2015_190.tfrecord.gz, skipping.\nFile exists: /dbfs/mnt/raw/DataScientistSDSData/TLSED_test/raw/angola_2015_191.tfrecord.gz, skipping.\n"
     ]
    },
    {
     "output_type": "stream",
     "name": "stderr",
     "output_type": "stream",
     "text": [
      "\rDownloading blobs:  47%|████▋     | 458/969 [00:36<00:38, 13.27it/s]\rDownloading blobs:  47%|████▋     | 460/969 [00:36<00:35, 14.41it/s]"
     ]
    },
    {
     "output_type": "stream",
     "name": "stdout",
     "output_type": "stream",
     "text": [
      "File exists: /dbfs/mnt/raw/DataScientistSDSData/TLSED_test/raw/angola_2015_192.tfrecord.gz, skipping.\nFile exists: /dbfs/mnt/raw/DataScientistSDSData/TLSED_test/raw/angola_2015_193.tfrecord.gz, skipping.\nFile exists: /dbfs/mnt/raw/DataScientistSDSData/TLSED_test/raw/angola_2015_194.tfrecord.gz, skipping.\nFile exists: /dbfs/mnt/raw/DataScientistSDSData/TLSED_test/raw/angola_2015_195.tfrecord.gz, skipping.\n"
     ]
    },
    {
     "output_type": "stream",
     "name": "stderr",
     "output_type": "stream",
     "text": [
      "\rDownloading blobs:  48%|████▊     | 462/969 [00:36<00:36, 14.03it/s]\rDownloading blobs:  48%|████▊     | 464/969 [00:36<00:35, 14.15it/s]"
     ]
    },
    {
     "output_type": "stream",
     "name": "stdout",
     "output_type": "stream",
     "text": [
      "File exists: /dbfs/mnt/raw/DataScientistSDSData/TLSED_test/raw/angola_2015_196.tfrecord.gz, skipping.\nFile exists: /dbfs/mnt/raw/DataScientistSDSData/TLSED_test/raw/angola_2015_197.tfrecord.gz, skipping.\nFile exists: /dbfs/mnt/raw/DataScientistSDSData/TLSED_test/raw/angola_2015_198.tfrecord.gz, skipping.\n"
     ]
    },
    {
     "output_type": "stream",
     "name": "stderr",
     "output_type": "stream",
     "text": [
      "\rDownloading blobs:  48%|████▊     | 466/969 [00:37<00:35, 14.21it/s]\rDownloading blobs:  48%|████▊     | 468/969 [00:37<00:33, 15.15it/s]"
     ]
    },
    {
     "output_type": "stream",
     "name": "stdout",
     "output_type": "stream",
     "text": [
      "File exists: /dbfs/mnt/raw/DataScientistSDSData/TLSED_test/raw/angola_2015_199.tfrecord.gz, skipping.\nFile exists: /dbfs/mnt/raw/DataScientistSDSData/TLSED_test/raw/angola_2015_20.tfrecord.gz, skipping.\nFile exists: /dbfs/mnt/raw/DataScientistSDSData/TLSED_test/raw/angola_2015_200.tfrecord.gz, skipping.\nFile exists: /dbfs/mnt/raw/DataScientistSDSData/TLSED_test/raw/angola_2015_201.tfrecord.gz, skipping.\n"
     ]
    },
    {
     "output_type": "stream",
     "name": "stderr",
     "output_type": "stream",
     "text": [
      "\rDownloading blobs:  49%|████▊     | 470/969 [00:37<00:32, 15.40it/s]\rDownloading blobs:  49%|████▊     | 472/969 [00:37<00:31, 15.60it/s]"
     ]
    },
    {
     "output_type": "stream",
     "name": "stdout",
     "output_type": "stream",
     "text": [
      "File exists: /dbfs/mnt/raw/DataScientistSDSData/TLSED_test/raw/angola_2015_202.tfrecord.gz, skipping.\nFile exists: /dbfs/mnt/raw/DataScientistSDSData/TLSED_test/raw/angola_2015_203.tfrecord.gz, skipping.\nFile exists: /dbfs/mnt/raw/DataScientistSDSData/TLSED_test/raw/angola_2015_204.tfrecord.gz, skipping.\nFile exists: /dbfs/mnt/raw/DataScientistSDSData/TLSED_test/raw/angola_2015_205.tfrecord.gz, skipping.\n"
     ]
    },
    {
     "output_type": "stream",
     "name": "stderr",
     "output_type": "stream",
     "text": [
      "\rDownloading blobs:  49%|████▉     | 474/969 [00:37<00:31, 15.51it/s]\rDownloading blobs:  49%|████▉     | 476/969 [00:37<00:30, 15.99it/s]"
     ]
    },
    {
     "output_type": "stream",
     "name": "stdout",
     "output_type": "stream",
     "text": [
      "File exists: /dbfs/mnt/raw/DataScientistSDSData/TLSED_test/raw/angola_2015_206.tfrecord.gz, skipping.\nFile exists: /dbfs/mnt/raw/DataScientistSDSData/TLSED_test/raw/angola_2015_207.tfrecord.gz, skipping.\nFile exists: /dbfs/mnt/raw/DataScientistSDSData/TLSED_test/raw/angola_2015_208.tfrecord.gz, skipping.\nFile exists: /dbfs/mnt/raw/DataScientistSDSData/TLSED_test/raw/angola_2015_209.tfrecord.gz, skipping.\n"
     ]
    },
    {
     "output_type": "stream",
     "name": "stderr",
     "output_type": "stream",
     "text": [
      "\rDownloading blobs:  49%|████▉     | 478/969 [00:37<00:29, 16.60it/s]\rDownloading blobs:  50%|████▉     | 480/969 [00:37<00:30, 15.93it/s]"
     ]
    },
    {
     "output_type": "stream",
     "name": "stdout",
     "output_type": "stream",
     "text": [
      "File exists: /dbfs/mnt/raw/DataScientistSDSData/TLSED_test/raw/angola_2015_21.tfrecord.gz, skipping.\nFile exists: /dbfs/mnt/raw/DataScientistSDSData/TLSED_test/raw/angola_2015_210.tfrecord.gz, skipping.\nFile exists: /dbfs/mnt/raw/DataScientistSDSData/TLSED_test/raw/angola_2015_211.tfrecord.gz, skipping.\nFile exists: /dbfs/mnt/raw/DataScientistSDSData/TLSED_test/raw/angola_2015_212.tfrecord.gz, skipping.\n"
     ]
    },
    {
     "output_type": "stream",
     "name": "stderr",
     "output_type": "stream",
     "text": [
      "\rDownloading blobs:  50%|████▉     | 483/969 [00:38<00:28, 16.76it/s]"
     ]
    },
    {
     "output_type": "stream",
     "name": "stdout",
     "output_type": "stream",
     "text": [
      "File exists: /dbfs/mnt/raw/DataScientistSDSData/TLSED_test/raw/angola_2015_213.tfrecord.gz, skipping.\nFile exists: /dbfs/mnt/raw/DataScientistSDSData/TLSED_test/raw/angola_2015_214.tfrecord.gz, skipping.\nFile exists: /dbfs/mnt/raw/DataScientistSDSData/TLSED_test/raw/angola_2015_215.tfrecord.gz, skipping.\nFile exists: /dbfs/mnt/raw/DataScientistSDSData/TLSED_test/raw/angola_2015_216.tfrecord.gz, skipping.\n"
     ]
    },
    {
     "output_type": "stream",
     "name": "stderr",
     "output_type": "stream",
     "text": [
      "\rDownloading blobs:  50%|█████     | 485/969 [00:38<00:33, 14.58it/s]"
     ]
    },
    {
     "output_type": "stream",
     "name": "stdout",
     "output_type": "stream",
     "text": [
      "File exists: /dbfs/mnt/raw/DataScientistSDSData/TLSED_test/raw/angola_2015_217.tfrecord.gz, skipping.\nFile exists: /dbfs/mnt/raw/DataScientistSDSData/TLSED_test/raw/angola_2015_218.tfrecord.gz, skipping.\n"
     ]
    },
    {
     "output_type": "stream",
     "name": "stderr",
     "output_type": "stream",
     "text": [
      "\rDownloading blobs:  50%|█████     | 487/969 [00:38<00:38, 12.45it/s]\rDownloading blobs:  50%|█████     | 489/969 [00:38<00:35, 13.64it/s]"
     ]
    },
    {
     "output_type": "stream",
     "name": "stdout",
     "output_type": "stream",
     "text": [
      "File exists: /dbfs/mnt/raw/DataScientistSDSData/TLSED_test/raw/angola_2015_219.tfrecord.gz, skipping.\nFile exists: /dbfs/mnt/raw/DataScientistSDSData/TLSED_test/raw/angola_2015_22.tfrecord.gz, skipping.\nFile exists: /dbfs/mnt/raw/DataScientistSDSData/TLSED_test/raw/angola_2015_220.tfrecord.gz, skipping.\n"
     ]
    },
    {
     "output_type": "stream",
     "name": "stderr",
     "output_type": "stream",
     "text": [
      "\rDownloading blobs:  51%|█████     | 491/969 [00:38<00:38, 12.33it/s]"
     ]
    },
    {
     "output_type": "stream",
     "name": "stdout",
     "output_type": "stream",
     "text": [
      "File exists: /dbfs/mnt/raw/DataScientistSDSData/TLSED_test/raw/angola_2015_221.tfrecord.gz, skipping.\nFile exists: /dbfs/mnt/raw/DataScientistSDSData/TLSED_test/raw/angola_2015_222.tfrecord.gz, skipping.\nFile exists: /dbfs/mnt/raw/DataScientistSDSData/TLSED_test/raw/angola_2015_223.tfrecord.gz, skipping.\n"
     ]
    },
    {
     "output_type": "stream",
     "name": "stderr",
     "output_type": "stream",
     "text": [
      "\rDownloading blobs:  51%|█████     | 493/969 [00:38<00:35, 13.47it/s]"
     ]
    },
    {
     "output_type": "stream",
     "name": "stdout",
     "output_type": "stream",
     "text": [
      "File exists: /dbfs/mnt/raw/DataScientistSDSData/TLSED_test/raw/angola_2015_224.tfrecord.gz, skipping.\nFile exists: /dbfs/mnt/raw/DataScientistSDSData/TLSED_test/raw/angola_2015_225.tfrecord.gz, skipping.\n"
     ]
    },
    {
     "output_type": "stream",
     "name": "stderr",
     "output_type": "stream",
     "text": [
      "\rDownloading blobs:  51%|█████     | 495/969 [00:39<00:44, 10.76it/s]"
     ]
    },
    {
     "output_type": "stream",
     "name": "stdout",
     "output_type": "stream",
     "text": [
      "File exists: /dbfs/mnt/raw/DataScientistSDSData/TLSED_test/raw/angola_2015_226.tfrecord.gz, skipping.\nFile exists: /dbfs/mnt/raw/DataScientistSDSData/TLSED_test/raw/angola_2015_227.tfrecord.gz, skipping.\n"
     ]
    },
    {
     "output_type": "stream",
     "name": "stderr",
     "output_type": "stream",
     "text": [
      "\rDownloading blobs:  51%|█████▏    | 497/969 [00:40<01:53,  4.16it/s]\rDownloading blobs:  51%|█████▏    | 498/969 [00:40<01:46,  4.44it/s]"
     ]
    },
    {
     "output_type": "stream",
     "name": "stdout",
     "output_type": "stream",
     "text": [
      "File exists: /dbfs/mnt/raw/DataScientistSDSData/TLSED_test/raw/angola_2015_228.tfrecord.gz, skipping.\nFile exists: /dbfs/mnt/raw/DataScientistSDSData/TLSED_test/raw/angola_2015_229.tfrecord.gz, skipping.\n"
     ]
    },
    {
     "output_type": "stream",
     "name": "stderr",
     "output_type": "stream",
     "text": [
      "\rDownloading blobs:  52%|█████▏    | 500/969 [00:40<01:18,  5.94it/s]\rDownloading blobs:  52%|█████▏    | 502/969 [00:40<01:04,  7.21it/s]"
     ]
    },
    {
     "output_type": "stream",
     "name": "stdout",
     "output_type": "stream",
     "text": [
      "File exists: /dbfs/mnt/raw/DataScientistSDSData/TLSED_test/raw/angola_2015_23.tfrecord.gz, skipping.\nFile exists: /dbfs/mnt/raw/DataScientistSDSData/TLSED_test/raw/angola_2015_230.tfrecord.gz, skipping.\nFile exists: /dbfs/mnt/raw/DataScientistSDSData/TLSED_test/raw/angola_2015_231.tfrecord.gz, skipping.\nFile exists: /dbfs/mnt/raw/DataScientistSDSData/TLSED_test/raw/angola_2015_232.tfrecord.gz, skipping.\n"
     ]
    },
    {
     "output_type": "stream",
     "name": "stderr",
     "output_type": "stream",
     "text": [
      "\rDownloading blobs:  52%|█████▏    | 504/969 [00:40<00:53,  8.71it/s]\rDownloading blobs:  52%|█████▏    | 506/969 [00:41<00:45, 10.23it/s]"
     ]
    },
    {
     "output_type": "stream",
     "name": "stdout",
     "output_type": "stream",
     "text": [
      "File exists: /dbfs/mnt/raw/DataScientistSDSData/TLSED_test/raw/angola_2015_233.tfrecord.gz, skipping.\nFile exists: /dbfs/mnt/raw/DataScientistSDSData/TLSED_test/raw/angola_2015_234.tfrecord.gz, skipping.\nFile exists: /dbfs/mnt/raw/DataScientistSDSData/TLSED_test/raw/angola_2015_235.tfrecord.gz, skipping.\nFile exists: /dbfs/mnt/raw/DataScientistSDSData/TLSED_test/raw/angola_2015_236.tfrecord.gz, skipping.\n"
     ]
    },
    {
     "output_type": "stream",
     "name": "stderr",
     "output_type": "stream",
     "text": [
      "\rDownloading blobs:  52%|█████▏    | 508/969 [00:41<00:38, 11.87it/s]\rDownloading blobs:  53%|█████▎    | 510/969 [00:41<00:36, 12.67it/s]"
     ]
    },
    {
     "output_type": "stream",
     "name": "stdout",
     "output_type": "stream",
     "text": [
      "File exists: /dbfs/mnt/raw/DataScientistSDSData/TLSED_test/raw/angola_2015_237.tfrecord.gz, skipping.\nFile exists: /dbfs/mnt/raw/DataScientistSDSData/TLSED_test/raw/angola_2015_238.tfrecord.gz, skipping.\nFile exists: /dbfs/mnt/raw/DataScientistSDSData/TLSED_test/raw/angola_2015_239.tfrecord.gz, skipping.\nFile exists: /dbfs/mnt/raw/DataScientistSDSData/TLSED_test/raw/angola_2015_24.tfrecord.gz, skipping.\n"
     ]
    },
    {
     "output_type": "stream",
     "name": "stderr",
     "output_type": "stream",
     "text": [
      "\rDownloading blobs:  53%|█████▎    | 512/969 [00:41<00:32, 13.88it/s]"
     ]
    },
    {
     "output_type": "stream",
     "name": "stdout",
     "output_type": "stream",
     "text": [
      "File exists: /dbfs/mnt/raw/DataScientistSDSData/TLSED_test/raw/angola_2015_240.tfrecord.gz, skipping.\nFile exists: /dbfs/mnt/raw/DataScientistSDSData/TLSED_test/raw/angola_2015_241.tfrecord.gz, skipping.\nFile exists: /dbfs/mnt/raw/DataScientistSDSData/TLSED_test/raw/angola_2015_242.tfrecord.gz, skipping.\n"
     ]
    },
    {
     "output_type": "stream",
     "name": "stderr",
     "output_type": "stream",
     "text": [
      "\rDownloading blobs:  53%|█████▎    | 514/969 [00:41<00:33, 13.49it/s]\rDownloading blobs:  53%|█████▎    | 516/969 [00:41<00:30, 14.77it/s]"
     ]
    },
    {
     "output_type": "stream",
     "name": "stdout",
     "output_type": "stream",
     "text": [
      "File exists: /dbfs/mnt/raw/DataScientistSDSData/TLSED_test/raw/angola_2015_243.tfrecord.gz, skipping.\nFile exists: /dbfs/mnt/raw/DataScientistSDSData/TLSED_test/raw/angola_2015_244.tfrecord.gz, skipping.\nFile exists: /dbfs/mnt/raw/DataScientistSDSData/TLSED_test/raw/angola_2015_245.tfrecord.gz, skipping.\nFile exists: /dbfs/mnt/raw/DataScientistSDSData/TLSED_test/raw/angola_2015_246.tfrecord.gz, skipping.\n"
     ]
    },
    {
     "output_type": "stream",
     "name": "stderr",
     "output_type": "stream",
     "text": [
      "\rDownloading blobs:  53%|█████▎    | 518/969 [00:41<00:30, 14.61it/s]\rDownloading blobs:  54%|█████▎    | 520/969 [00:41<00:28, 15.78it/s]"
     ]
    },
    {
     "output_type": "stream",
     "name": "stdout",
     "output_type": "stream",
     "text": [
      "File exists: /dbfs/mnt/raw/DataScientistSDSData/TLSED_test/raw/angola_2015_247.tfrecord.gz, skipping.\nFile exists: /dbfs/mnt/raw/DataScientistSDSData/TLSED_test/raw/angola_2015_248.tfrecord.gz, skipping.\nFile exists: /dbfs/mnt/raw/DataScientistSDSData/TLSED_test/raw/angola_2015_249.tfrecord.gz, skipping.\n"
     ]
    },
    {
     "output_type": "stream",
     "name": "stderr",
     "output_type": "stream",
     "text": [
      "\rDownloading blobs:  54%|█████▍    | 522/969 [00:42<00:32, 13.78it/s]"
     ]
    },
    {
     "output_type": "stream",
     "name": "stdout",
     "output_type": "stream",
     "text": [
      "File exists: /dbfs/mnt/raw/DataScientistSDSData/TLSED_test/raw/angola_2015_25.tfrecord.gz, skipping.\nFile exists: /dbfs/mnt/raw/DataScientistSDSData/TLSED_test/raw/angola_2015_250.tfrecord.gz, skipping.\nFile exists: /dbfs/mnt/raw/DataScientistSDSData/TLSED_test/raw/angola_2015_251.tfrecord.gz, skipping.\n"
     ]
    },
    {
     "output_type": "stream",
     "name": "stderr",
     "output_type": "stream",
     "text": [
      "\rDownloading blobs:  54%|█████▍    | 524/969 [00:42<00:30, 14.49it/s]\rDownloading blobs:  54%|█████▍    | 526/969 [00:42<00:31, 14.10it/s]"
     ]
    },
    {
     "output_type": "stream",
     "name": "stdout",
     "output_type": "stream",
     "text": [
      "File exists: /dbfs/mnt/raw/DataScientistSDSData/TLSED_test/raw/angola_2015_252.tfrecord.gz, skipping.\nFile exists: /dbfs/mnt/raw/DataScientistSDSData/TLSED_test/raw/angola_2015_253.tfrecord.gz, skipping.\nFile exists: /dbfs/mnt/raw/DataScientistSDSData/TLSED_test/raw/angola_2015_254.tfrecord.gz, skipping.\nFile exists: /dbfs/mnt/raw/DataScientistSDSData/TLSED_test/raw/angola_2015_255.tfrecord.gz, skipping.\n"
     ]
    },
    {
     "output_type": "stream",
     "name": "stderr",
     "output_type": "stream",
     "text": [
      "\rDownloading blobs:  55%|█████▍    | 529/969 [00:42<00:27, 15.87it/s]"
     ]
    },
    {
     "output_type": "stream",
     "name": "stdout",
     "output_type": "stream",
     "text": [
      "File exists: /dbfs/mnt/raw/DataScientistSDSData/TLSED_test/raw/angola_2015_256.tfrecord.gz, skipping.\nFile exists: /dbfs/mnt/raw/DataScientistSDSData/TLSED_test/raw/angola_2015_257.tfrecord.gz, skipping.\nFile exists: /dbfs/mnt/raw/DataScientistSDSData/TLSED_test/raw/angola_2015_258.tfrecord.gz, skipping.\n"
     ]
    },
    {
     "output_type": "stream",
     "name": "stderr",
     "output_type": "stream",
     "text": [
      "\rDownloading blobs:  55%|█████▍    | 531/969 [00:42<00:30, 14.48it/s]\rDownloading blobs:  55%|█████▌    | 533/969 [00:42<00:31, 13.74it/s]"
     ]
    },
    {
     "output_type": "stream",
     "name": "stdout",
     "output_type": "stream",
     "text": [
      "File exists: /dbfs/mnt/raw/DataScientistSDSData/TLSED_test/raw/angola_2015_259.tfrecord.gz, skipping.\nFile exists: /dbfs/mnt/raw/DataScientistSDSData/TLSED_test/raw/angola_2015_26.tfrecord.gz, skipping.\nFile exists: /dbfs/mnt/raw/DataScientistSDSData/TLSED_test/raw/angola_2015_260.tfrecord.gz, skipping.\n"
     ]
    },
    {
     "output_type": "stream",
     "name": "stderr",
     "output_type": "stream",
     "text": [
      "\rDownloading blobs:  55%|█████▌    | 535/969 [00:42<00:30, 14.06it/s]"
     ]
    },
    {
     "output_type": "stream",
     "name": "stdout",
     "output_type": "stream",
     "text": [
      "File exists: /dbfs/mnt/raw/DataScientistSDSData/TLSED_test/raw/angola_2015_261.tfrecord.gz, skipping.\nFile exists: /dbfs/mnt/raw/DataScientistSDSData/TLSED_test/raw/angola_2015_262.tfrecord.gz, skipping.\nFile exists: /dbfs/mnt/raw/DataScientistSDSData/TLSED_test/raw/angola_2015_263.tfrecord.gz, skipping.\n"
     ]
    },
    {
     "output_type": "stream",
     "name": "stderr",
     "output_type": "stream",
     "text": [
      "\rDownloading blobs:  55%|█████▌    | 537/969 [00:43<00:29, 14.42it/s]\rDownloading blobs:  56%|█████▌    | 539/969 [00:43<00:29, 14.59it/s]"
     ]
    },
    {
     "output_type": "stream",
     "name": "stdout",
     "output_type": "stream",
     "text": [
      "File exists: /dbfs/mnt/raw/DataScientistSDSData/TLSED_test/raw/angola_2015_264.tfrecord.gz, skipping.\nFile exists: /dbfs/mnt/raw/DataScientistSDSData/TLSED_test/raw/angola_2015_265.tfrecord.gz, skipping.\nFile exists: /dbfs/mnt/raw/DataScientistSDSData/TLSED_test/raw/angola_2015_266.tfrecord.gz, skipping.\n"
     ]
    },
    {
     "output_type": "stream",
     "name": "stderr",
     "output_type": "stream",
     "text": [
      "\rDownloading blobs:  56%|█████▌    | 541/969 [00:43<00:28, 15.07it/s]\rDownloading blobs:  56%|█████▌    | 543/969 [00:43<00:27, 15.53it/s]"
     ]
    },
    {
     "output_type": "stream",
     "name": "stdout",
     "output_type": "stream",
     "text": [
      "File exists: /dbfs/mnt/raw/DataScientistSDSData/TLSED_test/raw/angola_2015_267.tfrecord.gz, skipping.\nFile exists: /dbfs/mnt/raw/DataScientistSDSData/TLSED_test/raw/angola_2015_268.tfrecord.gz, skipping.\nFile exists: /dbfs/mnt/raw/DataScientistSDSData/TLSED_test/raw/angola_2015_269.tfrecord.gz, skipping.\nFile exists: /dbfs/mnt/raw/DataScientistSDSData/TLSED_test/raw/angola_2015_27.tfrecord.gz, skipping.\n"
     ]
    },
    {
     "output_type": "stream",
     "name": "stderr",
     "output_type": "stream",
     "text": [
      "\rDownloading blobs:  56%|█████▌    | 545/969 [00:43<00:26, 16.05it/s]"
     ]
    },
    {
     "output_type": "stream",
     "name": "stdout",
     "output_type": "stream",
     "text": [
      "File exists: /dbfs/mnt/raw/DataScientistSDSData/TLSED_test/raw/angola_2015_270.tfrecord.gz, skipping.\nFile exists: /dbfs/mnt/raw/DataScientistSDSData/TLSED_test/raw/angola_2015_271.tfrecord.gz, skipping.\nFile exists: /dbfs/mnt/raw/DataScientistSDSData/TLSED_test/raw/angola_2015_272.tfrecord.gz, skipping.\n"
     ]
    },
    {
     "output_type": "stream",
     "name": "stderr",
     "output_type": "stream",
     "text": [
      "\rDownloading blobs:  56%|█████▋    | 547/969 [00:43<00:28, 15.04it/s]\rDownloading blobs:  57%|█████▋    | 549/969 [00:43<00:30, 13.97it/s]"
     ]
    },
    {
     "output_type": "stream",
     "name": "stdout",
     "output_type": "stream",
     "text": [
      "File exists: /dbfs/mnt/raw/DataScientistSDSData/TLSED_test/raw/angola_2015_273.tfrecord.gz, skipping.\nFile exists: /dbfs/mnt/raw/DataScientistSDSData/TLSED_test/raw/angola_2015_274.tfrecord.gz, skipping.\nFile exists: /dbfs/mnt/raw/DataScientistSDSData/TLSED_test/raw/angola_2015_275.tfrecord.gz, skipping.\n"
     ]
    },
    {
     "output_type": "stream",
     "name": "stderr",
     "output_type": "stream",
     "text": [
      "\rDownloading blobs:  57%|█████▋    | 551/969 [00:44<00:32, 12.98it/s]"
     ]
    },
    {
     "output_type": "stream",
     "name": "stdout",
     "output_type": "stream",
     "text": [
      "File exists: /dbfs/mnt/raw/DataScientistSDSData/TLSED_test/raw/angola_2015_276.tfrecord.gz, skipping.\nFile exists: /dbfs/mnt/raw/DataScientistSDSData/TLSED_test/raw/angola_2015_277.tfrecord.gz, skipping.\nFile exists: /dbfs/mnt/raw/DataScientistSDSData/TLSED_test/raw/angola_2015_278.tfrecord.gz, skipping.\n"
     ]
    },
    {
     "output_type": "stream",
     "name": "stderr",
     "output_type": "stream",
     "text": [
      "\rDownloading blobs:  57%|█████▋    | 553/969 [00:44<00:31, 13.39it/s]\rDownloading blobs:  57%|█████▋    | 555/969 [00:44<00:30, 13.74it/s]"
     ]
    },
    {
     "output_type": "stream",
     "name": "stdout",
     "output_type": "stream",
     "text": [
      "File exists: /dbfs/mnt/raw/DataScientistSDSData/TLSED_test/raw/angola_2015_279.tfrecord.gz, skipping.\nFile exists: /dbfs/mnt/raw/DataScientistSDSData/TLSED_test/raw/angola_2015_28.tfrecord.gz, skipping.\nFile exists: /dbfs/mnt/raw/DataScientistSDSData/TLSED_test/raw/angola_2015_280.tfrecord.gz, skipping.\nFile exists: /dbfs/mnt/raw/DataScientistSDSData/TLSED_test/raw/angola_2015_281.tfrecord.gz, skipping.\n"
     ]
    },
    {
     "output_type": "stream",
     "name": "stderr",
     "output_type": "stream",
     "text": [
      "\rDownloading blobs:  57%|█████▋    | 557/969 [00:44<00:27, 15.11it/s]\rDownloading blobs:  58%|█████▊    | 559/969 [00:44<00:26, 15.47it/s]"
     ]
    },
    {
     "output_type": "stream",
     "name": "stdout",
     "output_type": "stream",
     "text": [
      "File exists: /dbfs/mnt/raw/DataScientistSDSData/TLSED_test/raw/angola_2015_282.tfrecord.gz, skipping.\nFile exists: /dbfs/mnt/raw/DataScientistSDSData/TLSED_test/raw/angola_2015_283.tfrecord.gz, skipping.\nFile exists: /dbfs/mnt/raw/DataScientistSDSData/TLSED_test/raw/angola_2015_284.tfrecord.gz, skipping.\n"
     ]
    },
    {
     "output_type": "stream",
     "name": "stderr",
     "output_type": "stream",
     "text": [
      "\rDownloading blobs:  58%|█████▊    | 561/969 [00:44<00:27, 15.00it/s]\rDownloading blobs:  58%|█████▊    | 563/969 [00:44<00:26, 15.54it/s]"
     ]
    },
    {
     "output_type": "stream",
     "name": "stdout",
     "output_type": "stream",
     "text": [
      "File exists: /dbfs/mnt/raw/DataScientistSDSData/TLSED_test/raw/angola_2015_285.tfrecord.gz, skipping.\nFile exists: /dbfs/mnt/raw/DataScientistSDSData/TLSED_test/raw/angola_2015_286.tfrecord.gz, skipping.\nFile exists: /dbfs/mnt/raw/DataScientistSDSData/TLSED_test/raw/angola_2015_287.tfrecord.gz, skipping.\nFile exists: /dbfs/mnt/raw/DataScientistSDSData/TLSED_test/raw/angola_2015_288.tfrecord.gz, skipping.\n"
     ]
    },
    {
     "output_type": "stream",
     "name": "stderr",
     "output_type": "stream",
     "text": [
      "\rDownloading blobs:  58%|█████▊    | 565/969 [00:44<00:25, 16.02it/s]"
     ]
    },
    {
     "output_type": "stream",
     "name": "stdout",
     "output_type": "stream",
     "text": [
      "File exists: /dbfs/mnt/raw/DataScientistSDSData/TLSED_test/raw/angola_2015_289.tfrecord.gz, skipping.\nFile exists: /dbfs/mnt/raw/DataScientistSDSData/TLSED_test/raw/angola_2015_29.tfrecord.gz, skipping.\nFile exists: /dbfs/mnt/raw/DataScientistSDSData/TLSED_test/raw/angola_2015_290.tfrecord.gz, skipping.\nFile exists: /dbfs/mnt/raw/DataScientistSDSData/TLSED_test/raw/angola_2015_291.tfrecord.gz, skipping.\n"
     ]
    },
    {
     "output_type": "stream",
     "name": "stderr",
     "output_type": "stream",
     "text": [
      "\rDownloading blobs:  59%|█████▊    | 568/969 [00:45<00:23, 17.42it/s]\rDownloading blobs:  59%|█████▉    | 570/969 [00:45<00:22, 17.40it/s]"
     ]
    },
    {
     "output_type": "stream",
     "name": "stdout",
     "output_type": "stream",
     "text": [
      "File exists: /dbfs/mnt/raw/DataScientistSDSData/TLSED_test/raw/angola_2015_292.tfrecord.gz, skipping.\nFile exists: /dbfs/mnt/raw/DataScientistSDSData/TLSED_test/raw/angola_2015_293.tfrecord.gz, skipping.\nFile exists: /dbfs/mnt/raw/DataScientistSDSData/TLSED_test/raw/angola_2015_294.tfrecord.gz, skipping.\nFile exists: /dbfs/mnt/raw/DataScientistSDSData/TLSED_test/raw/angola_2015_295.tfrecord.gz, skipping.\n"
     ]
    },
    {
     "output_type": "stream",
     "name": "stderr",
     "output_type": "stream",
     "text": [
      "\rDownloading blobs:  59%|█████▉    | 573/969 [00:45<00:24, 16.31it/s]"
     ]
    },
    {
     "output_type": "stream",
     "name": "stdout",
     "output_type": "stream",
     "text": [
      "File exists: /dbfs/mnt/raw/DataScientistSDSData/TLSED_test/raw/angola_2015_296.tfrecord.gz, skipping.\nFile exists: /dbfs/mnt/raw/DataScientistSDSData/TLSED_test/raw/angola_2015_297.tfrecord.gz, skipping.\nFile exists: /dbfs/mnt/raw/DataScientistSDSData/TLSED_test/raw/angola_2015_298.tfrecord.gz, skipping.\n"
     ]
    },
    {
     "output_type": "stream",
     "name": "stderr",
     "output_type": "stream",
     "text": [
      "\rDownloading blobs:  59%|█████▉    | 575/969 [00:45<00:23, 16.54it/s]\rDownloading blobs:  60%|█████▉    | 577/969 [00:45<00:23, 16.50it/s]"
     ]
    },
    {
     "output_type": "stream",
     "name": "stdout",
     "output_type": "stream",
     "text": [
      "File exists: /dbfs/mnt/raw/DataScientistSDSData/TLSED_test/raw/angola_2015_299.tfrecord.gz, skipping.\nFile exists: /dbfs/mnt/raw/DataScientistSDSData/TLSED_test/raw/angola_2015_30.tfrecord.gz, skipping.\nFile exists: /dbfs/mnt/raw/DataScientistSDSData/TLSED_test/raw/angola_2015_300.tfrecord.gz, skipping.\n"
     ]
    },
    {
     "output_type": "stream",
     "name": "stderr",
     "output_type": "stream",
     "text": [
      "\rDownloading blobs:  60%|█████▉    | 579/969 [00:45<00:24, 15.86it/s]\rDownloading blobs:  60%|█████▉    | 581/969 [00:45<00:23, 16.17it/s]"
     ]
    },
    {
     "output_type": "stream",
     "name": "stdout",
     "output_type": "stream",
     "text": [
      "File exists: /dbfs/mnt/raw/DataScientistSDSData/TLSED_test/raw/angola_2015_301.tfrecord.gz, skipping.\nFile exists: /dbfs/mnt/raw/DataScientistSDSData/TLSED_test/raw/angola_2015_302.tfrecord.gz, skipping.\nFile exists: /dbfs/mnt/raw/DataScientistSDSData/TLSED_test/raw/angola_2015_303.tfrecord.gz, skipping.\nFile exists: /dbfs/mnt/raw/DataScientistSDSData/TLSED_test/raw/angola_2015_304.tfrecord.gz, skipping.\n"
     ]
    },
    {
     "output_type": "stream",
     "name": "stderr",
     "output_type": "stream",
     "text": [
      "\rDownloading blobs:  60%|██████    | 583/969 [00:46<00:27, 13.86it/s]"
     ]
    },
    {
     "output_type": "stream",
     "name": "stdout",
     "output_type": "stream",
     "text": [
      "File exists: /dbfs/mnt/raw/DataScientistSDSData/TLSED_test/raw/angola_2015_305.tfrecord.gz, skipping.\nFile exists: /dbfs/mnt/raw/DataScientistSDSData/TLSED_test/raw/angola_2015_306.tfrecord.gz, skipping.\nFile exists: /dbfs/mnt/raw/DataScientistSDSData/TLSED_test/raw/angola_2015_307.tfrecord.gz, skipping.\nFile exists: /dbfs/mnt/raw/DataScientistSDSData/TLSED_test/raw/angola_2015_308.tfrecord.gz, skipping.\n"
     ]
    },
    {
     "output_type": "stream",
     "name": "stderr",
     "output_type": "stream",
     "text": [
      "\rDownloading blobs:  60%|██████    | 586/969 [00:46<00:24, 15.87it/s]\rDownloading blobs:  61%|██████    | 588/969 [00:46<00:23, 16.27it/s]"
     ]
    },
    {
     "output_type": "stream",
     "name": "stdout",
     "output_type": "stream",
     "text": [
      "File exists: /dbfs/mnt/raw/DataScientistSDSData/TLSED_test/raw/angola_2015_309.tfrecord.gz, skipping.\nFile exists: /dbfs/mnt/raw/DataScientistSDSData/TLSED_test/raw/angola_2015_31.tfrecord.gz, skipping.\nFile exists: /dbfs/mnt/raw/DataScientistSDSData/TLSED_test/raw/angola_2015_310.tfrecord.gz, skipping.\nFile exists: /dbfs/mnt/raw/DataScientistSDSData/TLSED_test/raw/angola_2015_311.tfrecord.gz, skipping.\n"
     ]
    },
    {
     "output_type": "stream",
     "name": "stderr",
     "output_type": "stream",
     "text": [
      "\rDownloading blobs:  61%|██████    | 590/969 [00:46<00:27, 13.95it/s]\rDownloading blobs:  61%|██████    | 592/969 [00:46<00:25, 14.83it/s]"
     ]
    },
    {
     "output_type": "stream",
     "name": "stdout",
     "output_type": "stream",
     "text": [
      "File exists: /dbfs/mnt/raw/DataScientistSDSData/TLSED_test/raw/angola_2015_312.tfrecord.gz, skipping.\nFile exists: /dbfs/mnt/raw/DataScientistSDSData/TLSED_test/raw/angola_2015_313.tfrecord.gz, skipping.\nFile exists: /dbfs/mnt/raw/DataScientistSDSData/TLSED_test/raw/angola_2015_314.tfrecord.gz, skipping.\nFile exists: /dbfs/mnt/raw/DataScientistSDSData/TLSED_test/raw/angola_2015_315.tfrecord.gz, skipping.\n"
     ]
    },
    {
     "output_type": "stream",
     "name": "stderr",
     "output_type": "stream",
     "text": [
      "\rDownloading blobs:  61%|██████▏   | 594/969 [00:46<00:25, 14.51it/s]\rDownloading blobs:  62%|██████▏   | 596/969 [00:46<00:24, 15.46it/s]"
     ]
    },
    {
     "output_type": "stream",
     "name": "stdout",
     "output_type": "stream",
     "text": [
      "File exists: /dbfs/mnt/raw/DataScientistSDSData/TLSED_test/raw/angola_2015_32.tfrecord.gz, skipping.\nFile exists: /dbfs/mnt/raw/DataScientistSDSData/TLSED_test/raw/angola_2015_33.tfrecord.gz, skipping.\nFile exists: /dbfs/mnt/raw/DataScientistSDSData/TLSED_test/raw/angola_2015_34.tfrecord.gz, skipping.\nFile exists: /dbfs/mnt/raw/DataScientistSDSData/TLSED_test/raw/angola_2015_35.tfrecord.gz, skipping.\n"
     ]
    },
    {
     "output_type": "stream",
     "name": "stderr",
     "output_type": "stream",
     "text": [
      "\rDownloading blobs:  62%|██████▏   | 598/969 [00:47<00:22, 16.30it/s]\rDownloading blobs:  62%|██████▏   | 600/969 [00:47<00:23, 15.39it/s]"
     ]
    },
    {
     "output_type": "stream",
     "name": "stdout",
     "output_type": "stream",
     "text": [
      "File exists: /dbfs/mnt/raw/DataScientistSDSData/TLSED_test/raw/angola_2015_36.tfrecord.gz, skipping.\nFile exists: /dbfs/mnt/raw/DataScientistSDSData/TLSED_test/raw/angola_2015_37.tfrecord.gz, skipping.\nFile exists: /dbfs/mnt/raw/DataScientistSDSData/TLSED_test/raw/angola_2015_38.tfrecord.gz, skipping.\nFile exists: /dbfs/mnt/raw/DataScientistSDSData/TLSED_test/raw/angola_2015_39.tfrecord.gz, skipping.\n"
     ]
    },
    {
     "output_type": "stream",
     "name": "stderr",
     "output_type": "stream",
     "text": [
      "\rDownloading blobs:  62%|██████▏   | 602/969 [00:47<00:23, 15.63it/s]\rDownloading blobs:  62%|██████▏   | 604/969 [00:47<00:24, 14.90it/s]"
     ]
    },
    {
     "output_type": "stream",
     "name": "stdout",
     "output_type": "stream",
     "text": [
      "File exists: /dbfs/mnt/raw/DataScientistSDSData/TLSED_test/raw/angola_2015_40.tfrecord.gz, skipping.\nFile exists: /dbfs/mnt/raw/DataScientistSDSData/TLSED_test/raw/angola_2015_41.tfrecord.gz, skipping.\nFile exists: /dbfs/mnt/raw/DataScientistSDSData/TLSED_test/raw/angola_2015_42.tfrecord.gz, skipping.\n"
     ]
    },
    {
     "output_type": "stream",
     "name": "stderr",
     "output_type": "stream",
     "text": [
      "\rDownloading blobs:  63%|██████▎   | 606/969 [00:47<00:24, 14.81it/s]\rDownloading blobs:  63%|██████▎   | 608/969 [00:47<00:23, 15.46it/s]"
     ]
    },
    {
     "output_type": "stream",
     "name": "stdout",
     "output_type": "stream",
     "text": [
      "File exists: /dbfs/mnt/raw/DataScientistSDSData/TLSED_test/raw/angola_2015_43.tfrecord.gz, skipping.\nFile exists: /dbfs/mnt/raw/DataScientistSDSData/TLSED_test/raw/angola_2015_44.tfrecord.gz, skipping.\nFile exists: /dbfs/mnt/raw/DataScientistSDSData/TLSED_test/raw/angola_2015_45.tfrecord.gz, skipping.\nFile exists: /dbfs/mnt/raw/DataScientistSDSData/TLSED_test/raw/angola_2015_46.tfrecord.gz, skipping.\n"
     ]
    },
    {
     "output_type": "stream",
     "name": "stderr",
     "output_type": "stream",
     "text": [
      "\rDownloading blobs:  63%|██████▎   | 610/969 [00:47<00:23, 14.98it/s]\rDownloading blobs:  63%|██████▎   | 612/969 [00:48<00:23, 15.46it/s]"
     ]
    },
    {
     "output_type": "stream",
     "name": "stdout",
     "output_type": "stream",
     "text": [
      "File exists: /dbfs/mnt/raw/DataScientistSDSData/TLSED_test/raw/angola_2015_47.tfrecord.gz, skipping.\nFile exists: /dbfs/mnt/raw/DataScientistSDSData/TLSED_test/raw/angola_2015_48.tfrecord.gz, skipping.\nFile exists: /dbfs/mnt/raw/DataScientistSDSData/TLSED_test/raw/angola_2015_49.tfrecord.gz, skipping.\nFile exists: /dbfs/mnt/raw/DataScientistSDSData/TLSED_test/raw/angola_2015_50.tfrecord.gz, skipping.\n"
     ]
    },
    {
     "output_type": "stream",
     "name": "stderr",
     "output_type": "stream",
     "text": [
      "\rDownloading blobs:  63%|██████▎   | 614/969 [00:48<00:24, 14.30it/s]\rDownloading blobs:  64%|██████▎   | 616/969 [00:48<00:22, 15.42it/s]"
     ]
    },
    {
     "output_type": "stream",
     "name": "stdout",
     "output_type": "stream",
     "text": [
      "File exists: /dbfs/mnt/raw/DataScientistSDSData/TLSED_test/raw/angola_2015_51.tfrecord.gz, skipping.\nFile exists: /dbfs/mnt/raw/DataScientistSDSData/TLSED_test/raw/angola_2015_52.tfrecord.gz, skipping.\nFile exists: /dbfs/mnt/raw/DataScientistSDSData/TLSED_test/raw/angola_2015_53.tfrecord.gz, skipping.\nFile exists: /dbfs/mnt/raw/DataScientistSDSData/TLSED_test/raw/angola_2015_54.tfrecord.gz, skipping.\n"
     ]
    },
    {
     "output_type": "stream",
     "name": "stderr",
     "output_type": "stream",
     "text": [
      "\rDownloading blobs:  64%|██████▍   | 618/969 [00:48<00:21, 16.22it/s]"
     ]
    },
    {
     "output_type": "stream",
     "name": "stdout",
     "output_type": "stream",
     "text": [
      "File exists: /dbfs/mnt/raw/DataScientistSDSData/TLSED_test/raw/angola_2015_55.tfrecord.gz, skipping.\nFile exists: /dbfs/mnt/raw/DataScientistSDSData/TLSED_test/raw/angola_2015_56.tfrecord.gz, skipping.\nFile exists: /dbfs/mnt/raw/DataScientistSDSData/TLSED_test/raw/angola_2015_57.tfrecord.gz, skipping.\nFile exists: /dbfs/mnt/raw/DataScientistSDSData/TLSED_test/raw/angola_2015_58.tfrecord.gz, skipping.\n"
     ]
    },
    {
     "output_type": "stream",
     "name": "stderr",
     "output_type": "stream",
     "text": [
      "\rDownloading blobs:  64%|██████▍   | 621/969 [00:48<00:20, 17.07it/s]\rDownloading blobs:  64%|██████▍   | 623/969 [00:48<00:22, 15.27it/s]"
     ]
    },
    {
     "output_type": "stream",
     "name": "stdout",
     "output_type": "stream",
     "text": [
      "File exists: /dbfs/mnt/raw/DataScientistSDSData/TLSED_test/raw/angola_2015_59.tfrecord.gz, skipping.\nFile exists: /dbfs/mnt/raw/DataScientistSDSData/TLSED_test/raw/angola_2015_60.tfrecord.gz, skipping.\nFile exists: /dbfs/mnt/raw/DataScientistSDSData/TLSED_test/raw/angola_2015_61.tfrecord.gz, skipping.\n"
     ]
    },
    {
     "output_type": "stream",
     "name": "stderr",
     "output_type": "stream",
     "text": [
      "\rDownloading blobs:  65%|██████▍   | 626/969 [00:48<00:20, 16.36it/s]"
     ]
    },
    {
     "output_type": "stream",
     "name": "stdout",
     "output_type": "stream",
     "text": [
      "File exists: /dbfs/mnt/raw/DataScientistSDSData/TLSED_test/raw/angola_2015_62.tfrecord.gz, skipping.\nFile exists: /dbfs/mnt/raw/DataScientistSDSData/TLSED_test/raw/angola_2015_63.tfrecord.gz, skipping.\nFile exists: /dbfs/mnt/raw/DataScientistSDSData/TLSED_test/raw/angola_2015_64.tfrecord.gz, skipping.\nFile exists: /dbfs/mnt/raw/DataScientistSDSData/TLSED_test/raw/angola_2015_65.tfrecord.gz, skipping.\n"
     ]
    },
    {
     "output_type": "stream",
     "name": "stderr",
     "output_type": "stream",
     "text": [
      "\rDownloading blobs:  65%|██████▍   | 628/969 [00:49<00:23, 14.28it/s]\rDownloading blobs:  65%|██████▌   | 630/969 [00:49<00:23, 14.56it/s]"
     ]
    },
    {
     "output_type": "stream",
     "name": "stdout",
     "output_type": "stream",
     "text": [
      "File exists: /dbfs/mnt/raw/DataScientistSDSData/TLSED_test/raw/angola_2015_66.tfrecord.gz, skipping.\nFile exists: /dbfs/mnt/raw/DataScientistSDSData/TLSED_test/raw/angola_2015_67.tfrecord.gz, skipping.\nFile exists: /dbfs/mnt/raw/DataScientistSDSData/TLSED_test/raw/angola_2015_68.tfrecord.gz, skipping.\n"
     ]
    },
    {
     "output_type": "stream",
     "name": "stderr",
     "output_type": "stream",
     "text": [
      "\rDownloading blobs:  65%|██████▌   | 632/969 [00:49<00:23, 14.65it/s]\rDownloading blobs:  65%|██████▌   | 634/969 [00:49<00:22, 14.60it/s]"
     ]
    },
    {
     "output_type": "stream",
     "name": "stdout",
     "output_type": "stream",
     "text": [
      "File exists: /dbfs/mnt/raw/DataScientistSDSData/TLSED_test/raw/angola_2015_69.tfrecord.gz, skipping.\nFile exists: /dbfs/mnt/raw/DataScientistSDSData/TLSED_test/raw/angola_2015_70.tfrecord.gz, skipping.\nFile exists: /dbfs/mnt/raw/DataScientistSDSData/TLSED_test/raw/angola_2015_71.tfrecord.gz, skipping.\nFile exists: /dbfs/mnt/raw/DataScientistSDSData/TLSED_test/raw/angola_2015_72.tfrecord.gz, skipping.\n"
     ]
    },
    {
     "output_type": "stream",
     "name": "stderr",
     "output_type": "stream",
     "text": [
      "\rDownloading blobs:  66%|██████▌   | 636/969 [00:49<00:24, 13.68it/s]\rDownloading blobs:  66%|██████▌   | 638/969 [00:49<00:21, 15.06it/s]"
     ]
    },
    {
     "output_type": "stream",
     "name": "stdout",
     "output_type": "stream",
     "text": [
      "File exists: /dbfs/mnt/raw/DataScientistSDSData/TLSED_test/raw/angola_2015_73.tfrecord.gz, skipping.\nFile exists: /dbfs/mnt/raw/DataScientistSDSData/TLSED_test/raw/angola_2015_74.tfrecord.gz, skipping.\nFile exists: /dbfs/mnt/raw/DataScientistSDSData/TLSED_test/raw/angola_2015_75.tfrecord.gz, skipping.\nFile exists: /dbfs/mnt/raw/DataScientistSDSData/TLSED_test/raw/angola_2015_76.tfrecord.gz, skipping.\n"
     ]
    },
    {
     "output_type": "stream",
     "name": "stderr",
     "output_type": "stream",
     "text": [
      "\rDownloading blobs:  66%|██████▌   | 640/969 [00:49<00:25, 12.69it/s]"
     ]
    },
    {
     "output_type": "stream",
     "name": "stdout",
     "output_type": "stream",
     "text": [
      "File exists: /dbfs/mnt/raw/DataScientistSDSData/TLSED_test/raw/angola_2015_77.tfrecord.gz, skipping.\nFile exists: /dbfs/mnt/raw/DataScientistSDSData/TLSED_test/raw/angola_2015_78.tfrecord.gz, skipping.\nFile exists: /dbfs/mnt/raw/DataScientistSDSData/TLSED_test/raw/angola_2015_79.tfrecord.gz, skipping.\n"
     ]
    },
    {
     "output_type": "stream",
     "name": "stderr",
     "output_type": "stream",
     "text": [
      "\rDownloading blobs:  66%|██████▋   | 642/969 [00:50<00:25, 12.79it/s]\rDownloading blobs:  66%|██████▋   | 644/969 [00:50<00:23, 13.75it/s]"
     ]
    },
    {
     "output_type": "stream",
     "name": "stdout",
     "output_type": "stream",
     "text": [
      "File exists: /dbfs/mnt/raw/DataScientistSDSData/TLSED_test/raw/angola_2015_80.tfrecord.gz, skipping.\nFile exists: /dbfs/mnt/raw/DataScientistSDSData/TLSED_test/raw/angola_2015_81.tfrecord.gz, skipping.\nFile exists: /dbfs/mnt/raw/DataScientistSDSData/TLSED_test/raw/angola_2015_82.tfrecord.gz, skipping.\nFile exists: /dbfs/mnt/raw/DataScientistSDSData/TLSED_test/raw/angola_2015_83.tfrecord.gz, skipping.\n"
     ]
    },
    {
     "output_type": "stream",
     "name": "stderr",
     "output_type": "stream",
     "text": [
      "\rDownloading blobs:  67%|██████▋   | 646/969 [00:50<00:22, 14.11it/s]\rDownloading blobs:  67%|██████▋   | 648/969 [00:50<00:21, 15.13it/s]"
     ]
    },
    {
     "output_type": "stream",
     "name": "stdout",
     "output_type": "stream",
     "text": [
      "File exists: /dbfs/mnt/raw/DataScientistSDSData/TLSED_test/raw/angola_2015_84.tfrecord.gz, skipping.\nFile exists: /dbfs/mnt/raw/DataScientistSDSData/TLSED_test/raw/angola_2015_85.tfrecord.gz, skipping.\nFile exists: /dbfs/mnt/raw/DataScientistSDSData/TLSED_test/raw/angola_2015_86.tfrecord.gz, skipping.\nFile exists: /dbfs/mnt/raw/DataScientistSDSData/TLSED_test/raw/angola_2015_87.tfrecord.gz, skipping.\n"
     ]
    },
    {
     "output_type": "stream",
     "name": "stderr",
     "output_type": "stream",
     "text": [
      "\rDownloading blobs:  67%|██████▋   | 650/969 [00:50<00:20, 15.83it/s]\rDownloading blobs:  67%|██████▋   | 652/969 [00:50<00:18, 16.74it/s]"
     ]
    },
    {
     "output_type": "stream",
     "name": "stdout",
     "output_type": "stream",
     "text": [
      "File exists: /dbfs/mnt/raw/DataScientistSDSData/TLSED_test/raw/angola_2015_88.tfrecord.gz, skipping.\nFile exists: /dbfs/mnt/raw/DataScientistSDSData/TLSED_test/raw/angola_2015_89.tfrecord.gz, skipping.\nFile exists: /dbfs/mnt/raw/DataScientistSDSData/TLSED_test/raw/angola_2015_90.tfrecord.gz, skipping.\nFile exists: /dbfs/mnt/raw/DataScientistSDSData/TLSED_test/raw/angola_2015_91.tfrecord.gz, skipping.\n"
     ]
    },
    {
     "output_type": "stream",
     "name": "stderr",
     "output_type": "stream",
     "text": [
      "\rDownloading blobs:  67%|██████▋   | 654/969 [00:50<00:18, 17.14it/s]\rDownloading blobs:  68%|██████▊   | 656/969 [00:50<00:17, 17.73it/s]"
     ]
    },
    {
     "output_type": "stream",
     "name": "stdout",
     "output_type": "stream",
     "text": [
      "File exists: /dbfs/mnt/raw/DataScientistSDSData/TLSED_test/raw/angola_2015_92.tfrecord.gz, skipping.\nFile exists: /dbfs/mnt/raw/DataScientistSDSData/TLSED_test/raw/angola_2015_93.tfrecord.gz, skipping.\nFile exists: /dbfs/mnt/raw/DataScientistSDSData/TLSED_test/raw/angola_2015_94.tfrecord.gz, skipping.\nFile exists: /dbfs/mnt/raw/DataScientistSDSData/TLSED_test/raw/angola_2015_95.tfrecord.gz, skipping.\n"
     ]
    },
    {
     "output_type": "stream",
     "name": "stderr",
     "output_type": "stream",
     "text": [
      "\rDownloading blobs:  68%|██████▊   | 658/969 [00:51<00:17, 17.59it/s]\rDownloading blobs:  68%|██████▊   | 660/969 [00:51<00:18, 16.27it/s]"
     ]
    },
    {
     "output_type": "stream",
     "name": "stdout",
     "output_type": "stream",
     "text": [
      "File exists: /dbfs/mnt/raw/DataScientistSDSData/TLSED_test/raw/angola_2015_96.tfrecord.gz, skipping.\nFile exists: /dbfs/mnt/raw/DataScientistSDSData/TLSED_test/raw/angola_2015_97.tfrecord.gz, skipping.\nFile exists: /dbfs/mnt/raw/DataScientistSDSData/TLSED_test/raw/angola_2015_98.tfrecord.gz, skipping.\n"
     ]
    },
    {
     "output_type": "stream",
     "name": "stderr",
     "output_type": "stream",
     "text": [
      "\rDownloading blobs:  68%|██████▊   | 662/969 [00:51<00:20, 14.98it/s]"
     ]
    },
    {
     "output_type": "stream",
     "name": "stdout",
     "output_type": "stream",
     "text": [
      "File exists: /dbfs/mnt/raw/DataScientistSDSData/TLSED_test/raw/angola_2015_99.tfrecord.gz, skipping.\nFile exists: /dbfs/mnt/raw/DataScientistSDSData/TLSED_test/raw/angola_2016_00.tfrecord.gz, skipping.\nFile exists: /dbfs/mnt/raw/DataScientistSDSData/TLSED_test/raw/angola_2016_01.tfrecord.gz, skipping.\n"
     ]
    },
    {
     "output_type": "stream",
     "name": "stderr",
     "output_type": "stream",
     "text": [
      "\rDownloading blobs:  69%|██████▊   | 664/969 [00:51<00:19, 15.43it/s]\rDownloading blobs:  69%|██████▉   | 667/969 [00:51<00:17, 16.78it/s]"
     ]
    },
    {
     "output_type": "stream",
     "name": "stdout",
     "output_type": "stream",
     "text": [
      "File exists: /dbfs/mnt/raw/DataScientistSDSData/TLSED_test/raw/angola_2016_02.tfrecord.gz, skipping.\nFile exists: /dbfs/mnt/raw/DataScientistSDSData/TLSED_test/raw/angola_2016_03.tfrecord.gz, skipping.\nFile exists: /dbfs/mnt/raw/DataScientistSDSData/TLSED_test/raw/angola_2016_04.tfrecord.gz, skipping.\nFile exists: /dbfs/mnt/raw/DataScientistSDSData/TLSED_test/raw/angola_2016_05.tfrecord.gz, skipping.\n"
     ]
    },
    {
     "output_type": "stream",
     "name": "stderr",
     "output_type": "stream",
     "text": [
      "\rDownloading blobs:  69%|██████▉   | 669/969 [00:51<00:18, 16.21it/s]"
     ]
    },
    {
     "output_type": "stream",
     "name": "stdout",
     "output_type": "stream",
     "text": [
      "File exists: /dbfs/mnt/raw/DataScientistSDSData/TLSED_test/raw/angola_2016_06.tfrecord.gz, skipping.\nFile exists: /dbfs/mnt/raw/DataScientistSDSData/TLSED_test/raw/angola_2016_07.tfrecord.gz, skipping.\nFile exists: /dbfs/mnt/raw/DataScientistSDSData/TLSED_test/raw/angola_2016_08.tfrecord.gz, skipping.\n"
     ]
    },
    {
     "output_type": "stream",
     "name": "stderr",
     "output_type": "stream",
     "text": [
      "\rDownloading blobs:  69%|██████▉   | 671/969 [00:51<00:19, 15.09it/s]\rDownloading blobs:  70%|██████▉   | 674/969 [00:52<00:17, 16.60it/s]"
     ]
    },
    {
     "output_type": "stream",
     "name": "stdout",
     "output_type": "stream",
     "text": [
      "File exists: /dbfs/mnt/raw/DataScientistSDSData/TLSED_test/raw/angola_2016_09.tfrecord.gz, skipping.\nFile exists: /dbfs/mnt/raw/DataScientistSDSData/TLSED_test/raw/angola_2016_10.tfrecord.gz, skipping.\nFile exists: /dbfs/mnt/raw/DataScientistSDSData/TLSED_test/raw/angola_2016_100.tfrecord.gz, skipping.\nFile exists: /dbfs/mnt/raw/DataScientistSDSData/TLSED_test/raw/angola_2016_101.tfrecord.gz, skipping.\n"
     ]
    },
    {
     "output_type": "stream",
     "name": "stderr",
     "output_type": "stream",
     "text": [
      "\rDownloading blobs:  70%|██████▉   | 676/969 [00:52<00:21, 13.77it/s]\rDownloading blobs:  70%|██████▉   | 678/969 [00:52<00:19, 15.05it/s]"
     ]
    },
    {
     "output_type": "stream",
     "name": "stdout",
     "output_type": "stream",
     "text": [
      "File exists: /dbfs/mnt/raw/DataScientistSDSData/TLSED_test/raw/angola_2016_102.tfrecord.gz, skipping.\nFile exists: /dbfs/mnt/raw/DataScientistSDSData/TLSED_test/raw/angola_2016_103.tfrecord.gz, skipping.\nFile exists: /dbfs/mnt/raw/DataScientistSDSData/TLSED_test/raw/angola_2016_104.tfrecord.gz, skipping.\nFile exists: /dbfs/mnt/raw/DataScientistSDSData/TLSED_test/raw/angola_2016_105.tfrecord.gz, skipping.\n"
     ]
    },
    {
     "output_type": "stream",
     "name": "stderr",
     "output_type": "stream",
     "text": [
      "\rDownloading blobs:  70%|███████   | 680/969 [00:52<00:18, 15.36it/s]"
     ]
    },
    {
     "output_type": "stream",
     "name": "stdout",
     "output_type": "stream",
     "text": [
      "File exists: /dbfs/mnt/raw/DataScientistSDSData/TLSED_test/raw/angola_2016_106.tfrecord.gz, skipping.\nFile exists: /dbfs/mnt/raw/DataScientistSDSData/TLSED_test/raw/angola_2016_107.tfrecord.gz, skipping.\nFile exists: /dbfs/mnt/raw/DataScientistSDSData/TLSED_test/raw/angola_2016_108.tfrecord.gz, skipping.\n"
     ]
    },
    {
     "output_type": "stream",
     "name": "stderr",
     "output_type": "stream",
     "text": [
      "\rDownloading blobs:  70%|███████   | 682/969 [00:52<00:20, 14.17it/s]\rDownloading blobs:  71%|███████   | 684/969 [00:52<00:19, 14.42it/s]"
     ]
    },
    {
     "output_type": "stream",
     "name": "stdout",
     "output_type": "stream",
     "text": [
      "File exists: /dbfs/mnt/raw/DataScientistSDSData/TLSED_test/raw/angola_2016_109.tfrecord.gz, skipping.\nFile exists: /dbfs/mnt/raw/DataScientistSDSData/TLSED_test/raw/angola_2016_11.tfrecord.gz, skipping.\nFile exists: /dbfs/mnt/raw/DataScientistSDSData/TLSED_test/raw/angola_2016_110.tfrecord.gz, skipping.\n"
     ]
    },
    {
     "output_type": "stream",
     "name": "stderr",
     "output_type": "stream",
     "text": [
      "\rDownloading blobs:  71%|███████   | 686/969 [00:52<00:19, 14.87it/s]"
     ]
    },
    {
     "output_type": "stream",
     "name": "stdout",
     "output_type": "stream",
     "text": [
      "File exists: /dbfs/mnt/raw/DataScientistSDSData/TLSED_test/raw/angola_2016_111.tfrecord.gz, skipping.\nFile exists: /dbfs/mnt/raw/DataScientistSDSData/TLSED_test/raw/angola_2016_112.tfrecord.gz, skipping.\nFile exists: /dbfs/mnt/raw/DataScientistSDSData/TLSED_test/raw/angola_2016_113.tfrecord.gz, skipping.\n"
     ]
    },
    {
     "output_type": "stream",
     "name": "stderr",
     "output_type": "stream",
     "text": [
      "\rDownloading blobs:  71%|███████   | 688/969 [00:53<00:26, 10.52it/s]\rDownloading blobs:  71%|███████   | 690/969 [00:53<00:24, 11.33it/s]"
     ]
    },
    {
     "output_type": "stream",
     "name": "stdout",
     "output_type": "stream",
     "text": [
      "File exists: /dbfs/mnt/raw/DataScientistSDSData/TLSED_test/raw/angola_2016_114.tfrecord.gz, skipping.\nFile exists: /dbfs/mnt/raw/DataScientistSDSData/TLSED_test/raw/angola_2016_115.tfrecord.gz, skipping.\nFile exists: /dbfs/mnt/raw/DataScientistSDSData/TLSED_test/raw/angola_2016_116.tfrecord.gz, skipping.\n"
     ]
    },
    {
     "output_type": "stream",
     "name": "stderr",
     "output_type": "stream",
     "text": [
      "\rDownloading blobs:  71%|███████▏  | 692/969 [00:53<00:23, 11.67it/s]\rDownloading blobs:  72%|███████▏  | 694/969 [00:53<00:20, 13.10it/s]"
     ]
    },
    {
     "output_type": "stream",
     "name": "stdout",
     "output_type": "stream",
     "text": [
      "File exists: /dbfs/mnt/raw/DataScientistSDSData/TLSED_test/raw/angola_2016_117.tfrecord.gz, skipping.\nFile exists: /dbfs/mnt/raw/DataScientistSDSData/TLSED_test/raw/angola_2016_118.tfrecord.gz, skipping.\nFile exists: /dbfs/mnt/raw/DataScientistSDSData/TLSED_test/raw/angola_2016_119.tfrecord.gz, skipping.\nFile exists: /dbfs/mnt/raw/DataScientistSDSData/TLSED_test/raw/angola_2016_12.tfrecord.gz, skipping.\n"
     ]
    },
    {
     "output_type": "stream",
     "name": "stderr",
     "output_type": "stream",
     "text": [
      "\rDownloading blobs:  72%|███████▏  | 696/969 [00:53<00:21, 12.84it/s]"
     ]
    },
    {
     "output_type": "stream",
     "name": "stdout",
     "output_type": "stream",
     "text": [
      "File exists: /dbfs/mnt/raw/DataScientistSDSData/TLSED_test/raw/angola_2016_120.tfrecord.gz, skipping.\nFile exists: /dbfs/mnt/raw/DataScientistSDSData/TLSED_test/raw/angola_2016_121.tfrecord.gz, skipping.\nFile exists: /dbfs/mnt/raw/DataScientistSDSData/TLSED_test/raw/angola_2016_122.tfrecord.gz, skipping.\nFile exists: /dbfs/mnt/raw/DataScientistSDSData/TLSED_test/raw/angola_2016_123.tfrecord.gz, skipping.\n"
     ]
    },
    {
     "output_type": "stream",
     "name": "stderr",
     "output_type": "stream",
     "text": [
      "\rDownloading blobs:  72%|███████▏  | 699/969 [00:53<00:18, 14.46it/s]\rDownloading blobs:  72%|███████▏  | 702/969 [00:54<00:16, 16.30it/s]"
     ]
    },
    {
     "output_type": "stream",
     "name": "stdout",
     "output_type": "stream",
     "text": [
      "File exists: /dbfs/mnt/raw/DataScientistSDSData/TLSED_test/raw/angola_2016_124.tfrecord.gz, skipping.\nFile exists: /dbfs/mnt/raw/DataScientistSDSData/TLSED_test/raw/angola_2016_125.tfrecord.gz, skipping.\nFile exists: /dbfs/mnt/raw/DataScientistSDSData/TLSED_test/raw/angola_2016_126.tfrecord.gz, skipping.\nFile exists: /dbfs/mnt/raw/DataScientistSDSData/TLSED_test/raw/angola_2016_127.tfrecord.gz, skipping.\n"
     ]
    },
    {
     "output_type": "stream",
     "name": "stderr",
     "output_type": "stream",
     "text": [
      "\rDownloading blobs:  73%|███████▎  | 704/969 [00:54<00:16, 16.38it/s]\rDownloading blobs:  73%|███████▎  | 706/969 [00:54<00:16, 16.23it/s]"
     ]
    },
    {
     "output_type": "stream",
     "name": "stdout",
     "output_type": "stream",
     "text": [
      "File exists: /dbfs/mnt/raw/DataScientistSDSData/TLSED_test/raw/angola_2016_128.tfrecord.gz, skipping.\nFile exists: /dbfs/mnt/raw/DataScientistSDSData/TLSED_test/raw/angola_2016_129.tfrecord.gz, skipping.\nFile exists: /dbfs/mnt/raw/DataScientistSDSData/TLSED_test/raw/angola_2016_13.tfrecord.gz, skipping.\nFile exists: /dbfs/mnt/raw/DataScientistSDSData/TLSED_test/raw/angola_2016_130.tfrecord.gz, skipping.\n"
     ]
    },
    {
     "output_type": "stream",
     "name": "stderr",
     "output_type": "stream",
     "text": [
      "\rDownloading blobs:  73%|███████▎  | 708/969 [00:54<00:16, 15.66it/s]\rDownloading blobs:  73%|███████▎  | 710/969 [00:54<00:15, 16.33it/s]"
     ]
    },
    {
     "output_type": "stream",
     "name": "stdout",
     "output_type": "stream",
     "text": [
      "File exists: /dbfs/mnt/raw/DataScientistSDSData/TLSED_test/raw/angola_2016_131.tfrecord.gz, skipping.\nFile exists: /dbfs/mnt/raw/DataScientistSDSData/TLSED_test/raw/angola_2016_132.tfrecord.gz, skipping.\nFile exists: /dbfs/mnt/raw/DataScientistSDSData/TLSED_test/raw/angola_2016_133.tfrecord.gz, skipping.\nFile exists: /dbfs/mnt/raw/DataScientistSDSData/TLSED_test/raw/angola_2016_134.tfrecord.gz, skipping.\n"
     ]
    },
    {
     "output_type": "stream",
     "name": "stderr",
     "output_type": "stream",
     "text": [
      "\rDownloading blobs:  73%|███████▎  | 712/969 [00:54<00:17, 14.76it/s]"
     ]
    },
    {
     "output_type": "stream",
     "name": "stdout",
     "output_type": "stream",
     "text": [
      "File exists: /dbfs/mnt/raw/DataScientistSDSData/TLSED_test/raw/angola_2016_135.tfrecord.gz, skipping.\nFile exists: /dbfs/mnt/raw/DataScientistSDSData/TLSED_test/raw/angola_2016_136.tfrecord.gz, skipping.\nFile exists: /dbfs/mnt/raw/DataScientistSDSData/TLSED_test/raw/angola_2016_137.tfrecord.gz, skipping.\n"
     ]
    },
    {
     "output_type": "stream",
     "name": "stderr",
     "output_type": "stream",
     "text": [
      "\rDownloading blobs:  74%|███████▎  | 714/969 [00:55<00:22, 11.59it/s]\rDownloading blobs:  74%|███████▍  | 716/969 [00:55<00:21, 11.54it/s]"
     ]
    },
    {
     "output_type": "stream",
     "name": "stdout",
     "output_type": "stream",
     "text": [
      "File exists: /dbfs/mnt/raw/DataScientistSDSData/TLSED_test/raw/angola_2016_138.tfrecord.gz, skipping.\nFile exists: /dbfs/mnt/raw/DataScientistSDSData/TLSED_test/raw/angola_2016_139.tfrecord.gz, skipping.\nFile exists: /dbfs/mnt/raw/DataScientistSDSData/TLSED_test/raw/angola_2016_14.tfrecord.gz, skipping.\n"
     ]
    },
    {
     "output_type": "stream",
     "name": "stderr",
     "output_type": "stream",
     "text": [
      "\rDownloading blobs:  74%|███████▍  | 718/969 [00:55<00:19, 12.81it/s]\rDownloading blobs:  74%|███████▍  | 720/969 [00:55<00:18, 13.44it/s]"
     ]
    },
    {
     "output_type": "stream",
     "name": "stdout",
     "output_type": "stream",
     "text": [
      "File exists: /dbfs/mnt/raw/DataScientistSDSData/TLSED_test/raw/angola_2016_140.tfrecord.gz, skipping.\nFile exists: /dbfs/mnt/raw/DataScientistSDSData/TLSED_test/raw/angola_2016_141.tfrecord.gz, skipping.\nFile exists: /dbfs/mnt/raw/DataScientistSDSData/TLSED_test/raw/angola_2016_142.tfrecord.gz, skipping.\nFile exists: /dbfs/mnt/raw/DataScientistSDSData/TLSED_test/raw/angola_2016_143.tfrecord.gz, skipping.\n"
     ]
    },
    {
     "output_type": "stream",
     "name": "stderr",
     "output_type": "stream",
     "text": [
      "\rDownloading blobs:  75%|███████▍  | 722/969 [00:55<00:18, 13.42it/s]\rDownloading blobs:  75%|███████▍  | 724/969 [00:55<00:18, 13.48it/s]"
     ]
    },
    {
     "output_type": "stream",
     "name": "stdout",
     "output_type": "stream",
     "text": [
      "File exists: /dbfs/mnt/raw/DataScientistSDSData/TLSED_test/raw/angola_2016_144.tfrecord.gz, skipping.\nFile exists: /dbfs/mnt/raw/DataScientistSDSData/TLSED_test/raw/angola_2016_145.tfrecord.gz, skipping.\nFile exists: /dbfs/mnt/raw/DataScientistSDSData/TLSED_test/raw/angola_2016_146.tfrecord.gz, skipping.\nFile exists: /dbfs/mnt/raw/DataScientistSDSData/TLSED_test/raw/angola_2016_147.tfrecord.gz, skipping.\n"
     ]
    },
    {
     "output_type": "stream",
     "name": "stderr",
     "output_type": "stream",
     "text": [
      "\rDownloading blobs:  75%|███████▍  | 726/969 [00:55<00:17, 14.13it/s]"
     ]
    },
    {
     "output_type": "stream",
     "name": "stdout",
     "output_type": "stream",
     "text": [
      "File exists: /dbfs/mnt/raw/DataScientistSDSData/TLSED_test/raw/angola_2016_148.tfrecord.gz, skipping.\nFile exists: /dbfs/mnt/raw/DataScientistSDSData/TLSED_test/raw/angola_2016_149.tfrecord.gz, skipping.\nFile exists: /dbfs/mnt/raw/DataScientistSDSData/TLSED_test/raw/angola_2016_15.tfrecord.gz, skipping.\nFile exists: /dbfs/mnt/raw/DataScientistSDSData/TLSED_test/raw/angola_2016_150.tfrecord.gz, skipping.\n"
     ]
    },
    {
     "output_type": "stream",
     "name": "stderr",
     "output_type": "stream",
     "text": [
      "\rDownloading blobs:  75%|███████▌  | 729/969 [00:56<00:16, 14.91it/s]\rDownloading blobs:  75%|███████▌  | 731/969 [00:56<00:15, 15.00it/s]"
     ]
    },
    {
     "output_type": "stream",
     "name": "stdout",
     "output_type": "stream",
     "text": [
      "File exists: /dbfs/mnt/raw/DataScientistSDSData/TLSED_test/raw/angola_2016_151.tfrecord.gz, skipping.\nFile exists: /dbfs/mnt/raw/DataScientistSDSData/TLSED_test/raw/angola_2016_152.tfrecord.gz, skipping.\nFile exists: /dbfs/mnt/raw/DataScientistSDSData/TLSED_test/raw/angola_2016_153.tfrecord.gz, skipping.\nFile exists: /dbfs/mnt/raw/DataScientistSDSData/TLSED_test/raw/angola_2016_154.tfrecord.gz, skipping.\n"
     ]
    },
    {
     "output_type": "stream",
     "name": "stderr",
     "output_type": "stream",
     "text": [
      "\rDownloading blobs:  76%|███████▌  | 733/969 [00:56<00:15, 15.30it/s]\rDownloading blobs:  76%|███████▌  | 735/969 [00:56<00:14, 15.81it/s]"
     ]
    },
    {
     "output_type": "stream",
     "name": "stdout",
     "output_type": "stream",
     "text": [
      "File exists: /dbfs/mnt/raw/DataScientistSDSData/TLSED_test/raw/angola_2016_155.tfrecord.gz, skipping.\nFile exists: /dbfs/mnt/raw/DataScientistSDSData/TLSED_test/raw/angola_2016_156.tfrecord.gz, skipping.\nFile exists: /dbfs/mnt/raw/DataScientistSDSData/TLSED_test/raw/angola_2016_157.tfrecord.gz, skipping.\nFile exists: /dbfs/mnt/raw/DataScientistSDSData/TLSED_test/raw/angola_2016_158.tfrecord.gz, skipping.\n"
     ]
    },
    {
     "output_type": "stream",
     "name": "stderr",
     "output_type": "stream",
     "text": [
      "\rDownloading blobs:  76%|███████▌  | 737/969 [00:56<00:14, 16.33it/s]\rDownloading blobs:  76%|███████▋  | 739/969 [00:56<00:14, 16.31it/s]"
     ]
    },
    {
     "output_type": "stream",
     "name": "stdout",
     "output_type": "stream",
     "text": [
      "File exists: /dbfs/mnt/raw/DataScientistSDSData/TLSED_test/raw/angola_2016_159.tfrecord.gz, skipping.\nFile exists: /dbfs/mnt/raw/DataScientistSDSData/TLSED_test/raw/angola_2016_16.tfrecord.gz, skipping.\nFile exists: /dbfs/mnt/raw/DataScientistSDSData/TLSED_test/raw/angola_2016_160.tfrecord.gz, skipping.\nFile exists: /dbfs/mnt/raw/DataScientistSDSData/TLSED_test/raw/angola_2016_161.tfrecord.gz, skipping.\n"
     ]
    },
    {
     "output_type": "stream",
     "name": "stderr",
     "output_type": "stream",
     "text": [
      "\rDownloading blobs:  76%|███████▋  | 741/969 [00:56<00:13, 16.80it/s]\rDownloading blobs:  77%|███████▋  | 744/969 [00:56<00:12, 17.86it/s]"
     ]
    },
    {
     "output_type": "stream",
     "name": "stdout",
     "output_type": "stream",
     "text": [
      "File exists: /dbfs/mnt/raw/DataScientistSDSData/TLSED_test/raw/angola_2016_162.tfrecord.gz, skipping.\nFile exists: /dbfs/mnt/raw/DataScientistSDSData/TLSED_test/raw/angola_2016_163.tfrecord.gz, skipping.\nFile exists: /dbfs/mnt/raw/DataScientistSDSData/TLSED_test/raw/angola_2016_164.tfrecord.gz, skipping.\nFile exists: /dbfs/mnt/raw/DataScientistSDSData/TLSED_test/raw/angola_2016_165.tfrecord.gz, skipping.\nFile exists: /dbfs/mnt/raw/DataScientistSDSData/TLSED_test/raw/angola_2016_166.tfrecord.gz, skipping.\n"
     ]
    },
    {
     "output_type": "stream",
     "name": "stderr",
     "output_type": "stream",
     "text": [
      "\rDownloading blobs:  77%|███████▋  | 746/969 [00:57<00:13, 17.04it/s]\rDownloading blobs:  77%|███████▋  | 749/969 [00:57<00:11, 18.55it/s]"
     ]
    },
    {
     "output_type": "stream",
     "name": "stdout",
     "output_type": "stream",
     "text": [
      "File exists: /dbfs/mnt/raw/DataScientistSDSData/TLSED_test/raw/angola_2016_167.tfrecord.gz, skipping.\nFile exists: /dbfs/mnt/raw/DataScientistSDSData/TLSED_test/raw/angola_2016_168.tfrecord.gz, skipping.\nFile exists: /dbfs/mnt/raw/DataScientistSDSData/TLSED_test/raw/angola_2016_169.tfrecord.gz, skipping.\nFile exists: /dbfs/mnt/raw/DataScientistSDSData/TLSED_test/raw/angola_2016_17.tfrecord.gz, skipping.\n"
     ]
    },
    {
     "output_type": "stream",
     "name": "stderr",
     "output_type": "stream",
     "text": [
      "\rDownloading blobs:  78%|███████▊  | 751/969 [00:57<00:12, 17.75it/s]"
     ]
    },
    {
     "output_type": "stream",
     "name": "stdout",
     "output_type": "stream",
     "text": [
      "File exists: /dbfs/mnt/raw/DataScientistSDSData/TLSED_test/raw/angola_2016_170.tfrecord.gz, skipping.\nFile exists: /dbfs/mnt/raw/DataScientistSDSData/TLSED_test/raw/angola_2016_171.tfrecord.gz, skipping.\nFile exists: /dbfs/mnt/raw/DataScientistSDSData/TLSED_test/raw/angola_2016_172.tfrecord.gz, skipping.\nFile exists: /dbfs/mnt/raw/DataScientistSDSData/TLSED_test/raw/angola_2016_173.tfrecord.gz, skipping.\n"
     ]
    },
    {
     "output_type": "stream",
     "name": "stderr",
     "output_type": "stream",
     "text": [
      "\rDownloading blobs:  78%|███████▊  | 754/969 [00:57<00:12, 17.22it/s]\rDownloading blobs:  78%|███████▊  | 756/969 [00:57<00:12, 16.55it/s]"
     ]
    },
    {
     "output_type": "stream",
     "name": "stdout",
     "output_type": "stream",
     "text": [
      "File exists: /dbfs/mnt/raw/DataScientistSDSData/TLSED_test/raw/angola_2016_174.tfrecord.gz, skipping.\nFile exists: /dbfs/mnt/raw/DataScientistSDSData/TLSED_test/raw/angola_2016_175.tfrecord.gz, skipping.\nFile exists: /dbfs/mnt/raw/DataScientistSDSData/TLSED_test/raw/angola_2016_176.tfrecord.gz, skipping.\n"
     ]
    },
    {
     "output_type": "stream",
     "name": "stderr",
     "output_type": "stream",
     "text": [
      "\rDownloading blobs:  78%|███████▊  | 758/969 [00:57<00:15, 14.00it/s]"
     ]
    },
    {
     "output_type": "stream",
     "name": "stdout",
     "output_type": "stream",
     "text": [
      "File exists: /dbfs/mnt/raw/DataScientistSDSData/TLSED_test/raw/angola_2016_177.tfrecord.gz, skipping.\nFile exists: /dbfs/mnt/raw/DataScientistSDSData/TLSED_test/raw/angola_2016_178.tfrecord.gz, skipping.\nFile exists: /dbfs/mnt/raw/DataScientistSDSData/TLSED_test/raw/angola_2016_179.tfrecord.gz, skipping.\n"
     ]
    },
    {
     "output_type": "stream",
     "name": "stderr",
     "output_type": "stream",
     "text": [
      "\rDownloading blobs:  78%|███████▊  | 760/969 [00:58<00:16, 13.06it/s]\rDownloading blobs:  79%|███████▊  | 762/969 [00:58<00:14, 14.17it/s]"
     ]
    },
    {
     "output_type": "stream",
     "name": "stdout",
     "output_type": "stream",
     "text": [
      "File exists: /dbfs/mnt/raw/DataScientistSDSData/TLSED_test/raw/angola_2016_18.tfrecord.gz, skipping.\nFile exists: /dbfs/mnt/raw/DataScientistSDSData/TLSED_test/raw/angola_2016_180.tfrecord.gz, skipping.\nFile exists: /dbfs/mnt/raw/DataScientistSDSData/TLSED_test/raw/angola_2016_181.tfrecord.gz, skipping.\nFile exists: /dbfs/mnt/raw/DataScientistSDSData/TLSED_test/raw/angola_2016_182.tfrecord.gz, skipping.\n"
     ]
    },
    {
     "output_type": "stream",
     "name": "stderr",
     "output_type": "stream",
     "text": [
      "\rDownloading blobs:  79%|███████▉  | 765/969 [00:58<00:12, 15.97it/s]"
     ]
    },
    {
     "output_type": "stream",
     "name": "stdout",
     "output_type": "stream",
     "text": [
      "File exists: /dbfs/mnt/raw/DataScientistSDSData/TLSED_test/raw/angola_2016_183.tfrecord.gz, skipping.\nFile exists: /dbfs/mnt/raw/DataScientistSDSData/TLSED_test/raw/angola_2016_184.tfrecord.gz, skipping.\nFile exists: /dbfs/mnt/raw/DataScientistSDSData/TLSED_test/raw/angola_2016_185.tfrecord.gz, skipping.\n"
     ]
    },
    {
     "output_type": "stream",
     "name": "stderr",
     "output_type": "stream",
     "text": [
      "\rDownloading blobs:  79%|███████▉  | 767/969 [00:58<00:13, 14.50it/s]\rDownloading blobs:  79%|███████▉  | 769/969 [00:58<00:14, 14.19it/s]"
     ]
    },
    {
     "output_type": "stream",
     "name": "stdout",
     "output_type": "stream",
     "text": [
      "File exists: /dbfs/mnt/raw/DataScientistSDSData/TLSED_test/raw/angola_2016_186.tfrecord.gz, skipping.\nFile exists: /dbfs/mnt/raw/DataScientistSDSData/TLSED_test/raw/angola_2016_187.tfrecord.gz, skipping.\nFile exists: /dbfs/mnt/raw/DataScientistSDSData/TLSED_test/raw/angola_2016_188.tfrecord.gz, skipping.\n"
     ]
    },
    {
     "output_type": "stream",
     "name": "stderr",
     "output_type": "stream",
     "text": [
      "\rDownloading blobs:  80%|███████▉  | 771/969 [00:58<00:12, 15.29it/s]"
     ]
    },
    {
     "output_type": "stream",
     "name": "stdout",
     "output_type": "stream",
     "text": [
      "File exists: /dbfs/mnt/raw/DataScientistSDSData/TLSED_test/raw/angola_2016_189.tfrecord.gz, skipping.\nFile exists: /dbfs/mnt/raw/DataScientistSDSData/TLSED_test/raw/angola_2016_19.tfrecord.gz, skipping.\nFile exists: /dbfs/mnt/raw/DataScientistSDSData/TLSED_test/raw/angola_2016_190.tfrecord.gz, skipping.\n"
     ]
    },
    {
     "output_type": "stream",
     "name": "stderr",
     "output_type": "stream",
     "text": [
      "\rDownloading blobs:  80%|███████▉  | 773/969 [00:58<00:13, 14.28it/s]\rDownloading blobs:  80%|███████▉  | 775/969 [00:59<00:13, 14.16it/s]"
     ]
    },
    {
     "output_type": "stream",
     "name": "stdout",
     "output_type": "stream",
     "text": [
      "File exists: /dbfs/mnt/raw/DataScientistSDSData/TLSED_test/raw/angola_2016_191.tfrecord.gz, skipping.\nFile exists: /dbfs/mnt/raw/DataScientistSDSData/TLSED_test/raw/angola_2016_192.tfrecord.gz, skipping.\nFile exists: /dbfs/mnt/raw/DataScientistSDSData/TLSED_test/raw/angola_2016_193.tfrecord.gz, skipping.\n"
     ]
    },
    {
     "output_type": "stream",
     "name": "stderr",
     "output_type": "stream",
     "text": [
      "\rDownloading blobs:  80%|████████  | 777/969 [00:59<00:12, 15.18it/s]\rDownloading blobs:  80%|████████  | 779/969 [00:59<00:12, 15.69it/s]"
     ]
    },
    {
     "output_type": "stream",
     "name": "stdout",
     "output_type": "stream",
     "text": [
      "File exists: /dbfs/mnt/raw/DataScientistSDSData/TLSED_test/raw/angola_2016_194.tfrecord.gz, skipping.\nFile exists: /dbfs/mnt/raw/DataScientistSDSData/TLSED_test/raw/angola_2016_195.tfrecord.gz, skipping.\nFile exists: /dbfs/mnt/raw/DataScientistSDSData/TLSED_test/raw/angola_2016_196.tfrecord.gz, skipping.\nFile exists: /dbfs/mnt/raw/DataScientistSDSData/TLSED_test/raw/angola_2016_197.tfrecord.gz, skipping.\n"
     ]
    },
    {
     "output_type": "stream",
     "name": "stderr",
     "output_type": "stream",
     "text": [
      "\rDownloading blobs:  81%|████████  | 781/969 [00:59<00:11, 16.44it/s]"
     ]
    },
    {
     "output_type": "stream",
     "name": "stdout",
     "output_type": "stream",
     "text": [
      "File exists: /dbfs/mnt/raw/DataScientistSDSData/TLSED_test/raw/angola_2016_198.tfrecord.gz, skipping.\nFile exists: /dbfs/mnt/raw/DataScientistSDSData/TLSED_test/raw/angola_2016_199.tfrecord.gz, skipping.\nFile exists: /dbfs/mnt/raw/DataScientistSDSData/TLSED_test/raw/angola_2016_20.tfrecord.gz, skipping.\n"
     ]
    },
    {
     "output_type": "stream",
     "name": "stderr",
     "output_type": "stream",
     "text": [
      "\rDownloading blobs:  81%|████████  | 783/969 [00:59<00:14, 12.60it/s]\rDownloading blobs:  81%|████████  | 785/969 [00:59<00:13, 13.47it/s]"
     ]
    },
    {
     "output_type": "stream",
     "name": "stdout",
     "output_type": "stream",
     "text": [
      "File exists: /dbfs/mnt/raw/DataScientistSDSData/TLSED_test/raw/angola_2016_200.tfrecord.gz, skipping.\nFile exists: /dbfs/mnt/raw/DataScientistSDSData/TLSED_test/raw/angola_2016_201.tfrecord.gz, skipping.\nFile exists: /dbfs/mnt/raw/DataScientistSDSData/TLSED_test/raw/angola_2016_202.tfrecord.gz, skipping.\nFile exists: /dbfs/mnt/raw/DataScientistSDSData/TLSED_test/raw/angola_2016_203.tfrecord.gz, skipping.\n"
     ]
    },
    {
     "output_type": "stream",
     "name": "stderr",
     "output_type": "stream",
     "text": [
      "\rDownloading blobs:  81%|████████  | 787/969 [00:59<00:13, 13.78it/s]\rDownloading blobs:  82%|████████▏ | 790/969 [01:00<00:11, 15.45it/s]"
     ]
    },
    {
     "output_type": "stream",
     "name": "stdout",
     "output_type": "stream",
     "text": [
      "File exists: /dbfs/mnt/raw/DataScientistSDSData/TLSED_test/raw/angola_2016_204.tfrecord.gz, skipping.\nFile exists: /dbfs/mnt/raw/DataScientistSDSData/TLSED_test/raw/angola_2016_205.tfrecord.gz, skipping.\nFile exists: /dbfs/mnt/raw/DataScientistSDSData/TLSED_test/raw/angola_2016_206.tfrecord.gz, skipping.\nFile exists: /dbfs/mnt/raw/DataScientistSDSData/TLSED_test/raw/angola_2016_207.tfrecord.gz, skipping.\n"
     ]
    },
    {
     "output_type": "stream",
     "name": "stderr",
     "output_type": "stream",
     "text": [
      "\rDownloading blobs:  82%|████████▏ | 793/969 [01:00<00:11, 16.00it/s]"
     ]
    },
    {
     "output_type": "stream",
     "name": "stdout",
     "output_type": "stream",
     "text": [
      "File exists: /dbfs/mnt/raw/DataScientistSDSData/TLSED_test/raw/angola_2016_208.tfrecord.gz, skipping.\nFile exists: /dbfs/mnt/raw/DataScientistSDSData/TLSED_test/raw/angola_2016_209.tfrecord.gz, skipping.\nFile exists: /dbfs/mnt/raw/DataScientistSDSData/TLSED_test/raw/angola_2016_21.tfrecord.gz, skipping.\nFile exists: /dbfs/mnt/raw/DataScientistSDSData/TLSED_test/raw/angola_2016_210.tfrecord.gz, skipping.\n"
     ]
    },
    {
     "output_type": "stream",
     "name": "stderr",
     "output_type": "stream",
     "text": [
      "\rDownloading blobs:  82%|████████▏ | 795/969 [01:00<00:10, 16.21it/s]"
     ]
    },
    {
     "output_type": "stream",
     "name": "stdout",
     "output_type": "stream",
     "text": [
      "File exists: /dbfs/mnt/raw/DataScientistSDSData/TLSED_test/raw/angola_2016_211.tfrecord.gz, skipping.\nFile exists: /dbfs/mnt/raw/DataScientistSDSData/TLSED_test/raw/angola_2016_212.tfrecord.gz, skipping.\n"
     ]
    },
    {
     "output_type": "stream",
     "name": "stderr",
     "output_type": "stream",
     "text": [
      "\rDownloading blobs:  82%|████████▏ | 797/969 [01:00<00:12, 13.58it/s]"
     ]
    },
    {
     "output_type": "stream",
     "name": "stdout",
     "output_type": "stream",
     "text": [
      "File exists: /dbfs/mnt/raw/DataScientistSDSData/TLSED_test/raw/angola_2016_213.tfrecord.gz, skipping.\nFile exists: /dbfs/mnt/raw/DataScientistSDSData/TLSED_test/raw/angola_2016_214.tfrecord.gz, skipping.\n"
     ]
    },
    {
     "output_type": "stream",
     "name": "stderr",
     "output_type": "stream",
     "text": [
      "\rDownloading blobs:  82%|████████▏ | 799/969 [01:01<00:21,  7.84it/s]\rDownloading blobs:  83%|████████▎ | 801/969 [01:01<00:18,  9.20it/s]"
     ]
    },
    {
     "output_type": "stream",
     "name": "stdout",
     "output_type": "stream",
     "text": [
      "File exists: /dbfs/mnt/raw/DataScientistSDSData/TLSED_test/raw/angola_2016_215.tfrecord.gz, skipping.\nFile exists: /dbfs/mnt/raw/DataScientistSDSData/TLSED_test/raw/angola_2016_216.tfrecord.gz, skipping.\nFile exists: /dbfs/mnt/raw/DataScientistSDSData/TLSED_test/raw/angola_2016_217.tfrecord.gz, skipping.\nFile exists: /dbfs/mnt/raw/DataScientistSDSData/TLSED_test/raw/angola_2016_218.tfrecord.gz, skipping.\n"
     ]
    },
    {
     "output_type": "stream",
     "name": "stderr",
     "output_type": "stream",
     "text": [
      "\rDownloading blobs:  83%|████████▎ | 803/969 [01:01<00:15, 10.50it/s]\rDownloading blobs:  83%|████████▎ | 805/969 [01:01<00:13, 11.82it/s]"
     ]
    },
    {
     "output_type": "stream",
     "name": "stdout",
     "output_type": "stream",
     "text": [
      "File exists: /dbfs/mnt/raw/DataScientistSDSData/TLSED_test/raw/angola_2016_219.tfrecord.gz, skipping.\nFile exists: /dbfs/mnt/raw/DataScientistSDSData/TLSED_test/raw/angola_2016_22.tfrecord.gz, skipping.\nFile exists: /dbfs/mnt/raw/DataScientistSDSData/TLSED_test/raw/angola_2016_220.tfrecord.gz, skipping.\n"
     ]
    },
    {
     "output_type": "stream",
     "name": "stderr",
     "output_type": "stream",
     "text": [
      "\rDownloading blobs:  83%|████████▎ | 807/969 [01:01<00:13, 12.10it/s]\rDownloading blobs:  83%|████████▎ | 809/969 [01:01<00:12, 13.29it/s]"
     ]
    },
    {
     "output_type": "stream",
     "name": "stdout",
     "output_type": "stream",
     "text": [
      "File exists: /dbfs/mnt/raw/DataScientistSDSData/TLSED_test/raw/angola_2016_221.tfrecord.gz, skipping.\nFile exists: /dbfs/mnt/raw/DataScientistSDSData/TLSED_test/raw/angola_2016_222.tfrecord.gz, skipping.\nFile exists: /dbfs/mnt/raw/DataScientistSDSData/TLSED_test/raw/angola_2016_223.tfrecord.gz, skipping.\nFile exists: /dbfs/mnt/raw/DataScientistSDSData/TLSED_test/raw/angola_2016_224.tfrecord.gz, skipping.\n"
     ]
    },
    {
     "output_type": "stream",
     "name": "stderr",
     "output_type": "stream",
     "text": [
      "\rDownloading blobs:  84%|████████▎ | 811/969 [01:01<00:10, 14.44it/s]\rDownloading blobs:  84%|████████▍ | 813/969 [01:01<00:10, 14.38it/s]"
     ]
    },
    {
     "output_type": "stream",
     "name": "stdout",
     "output_type": "stream",
     "text": [
      "File exists: /dbfs/mnt/raw/DataScientistSDSData/TLSED_test/raw/angola_2016_225.tfrecord.gz, skipping.\nFile exists: /dbfs/mnt/raw/DataScientistSDSData/TLSED_test/raw/angola_2016_226.tfrecord.gz, skipping.\nFile exists: /dbfs/mnt/raw/DataScientistSDSData/TLSED_test/raw/angola_2016_227.tfrecord.gz, skipping.\nFile exists: /dbfs/mnt/raw/DataScientistSDSData/TLSED_test/raw/angola_2016_228.tfrecord.gz, skipping.\n"
     ]
    },
    {
     "output_type": "stream",
     "name": "stderr",
     "output_type": "stream",
     "text": [
      "\rDownloading blobs:  84%|████████▍ | 815/969 [01:02<00:10, 14.34it/s]"
     ]
    },
    {
     "output_type": "stream",
     "name": "stdout",
     "output_type": "stream",
     "text": [
      "File exists: /dbfs/mnt/raw/DataScientistSDSData/TLSED_test/raw/angola_2016_229.tfrecord.gz, skipping.\nFile exists: /dbfs/mnt/raw/DataScientistSDSData/TLSED_test/raw/angola_2016_23.tfrecord.gz, skipping.\nFile exists: /dbfs/mnt/raw/DataScientistSDSData/TLSED_test/raw/angola_2016_230.tfrecord.gz, skipping.\n"
     ]
    },
    {
     "output_type": "stream",
     "name": "stderr",
     "output_type": "stream",
     "text": [
      "\rDownloading blobs:  84%|████████▍ | 817/969 [01:02<00:10, 15.06it/s]\rDownloading blobs:  85%|████████▍ | 819/969 [01:02<00:09, 16.08it/s]"
     ]
    },
    {
     "output_type": "stream",
     "name": "stdout",
     "output_type": "stream",
     "text": [
      "File exists: /dbfs/mnt/raw/DataScientistSDSData/TLSED_test/raw/angola_2016_231.tfrecord.gz, skipping.\nFile exists: /dbfs/mnt/raw/DataScientistSDSData/TLSED_test/raw/angola_2016_232.tfrecord.gz, skipping.\nFile exists: /dbfs/mnt/raw/DataScientistSDSData/TLSED_test/raw/angola_2016_233.tfrecord.gz, skipping.\nFile exists: /dbfs/mnt/raw/DataScientistSDSData/TLSED_test/raw/angola_2016_234.tfrecord.gz, skipping.\n"
     ]
    },
    {
     "output_type": "stream",
     "name": "stderr",
     "output_type": "stream",
     "text": [
      "\rDownloading blobs:  85%|████████▍ | 822/969 [01:02<00:09, 15.30it/s]"
     ]
    },
    {
     "output_type": "stream",
     "name": "stdout",
     "output_type": "stream",
     "text": [
      "File exists: /dbfs/mnt/raw/DataScientistSDSData/TLSED_test/raw/angola_2016_235.tfrecord.gz, skipping.\nFile exists: /dbfs/mnt/raw/DataScientistSDSData/TLSED_test/raw/angola_2016_236.tfrecord.gz, skipping.\nFile exists: /dbfs/mnt/raw/DataScientistSDSData/TLSED_test/raw/angola_2016_237.tfrecord.gz, skipping.\n"
     ]
    },
    {
     "output_type": "stream",
     "name": "stderr",
     "output_type": "stream",
     "text": [
      "\rDownloading blobs:  85%|████████▌ | 824/969 [01:02<00:09, 15.76it/s]\rDownloading blobs:  85%|████████▌ | 826/969 [01:02<00:09, 15.66it/s]"
     ]
    },
    {
     "output_type": "stream",
     "name": "stdout",
     "output_type": "stream",
     "text": [
      "File exists: /dbfs/mnt/raw/DataScientistSDSData/TLSED_test/raw/angola_2016_238.tfrecord.gz, skipping.\nFile exists: /dbfs/mnt/raw/DataScientistSDSData/TLSED_test/raw/angola_2016_239.tfrecord.gz, skipping.\nFile exists: /dbfs/mnt/raw/DataScientistSDSData/TLSED_test/raw/angola_2016_24.tfrecord.gz, skipping.\nFile exists: /dbfs/mnt/raw/DataScientistSDSData/TLSED_test/raw/angola_2016_240.tfrecord.gz, skipping.\n"
     ]
    },
    {
     "output_type": "stream",
     "name": "stderr",
     "output_type": "stream",
     "text": [
      "\rDownloading blobs:  85%|████████▌ | 828/969 [01:02<00:08, 16.64it/s]\rDownloading blobs:  86%|████████▌ | 830/969 [01:03<00:08, 15.81it/s]"
     ]
    },
    {
     "output_type": "stream",
     "name": "stdout",
     "output_type": "stream",
     "text": [
      "File exists: /dbfs/mnt/raw/DataScientistSDSData/TLSED_test/raw/angola_2016_241.tfrecord.gz, skipping.\nFile exists: /dbfs/mnt/raw/DataScientistSDSData/TLSED_test/raw/angola_2016_242.tfrecord.gz, skipping.\nFile exists: /dbfs/mnt/raw/DataScientistSDSData/TLSED_test/raw/angola_2016_243.tfrecord.gz, skipping.\nFile exists: /dbfs/mnt/raw/DataScientistSDSData/TLSED_test/raw/angola_2016_244.tfrecord.gz, skipping.\n"
     ]
    },
    {
     "output_type": "stream",
     "name": "stderr",
     "output_type": "stream",
     "text": [
      "\rDownloading blobs:  86%|████████▌ | 832/969 [01:03<00:08, 15.58it/s]\rDownloading blobs:  86%|████████▌ | 834/969 [01:03<00:09, 14.41it/s]"
     ]
    },
    {
     "output_type": "stream",
     "name": "stdout",
     "output_type": "stream",
     "text": [
      "File exists: /dbfs/mnt/raw/DataScientistSDSData/TLSED_test/raw/angola_2016_245.tfrecord.gz, skipping.\nFile exists: /dbfs/mnt/raw/DataScientistSDSData/TLSED_test/raw/angola_2016_246.tfrecord.gz, skipping.\nFile exists: /dbfs/mnt/raw/DataScientistSDSData/TLSED_test/raw/angola_2016_247.tfrecord.gz, skipping.\n"
     ]
    },
    {
     "output_type": "stream",
     "name": "stderr",
     "output_type": "stream",
     "text": [
      "\rDownloading blobs:  86%|████████▋ | 836/969 [01:03<00:09, 13.39it/s]"
     ]
    },
    {
     "output_type": "stream",
     "name": "stdout",
     "output_type": "stream",
     "text": [
      "File exists: /dbfs/mnt/raw/DataScientistSDSData/TLSED_test/raw/angola_2016_248.tfrecord.gz, skipping.\nFile exists: /dbfs/mnt/raw/DataScientistSDSData/TLSED_test/raw/angola_2016_249.tfrecord.gz, skipping.\nFile exists: /dbfs/mnt/raw/DataScientistSDSData/TLSED_test/raw/angola_2016_25.tfrecord.gz, skipping.\n"
     ]
    },
    {
     "output_type": "stream",
     "name": "stderr",
     "output_type": "stream",
     "text": [
      "\rDownloading blobs:  86%|████████▋ | 838/969 [01:03<00:11, 11.48it/s]\rDownloading blobs:  87%|████████▋ | 840/969 [01:03<00:09, 12.92it/s]"
     ]
    },
    {
     "output_type": "stream",
     "name": "stdout",
     "output_type": "stream",
     "text": [
      "File exists: /dbfs/mnt/raw/DataScientistSDSData/TLSED_test/raw/angola_2016_250.tfrecord.gz, skipping.\nFile exists: /dbfs/mnt/raw/DataScientistSDSData/TLSED_test/raw/angola_2016_251.tfrecord.gz, skipping.\nFile exists: /dbfs/mnt/raw/DataScientistSDSData/TLSED_test/raw/angola_2016_252.tfrecord.gz, skipping.\nFile exists: /dbfs/mnt/raw/DataScientistSDSData/TLSED_test/raw/angola_2016_253.tfrecord.gz, skipping.\n"
     ]
    },
    {
     "output_type": "stream",
     "name": "stderr",
     "output_type": "stream",
     "text": [
      "\rDownloading blobs:  87%|████████▋ | 842/969 [01:03<00:09, 13.46it/s]\rDownloading blobs:  87%|████████▋ | 844/969 [01:04<00:08, 13.92it/s]"
     ]
    },
    {
     "output_type": "stream",
     "name": "stdout",
     "output_type": "stream",
     "text": [
      "File exists: /dbfs/mnt/raw/DataScientistSDSData/TLSED_test/raw/angola_2016_254.tfrecord.gz, skipping.\nFile exists: /dbfs/mnt/raw/DataScientistSDSData/TLSED_test/raw/angola_2016_255.tfrecord.gz, skipping.\nFile exists: /dbfs/mnt/raw/DataScientistSDSData/TLSED_test/raw/angola_2016_256.tfrecord.gz, skipping.\n"
     ]
    },
    {
     "output_type": "stream",
     "name": "stderr",
     "output_type": "stream",
     "text": [
      "\rDownloading blobs:  87%|████████▋ | 846/969 [01:04<00:08, 13.75it/s]"
     ]
    },
    {
     "output_type": "stream",
     "name": "stdout",
     "output_type": "stream",
     "text": [
      "File exists: /dbfs/mnt/raw/DataScientistSDSData/TLSED_test/raw/angola_2016_257.tfrecord.gz, skipping.\nFile exists: /dbfs/mnt/raw/DataScientistSDSData/TLSED_test/raw/angola_2016_258.tfrecord.gz, skipping.\nFile exists: /dbfs/mnt/raw/DataScientistSDSData/TLSED_test/raw/angola_2016_259.tfrecord.gz, skipping.\n"
     ]
    },
    {
     "output_type": "stream",
     "name": "stderr",
     "output_type": "stream",
     "text": [
      "\rDownloading blobs:  88%|████████▊ | 848/969 [01:04<00:09, 13.05it/s]\rDownloading blobs:  88%|████████▊ | 850/969 [01:04<00:08, 13.90it/s]"
     ]
    },
    {
     "output_type": "stream",
     "name": "stdout",
     "output_type": "stream",
     "text": [
      "File exists: /dbfs/mnt/raw/DataScientistSDSData/TLSED_test/raw/angola_2016_26.tfrecord.gz, skipping.\nFile exists: /dbfs/mnt/raw/DataScientistSDSData/TLSED_test/raw/angola_2016_260.tfrecord.gz, skipping.\nFile exists: /dbfs/mnt/raw/DataScientistSDSData/TLSED_test/raw/angola_2016_261.tfrecord.gz, skipping.\nFile exists: /dbfs/mnt/raw/DataScientistSDSData/TLSED_test/raw/angola_2016_262.tfrecord.gz, skipping.\n"
     ]
    },
    {
     "output_type": "stream",
     "name": "stderr",
     "output_type": "stream",
     "text": [
      "\rDownloading blobs:  88%|████████▊ | 852/969 [01:04<00:07, 14.90it/s]\rDownloading blobs:  88%|████████▊ | 854/969 [01:04<00:07, 15.03it/s]"
     ]
    },
    {
     "output_type": "stream",
     "name": "stdout",
     "output_type": "stream",
     "text": [
      "File exists: /dbfs/mnt/raw/DataScientistSDSData/TLSED_test/raw/angola_2016_263.tfrecord.gz, skipping.\nFile exists: /dbfs/mnt/raw/DataScientistSDSData/TLSED_test/raw/angola_2016_264.tfrecord.gz, skipping.\nFile exists: /dbfs/mnt/raw/DataScientistSDSData/TLSED_test/raw/angola_2016_265.tfrecord.gz, skipping.\nFile exists: /dbfs/mnt/raw/DataScientistSDSData/TLSED_test/raw/angola_2016_266.tfrecord.gz, skipping.\n"
     ]
    },
    {
     "output_type": "stream",
     "name": "stderr",
     "output_type": "stream",
     "text": [
      "\rDownloading blobs:  88%|████████▊ | 856/969 [01:04<00:07, 15.28it/s]"
     ]
    },
    {
     "output_type": "stream",
     "name": "stdout",
     "output_type": "stream",
     "text": [
      "File exists: /dbfs/mnt/raw/DataScientistSDSData/TLSED_test/raw/angola_2016_267.tfrecord.gz, skipping.\nFile exists: /dbfs/mnt/raw/DataScientistSDSData/TLSED_test/raw/angola_2016_268.tfrecord.gz, skipping.\n"
     ]
    },
    {
     "output_type": "stream",
     "name": "stderr",
     "output_type": "stream",
     "text": [
      "\rDownloading blobs:  89%|████████▊ | 858/969 [01:05<00:08, 13.11it/s]\rDownloading blobs:  89%|████████▉ | 860/969 [01:05<00:07, 14.37it/s]"
     ]
    },
    {
     "output_type": "stream",
     "name": "stdout",
     "output_type": "stream",
     "text": [
      "File exists: /dbfs/mnt/raw/DataScientistSDSData/TLSED_test/raw/angola_2016_269.tfrecord.gz, skipping.\nFile exists: /dbfs/mnt/raw/DataScientistSDSData/TLSED_test/raw/angola_2016_27.tfrecord.gz, skipping.\nFile exists: /dbfs/mnt/raw/DataScientistSDSData/TLSED_test/raw/angola_2016_270.tfrecord.gz, skipping.\nFile exists: /dbfs/mnt/raw/DataScientistSDSData/TLSED_test/raw/angola_2016_271.tfrecord.gz, skipping.\n"
     ]
    },
    {
     "output_type": "stream",
     "name": "stderr",
     "output_type": "stream",
     "text": [
      "\rDownloading blobs:  89%|████████▉ | 862/969 [01:05<00:07, 13.66it/s]\rDownloading blobs:  89%|████████▉ | 864/969 [01:05<00:08, 12.86it/s]"
     ]
    },
    {
     "output_type": "stream",
     "name": "stdout",
     "output_type": "stream",
     "text": [
      "File exists: /dbfs/mnt/raw/DataScientistSDSData/TLSED_test/raw/angola_2016_272.tfrecord.gz, skipping.\nFile exists: /dbfs/mnt/raw/DataScientistSDSData/TLSED_test/raw/angola_2016_273.tfrecord.gz, skipping.\nFile exists: /dbfs/mnt/raw/DataScientistSDSData/TLSED_test/raw/angola_2016_274.tfrecord.gz, skipping.\n"
     ]
    },
    {
     "output_type": "stream",
     "name": "stderr",
     "output_type": "stream",
     "text": [
      "\rDownloading blobs:  89%|████████▉ | 866/969 [01:05<00:07, 13.60it/s]\rDownloading blobs:  90%|████████▉ | 868/969 [01:05<00:07, 14.32it/s]"
     ]
    },
    {
     "output_type": "stream",
     "name": "stdout",
     "output_type": "stream",
     "text": [
      "File exists: /dbfs/mnt/raw/DataScientistSDSData/TLSED_test/raw/angola_2016_275.tfrecord.gz, skipping.\nFile exists: /dbfs/mnt/raw/DataScientistSDSData/TLSED_test/raw/angola_2016_276.tfrecord.gz, skipping.\nFile exists: /dbfs/mnt/raw/DataScientistSDSData/TLSED_test/raw/angola_2016_277.tfrecord.gz, skipping.\nFile exists: /dbfs/mnt/raw/DataScientistSDSData/TLSED_test/raw/angola_2016_278.tfrecord.gz, skipping.\n"
     ]
    },
    {
     "output_type": "stream",
     "name": "stderr",
     "output_type": "stream",
     "text": [
      "\rDownloading blobs:  90%|████████▉ | 870/969 [01:05<00:06, 15.28it/s]\rDownloading blobs:  90%|████████▉ | 872/969 [01:06<00:06, 15.32it/s]"
     ]
    },
    {
     "output_type": "stream",
     "name": "stdout",
     "output_type": "stream",
     "text": [
      "File exists: /dbfs/mnt/raw/DataScientistSDSData/TLSED_test/raw/angola_2016_279.tfrecord.gz, skipping.\nFile exists: /dbfs/mnt/raw/DataScientistSDSData/TLSED_test/raw/angola_2016_28.tfrecord.gz, skipping.\nFile exists: /dbfs/mnt/raw/DataScientistSDSData/TLSED_test/raw/angola_2016_280.tfrecord.gz, skipping.\nFile exists: /dbfs/mnt/raw/DataScientistSDSData/TLSED_test/raw/angola_2016_281.tfrecord.gz, skipping.\n"
     ]
    },
    {
     "output_type": "stream",
     "name": "stderr",
     "output_type": "stream",
     "text": [
      "\rDownloading blobs:  90%|█████████ | 874/969 [01:06<00:05, 16.36it/s]\rDownloading blobs:  90%|█████████ | 876/969 [01:06<00:06, 15.29it/s]"
     ]
    },
    {
     "output_type": "stream",
     "name": "stdout",
     "output_type": "stream",
     "text": [
      "File exists: /dbfs/mnt/raw/DataScientistSDSData/TLSED_test/raw/angola_2016_282.tfrecord.gz, skipping.\nFile exists: /dbfs/mnt/raw/DataScientistSDSData/TLSED_test/raw/angola_2016_283.tfrecord.gz, skipping.\nFile exists: /dbfs/mnt/raw/DataScientistSDSData/TLSED_test/raw/angola_2016_284.tfrecord.gz, skipping.\nFile exists: /dbfs/mnt/raw/DataScientistSDSData/TLSED_test/raw/angola_2016_285.tfrecord.gz, skipping.\n"
     ]
    },
    {
     "output_type": "stream",
     "name": "stderr",
     "output_type": "stream",
     "text": [
      "\rDownloading blobs:  91%|█████████ | 878/969 [01:06<00:05, 15.29it/s]\rDownloading blobs:  91%|█████████ | 880/969 [01:06<00:05, 16.21it/s]"
     ]
    },
    {
     "output_type": "stream",
     "name": "stdout",
     "output_type": "stream",
     "text": [
      "File exists: /dbfs/mnt/raw/DataScientistSDSData/TLSED_test/raw/angola_2016_286.tfrecord.gz, skipping.\nFile exists: /dbfs/mnt/raw/DataScientistSDSData/TLSED_test/raw/angola_2016_287.tfrecord.gz, skipping.\nFile exists: /dbfs/mnt/raw/DataScientistSDSData/TLSED_test/raw/angola_2016_288.tfrecord.gz, skipping.\nFile exists: /dbfs/mnt/raw/DataScientistSDSData/TLSED_test/raw/angola_2016_289.tfrecord.gz, skipping.\n"
     ]
    },
    {
     "output_type": "stream",
     "name": "stderr",
     "output_type": "stream",
     "text": [
      "\rDownloading blobs:  91%|█████████ | 882/969 [01:06<00:05, 16.67it/s]"
     ]
    },
    {
     "output_type": "stream",
     "name": "stdout",
     "output_type": "stream",
     "text": [
      "File exists: /dbfs/mnt/raw/DataScientistSDSData/TLSED_test/raw/angola_2016_29.tfrecord.gz, skipping.\nFile exists: /dbfs/mnt/raw/DataScientistSDSData/TLSED_test/raw/angola_2016_290.tfrecord.gz, skipping.\nFile exists: /dbfs/mnt/raw/DataScientistSDSData/TLSED_test/raw/angola_2016_291.tfrecord.gz, skipping.\nFile exists: /dbfs/mnt/raw/DataScientistSDSData/TLSED_test/raw/angola_2016_292.tfrecord.gz, skipping.\n"
     ]
    },
    {
     "output_type": "stream",
     "name": "stderr",
     "output_type": "stream",
     "text": [
      "\rDownloading blobs:  91%|█████████▏| 885/969 [01:06<00:04, 17.78it/s]\rDownloading blobs:  92%|█████████▏| 887/969 [01:06<00:04, 17.12it/s]"
     ]
    },
    {
     "output_type": "stream",
     "name": "stdout",
     "output_type": "stream",
     "text": [
      "File exists: /dbfs/mnt/raw/DataScientistSDSData/TLSED_test/raw/angola_2016_293.tfrecord.gz, skipping.\nFile exists: /dbfs/mnt/raw/DataScientistSDSData/TLSED_test/raw/angola_2016_294.tfrecord.gz, skipping.\nFile exists: /dbfs/mnt/raw/DataScientistSDSData/TLSED_test/raw/angola_2016_295.tfrecord.gz, skipping.\nFile exists: /dbfs/mnt/raw/DataScientistSDSData/TLSED_test/raw/angola_2016_296.tfrecord.gz, skipping.\n"
     ]
    },
    {
     "output_type": "stream",
     "name": "stderr",
     "output_type": "stream",
     "text": [
      "\rDownloading blobs:  92%|█████████▏| 889/969 [01:07<00:04, 16.50it/s]\rDownloading blobs:  92%|█████████▏| 891/969 [01:07<00:04, 16.00it/s]"
     ]
    },
    {
     "output_type": "stream",
     "name": "stdout",
     "output_type": "stream",
     "text": [
      "File exists: /dbfs/mnt/raw/DataScientistSDSData/TLSED_test/raw/angola_2016_297.tfrecord.gz, skipping.\nFile exists: /dbfs/mnt/raw/DataScientistSDSData/TLSED_test/raw/angola_2016_298.tfrecord.gz, skipping.\nFile exists: /dbfs/mnt/raw/DataScientistSDSData/TLSED_test/raw/angola_2016_299.tfrecord.gz, skipping.\nFile exists: /dbfs/mnt/raw/DataScientistSDSData/TLSED_test/raw/angola_2016_30.tfrecord.gz, skipping.\n"
     ]
    },
    {
     "output_type": "stream",
     "name": "stderr",
     "output_type": "stream",
     "text": [
      "\rDownloading blobs:  92%|█████████▏| 893/969 [01:07<00:04, 16.47it/s]\rDownloading blobs:  92%|█████████▏| 895/969 [01:07<00:04, 16.10it/s]"
     ]
    },
    {
     "output_type": "stream",
     "name": "stdout",
     "output_type": "stream",
     "text": [
      "File exists: /dbfs/mnt/raw/DataScientistSDSData/TLSED_test/raw/angola_2016_300.tfrecord.gz, skipping.\nFile exists: /dbfs/mnt/raw/DataScientistSDSData/TLSED_test/raw/angola_2016_301.tfrecord.gz, skipping.\nFile exists: /dbfs/mnt/raw/DataScientistSDSData/TLSED_test/raw/angola_2016_302.tfrecord.gz, skipping.\n"
     ]
    },
    {
     "output_type": "stream",
     "name": "stderr",
     "output_type": "stream",
     "text": [
      "\rDownloading blobs:  93%|█████████▎| 897/969 [01:07<00:04, 15.42it/s]"
     ]
    },
    {
     "output_type": "stream",
     "name": "stdout",
     "output_type": "stream",
     "text": [
      "File exists: /dbfs/mnt/raw/DataScientistSDSData/TLSED_test/raw/angola_2016_303.tfrecord.gz, skipping.\nFile exists: /dbfs/mnt/raw/DataScientistSDSData/TLSED_test/raw/angola_2016_304.tfrecord.gz, skipping.\nFile exists: /dbfs/mnt/raw/DataScientistSDSData/TLSED_test/raw/angola_2016_305.tfrecord.gz, skipping.\n"
     ]
    },
    {
     "output_type": "stream",
     "name": "stderr",
     "output_type": "stream",
     "text": [
      "\rDownloading blobs:  93%|█████████▎| 899/969 [01:07<00:04, 14.80it/s]\rDownloading blobs:  93%|█████████▎| 901/969 [01:07<00:04, 14.39it/s]"
     ]
    },
    {
     "output_type": "stream",
     "name": "stdout",
     "output_type": "stream",
     "text": [
      "File exists: /dbfs/mnt/raw/DataScientistSDSData/TLSED_test/raw/angola_2016_306.tfrecord.gz, skipping.\nFile exists: /dbfs/mnt/raw/DataScientistSDSData/TLSED_test/raw/angola_2016_307.tfrecord.gz, skipping.\nFile exists: /dbfs/mnt/raw/DataScientistSDSData/TLSED_test/raw/angola_2016_31.tfrecord.gz, skipping.\n"
     ]
    },
    {
     "output_type": "stream",
     "name": "stderr",
     "output_type": "stream",
     "text": [
      "\rDownloading blobs:  93%|█████████▎| 903/969 [01:07<00:04, 15.38it/s]\rDownloading blobs:  93%|█████████▎| 905/969 [01:08<00:04, 15.46it/s]"
     ]
    },
    {
     "output_type": "stream",
     "name": "stdout",
     "output_type": "stream",
     "text": [
      "File exists: /dbfs/mnt/raw/DataScientistSDSData/TLSED_test/raw/angola_2016_32.tfrecord.gz, skipping.\nFile exists: /dbfs/mnt/raw/DataScientistSDSData/TLSED_test/raw/angola_2016_33.tfrecord.gz, skipping.\nFile exists: /dbfs/mnt/raw/DataScientistSDSData/TLSED_test/raw/angola_2016_34.tfrecord.gz, skipping.\nFile exists: /dbfs/mnt/raw/DataScientistSDSData/TLSED_test/raw/angola_2016_35.tfrecord.gz, skipping.\n"
     ]
    },
    {
     "output_type": "stream",
     "name": "stderr",
     "output_type": "stream",
     "text": [
      "\rDownloading blobs:  94%|█████████▎| 907/969 [01:08<00:03, 15.77it/s]\rDownloading blobs:  94%|█████████▍| 909/969 [01:08<00:03, 15.85it/s]"
     ]
    },
    {
     "output_type": "stream",
     "name": "stdout",
     "output_type": "stream",
     "text": [
      "File exists: /dbfs/mnt/raw/DataScientistSDSData/TLSED_test/raw/angola_2016_36.tfrecord.gz, skipping.\nFile exists: /dbfs/mnt/raw/DataScientistSDSData/TLSED_test/raw/angola_2016_37.tfrecord.gz, skipping.\nFile exists: /dbfs/mnt/raw/DataScientistSDSData/TLSED_test/raw/angola_2016_38.tfrecord.gz, skipping.\nFile exists: /dbfs/mnt/raw/DataScientistSDSData/TLSED_test/raw/angola_2016_39.tfrecord.gz, skipping.\n"
     ]
    },
    {
     "output_type": "stream",
     "name": "stderr",
     "output_type": "stream",
     "text": [
      "\rDownloading blobs:  94%|█████████▍| 911/969 [01:08<00:03, 15.56it/s]"
     ]
    },
    {
     "output_type": "stream",
     "name": "stdout",
     "output_type": "stream",
     "text": [
      "File exists: /dbfs/mnt/raw/DataScientistSDSData/TLSED_test/raw/angola_2016_40.tfrecord.gz, skipping.\nFile exists: /dbfs/mnt/raw/DataScientistSDSData/TLSED_test/raw/angola_2016_41.tfrecord.gz, skipping.\nFile exists: /dbfs/mnt/raw/DataScientistSDSData/TLSED_test/raw/angola_2016_42.tfrecord.gz, skipping.\nFile exists: /dbfs/mnt/raw/DataScientistSDSData/TLSED_test/raw/angola_2016_43.tfrecord.gz, skipping.\n"
     ]
    },
    {
     "output_type": "stream",
     "name": "stderr",
     "output_type": "stream",
     "text": [
      "\rDownloading blobs:  94%|█████████▍| 914/969 [01:08<00:03, 17.22it/s]\rDownloading blobs:  95%|█████████▍| 916/969 [01:08<00:03, 17.38it/s]"
     ]
    },
    {
     "output_type": "stream",
     "name": "stdout",
     "output_type": "stream",
     "text": [
      "File exists: /dbfs/mnt/raw/DataScientistSDSData/TLSED_test/raw/angola_2016_44.tfrecord.gz, skipping.\nFile exists: /dbfs/mnt/raw/DataScientistSDSData/TLSED_test/raw/angola_2016_45.tfrecord.gz, skipping.\nFile exists: /dbfs/mnt/raw/DataScientistSDSData/TLSED_test/raw/angola_2016_46.tfrecord.gz, skipping.\nFile exists: /dbfs/mnt/raw/DataScientistSDSData/TLSED_test/raw/angola_2016_47.tfrecord.gz, skipping.\n"
     ]
    },
    {
     "output_type": "stream",
     "name": "stderr",
     "output_type": "stream",
     "text": [
      "\rDownloading blobs:  95%|█████████▍| 918/969 [01:08<00:02, 17.32it/s]\rDownloading blobs:  95%|█████████▍| 920/969 [01:08<00:02, 17.64it/s]"
     ]
    },
    {
     "output_type": "stream",
     "name": "stdout",
     "output_type": "stream",
     "text": [
      "File exists: /dbfs/mnt/raw/DataScientistSDSData/TLSED_test/raw/angola_2016_48.tfrecord.gz, skipping.\nFile exists: /dbfs/mnt/raw/DataScientistSDSData/TLSED_test/raw/angola_2016_49.tfrecord.gz, skipping.\nFile exists: /dbfs/mnt/raw/DataScientistSDSData/TLSED_test/raw/angola_2016_50.tfrecord.gz, skipping.\nFile exists: /dbfs/mnt/raw/DataScientistSDSData/TLSED_test/raw/angola_2016_51.tfrecord.gz, skipping.\n"
     ]
    },
    {
     "output_type": "stream",
     "name": "stderr",
     "output_type": "stream",
     "text": [
      "\rDownloading blobs:  95%|█████████▌| 922/969 [01:09<00:02, 18.01it/s]\rDownloading blobs:  95%|█████████▌| 924/969 [01:09<00:02, 17.79it/s]"
     ]
    },
    {
     "output_type": "stream",
     "name": "stdout",
     "output_type": "stream",
     "text": [
      "File exists: /dbfs/mnt/raw/DataScientistSDSData/TLSED_test/raw/angola_2016_52.tfrecord.gz, skipping.\nFile exists: /dbfs/mnt/raw/DataScientistSDSData/TLSED_test/raw/angola_2016_53.tfrecord.gz, skipping.\nFile exists: /dbfs/mnt/raw/DataScientistSDSData/TLSED_test/raw/angola_2016_54.tfrecord.gz, skipping.\nFile exists: /dbfs/mnt/raw/DataScientistSDSData/TLSED_test/raw/angola_2016_55.tfrecord.gz, skipping.\n"
     ]
    },
    {
     "output_type": "stream",
     "name": "stderr",
     "output_type": "stream",
     "text": [
      "\rDownloading blobs:  96%|█████████▌| 926/969 [01:09<00:02, 17.59it/s]\rDownloading blobs:  96%|█████████▌| 928/969 [01:09<00:02, 17.18it/s]"
     ]
    },
    {
     "output_type": "stream",
     "name": "stdout",
     "output_type": "stream",
     "text": [
      "File exists: /dbfs/mnt/raw/DataScientistSDSData/TLSED_test/raw/angola_2016_56.tfrecord.gz, skipping.\nFile exists: /dbfs/mnt/raw/DataScientistSDSData/TLSED_test/raw/angola_2016_57.tfrecord.gz, skipping.\nFile exists: /dbfs/mnt/raw/DataScientistSDSData/TLSED_test/raw/angola_2016_58.tfrecord.gz, skipping.\nFile exists: /dbfs/mnt/raw/DataScientistSDSData/TLSED_test/raw/angola_2016_59.tfrecord.gz, skipping.\n"
     ]
    },
    {
     "output_type": "stream",
     "name": "stderr",
     "output_type": "stream",
     "text": [
      "\rDownloading blobs:  96%|█████████▌| 930/969 [01:09<00:02, 16.63it/s]\rDownloading blobs:  96%|█████████▌| 932/969 [01:09<00:02, 15.51it/s]"
     ]
    },
    {
     "output_type": "stream",
     "name": "stdout",
     "output_type": "stream",
     "text": [
      "File exists: /dbfs/mnt/raw/DataScientistSDSData/TLSED_test/raw/angola_2016_60.tfrecord.gz, skipping.\nFile exists: /dbfs/mnt/raw/DataScientistSDSData/TLSED_test/raw/angola_2016_61.tfrecord.gz, skipping.\nFile exists: /dbfs/mnt/raw/DataScientistSDSData/TLSED_test/raw/angola_2016_62.tfrecord.gz, skipping.\n"
     ]
    },
    {
     "output_type": "stream",
     "name": "stderr",
     "output_type": "stream",
     "text": [
      "\rDownloading blobs:  96%|█████████▋| 934/969 [01:09<00:02, 14.82it/s]\rDownloading blobs:  97%|█████████▋| 936/969 [01:09<00:02, 15.58it/s]"
     ]
    },
    {
     "output_type": "stream",
     "name": "stdout",
     "output_type": "stream",
     "text": [
      "File exists: /dbfs/mnt/raw/DataScientistSDSData/TLSED_test/raw/angola_2016_63.tfrecord.gz, skipping.\nFile exists: /dbfs/mnt/raw/DataScientistSDSData/TLSED_test/raw/angola_2016_64.tfrecord.gz, skipping.\nFile exists: /dbfs/mnt/raw/DataScientistSDSData/TLSED_test/raw/angola_2016_65.tfrecord.gz, skipping.\nFile exists: /dbfs/mnt/raw/DataScientistSDSData/TLSED_test/raw/angola_2016_66.tfrecord.gz, skipping.\n"
     ]
    },
    {
     "output_type": "stream",
     "name": "stderr",
     "output_type": "stream",
     "text": [
      "\rDownloading blobs:  97%|█████████▋| 938/969 [01:10<00:01, 16.11it/s]"
     ]
    },
    {
     "output_type": "stream",
     "name": "stdout",
     "output_type": "stream",
     "text": [
      "File exists: /dbfs/mnt/raw/DataScientistSDSData/TLSED_test/raw/angola_2016_67.tfrecord.gz, skipping.\nFile exists: /dbfs/mnt/raw/DataScientistSDSData/TLSED_test/raw/angola_2016_68.tfrecord.gz, skipping.\nFile exists: /dbfs/mnt/raw/DataScientistSDSData/TLSED_test/raw/angola_2016_69.tfrecord.gz, skipping.\nFile exists: /dbfs/mnt/raw/DataScientistSDSData/TLSED_test/raw/angola_2016_70.tfrecord.gz, skipping.\n"
     ]
    },
    {
     "output_type": "stream",
     "name": "stderr",
     "output_type": "stream",
     "text": [
      "\rDownloading blobs:  97%|█████████▋| 941/969 [01:10<00:01, 17.43it/s]\rDownloading blobs:  97%|█████████▋| 943/969 [01:10<00:01, 15.64it/s]"
     ]
    },
    {
     "output_type": "stream",
     "name": "stdout",
     "output_type": "stream",
     "text": [
      "File exists: /dbfs/mnt/raw/DataScientistSDSData/TLSED_test/raw/angola_2016_71.tfrecord.gz, skipping.\nFile exists: /dbfs/mnt/raw/DataScientistSDSData/TLSED_test/raw/angola_2016_72.tfrecord.gz, skipping.\nFile exists: /dbfs/mnt/raw/DataScientistSDSData/TLSED_test/raw/angola_2016_73.tfrecord.gz, skipping.\n"
     ]
    },
    {
     "output_type": "stream",
     "name": "stderr",
     "output_type": "stream",
     "text": [
      "\rDownloading blobs:  98%|█████████▊| 945/969 [01:10<00:01, 16.26it/s]\rDownloading blobs:  98%|█████████▊| 947/969 [01:10<00:01, 16.05it/s]"
     ]
    },
    {
     "output_type": "stream",
     "name": "stdout",
     "output_type": "stream",
     "text": [
      "File exists: /dbfs/mnt/raw/DataScientistSDSData/TLSED_test/raw/angola_2016_74.tfrecord.gz, skipping.\nFile exists: /dbfs/mnt/raw/DataScientistSDSData/TLSED_test/raw/angola_2016_75.tfrecord.gz, skipping.\nFile exists: /dbfs/mnt/raw/DataScientistSDSData/TLSED_test/raw/angola_2016_76.tfrecord.gz, skipping.\nFile exists: /dbfs/mnt/raw/DataScientistSDSData/TLSED_test/raw/angola_2016_77.tfrecord.gz, skipping.\n"
     ]
    },
    {
     "output_type": "stream",
     "name": "stderr",
     "output_type": "stream",
     "text": [
      "\rDownloading blobs:  98%|█████████▊| 949/969 [01:10<00:01, 13.86it/s]"
     ]
    },
    {
     "output_type": "stream",
     "name": "stdout",
     "output_type": "stream",
     "text": [
      "File exists: /dbfs/mnt/raw/DataScientistSDSData/TLSED_test/raw/angola_2016_78.tfrecord.gz, skipping.\nFile exists: /dbfs/mnt/raw/DataScientistSDSData/TLSED_test/raw/angola_2016_79.tfrecord.gz, skipping.\nFile exists: /dbfs/mnt/raw/DataScientistSDSData/TLSED_test/raw/angola_2016_80.tfrecord.gz, skipping.\n"
     ]
    },
    {
     "output_type": "stream",
     "name": "stderr",
     "output_type": "stream",
     "text": [
      "\rDownloading blobs:  98%|█████████▊| 951/969 [01:10<00:01, 14.13it/s]\rDownloading blobs:  98%|█████████▊| 953/969 [01:11<00:01, 14.79it/s]"
     ]
    },
    {
     "output_type": "stream",
     "name": "stdout",
     "output_type": "stream",
     "text": [
      "File exists: /dbfs/mnt/raw/DataScientistSDSData/TLSED_test/raw/angola_2016_81.tfrecord.gz, skipping.\nFile exists: /dbfs/mnt/raw/DataScientistSDSData/TLSED_test/raw/angola_2016_82.tfrecord.gz, skipping.\nFile exists: /dbfs/mnt/raw/DataScientistSDSData/TLSED_test/raw/angola_2016_83.tfrecord.gz, skipping.\n"
     ]
    },
    {
     "output_type": "stream",
     "name": "stderr",
     "output_type": "stream",
     "text": [
      "\rDownloading blobs:  99%|█████████▊| 955/969 [01:11<00:01, 13.67it/s]\rDownloading blobs:  99%|█████████▉| 957/969 [01:11<00:00, 14.64it/s]"
     ]
    },
    {
     "output_type": "stream",
     "name": "stdout",
     "output_type": "stream",
     "text": [
      "File exists: /dbfs/mnt/raw/DataScientistSDSData/TLSED_test/raw/angola_2016_84.tfrecord.gz, skipping.\nFile exists: /dbfs/mnt/raw/DataScientistSDSData/TLSED_test/raw/angola_2016_85.tfrecord.gz, skipping.\nFile exists: /dbfs/mnt/raw/DataScientistSDSData/TLSED_test/raw/angola_2016_86.tfrecord.gz, skipping.\nFile exists: /dbfs/mnt/raw/DataScientistSDSData/TLSED_test/raw/angola_2016_87.tfrecord.gz, skipping.\n"
     ]
    },
    {
     "output_type": "stream",
     "name": "stderr",
     "output_type": "stream",
     "text": [
      "\rDownloading blobs:  99%|█████████▉| 959/969 [01:11<00:00, 15.54it/s]"
     ]
    },
    {
     "output_type": "stream",
     "name": "stdout",
     "output_type": "stream",
     "text": [
      "File exists: /dbfs/mnt/raw/DataScientistSDSData/TLSED_test/raw/angola_2016_88.tfrecord.gz, skipping.\nFile exists: /dbfs/mnt/raw/DataScientistSDSData/TLSED_test/raw/angola_2016_89.tfrecord.gz, skipping.\n"
     ]
    },
    {
     "output_type": "stream",
     "name": "stderr",
     "output_type": "stream",
     "text": [
      "\rDownloading blobs:  99%|█████████▉| 961/969 [01:11<00:00, 10.03it/s]"
     ]
    },
    {
     "output_type": "stream",
     "name": "stdout",
     "output_type": "stream",
     "text": [
      "File exists: /dbfs/mnt/raw/DataScientistSDSData/TLSED_test/raw/angola_2016_90.tfrecord.gz, skipping.\nFile exists: /dbfs/mnt/raw/DataScientistSDSData/TLSED_test/raw/angola_2016_91.tfrecord.gz, skipping.\nFile exists: /dbfs/mnt/raw/DataScientistSDSData/TLSED_test/raw/angola_2016_92.tfrecord.gz, skipping.\n"
     ]
    },
    {
     "output_type": "stream",
     "name": "stderr",
     "output_type": "stream",
     "text": [
      "\rDownloading blobs:  99%|█████████▉| 963/969 [01:11<00:00, 11.64it/s]\rDownloading blobs: 100%|█████████▉| 965/969 [01:12<00:00, 12.77it/s]"
     ]
    },
    {
     "output_type": "stream",
     "name": "stdout",
     "output_type": "stream",
     "text": [
      "File exists: /dbfs/mnt/raw/DataScientistSDSData/TLSED_test/raw/angola_2016_93.tfrecord.gz, skipping.\nFile exists: /dbfs/mnt/raw/DataScientistSDSData/TLSED_test/raw/angola_2016_94.tfrecord.gz, skipping.\nFile exists: /dbfs/mnt/raw/DataScientistSDSData/TLSED_test/raw/angola_2016_95.tfrecord.gz, skipping.\nFile exists: /dbfs/mnt/raw/DataScientistSDSData/TLSED_test/raw/angola_2016_96.tfrecord.gz, skipping.\n"
     ]
    },
    {
     "output_type": "stream",
     "name": "stderr",
     "output_type": "stream",
     "text": [
      "\rDownloading blobs: 100%|█████████▉| 967/969 [01:12<00:00, 14.03it/s]\rDownloading blobs: 100%|██████████| 969/969 [01:12<00:00, 14.69it/s]\rDownloading blobs: 100%|██████████| 969/969 [01:12<00:00, 13.40it/s]"
     ]
    },
    {
     "output_type": "stream",
     "name": "stdout",
     "output_type": "stream",
     "text": [
      "File exists: /dbfs/mnt/raw/DataScientistSDSData/TLSED_test/raw/angola_2016_97.tfrecord.gz, skipping.\nFile exists: /dbfs/mnt/raw/DataScientistSDSData/TLSED_test/raw/angola_2016_98.tfrecord.gz, skipping.\nFile exists: /dbfs/mnt/raw/DataScientistSDSData/TLSED_test/raw/angola_2016_99.tfrecord.gz, skipping.\nDownloaded: 0, Skipped: 969\n"
     ]
    },
    {
     "output_type": "stream",
     "name": "stderr",
     "output_type": "stream",
     "text": [
      "\n"
     ]
    }
   ],
   "source": [
    "# ---------------------- Download all files in the bucket ---------------------\n",
    "SERVICE_ACCT_JSON = (\n",
    "    \"/dbfs/mnt/raw/DataScientistSDSData/transfer_learning_rare-deployment-461721-a2-0ba3a6ab5a71.json\"\n",
    ")\n",
    "\n",
    "os.makedirs(DEST_DIR, exist_ok=True)\n",
    "\n",
    "client = storage.Client.from_service_account_json(SERVICE_ACCT_JSON)\n",
    "\n",
    "def download_blob_if_missing(blob):\n",
    "    rel_path = blob.name[len(PREFIX):]\n",
    "    local_path = os.path.join(DEST_DIR, rel_path)\n",
    "    pathlib.Path(local_path).parent.mkdir(parents=True, exist_ok=True)\n",
    "    if not os.path.exists(local_path):\n",
    "        blob.download_to_filename(local_path)\n",
    "        return True  # Downloaded\n",
    "    else:\n",
    "        print(f\"File exists: {local_path}, skipping.\")\n",
    "        return False  # Skipped\n",
    "\n",
    "blobs = [blob for blob in client.list_blobs(BUCKET, prefix=PREFIX) if blob.name.endswith(\".gz\")]\n",
    "print(f\"Total files to check: {len(blobs)}\")\n",
    "for blob in tqdm(blobs, desc=\"Downloading blobs\"):\n",
    "    download_blob_if_missing(blob)\n",
    "\n",
    "downloaded_count = 0\n",
    "skipped_count = 0\n",
    "for blob in tqdm(blobs, desc=\"Downloading blobs\"):\n",
    "    if download_blob_if_missing(blob):\n",
    "        downloaded_count += 1\n",
    "    else:\n",
    "        skipped_count += 1\n",
    "\n",
    "print(f\"Downloaded: {downloaded_count}, Skipped: {skipped_count}\")"
   ]
  }
 ],
 "metadata": {
  "application/vnd.databricks.v1+notebook": {
   "computePreferences": null,
   "dashboards": [],
   "environmentMetadata": {
    "base_environment": "",
    "environment_version": "2"
   },
   "inputWidgetPreferences": null,
   "language": "python",
   "notebookMetadata": {
    "pythonIndentUnit": 4
   },
   "notebookName": "0_data download EO data - Notebook",
   "widgets": {}
  },
  "language_info": {
   "name": "python"
  }
 },
 "nbformat": 4,
 "nbformat_minor": 0
}